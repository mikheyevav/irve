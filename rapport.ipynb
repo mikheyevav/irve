{
 "cells": [
  {
   "cell_type": "markdown",
   "id": "33e64da5-8b2c-4091-a160-e4a5d0f7d837",
   "metadata": {},
   "source": [
    "---\n",
    "title: \"Analyse d'infrastructure de recharge\"\n",
    "format:\n",
    "  html: \n",
    "    theme: cyborg\n",
    "    mainfont: railway\n",
    "    fontsize: 1.1em\n",
    "    linestretch: 1.7\n",
    "    backgroundcolor: \"#111111\"\n",
    "execute:\n",
    "  echo: false\n",
    "---"
   ]
  },
  {
   "cell_type": "code",
   "execution_count": 5,
   "id": "1a84d605-8afd-4e0f-800d-a8659d9c8ecb",
   "metadata": {
    "tags": []
   },
   "outputs": [],
   "source": [
    "import irve\n",
    "import importlib\n",
    "importlib.reload(irve)\n",
    "from irve import *"
   ]
  },
  {
   "cell_type": "markdown",
   "id": "9e5b1ce6-f17b-4e9c-b46c-c39a195c2b72",
   "metadata": {},
   "source": [
    "## Introduction"
   ]
  },
  {
   "cell_type": "code",
   "execution_count": 6,
   "id": "6f21d5cd-81c2-4054-9b69-c6490c76e12a",
   "metadata": {},
   "outputs": [
    {
     "data": {
      "text/markdown": [
       "[Lien vers le projet github](https://github.com/mikheyevav/irve).\n",
       "\n",
       "Ce le moment de valoriser les données publiques dans le domaine de la mobilité durable! Dans le passé on a accompagné les constructeurs automobile, les équipementiers et les autres acteurs de l'écosystème automobile dans leurs projets data.\n",
       "\n",
       "Fort de cet experience j'ai le plaisir de vous partager cette analyse des tendances clés dans le domaine de l'infrastructure de recharge des véhicules électriques.\n",
       "\n",
       "![Généré avec DALL-E](img/1_generated_00.png)"
      ],
      "text/plain": [
       "<IPython.core.display.Markdown object>"
      ]
     },
     "metadata": {},
     "output_type": "display_data"
    }
   ],
   "source": [
    "display(Markdown(\"1_intro.md\"))"
   ]
  },
  {
   "cell_type": "markdown",
   "id": "4208c0a2-b4d6-43bf-832a-ca6f34476e0b",
   "metadata": {},
   "source": [
    "## Origine et conception des données"
   ]
  },
  {
   "cell_type": "code",
   "execution_count": 7,
   "id": "93ae4719-376e-4933-ac25-165a58f17073",
   "metadata": {
    "jupyter": {
     "source_hidden": true
    },
    "tags": []
   },
   "outputs": [
    {
     "data": {
      "text/markdown": [
       "Cette analyse s'appui sur les [données publiques](https://www.data.gouv.fr/en/datasets/fichier-consolide-des-bornes-de-recharge-pour-vehicules-electriques/#/resources) hébergés sur la plateforme ouverte des données publiques françaises.\n",
       "\n",
       "Qui est le fournisseur de ses données et pourquoi publier les données de bornes de recharge? Grace à la [legislation](https://www.legifrance.gouv.fr/jorf/id/JORFTEXT000043475441) c'est devenu une obligation légale.\n",
       "\n",
       "La reglementation impose de respecter un schema de données précise et de referencer le dataset sur le [site gouvernemental](https://www.data.gouv.fr).\n",
       "\n",
       "En pratique pour les gestionnaires de point de charge c'est plus avantageux de passer par un intermediaire : une plate-forme d'itinerance où les données sont d'abord consolidées. En France la plate-forme le plus connue est [Girève](https://www.gireve.com/) qui en plus accompagne ses clients dans la mise en place de diverses services lié à l'écosystème de véhicules électrifiés.\n",
       "\n",
       "Ce modèle de données inclut des champs spécifiques pour assurer la standardisation des données. Des efforts ont été faits pour valider la qualité et l'uniformité de ces données. Voici quelques-uns des critères de cohérence établis :  \n",
       "* Chaque borne de recharge (notée PDC pour \"point de charge\") est unique et correspond à une entrée distincte dans la base de données.\n",
       "* Un PDC est identifié par un identifiant unique, noté 'id_pdc_itinerance'.  \n",
       "Chaque PDC est rattaché à une seule station de recharge, identifiée par 'id_station_itinerance'.\n",
       "* Chaque station est associée à une seule localisation géographique, indiquée par le champ 'coordonneesXY'.  \n",
       "Ces critères permettent de structurer les informations de manière claire et uniforme, assurant ainsi une meilleure gestion et accessibilité des données sur les infrastructures de recharge pour véhicules électriques."
      ],
      "text/plain": [
       "<IPython.core.display.Markdown object>"
      ]
     },
     "metadata": {},
     "output_type": "display_data"
    }
   ],
   "source": [
    "display(Markdown(\"2_data_description.md\"))"
   ]
  },
  {
   "cell_type": "markdown",
   "id": "acd11193-bd9a-4f40-9aab-18e547ecac72",
   "metadata": {},
   "source": [
    "## Développment de l'infrastructure en France"
   ]
  },
  {
   "cell_type": "code",
   "execution_count": 4,
   "id": "b3f1dc64-cc55-4aa5-80bb-00f36939afbd",
   "metadata": {},
   "outputs": [
    {
     "data": {
      "text/markdown": [
       "En 2023 un nouveau record de nombre de bornes de recharge disponibles au publique a été [annoncé](https://www.gouvernement.fr/actualite/100-000-bornes-de-recharge-electrique-ouvertes-au-public). Pourtant on ne compte pas autant de bornes documentés dans le dataset publique avec seulement 55% de points de charge listés. La consolidation et referencement de données demandent un effort important. Il est nécessaire de respecter un niveau de qualité de données avant que le dataset soit pris en compte pour la consolidation. Néanmoins les données disponibles permettent d'analyser la dynamique de déploiement d'infrastructure.\n",
       "\n",
       "![Evolution du nombre de points de charge en France](img/3_cumul.svg)\n",
       "\n",
       "Chaque année de plus en plus de bornes sont mis en service. L'année 2022 a été une année record jusqu'ici, sachant que 2023 n'est pas encore fini et que une partie de bornes mises en service n'ont pas encore été répértoriées. Ce qui explique le ralentissement visible en Q3 2023.\n",
       "\n",
       "Il est notable que la crise de COVID n'a pas pu ralentir le déploiement des installations. L'année 2020 a vu une hausse de 80% de nombre de bornes.\n",
       "\n",
       "On a la possibilité de voir aussi les jours quand un nombre important de bornes a été déployé en journée. Il s'agit par exemple de SAEMES qui a [ouvert](https://www.auto-infos.fr/article/saemes-et-totalenergies-inaugurent-un-parking-equipe-de-plus-de-500-bornes-de-recharge.248172) en mars 2020 500 bornes. Il peut également s'agir de dates approximatives liés à la publication de données sans que retrouve d'information dans la presse.\n",
       "\n",
       "Le Gouvernement ambitionne d'atteindre 400 000 points de recharge ouverts au public d'ici à 2030. Nous pouvons ésperer d'avoir encore plus de déploiements dans le futur. \n",
       "\n",
       "\n"
      ],
      "text/plain": [
       "<IPython.core.display.Markdown object>"
      ]
     },
     "metadata": {},
     "output_type": "display_data"
    }
   ],
   "source": [
    "display(Markdown(\"3_dev_infra.md\"))"
   ]
  },
  {
   "cell_type": "markdown",
   "id": "1c61cacb-501e-4845-ab71-ff44d1942b17",
   "metadata": {},
   "source": [
    "## L'écosystème"
   ]
  },
  {
   "cell_type": "code",
   "execution_count": 5,
   "id": "6bba4cf9-40df-42ce-9c56-03e61daddb44",
   "metadata": {},
   "outputs": [
    {
     "data": {
      "text/markdown": [
       "Dans la base de données nous avons la vision par 3 types d'acteurs: \n",
       "* Aménageurs - propriétaire des infrastructures.\n",
       "* Opérateurs - la personne qui exploite l'infrastructure de recharge\n",
       "* Enseigne - Le nom commercial du réseau.\n",
       "\n",
       "Si on fait le zoom sur les opérateurs, on se rend compte que seulement 3% de la base de données est composés de petites entités opérant moins de 200 points de charge. C'est un écosystème dominé par les grands comptes.\n",
       "\n",
       "Si on essaie de visualiser les rélations entre ces 3 types d'acteurs pour les entités qui ont au moins 200 stations à leur disposition on aura la vision suivante.\n",
       "\n",
       "![Ecosystème d'acteurs](img/4_par1.svg \"Ecosystème d'acteurs.\")\n",
       "\n",
       "Plusieurs observations: \n",
       "1. La plupart de fois les aménageurs possèdants beaucoup d'infrastructure font appel à un seul opérateur.\n",
       "2. Certains aménageurs préfèrent de gérer eux-mêmes leur infrastructure, comme c'est le cas pour DriveCo et PowerDot\n",
       "3. Il existent également les opérateurs généralistes qui adressent une multitude d'aménageurs comme Izivia et SPIE\n",
       "\n",
       "Cette année on obsèrve un fort developpment de Freshmile et de PowerDot. Avec Freshmile au 1er place des enseignes.\n",
       "![Enseignes](img/4_enseigne.svg \"Enseignes\")\n",
       "\n",
       "![Amenageurs](img/4_amenageurs.svg \"Amenageurs\")\n",
       "\n",
       "![Opérateurs](img/4_operateurs.svg \"Opérateurs\")"
      ],
      "text/plain": [
       "<IPython.core.display.Markdown object>"
      ]
     },
     "metadata": {},
     "output_type": "display_data"
    }
   ],
   "source": [
    "display(Markdown(\"4_actors.md\"))"
   ]
  },
  {
   "cell_type": "markdown",
   "id": "0f603c1a-da4e-4c61-84fe-936126bcbb26",
   "metadata": {},
   "source": [
    "## Vision géographique"
   ]
  },
  {
   "cell_type": "code",
   "execution_count": 6,
   "id": "0e43ccf0-e543-4ab2-902a-16b07e1656f9",
   "metadata": {},
   "outputs": [
    {
     "data": {
      "text/markdown": [
       "La moitié de points de charge ne possèdent pas de géolocalisation vérifié. Malgré le problème de qualité de données on voit bien le groupement de points de charge autour de métropoles et la fameuse [diagonale des faibles densités](https://fr.wikipedia.org/wiki/Diagonale_du_vide)\n",
       "\n",
       "![Densité de points de charge](img/5_geo.png \"Densité de points de charge\")\n",
       "\n",
       "Le région avec le plus de points de charge est sans surprise IdF, avec Nouvelle-Acquitaine juste après. Certains départements on vu le nombre de bornes doubler au cours de 2023.\n",
       "\n",
       "![Répartition par département](img/5_treemap.svg \"Répartition par département.\")\n"
      ],
      "text/plain": [
       "<IPython.core.display.Markdown object>"
      ]
     },
     "metadata": {},
     "output_type": "display_data"
    }
   ],
   "source": [
    "display(Markdown(\"5_geo.md\"))"
   ]
  },
  {
   "cell_type": "markdown",
   "id": "5985f139-b0b6-4df9-90fa-2e66a136a757",
   "metadata": {},
   "source": [
    "## Puissance de l'infrastructure"
   ]
  },
  {
   "cell_type": "code",
   "execution_count": 7,
   "id": "37c3ea77-6f75-4294-8adb-70b390411397",
   "metadata": {
    "tags": []
   },
   "outputs": [
    {
     "data": {
      "text/markdown": [
       "Quels sont les dernières tendences concernant les installations de point de charge? \n",
       "\n",
       "Une observation très connue: les voitures possèdent des batteries de plus en plus capacitaires, et elles sont capables d'absorber de plus en plus de puissance. Pour répondre à ce besoin l'infrastructure s'adapte avec le nouveau standard - CCS2 capable de déliverer encore plus de puissance et réduire le temps de charge. L'année 2023 a été une année marqué par le déploiement de cette infrastructure, qu'on obsèrve bien à la fois dans la typologie de bornes et la puissance nominale disponible.\n",
       "\n",
       "![Puissance nominale](img/6_power.svg)\n",
       "\n",
       "\n",
       "![Présence de connecteur CCS](img/6_ccs.svg)\n",
       "\n",
       "Néanmoins, le standard historique - prise type 2 est encore très présente dans l'infrastructure actuelle. La majorité de bornes sont équipés de cette prise.\n",
       "\n",
       "![Présence de connecteur Type 2](img/6_t2.svg)\n",
       "\n",
       "\n"
      ],
      "text/plain": [
       "<IPython.core.display.Markdown object>"
      ]
     },
     "metadata": {},
     "output_type": "display_data"
    }
   ],
   "source": [
    "display(Markdown(\"6_power.md\"))"
   ]
  }
 ],
 "metadata": {
  "kernelspec": {
   "display_name": "Python 3 (ipykernel)",
   "language": "python",
   "name": "python3"
  },
  "language_info": {
   "codemirror_mode": {
    "name": "ipython",
    "version": 3
   },
   "file_extension": ".py",
   "mimetype": "text/x-python",
   "name": "python",
   "nbconvert_exporter": "python",
   "pygments_lexer": "ipython3",
   "version": "3.11.7"
  }
 },
 "nbformat": 4,
 "nbformat_minor": 5
}
