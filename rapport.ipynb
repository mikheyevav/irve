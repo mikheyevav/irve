{
 "cells": [
  {
   "cell_type": "code",
   "execution_count": 6,
   "id": "1a84d605-8afd-4e0f-800d-a8659d9c8ecb",
   "metadata": {
    "jupyter": {
     "source_hidden": true
    },
    "tags": []
   },
   "outputs": [],
   "source": [
    "import irve\n",
    "import importlib\n",
    "importlib.reload(irve)\n",
    "from irve import *"
   ]
  },
  {
   "cell_type": "markdown",
   "id": "9e5b1ce6-f17b-4e9c-b46c-c39a195c2b72",
   "metadata": {},
   "source": [
    "## Introduction"
   ]
  },
  {
   "cell_type": "code",
   "execution_count": 12,
   "id": "6f21d5cd-81c2-4054-9b69-c6490c76e12a",
   "metadata": {
    "jupyter": {
     "source_hidden": true
    }
   },
   "outputs": [
    {
     "data": {
      "text/markdown": [
       "L'ouverture de la COP28 est une bonne occasion pour Saegus de montrer notre engagement dans la valorisation de données appliqué au domaine de la mobilité durable. Dans le passé nous avons accompagné les constructeurs automobile, les équipementiers et les autres acteurs de l'écosystème automobile dans leurs projets data.\n",
       "\n",
       "Fort de cet experience nous avons le plaisir de vous partager cette analyse des tendances clés dans le domaine de l'infrastructure de recharge des véhicules électriques.\n",
       "\n",
       "![Drag Racing](img/1_generated_00.png)\n",
       "\n",
       "Cette analyse s'appui sur les données publiques hébergés sur la plateforme ouverte des données publiques françaises."
      ],
      "text/plain": [
       "<IPython.core.display.Markdown object>"
      ]
     },
     "metadata": {},
     "output_type": "display_data"
    }
   ],
   "source": [
    "display(Markdown(\"1_intro.md\"))"
   ]
  },
  {
   "cell_type": "markdown",
   "id": "4208c0a2-b4d6-43bf-832a-ca6f34476e0b",
   "metadata": {},
   "source": [
    "## Origine et conception des données"
   ]
  },
  {
   "cell_type": "code",
   "execution_count": 14,
   "id": "93ae4719-376e-4933-ac25-165a58f17073",
   "metadata": {
    "jupyter": {
     "source_hidden": true
    },
    "tags": []
   },
   "outputs": [
    {
     "data": {
      "text/markdown": [
       "Qui est le fournisseur de ses données et pourquoi publier les données de bornes de recharge? Grace à la [legislation](https://www.legifrance.gouv.fr/jorf/id/JORFTEXT000043475441) c'est devenu une obligation légale.\n",
       "\n",
       "La reglementation impose de respecter un schema de données précise et de referencer le dataset sur le [site gouvernemental](https://www.data.gouv.fr).\n",
       "\n",
       "En pratique pour les gestionnaires de point de charge c'est plus avantageux de passer par un intermediaire : une plate-forme d'itinerance où les données sont d'abord cosolidées. En France la plate-forme le plus connue est [Girève](https://www.gireve.com/) qui en plus accompagne ses clients dans la mise en place de diverses services lié à l'écosystème de véhicules électrifiés.\n",
       "\n",
       "Ce modèle de données inclut des champs spécifiques pour assurer la standardisation des données. Des efforts ont été faits pour valider la qualité et l'uniformité de ces données. Voici quelques-uns des critères de cohérence établis :  \n",
       "* Chaque borne de recharge (notée PDC pour \"point de charge\") est unique et correspond à une entrée distincte dans la base de données.\n",
       "* Un PDC est identifié par un identifiant unique, noté 'id_pdc_itinerance'.  \n",
       "Chaque PDC est rattaché à une seule station de recharge, identifiée par 'id_station_itinerance'.\n",
       "* Chaque station est associée à une seule localisation géographique, indiquée par le champ 'coordonneesXY'.  \n",
       "Ces critères permettent de structurer les informations de manière claire et uniforme, assurant ainsi une meilleure gestion et accessibilité des données sur les infrastructures de recharge pour véhicules électriques."
      ],
      "text/plain": [
       "<IPython.core.display.Markdown object>"
      ]
     },
     "metadata": {},
     "output_type": "display_data"
    }
   ],
   "source": [
    "display(Markdown(\"2_data_description.md\"))"
   ]
  },
  {
   "cell_type": "markdown",
   "id": "acd11193-bd9a-4f40-9aab-18e547ecac72",
   "metadata": {},
   "source": [
    "## Développment de l'infrastructure en France"
   ]
  },
  {
   "cell_type": "code",
   "execution_count": 4,
   "id": "b3f1dc64-cc55-4aa5-80bb-00f36939afbd",
   "metadata": {
    "jupyter": {
     "source_hidden": true
    }
   },
   "outputs": [
    {
     "data": {
      "text/markdown": [
       "En 2023 un nouveau record de nombre de bornes de recharge disponibles au publique a été [annoncé](https://www.gouvernement.fr/actualite/100-000-bornes-de-recharge-electrique-ouvertes-au-public). Pourtant on ne compte pas autant de bornes documentés dans le dataset publique avec seulement 55% de points de charge listés. La consolidation et referencement de données demandent un effort important. Il est nécessaire de respecter un niveau de qualité de données avant que le dataset soit pris en compte pour la consolidation. Néanmoins les données disponibles permettent d'analyser la dynamique de déploiement d'infrastructure.\n",
       "\n",
       "![gr](img/3_cumul.svg)\n",
       "\n",
       "!!!! Chaque année de plus en plus de bornes sont mis en service. \n",
       "\n",
       "\n",
       "\n",
       "!!!!Le Gouvernement ambitionne d'atteindre 400 000 points de recharge ouverts au public d'ici à 2030. Ainsi \n",
       "\n",
       "\n"
      ],
      "text/plain": [
       "<IPython.core.display.Markdown object>"
      ]
     },
     "metadata": {},
     "output_type": "display_data"
    }
   ],
   "source": [
    "display(Markdown(\"3_dev_infra.md\"))"
   ]
  },
  {
   "cell_type": "markdown",
   "id": "1c61cacb-501e-4845-ab71-ff44d1942b17",
   "metadata": {},
   "source": [
    "## L'écosystème"
   ]
  },
  {
   "cell_type": "markdown",
   "id": "98c881b3-6015-4df7-8705-ca23a7d8aaa2",
   "metadata": {},
   "source": [
    "![Example Image](img/4_par1.svg \"This is an example image.\")"
   ]
  },
  {
   "cell_type": "markdown",
   "id": "8904780a-18a3-43fa-a764-14b557bbcfc4",
   "metadata": {},
   "source": [
    "Dans la base de données nous avons la vision par 3 types d'acteurs: \n",
    "* Aménageurs - propriétaire des infrastructures.\n",
    "* Opérateurs - la personne qui exploite l'infrastructure de recharge\n",
    "* Enseigne - Le nom commercial du réseau.\n",
    "\n",
    "Cette année on obsèrve un fort developpment de Freshmile et de PowerDot. Avec PowerDot passant au deuxième place de nombre total de points de charge.\n",
    "![Example Image](img/4_enseigne.svg \"This is an example image.\")\n",
    "\n",
    "Selon la base aujourd'hui c'est PowerDot qui possède le plus de bornes.\n",
    "![Example Image](img/4_amenageurs.svg \"This is an example image.\")\n",
    "\n",
    "Quant aux opérateurs, Freshmile et Bouygues restent les acteurs le plus présents\n",
    "\n",
    "![Example Image](img/4_operateurs.svg \"This is an example image.\")\n"
   ]
  },
  {
   "cell_type": "markdown",
   "id": "c4f9ce1e-771f-48c5-bf03-b96de1aa75b2",
   "metadata": {},
   "source": [
    "Concernant les fabricants de bornes de recharge, Bouygues E&S se distingue comme le leader du marché, ayant installé 5 624 bornes. Il est suivi de près par Izvia avec un total de 5 181 bornes, et SPIE CITYNETWORKS occupe la troisième place."
   ]
  },
  {
   "cell_type": "code",
   "execution_count": null,
   "id": "6c79a726-af5b-439c-a3d3-03b69efecf82",
   "metadata": {
    "jupyter": {
     "source_hidden": true
    }
   },
   "outputs": [],
   "source": []
  },
  {
   "cell_type": "markdown",
   "id": "0f603c1a-da4e-4c61-84fe-936126bcbb26",
   "metadata": {},
   "source": [
    "## Vision par département"
   ]
  },
  {
   "cell_type": "markdown",
   "id": "09caa135-d4cf-40a1-bd93-0250c349b547",
   "metadata": {},
   "source": [
    "![Example Image](img/5_geo.png \"This is an example image.\")"
   ]
  },
  {
   "cell_type": "code",
   "execution_count": null,
   "id": "6353c4a6-8a1f-47f2-a9a5-26cbe93e6c70",
   "metadata": {
    "jupyter": {
     "source_hidden": true
    }
   },
   "outputs": [],
   "source": [
    "from IPython.display import Markdown, display\n",
    "\n",
    "display(Markdown(\"2_data_description.md\"))"
   ]
  },
  {
   "cell_type": "markdown",
   "id": "9d77a653-316d-499e-bc71-5802248518c9",
   "metadata": {},
   "source": [
    "Nous avons par ailleurs fait un focus sur la répartition au niveau départementale comme le présente la figure ci-dessus."
   ]
  },
  {
   "cell_type": "markdown",
   "id": "49b0a582-ad74-4d14-87e8-3639908b6832",
   "metadata": {
    "tags": []
   },
   "source": [
    "![Example Image](departement.png \"This is an example image.\")"
   ]
  },
  {
   "cell_type": "markdown",
   "id": "8c60507e-b980-4d18-930e-186a051fe952",
   "metadata": {},
   "source": []
  },
  {
   "cell_type": "markdown",
   "id": "5985f139-b0b6-4df9-90fa-2e66a136a757",
   "metadata": {},
   "source": [
    "## Puissance de l'infrastructure"
   ]
  },
  {
   "cell_type": "markdown",
   "id": "7bf2903e-ec3e-46ab-aa4c-42db3d9d40d7",
   "metadata": {
    "tags": []
   },
   "source": [
    "##"
   ]
  }
 ],
 "metadata": {
  "kernelspec": {
   "display_name": "Python 3 (ipykernel)",
   "language": "python",
   "name": "python3"
  },
  "language_info": {
   "codemirror_mode": {
    "name": "ipython",
    "version": 3
   },
   "file_extension": ".py",
   "mimetype": "text/x-python",
   "name": "python",
   "nbconvert_exporter": "python",
   "pygments_lexer": "ipython3",
   "version": "3.11.6"
  }
 },
 "nbformat": 4,
 "nbformat_minor": 5
}
