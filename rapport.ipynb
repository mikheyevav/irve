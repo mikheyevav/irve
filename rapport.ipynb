{
 "cells": [
  {
   "cell_type": "code",
   "execution_count": 15,
   "id": "1a84d605-8afd-4e0f-800d-a8659d9c8ecb",
   "metadata": {
    "tags": []
   },
   "outputs": [],
   "source": [
    "import sys\n",
    "import os\n",
    "import pathlib\n",
    "p = pathlib.Path(\"\").resolve().as_posix()\n",
    "if p not in sys.path:\n",
    "    sys.path.append(p)"
   ]
  },
  {
   "cell_type": "code",
   "execution_count": 4,
   "id": "3ab98337-7d34-4b87-a820-4cfd82a7b4a8",
   "metadata": {
    "tags": []
   },
   "outputs": [],
   "source": [
    "#pip install -r requirements.txt"
   ]
  },
  {
   "cell_type": "code",
   "execution_count": 5,
   "id": "488df3a9-a9a9-418f-83c7-a8d5003b5f06",
   "metadata": {
    "tags": []
   },
   "outputs": [
    {
     "name": "stderr",
     "output_type": "stream",
     "text": [
      "/Users/angeteguin/PROJET_IRVE/Functions.py:6: UserWarning: \n",
      "The dash_core_components package is deprecated. Please replace\n",
      "`import dash_core_components as dcc` with `from dash import dcc`\n",
      "  import dash_core_components as dcc\n",
      "/Users/angeteguin/PROJET_IRVE/Functions.py:7: UserWarning: \n",
      "The dash_html_components package is deprecated. Please replace\n",
      "`import dash_html_components as html` with `from dash import html`\n",
      "  import dash_html_components as html\n"
     ]
    }
   ],
   "source": [
    "from Functions import *"
   ]
  },
  {
   "cell_type": "markdown",
   "id": "9e5b1ce6-f17b-4e9c-b46c-c39a195c2b72",
   "metadata": {},
   "source": [
    "## Introduction \n",
    "Ces dernières années, la France a connu une augmentation significative de véhicules électriques, en réponse à une demande croissante. Pour répondre à ce besoin urgent, les fournisseurs d'énergie ont été contraints d'élargir leur offre, notamment par l'installation de bornes de recharge et leur intégration dans les stations-service existantes. Face à cette tendance, le gouvernement a adopté des mesures spécifiques. En vertu de l'arrêté du 4 mai 2021, tous les acteurs impliqués sont désormais tenus de publier les informations relatives aux bornes de recharge sur le site data.gouv.fr, dans le but de constituer un répertoire national des infrastructures de recharge pour véhicules électriques."
   ]
  },
  {
   "cell_type": "markdown",
   "id": "93ae4719-376e-4933-ac25-165a58f17073",
   "metadata": {
    "tags": []
   },
   "source": [
    "## Origine et conception des données\n",
    "Chaque entité impliquée est tenue de recueillir et de publier ses données sur les bornes de recharge électrique en respectant un modèle conceptuel précis. Ce modèle inclut des champs spécifiques pour assurer la standardisation des données, facilitant ainsi leur consolidation dans une base de données unique. Des efforts ont été faits pour valider la qualité et l'uniformité de ces données. Voici quelques-uns des critères de cohérence établis :  \n",
    "* Chaque borne de recharge (notée PDC pour \"point de charge\") est unique et correspond à une entrée distincte dans la base de données.\n",
    "* Un PDC est identifié par un identifiant unique, noté 'id_pdc_itinerance'.  \n",
    "Chaque PDC est rattaché à une seule station de recharge, identifiée par 'id_station_itinerance'.\n",
    "* Chaque station est associée à une seule localisation géographique, indiquée par le champ 'coordonneesXY'.  \n",
    "Ces critères permettent de structurer les informations de manière claire et uniforme, assurant ainsi une meilleure gestion et accessibilité des données sur les infrastructures de recharge pour véhicules électriques.\n",
    "Dans la suite de l’article nous fournirons un état des lieux de ces données \n"
   ]
  },
  {
   "cell_type": "markdown",
   "id": "acd11193-bd9a-4f40-9aab-18e547ecac72",
   "metadata": {},
   "source": [
    "## STATISTIQUES GLOBALES"
   ]
  },
  {
   "cell_type": "markdown",
   "id": "9d04ae47-0222-4be8-9578-65ef93c9a3cd",
   "metadata": {},
   "source": [
    "Nous commençons cette première étude par les entreprises possédant le plus de station en France selon la répartition sur le graphe ci-dessous :\n"
   ]
  },
  {
   "cell_type": "markdown",
   "id": "557b2ab5-f225-4b90-9f2e-2364efdebd31",
   "metadata": {},
   "source": [
    "![Example Image](operateur.png \"This is an example image.\")"
   ]
  },
  {
   "cell_type": "markdown",
   "id": "98c881b3-6015-4df7-8705-ca23a7d8aaa2",
   "metadata": {},
   "source": [
    "L'étude identifie les trois principales entreprises en termes de nombre de stations de recharge pour véhicules électriques :  \n",
    "* Reveo, en tête avec 2 021 stations.  \n",
    "* SIGEF, possédant 902 stations.  \n",
    "* Pass Pass Électriques, avec un total de 836 stations.  \n",
    "\n"
   ]
  },
  {
   "cell_type": "markdown",
   "id": "82b97aa8-873c-4cce-8ffb-993bf9d10306",
   "metadata": {},
   "source": [
    "![Example Image](enseigne.png \"This is an example image.\")"
   ]
  },
  {
   "cell_type": "markdown",
   "id": "c4f9ce1e-771f-48c5-bf03-b96de1aa75b2",
   "metadata": {},
   "source": [
    "Concernant les fabricants de bornes de recharge, Bouygues E&S se distingue comme le leader du marché, ayant installé 5 624 bornes. Il est suivi de près par Izvia avec un total de 5 181 bornes, et SPIE CITYNETWORKS occupe la troisième place."
   ]
  },
  {
   "cell_type": "markdown",
   "id": "9d77a653-316d-499e-bc71-5802248518c9",
   "metadata": {},
   "source": [
    "Nous avons par ailleurs fait un focus sur la répartition au niveau départementale comme le présente la figure ci-dessus."
   ]
  },
  {
   "cell_type": "markdown",
   "id": "49b0a582-ad74-4d14-87e8-3639908b6832",
   "metadata": {
    "tags": []
   },
   "source": [
    "![Example Image](departement.png \"This is an example image.\")"
   ]
  },
  {
   "cell_type": "markdown",
   "id": "8c60507e-b980-4d18-930e-186a051fe952",
   "metadata": {},
   "source": [
    "# FOCUS TOP 3"
   ]
  },
  {
   "cell_type": "markdown",
   "id": "7bf2903e-ec3e-46ab-aa4c-42db3d9d40d7",
   "metadata": {
    "tags": []
   },
   "source": [
    "##"
   ]
  },
  {
   "cell_type": "markdown",
   "id": "62b39185-07ac-4355-ae62-c7433fbb47d7",
   "metadata": {
    "tags": []
   },
   "source": []
  },
  {
   "cell_type": "markdown",
   "id": "8625ea0a-67d6-4052-bc75-6df371c73067",
   "metadata": {
    "tags": []
   },
   "source": [
    "### Evolution temporelle du nombre bornes de charges"
   ]
  },
  {
   "cell_type": "markdown",
   "id": "09057b5a-b5d7-40c1-885d-2c2158ccb531",
   "metadata": {},
   "source": [
    "![Example Image](evo-tempo.png \"This is an example image.\")"
   ]
  },
  {
   "cell_type": "markdown",
   "id": "bddfe102-ed61-4e17-a8b8-c105873f3277",
   "metadata": {},
   "source": [
    "Le graphe suivant présente l'évolution temporelle du nombre de charges sur les trois entreprises en france.\n",
    "\n",
    "\n",
    "- Des stades de variabilités sont observés sur l'ensemble des trois graphes, traduisant  une activité normale notamment sur les périodes avant 2020.\n",
    "\n",
    "- Cette varaibilité est plus faible sur chez bouygues qui affichent une variation moins volatile par rapport à ces concurrents Izvia et SPIE.\n",
    "\n",
    "- La période 2020 est représenté par un pic chez l'ensemble des trois entreprises. Ce pic signifie une baisse brusque de l'activité notamment surement dû au covid 19.\n",
    "\n",
    "- L'activité reprend sa tendance avec une mise en service similaire à celle avant 2020 relativement à chaque entreprises.\n"
   ]
  }
 ],
 "metadata": {
  "kernelspec": {
   "display_name": "Python 3 (ipykernel)",
   "language": "python",
   "name": "python3"
  },
  "language_info": {
   "codemirror_mode": {
    "name": "ipython",
    "version": 3
   },
   "file_extension": ".py",
   "mimetype": "text/x-python",
   "name": "python",
   "nbconvert_exporter": "python",
   "pygments_lexer": "ipython3",
   "version": "3.11.5"
  }
 },
 "nbformat": 4,
 "nbformat_minor": 5
}
