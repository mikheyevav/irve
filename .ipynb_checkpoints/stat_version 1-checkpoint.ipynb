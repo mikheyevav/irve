{
 "cells": [
  {
   "cell_type": "code",
   "execution_count": 1,
   "id": "46b149b0-6ae9-47e7-8e2e-10a0def4ba50",
   "metadata": {
    "tags": []
   },
   "outputs": [],
   "source": [
    "import sys\n",
    "import os\n",
    "import pathlib\n",
    "p = pathlib.Path(\"\").resolve().as_posix()\n",
    "if p not in sys.path:\n",
    "    sys.path.append(p)\n",
    "    "
   ]
  },
  {
   "cell_type": "code",
   "execution_count": 61,
   "id": "b772718b-a8b4-4059-8365-d2c89beeffbb",
   "metadata": {
    "tags": []
   },
   "outputs": [],
   "source": [
    "#pip install -r requirements.txt"
   ]
  },
  {
   "cell_type": "code",
   "execution_count": null,
   "id": "9404e516-6af8-46ea-8163-0834a168249e",
   "metadata": {},
   "outputs": [],
   "source": [
    "from Function import *"
   ]
  },
  {
   "cell_type": "code",
   "execution_count": 8,
   "id": "4008e133-e399-4d5f-80ea-c8d182466757",
   "metadata": {
    "tags": []
   },
   "outputs": [],
   "source": [
    "%load_ext autoreload\n",
    "%autoreload 2"
   ]
  },
  {
   "cell_type": "code",
   "execution_count": 13,
   "id": "d7b63bd1-a557-4061-866d-60686e264bbe",
   "metadata": {
    "tags": []
   },
   "outputs": [
    {
     "name": "stderr",
     "output_type": "stream",
     "text": [
      "/Users/angeteguin/PROJET_IRVE/Functions.py:18: DtypeWarning: Columns (20,21,26,27,28,31,35) have mixed types. Specify dtype option on import or set low_memory=False.\n",
      "  table_schema = pd.read_csv(\"IRVE_itinerance_valide2023-05-24.csv\").drop(columns=[\"Unnamed: 0\",\"index\"])\n"
     ]
    },
    {
     "data": {
      "text/html": [
       "<div>\n",
       "<style scoped>\n",
       "    .dataframe tbody tr th:only-of-type {\n",
       "        vertical-align: middle;\n",
       "    }\n",
       "\n",
       "    .dataframe tbody tr th {\n",
       "        vertical-align: top;\n",
       "    }\n",
       "\n",
       "    .dataframe thead th {\n",
       "        text-align: right;\n",
       "    }\n",
       "</style>\n",
       "<table border=\"1\" class=\"dataframe\">\n",
       "  <thead>\n",
       "    <tr style=\"text-align: right;\">\n",
       "      <th></th>\n",
       "      <th>nom_amenageur</th>\n",
       "      <th>siren_amenageur</th>\n",
       "      <th>contact_amenageur</th>\n",
       "      <th>nom_operateur</th>\n",
       "      <th>contact_operateur</th>\n",
       "      <th>telephone_operateur</th>\n",
       "      <th>nom_enseigne</th>\n",
       "      <th>id_station_itinerance</th>\n",
       "      <th>id_station_local</th>\n",
       "      <th>nom_station</th>\n",
       "      <th>...</th>\n",
       "      <th>non_concerne</th>\n",
       "      <th>doublons_stat_maj</th>\n",
       "      <th>doublons_pdc</th>\n",
       "      <th>lignes_a_corriger</th>\n",
       "      <th>doublons_a_supprimer</th>\n",
       "      <th>lignes_ko</th>\n",
       "      <th>code_departement</th>\n",
       "      <th>nom_departement</th>\n",
       "      <th>code_region</th>\n",
       "      <th>nom_region</th>\n",
       "    </tr>\n",
       "  </thead>\n",
       "  <tbody>\n",
       "    <tr>\n",
       "      <th>0</th>\n",
       "      <td>ELECTRA</td>\n",
       "      <td>891624884.0</td>\n",
       "      <td>help@electra.com</td>\n",
       "      <td>ELECTRA</td>\n",
       "      <td>help@electra.com</td>\n",
       "      <td>NaN</td>\n",
       "      <td>ELECTRA</td>\n",
       "      <td>FRELCPAXPHC</td>\n",
       "      <td>NaN</td>\n",
       "      <td>Aix-en-Provence - Hôtel Campanile Pont de l'Arc</td>\n",
       "      <td>...</td>\n",
       "      <td>False</td>\n",
       "      <td>False</td>\n",
       "      <td>False</td>\n",
       "      <td>False</td>\n",
       "      <td>False</td>\n",
       "      <td>False</td>\n",
       "      <td>13</td>\n",
       "      <td>Bouches-du-Rhône</td>\n",
       "      <td>93</td>\n",
       "      <td>Provence-Alpes-Côte d'Azur</td>\n",
       "    </tr>\n",
       "    <tr>\n",
       "      <th>1</th>\n",
       "      <td>ELECTRA</td>\n",
       "      <td>891624884.0</td>\n",
       "      <td>help@electra.com</td>\n",
       "      <td>ELECTRA</td>\n",
       "      <td>help@electra.com</td>\n",
       "      <td>NaN</td>\n",
       "      <td>ELECTRA</td>\n",
       "      <td>FRELCPMARHC</td>\n",
       "      <td>NaN</td>\n",
       "      <td>Marseille - Hôtel Campanile Saint-Antoine</td>\n",
       "      <td>...</td>\n",
       "      <td>False</td>\n",
       "      <td>False</td>\n",
       "      <td>False</td>\n",
       "      <td>False</td>\n",
       "      <td>False</td>\n",
       "      <td>False</td>\n",
       "      <td>13</td>\n",
       "      <td>Bouches-du-Rhône</td>\n",
       "      <td>93</td>\n",
       "      <td>Provence-Alpes-Côte d'Azur</td>\n",
       "    </tr>\n",
       "  </tbody>\n",
       "</table>\n",
       "<p>2 rows × 60 columns</p>\n",
       "</div>"
      ],
      "text/plain": [
       "  nom_amenageur siren_amenageur contact_amenageur nom_operateur  \\\n",
       "0       ELECTRA     891624884.0  help@electra.com       ELECTRA   \n",
       "1       ELECTRA     891624884.0  help@electra.com       ELECTRA   \n",
       "\n",
       "  contact_operateur telephone_operateur nom_enseigne id_station_itinerance  \\\n",
       "0  help@electra.com                 NaN      ELECTRA           FRELCPAXPHC   \n",
       "1  help@electra.com                 NaN      ELECTRA           FRELCPMARHC   \n",
       "\n",
       "  id_station_local                                      nom_station  ...  \\\n",
       "0              NaN  Aix-en-Provence - Hôtel Campanile Pont de l'Arc  ...   \n",
       "1              NaN        Marseille - Hôtel Campanile Saint-Antoine  ...   \n",
       "\n",
       "  non_concerne doublons_stat_maj doublons_pdc lignes_a_corriger  \\\n",
       "0        False             False        False             False   \n",
       "1        False             False        False             False   \n",
       "\n",
       "   doublons_a_supprimer lignes_ko code_departement   nom_departement  \\\n",
       "0                 False     False               13  Bouches-du-Rhône   \n",
       "1                 False     False               13  Bouches-du-Rhône   \n",
       "\n",
       "  code_region                  nom_region  \n",
       "0          93  Provence-Alpes-Côte d'Azur  \n",
       "1          93  Provence-Alpes-Côte d'Azur  \n",
       "\n",
       "[2 rows x 60 columns]"
      ]
     },
     "execution_count": 13,
     "metadata": {},
     "output_type": "execute_result"
    }
   ],
   "source": [
    "table = Get_final_table()\n",
    "table.head(2)"
   ]
  },
  {
   "cell_type": "code",
   "execution_count": 5,
   "id": "7e098028-aa21-49ce-9aa0-af9af47a39dc",
   "metadata": {
    "tags": []
   },
   "outputs": [],
   "source": [
    "table = pd.merge(table_schema,table_depart, how='inner', on='code_departement')\n"
   ]
  },
  {
   "cell_type": "markdown",
   "id": "7f110b95-2441-4422-aba7-28738419259c",
   "metadata": {},
   "source": [
    "# STATISTIQUES SUR LE NOMBRE OPERATEURS "
   ]
  },
  {
   "cell_type": "markdown",
   "id": "e5fc64b7-b5b9-437a-9367-2b058670aad8",
   "metadata": {},
   "source": [
    "# 1)Top 10 des opérateurs de France"
   ]
  },
  {
   "cell_type": "code",
   "execution_count": 29,
   "id": "d154012d-2cbb-426f-b6c9-ab800dae7db5",
   "metadata": {
    "tags": []
   },
   "outputs": [
    {
     "data": {
      "application/vnd.plotly.v1+json": {
       "config": {
        "plotlyServerURL": "https://plot.ly"
       },
       "data": [
        {
         "alignmentgroup": "True",
         "hovertemplate": "nom_operateur=%{x}<br>nombre total=%{y}<extra></extra>",
         "legendgroup": "",
         "marker": {
          "color": "#636efa",
          "pattern": {
           "shape": ""
          }
         },
         "name": "",
         "offsetgroup": "",
         "orientation": "v",
         "showlegend": false,
         "textposition": "auto",
         "type": "bar",
         "x": [
          "Bouygues E&S",
          "Izivia",
          "SPIE CITYNETWORKS",
          "Allego",
          "Power Dot France",
          "QOVOLTIS",
          "TotalEnergies Marketing France",
          "Last Mile Solutions",
          "IZIVIA",
          "EVzen (SMEG Développement)"
         ],
         "xaxis": "x",
         "y": [
          5624,
          5181,
          1912,
          830,
          731,
          635,
          633,
          420,
          350,
          280
         ],
         "yaxis": "y"
        }
       ],
       "layout": {
        "autosize": true,
        "barmode": "relative",
        "legend": {
         "tracegroupgap": 0
        },
        "margin": {
         "t": 60
        },
        "template": {
         "data": {
          "bar": [
           {
            "error_x": {
             "color": "#2a3f5f"
            },
            "error_y": {
             "color": "#2a3f5f"
            },
            "marker": {
             "line": {
              "color": "#E5ECF6",
              "width": 0.5
             },
             "pattern": {
              "fillmode": "overlay",
              "size": 10,
              "solidity": 0.2
             }
            },
            "type": "bar"
           }
          ],
          "barpolar": [
           {
            "marker": {
             "line": {
              "color": "#E5ECF6",
              "width": 0.5
             },
             "pattern": {
              "fillmode": "overlay",
              "size": 10,
              "solidity": 0.2
             }
            },
            "type": "barpolar"
           }
          ],
          "carpet": [
           {
            "aaxis": {
             "endlinecolor": "#2a3f5f",
             "gridcolor": "white",
             "linecolor": "white",
             "minorgridcolor": "white",
             "startlinecolor": "#2a3f5f"
            },
            "baxis": {
             "endlinecolor": "#2a3f5f",
             "gridcolor": "white",
             "linecolor": "white",
             "minorgridcolor": "white",
             "startlinecolor": "#2a3f5f"
            },
            "type": "carpet"
           }
          ],
          "choropleth": [
           {
            "colorbar": {
             "outlinewidth": 0,
             "ticks": ""
            },
            "type": "choropleth"
           }
          ],
          "contour": [
           {
            "colorbar": {
             "outlinewidth": 0,
             "ticks": ""
            },
            "colorscale": [
             [
              0,
              "#0d0887"
             ],
             [
              0.1111111111111111,
              "#46039f"
             ],
             [
              0.2222222222222222,
              "#7201a8"
             ],
             [
              0.3333333333333333,
              "#9c179e"
             ],
             [
              0.4444444444444444,
              "#bd3786"
             ],
             [
              0.5555555555555556,
              "#d8576b"
             ],
             [
              0.6666666666666666,
              "#ed7953"
             ],
             [
              0.7777777777777778,
              "#fb9f3a"
             ],
             [
              0.8888888888888888,
              "#fdca26"
             ],
             [
              1,
              "#f0f921"
             ]
            ],
            "type": "contour"
           }
          ],
          "contourcarpet": [
           {
            "colorbar": {
             "outlinewidth": 0,
             "ticks": ""
            },
            "type": "contourcarpet"
           }
          ],
          "heatmap": [
           {
            "colorbar": {
             "outlinewidth": 0,
             "ticks": ""
            },
            "colorscale": [
             [
              0,
              "#0d0887"
             ],
             [
              0.1111111111111111,
              "#46039f"
             ],
             [
              0.2222222222222222,
              "#7201a8"
             ],
             [
              0.3333333333333333,
              "#9c179e"
             ],
             [
              0.4444444444444444,
              "#bd3786"
             ],
             [
              0.5555555555555556,
              "#d8576b"
             ],
             [
              0.6666666666666666,
              "#ed7953"
             ],
             [
              0.7777777777777778,
              "#fb9f3a"
             ],
             [
              0.8888888888888888,
              "#fdca26"
             ],
             [
              1,
              "#f0f921"
             ]
            ],
            "type": "heatmap"
           }
          ],
          "heatmapgl": [
           {
            "colorbar": {
             "outlinewidth": 0,
             "ticks": ""
            },
            "colorscale": [
             [
              0,
              "#0d0887"
             ],
             [
              0.1111111111111111,
              "#46039f"
             ],
             [
              0.2222222222222222,
              "#7201a8"
             ],
             [
              0.3333333333333333,
              "#9c179e"
             ],
             [
              0.4444444444444444,
              "#bd3786"
             ],
             [
              0.5555555555555556,
              "#d8576b"
             ],
             [
              0.6666666666666666,
              "#ed7953"
             ],
             [
              0.7777777777777778,
              "#fb9f3a"
             ],
             [
              0.8888888888888888,
              "#fdca26"
             ],
             [
              1,
              "#f0f921"
             ]
            ],
            "type": "heatmapgl"
           }
          ],
          "histogram": [
           {
            "marker": {
             "pattern": {
              "fillmode": "overlay",
              "size": 10,
              "solidity": 0.2
             }
            },
            "type": "histogram"
           }
          ],
          "histogram2d": [
           {
            "colorbar": {
             "outlinewidth": 0,
             "ticks": ""
            },
            "colorscale": [
             [
              0,
              "#0d0887"
             ],
             [
              0.1111111111111111,
              "#46039f"
             ],
             [
              0.2222222222222222,
              "#7201a8"
             ],
             [
              0.3333333333333333,
              "#9c179e"
             ],
             [
              0.4444444444444444,
              "#bd3786"
             ],
             [
              0.5555555555555556,
              "#d8576b"
             ],
             [
              0.6666666666666666,
              "#ed7953"
             ],
             [
              0.7777777777777778,
              "#fb9f3a"
             ],
             [
              0.8888888888888888,
              "#fdca26"
             ],
             [
              1,
              "#f0f921"
             ]
            ],
            "type": "histogram2d"
           }
          ],
          "histogram2dcontour": [
           {
            "colorbar": {
             "outlinewidth": 0,
             "ticks": ""
            },
            "colorscale": [
             [
              0,
              "#0d0887"
             ],
             [
              0.1111111111111111,
              "#46039f"
             ],
             [
              0.2222222222222222,
              "#7201a8"
             ],
             [
              0.3333333333333333,
              "#9c179e"
             ],
             [
              0.4444444444444444,
              "#bd3786"
             ],
             [
              0.5555555555555556,
              "#d8576b"
             ],
             [
              0.6666666666666666,
              "#ed7953"
             ],
             [
              0.7777777777777778,
              "#fb9f3a"
             ],
             [
              0.8888888888888888,
              "#fdca26"
             ],
             [
              1,
              "#f0f921"
             ]
            ],
            "type": "histogram2dcontour"
           }
          ],
          "mesh3d": [
           {
            "colorbar": {
             "outlinewidth": 0,
             "ticks": ""
            },
            "type": "mesh3d"
           }
          ],
          "parcoords": [
           {
            "line": {
             "colorbar": {
              "outlinewidth": 0,
              "ticks": ""
             }
            },
            "type": "parcoords"
           }
          ],
          "pie": [
           {
            "automargin": true,
            "type": "pie"
           }
          ],
          "scatter": [
           {
            "fillpattern": {
             "fillmode": "overlay",
             "size": 10,
             "solidity": 0.2
            },
            "type": "scatter"
           }
          ],
          "scatter3d": [
           {
            "line": {
             "colorbar": {
              "outlinewidth": 0,
              "ticks": ""
             }
            },
            "marker": {
             "colorbar": {
              "outlinewidth": 0,
              "ticks": ""
             }
            },
            "type": "scatter3d"
           }
          ],
          "scattercarpet": [
           {
            "marker": {
             "colorbar": {
              "outlinewidth": 0,
              "ticks": ""
             }
            },
            "type": "scattercarpet"
           }
          ],
          "scattergeo": [
           {
            "marker": {
             "colorbar": {
              "outlinewidth": 0,
              "ticks": ""
             }
            },
            "type": "scattergeo"
           }
          ],
          "scattergl": [
           {
            "marker": {
             "colorbar": {
              "outlinewidth": 0,
              "ticks": ""
             }
            },
            "type": "scattergl"
           }
          ],
          "scattermapbox": [
           {
            "marker": {
             "colorbar": {
              "outlinewidth": 0,
              "ticks": ""
             }
            },
            "type": "scattermapbox"
           }
          ],
          "scatterpolar": [
           {
            "marker": {
             "colorbar": {
              "outlinewidth": 0,
              "ticks": ""
             }
            },
            "type": "scatterpolar"
           }
          ],
          "scatterpolargl": [
           {
            "marker": {
             "colorbar": {
              "outlinewidth": 0,
              "ticks": ""
             }
            },
            "type": "scatterpolargl"
           }
          ],
          "scatterternary": [
           {
            "marker": {
             "colorbar": {
              "outlinewidth": 0,
              "ticks": ""
             }
            },
            "type": "scatterternary"
           }
          ],
          "surface": [
           {
            "colorbar": {
             "outlinewidth": 0,
             "ticks": ""
            },
            "colorscale": [
             [
              0,
              "#0d0887"
             ],
             [
              0.1111111111111111,
              "#46039f"
             ],
             [
              0.2222222222222222,
              "#7201a8"
             ],
             [
              0.3333333333333333,
              "#9c179e"
             ],
             [
              0.4444444444444444,
              "#bd3786"
             ],
             [
              0.5555555555555556,
              "#d8576b"
             ],
             [
              0.6666666666666666,
              "#ed7953"
             ],
             [
              0.7777777777777778,
              "#fb9f3a"
             ],
             [
              0.8888888888888888,
              "#fdca26"
             ],
             [
              1,
              "#f0f921"
             ]
            ],
            "type": "surface"
           }
          ],
          "table": [
           {
            "cells": {
             "fill": {
              "color": "#EBF0F8"
             },
             "line": {
              "color": "white"
             }
            },
            "header": {
             "fill": {
              "color": "#C8D4E3"
             },
             "line": {
              "color": "white"
             }
            },
            "type": "table"
           }
          ]
         },
         "layout": {
          "annotationdefaults": {
           "arrowcolor": "#2a3f5f",
           "arrowhead": 0,
           "arrowwidth": 1
          },
          "autotypenumbers": "strict",
          "coloraxis": {
           "colorbar": {
            "outlinewidth": 0,
            "ticks": ""
           }
          },
          "colorscale": {
           "diverging": [
            [
             0,
             "#8e0152"
            ],
            [
             0.1,
             "#c51b7d"
            ],
            [
             0.2,
             "#de77ae"
            ],
            [
             0.3,
             "#f1b6da"
            ],
            [
             0.4,
             "#fde0ef"
            ],
            [
             0.5,
             "#f7f7f7"
            ],
            [
             0.6,
             "#e6f5d0"
            ],
            [
             0.7,
             "#b8e186"
            ],
            [
             0.8,
             "#7fbc41"
            ],
            [
             0.9,
             "#4d9221"
            ],
            [
             1,
             "#276419"
            ]
           ],
           "sequential": [
            [
             0,
             "#0d0887"
            ],
            [
             0.1111111111111111,
             "#46039f"
            ],
            [
             0.2222222222222222,
             "#7201a8"
            ],
            [
             0.3333333333333333,
             "#9c179e"
            ],
            [
             0.4444444444444444,
             "#bd3786"
            ],
            [
             0.5555555555555556,
             "#d8576b"
            ],
            [
             0.6666666666666666,
             "#ed7953"
            ],
            [
             0.7777777777777778,
             "#fb9f3a"
            ],
            [
             0.8888888888888888,
             "#fdca26"
            ],
            [
             1,
             "#f0f921"
            ]
           ],
           "sequentialminus": [
            [
             0,
             "#0d0887"
            ],
            [
             0.1111111111111111,
             "#46039f"
            ],
            [
             0.2222222222222222,
             "#7201a8"
            ],
            [
             0.3333333333333333,
             "#9c179e"
            ],
            [
             0.4444444444444444,
             "#bd3786"
            ],
            [
             0.5555555555555556,
             "#d8576b"
            ],
            [
             0.6666666666666666,
             "#ed7953"
            ],
            [
             0.7777777777777778,
             "#fb9f3a"
            ],
            [
             0.8888888888888888,
             "#fdca26"
            ],
            [
             1,
             "#f0f921"
            ]
           ]
          },
          "colorway": [
           "#636efa",
           "#EF553B",
           "#00cc96",
           "#ab63fa",
           "#FFA15A",
           "#19d3f3",
           "#FF6692",
           "#B6E880",
           "#FF97FF",
           "#FECB52"
          ],
          "font": {
           "color": "#2a3f5f"
          },
          "geo": {
           "bgcolor": "white",
           "lakecolor": "white",
           "landcolor": "#E5ECF6",
           "showlakes": true,
           "showland": true,
           "subunitcolor": "white"
          },
          "hoverlabel": {
           "align": "left"
          },
          "hovermode": "closest",
          "mapbox": {
           "style": "light"
          },
          "paper_bgcolor": "white",
          "plot_bgcolor": "#E5ECF6",
          "polar": {
           "angularaxis": {
            "gridcolor": "white",
            "linecolor": "white",
            "ticks": ""
           },
           "bgcolor": "#E5ECF6",
           "radialaxis": {
            "gridcolor": "white",
            "linecolor": "white",
            "ticks": ""
           }
          },
          "scene": {
           "xaxis": {
            "backgroundcolor": "#E5ECF6",
            "gridcolor": "white",
            "gridwidth": 2,
            "linecolor": "white",
            "showbackground": true,
            "ticks": "",
            "zerolinecolor": "white"
           },
           "yaxis": {
            "backgroundcolor": "#E5ECF6",
            "gridcolor": "white",
            "gridwidth": 2,
            "linecolor": "white",
            "showbackground": true,
            "ticks": "",
            "zerolinecolor": "white"
           },
           "zaxis": {
            "backgroundcolor": "#E5ECF6",
            "gridcolor": "white",
            "gridwidth": 2,
            "linecolor": "white",
            "showbackground": true,
            "ticks": "",
            "zerolinecolor": "white"
           }
          },
          "shapedefaults": {
           "line": {
            "color": "#2a3f5f"
           }
          },
          "ternary": {
           "aaxis": {
            "gridcolor": "white",
            "linecolor": "white",
            "ticks": ""
           },
           "baxis": {
            "gridcolor": "white",
            "linecolor": "white",
            "ticks": ""
           },
           "bgcolor": "#E5ECF6",
           "caxis": {
            "gridcolor": "white",
            "linecolor": "white",
            "ticks": ""
           }
          },
          "title": {
           "x": 0.05
          },
          "xaxis": {
           "automargin": true,
           "gridcolor": "white",
           "linecolor": "white",
           "ticks": "",
           "title": {
            "standoff": 15
           },
           "zerolinecolor": "white",
           "zerolinewidth": 2
          },
          "yaxis": {
           "automargin": true,
           "gridcolor": "white",
           "linecolor": "white",
           "ticks": "",
           "title": {
            "standoff": 15
           },
           "zerolinecolor": "white",
           "zerolinewidth": 2
          }
         }
        },
        "xaxis": {
         "anchor": "y",
         "autorange": true,
         "domain": [
          0,
          1
         ],
         "range": [
          -0.5,
          9.5
         ],
         "title": {
          "text": "nom_operateur"
         },
         "type": "category"
        },
        "yaxis": {
         "anchor": "x",
         "autorange": true,
         "domain": [
          0,
          1
         ],
         "range": [
          0,
          5920
         ],
         "title": {
          "text": "nombre total"
         },
         "type": "linear"
        }
       }
      },
      "image/png": "[encoded data removed]",
      "text/html": [
       "<div>                            <div id=\"c9aeebdc-6b82-4231-a257-e1df71308c55\" class=\"plotly-graph-div\" style=\"height:525px; width:100%;\"></div>            <script type=\"text/javascript\">                require([\"plotly\"], function(Plotly) {                    window.PLOTLYENV=window.PLOTLYENV || {};                                    if (document.getElementById(\"c9aeebdc-6b82-4231-a257-e1df71308c55\")) {                    Plotly.newPlot(                        \"c9aeebdc-6b82-4231-a257-e1df71308c55\",                        [{\"alignmentgroup\":\"True\",\"hovertemplate\":\"nom_operateur=%{x}<br>nombre total=%{y}<extra></extra>\",\"legendgroup\":\"\",\"marker\":{\"color\":\"#636efa\",\"pattern\":{\"shape\":\"\"}},\"name\":\"\",\"offsetgroup\":\"\",\"orientation\":\"v\",\"showlegend\":false,\"textposition\":\"auto\",\"x\":[\"Bouygues E&S\",\"Izivia\",\"SPIE CITYNETWORKS\",\"Allego\",\"Power Dot France\",\"QOVOLTIS\",\"TotalEnergies Marketing France\",\"Last Mile Solutions\",\"IZIVIA\",\"EVzen (SMEG D\\u00e9veloppement)\"],\"xaxis\":\"x\",\"y\":[5624,5181,1912,830,731,635,633,420,350,280],\"yaxis\":\"y\",\"type\":\"bar\"}],                        {\"template\":{\"data\":{\"histogram2dcontour\":[{\"type\":\"histogram2dcontour\",\"colorbar\":{\"outlinewidth\":0,\"ticks\":\"\"},\"colorscale\":[[0.0,\"#0d0887\"],[0.1111111111111111,\"#46039f\"],[0.2222222222222222,\"#7201a8\"],[0.3333333333333333,\"#9c179e\"],[0.4444444444444444,\"#bd3786\"],[0.5555555555555556,\"#d8576b\"],[0.6666666666666666,\"#ed7953\"],[0.7777777777777778,\"#fb9f3a\"],[0.8888888888888888,\"#fdca26\"],[1.0,\"#f0f921\"]]}],\"choropleth\":[{\"type\":\"choropleth\",\"colorbar\":{\"outlinewidth\":0,\"ticks\":\"\"}}],\"histogram2d\":[{\"type\":\"histogram2d\",\"colorbar\":{\"outlinewidth\":0,\"ticks\":\"\"},\"colorscale\":[[0.0,\"#0d0887\"],[0.1111111111111111,\"#46039f\"],[0.2222222222222222,\"#7201a8\"],[0.3333333333333333,\"#9c179e\"],[0.4444444444444444,\"#bd3786\"],[0.5555555555555556,\"#d8576b\"],[0.6666666666666666,\"#ed7953\"],[0.7777777777777778,\"#fb9f3a\"],[0.8888888888888888,\"#fdca26\"],[1.0,\"#f0f921\"]]}],\"heatmap\":[{\"type\":\"heatmap\",\"colorbar\":{\"outlinewidth\":0,\"ticks\":\"\"},\"colorscale\":[[0.0,\"#0d0887\"],[0.1111111111111111,\"#46039f\"],[0.2222222222222222,\"#7201a8\"],[0.3333333333333333,\"#9c179e\"],[0.4444444444444444,\"#bd3786\"],[0.5555555555555556,\"#d8576b\"],[0.6666666666666666,\"#ed7953\"],[0.7777777777777778,\"#fb9f3a\"],[0.8888888888888888,\"#fdca26\"],[1.0,\"#f0f921\"]]}],\"heatmapgl\":[{\"type\":\"heatmapgl\",\"colorbar\":{\"outlinewidth\":0,\"ticks\":\"\"},\"colorscale\":[[0.0,\"#0d0887\"],[0.1111111111111111,\"#46039f\"],[0.2222222222222222,\"#7201a8\"],[0.3333333333333333,\"#9c179e\"],[0.4444444444444444,\"#bd3786\"],[0.5555555555555556,\"#d8576b\"],[0.6666666666666666,\"#ed7953\"],[0.7777777777777778,\"#fb9f3a\"],[0.8888888888888888,\"#fdca26\"],[1.0,\"#f0f921\"]]}],\"contourcarpet\":[{\"type\":\"contourcarpet\",\"colorbar\":{\"outlinewidth\":0,\"ticks\":\"\"}}],\"contour\":[{\"type\":\"contour\",\"colorbar\":{\"outlinewidth\":0,\"ticks\":\"\"},\"colorscale\":[[0.0,\"#0d0887\"],[0.1111111111111111,\"#46039f\"],[0.2222222222222222,\"#7201a8\"],[0.3333333333333333,\"#9c179e\"],[0.4444444444444444,\"#bd3786\"],[0.5555555555555556,\"#d8576b\"],[0.6666666666666666,\"#ed7953\"],[0.7777777777777778,\"#fb9f3a\"],[0.8888888888888888,\"#fdca26\"],[1.0,\"#f0f921\"]]}],\"surface\":[{\"type\":\"surface\",\"colorbar\":{\"outlinewidth\":0,\"ticks\":\"\"},\"colorscale\":[[0.0,\"#0d0887\"],[0.1111111111111111,\"#46039f\"],[0.2222222222222222,\"#7201a8\"],[0.3333333333333333,\"#9c179e\"],[0.4444444444444444,\"#bd3786\"],[0.5555555555555556,\"#d8576b\"],[0.6666666666666666,\"#ed7953\"],[0.7777777777777778,\"#fb9f3a\"],[0.8888888888888888,\"#fdca26\"],[1.0,\"#f0f921\"]]}],\"mesh3d\":[{\"type\":\"mesh3d\",\"colorbar\":{\"outlinewidth\":0,\"ticks\":\"\"}}],\"scatter\":[{\"fillpattern\":{\"fillmode\":\"overlay\",\"size\":10,\"solidity\":0.2},\"type\":\"scatter\"}],\"parcoords\":[{\"type\":\"parcoords\",\"line\":{\"colorbar\":{\"outlinewidth\":0,\"ticks\":\"\"}}}],\"scatterpolargl\":[{\"type\":\"scatterpolargl\",\"marker\":{\"colorbar\":{\"outlinewidth\":0,\"ticks\":\"\"}}}],\"bar\":[{\"error_x\":{\"color\":\"#2a3f5f\"},\"error_y\":{\"color\":\"#2a3f5f\"},\"marker\":{\"line\":{\"color\":\"#E5ECF6\",\"width\":0.5},\"pattern\":{\"fillmode\":\"overlay\",\"size\":10,\"solidity\":0.2}},\"type\":\"bar\"}],\"scattergeo\":[{\"type\":\"scattergeo\",\"marker\":{\"colorbar\":{\"outlinewidth\":0,\"ticks\":\"\"}}}],\"scatterpolar\":[{\"type\":\"scatterpolar\",\"marker\":{\"colorbar\":{\"outlinewidth\":0,\"ticks\":\"\"}}}],\"histogram\":[{\"marker\":{\"pattern\":{\"fillmode\":\"overlay\",\"size\":10,\"solidity\":0.2}},\"type\":\"histogram\"}],\"scattergl\":[{\"type\":\"scattergl\",\"marker\":{\"colorbar\":{\"outlinewidth\":0,\"ticks\":\"\"}}}],\"scatter3d\":[{\"type\":\"scatter3d\",\"line\":{\"colorbar\":{\"outlinewidth\":0,\"ticks\":\"\"}},\"marker\":{\"colorbar\":{\"outlinewidth\":0,\"ticks\":\"\"}}}],\"scattermapbox\":[{\"type\":\"scattermapbox\",\"marker\":{\"colorbar\":{\"outlinewidth\":0,\"ticks\":\"\"}}}],\"scatterternary\":[{\"type\":\"scatterternary\",\"marker\":{\"colorbar\":{\"outlinewidth\":0,\"ticks\":\"\"}}}],\"scattercarpet\":[{\"type\":\"scattercarpet\",\"marker\":{\"colorbar\":{\"outlinewidth\":0,\"ticks\":\"\"}}}],\"carpet\":[{\"aaxis\":{\"endlinecolor\":\"#2a3f5f\",\"gridcolor\":\"white\",\"linecolor\":\"white\",\"minorgridcolor\":\"white\",\"startlinecolor\":\"#2a3f5f\"},\"baxis\":{\"endlinecolor\":\"#2a3f5f\",\"gridcolor\":\"white\",\"linecolor\":\"white\",\"minorgridcolor\":\"white\",\"startlinecolor\":\"#2a3f5f\"},\"type\":\"carpet\"}],\"table\":[{\"cells\":{\"fill\":{\"color\":\"#EBF0F8\"},\"line\":{\"color\":\"white\"}},\"header\":{\"fill\":{\"color\":\"#C8D4E3\"},\"line\":{\"color\":\"white\"}},\"type\":\"table\"}],\"barpolar\":[{\"marker\":{\"line\":{\"color\":\"#E5ECF6\",\"width\":0.5},\"pattern\":{\"fillmode\":\"overlay\",\"size\":10,\"solidity\":0.2}},\"type\":\"barpolar\"}],\"pie\":[{\"automargin\":true,\"type\":\"pie\"}]},\"layout\":{\"autotypenumbers\":\"strict\",\"colorway\":[\"#636efa\",\"#EF553B\",\"#00cc96\",\"#ab63fa\",\"#FFA15A\",\"#19d3f3\",\"#FF6692\",\"#B6E880\",\"#FF97FF\",\"#FECB52\"],\"font\":{\"color\":\"#2a3f5f\"},\"hovermode\":\"closest\",\"hoverlabel\":{\"align\":\"left\"},\"paper_bgcolor\":\"white\",\"plot_bgcolor\":\"#E5ECF6\",\"polar\":{\"bgcolor\":\"#E5ECF6\",\"angularaxis\":{\"gridcolor\":\"white\",\"linecolor\":\"white\",\"ticks\":\"\"},\"radialaxis\":{\"gridcolor\":\"white\",\"linecolor\":\"white\",\"ticks\":\"\"}},\"ternary\":{\"bgcolor\":\"#E5ECF6\",\"aaxis\":{\"gridcolor\":\"white\",\"linecolor\":\"white\",\"ticks\":\"\"},\"baxis\":{\"gridcolor\":\"white\",\"linecolor\":\"white\",\"ticks\":\"\"},\"caxis\":{\"gridcolor\":\"white\",\"linecolor\":\"white\",\"ticks\":\"\"}},\"coloraxis\":{\"colorbar\":{\"outlinewidth\":0,\"ticks\":\"\"}},\"colorscale\":{\"sequential\":[[0.0,\"#0d0887\"],[0.1111111111111111,\"#46039f\"],[0.2222222222222222,\"#7201a8\"],[0.3333333333333333,\"#9c179e\"],[0.4444444444444444,\"#bd3786\"],[0.5555555555555556,\"#d8576b\"],[0.6666666666666666,\"#ed7953\"],[0.7777777777777778,\"#fb9f3a\"],[0.8888888888888888,\"#fdca26\"],[1.0,\"#f0f921\"]],\"sequentialminus\":[[0.0,\"#0d0887\"],[0.1111111111111111,\"#46039f\"],[0.2222222222222222,\"#7201a8\"],[0.3333333333333333,\"#9c179e\"],[0.4444444444444444,\"#bd3786\"],[0.5555555555555556,\"#d8576b\"],[0.6666666666666666,\"#ed7953\"],[0.7777777777777778,\"#fb9f3a\"],[0.8888888888888888,\"#fdca26\"],[1.0,\"#f0f921\"]],\"diverging\":[[0,\"#8e0152\"],[0.1,\"#c51b7d\"],[0.2,\"#de77ae\"],[0.3,\"#f1b6da\"],[0.4,\"#fde0ef\"],[0.5,\"#f7f7f7\"],[0.6,\"#e6f5d0\"],[0.7,\"#b8e186\"],[0.8,\"#7fbc41\"],[0.9,\"#4d9221\"],[1,\"#276419\"]]},\"xaxis\":{\"gridcolor\":\"white\",\"linecolor\":\"white\",\"ticks\":\"\",\"title\":{\"standoff\":15},\"zerolinecolor\":\"white\",\"automargin\":true,\"zerolinewidth\":2},\"yaxis\":{\"gridcolor\":\"white\",\"linecolor\":\"white\",\"ticks\":\"\",\"title\":{\"standoff\":15},\"zerolinecolor\":\"white\",\"automargin\":true,\"zerolinewidth\":2},\"scene\":{\"xaxis\":{\"backgroundcolor\":\"#E5ECF6\",\"gridcolor\":\"white\",\"linecolor\":\"white\",\"showbackground\":true,\"ticks\":\"\",\"zerolinecolor\":\"white\",\"gridwidth\":2},\"yaxis\":{\"backgroundcolor\":\"#E5ECF6\",\"gridcolor\":\"white\",\"linecolor\":\"white\",\"showbackground\":true,\"ticks\":\"\",\"zerolinecolor\":\"white\",\"gridwidth\":2},\"zaxis\":{\"backgroundcolor\":\"#E5ECF6\",\"gridcolor\":\"white\",\"linecolor\":\"white\",\"showbackground\":true,\"ticks\":\"\",\"zerolinecolor\":\"white\",\"gridwidth\":2}},\"shapedefaults\":{\"line\":{\"color\":\"#2a3f5f\"}},\"annotationdefaults\":{\"arrowcolor\":\"#2a3f5f\",\"arrowhead\":0,\"arrowwidth\":1},\"geo\":{\"bgcolor\":\"white\",\"landcolor\":\"#E5ECF6\",\"subunitcolor\":\"white\",\"showland\":true,\"showlakes\":true,\"lakecolor\":\"white\"},\"title\":{\"x\":0.05},\"mapbox\":{\"style\":\"light\"}}},\"xaxis\":{\"anchor\":\"y\",\"domain\":[0.0,1.0],\"title\":{\"text\":\"nom_operateur\"}},\"yaxis\":{\"anchor\":\"x\",\"domain\":[0.0,1.0],\"title\":{\"text\":\"nombre total\"}},\"legend\":{\"tracegroupgap\":0},\"margin\":{\"t\":60},\"barmode\":\"relative\"},                        {\"responsive\": true}                    ).then(function(){\n",
       "                            \n",
       "var gd = document.getElementById('c9aeebdc-6b82-4231-a257-e1df71308c55');\n",
       "var x = new MutationObserver(function (mutations, observer) {{\n",
       "        var display = window.getComputedStyle(gd).display;\n",
       "        if (!display || display === 'none') {{\n",
       "            console.log([gd, 'removed!']);\n",
       "            Plotly.purge(gd);\n",
       "            observer.disconnect();\n",
       "        }}\n",
       "}});\n",
       "\n",
       "// Listen for the removal of the full notebook cells\n",
       "var notebookContainer = gd.closest('#notebook-container');\n",
       "if (notebookContainer) {{\n",
       "    x.observe(notebookContainer, {childList: true});\n",
       "}}\n",
       "\n",
       "// Listen for the clearing of the current output cell\n",
       "var outputEl = gd.closest('.output');\n",
       "if (outputEl) {{\n",
       "    x.observe(outputEl, {childList: true});\n",
       "}}\n",
       "\n",
       "                        })                };                });            </script>        </div>"
      ]
     },
     "metadata": {},
     "output_type": "display_data"
    }
   ],
   "source": [
    "#table_schema.groupby(\"nom_operateur\").nom_operateur.count()\n",
    "table = table \n",
    "group = \"nom_operateur\"\n",
    "by =\"nom_operateur\"\n",
    "first_elements = 10\n",
    "Show_repartition(table,group,by,first_elements)\n"
   ]
  },
  {
   "cell_type": "markdown",
   "id": "20b8ec95-b8a0-4326-b07a-a7a32b9201a4",
   "metadata": {},
   "source": [
    "## 2)Répartition de la puissance "
   ]
  },
  {
   "cell_type": "code",
   "execution_count": 33,
   "id": "5b1b4d6e-0ae7-4453-ac5c-c03f2f032e39",
   "metadata": {
    "tags": []
   },
   "outputs": [
    {
     "data": {
      "application/vnd.plotly.v1+json": {
       "config": {
        "plotlyServerURL": "https://plot.ly"
       },
       "data": [
        {
         "alignmentgroup": "True",
         "hovertemplate": "puissance_nominale=%{x}<br>nombre total=%{y}<extra></extra>",
         "legendgroup": "",
         "marker": {
          "color": "#636efa",
          "pattern": {
           "shape": ""
          }
         },
         "name": "",
         "offsetgroup": "",
         "orientation": "v",
         "showlegend": false,
         "textposition": "auto",
         "type": "bar",
         "x": [
          "22.0",
          "7.0",
          "18.0",
          "22000.0",
          "50.0",
          "7.4",
          "300.0",
          "150.0",
          "24.0",
          "43.0"
         ],
         "xaxis": "x",
         "y": [
          8934,
          1995,
          1488,
          1220,
          875,
          739,
          624,
          517,
          363,
          252
         ],
         "yaxis": "y"
        }
       ],
       "layout": {
        "autosize": true,
        "barmode": "relative",
        "legend": {
         "tracegroupgap": 0
        },
        "margin": {
         "t": 60
        },
        "template": {
         "data": {
          "bar": [
           {
            "error_x": {
             "color": "#2a3f5f"
            },
            "error_y": {
             "color": "#2a3f5f"
            },
            "marker": {
             "line": {
              "color": "#E5ECF6",
              "width": 0.5
             },
             "pattern": {
              "fillmode": "overlay",
              "size": 10,
              "solidity": 0.2
             }
            },
            "type": "bar"
           }
          ],
          "barpolar": [
           {
            "marker": {
             "line": {
              "color": "#E5ECF6",
              "width": 0.5
             },
             "pattern": {
              "fillmode": "overlay",
              "size": 10,
              "solidity": 0.2
             }
            },
            "type": "barpolar"
           }
          ],
          "carpet": [
           {
            "aaxis": {
             "endlinecolor": "#2a3f5f",
             "gridcolor": "white",
             "linecolor": "white",
             "minorgridcolor": "white",
             "startlinecolor": "#2a3f5f"
            },
            "baxis": {
             "endlinecolor": "#2a3f5f",
             "gridcolor": "white",
             "linecolor": "white",
             "minorgridcolor": "white",
             "startlinecolor": "#2a3f5f"
            },
            "type": "carpet"
           }
          ],
          "choropleth": [
           {
            "colorbar": {
             "outlinewidth": 0,
             "ticks": ""
            },
            "type": "choropleth"
           }
          ],
          "contour": [
           {
            "colorbar": {
             "outlinewidth": 0,
             "ticks": ""
            },
            "colorscale": [
             [
              0,
              "#0d0887"
             ],
             [
              0.1111111111111111,
              "#46039f"
             ],
             [
              0.2222222222222222,
              "#7201a8"
             ],
             [
              0.3333333333333333,
              "#9c179e"
             ],
             [
              0.4444444444444444,
              "#bd3786"
             ],
             [
              0.5555555555555556,
              "#d8576b"
             ],
             [
              0.6666666666666666,
              "#ed7953"
             ],
             [
              0.7777777777777778,
              "#fb9f3a"
             ],
             [
              0.8888888888888888,
              "#fdca26"
             ],
             [
              1,
              "#f0f921"
             ]
            ],
            "type": "contour"
           }
          ],
          "contourcarpet": [
           {
            "colorbar": {
             "outlinewidth": 0,
             "ticks": ""
            },
            "type": "contourcarpet"
           }
          ],
          "heatmap": [
           {
            "colorbar": {
             "outlinewidth": 0,
             "ticks": ""
            },
            "colorscale": [
             [
              0,
              "#0d0887"
             ],
             [
              0.1111111111111111,
              "#46039f"
             ],
             [
              0.2222222222222222,
              "#7201a8"
             ],
             [
              0.3333333333333333,
              "#9c179e"
             ],
             [
              0.4444444444444444,
              "#bd3786"
             ],
             [
              0.5555555555555556,
              "#d8576b"
             ],
             [
              0.6666666666666666,
              "#ed7953"
             ],
             [
              0.7777777777777778,
              "#fb9f3a"
             ],
             [
              0.8888888888888888,
              "#fdca26"
             ],
             [
              1,
              "#f0f921"
             ]
            ],
            "type": "heatmap"
           }
          ],
          "heatmapgl": [
           {
            "colorbar": {
             "outlinewidth": 0,
             "ticks": ""
            },
            "colorscale": [
             [
              0,
              "#0d0887"
             ],
             [
              0.1111111111111111,
              "#46039f"
             ],
             [
              0.2222222222222222,
              "#7201a8"
             ],
             [
              0.3333333333333333,
              "#9c179e"
             ],
             [
              0.4444444444444444,
              "#bd3786"
             ],
             [
              0.5555555555555556,
              "#d8576b"
             ],
             [
              0.6666666666666666,
              "#ed7953"
             ],
             [
              0.7777777777777778,
              "#fb9f3a"
             ],
             [
              0.8888888888888888,
              "#fdca26"
             ],
             [
              1,
              "#f0f921"
             ]
            ],
            "type": "heatmapgl"
           }
          ],
          "histogram": [
           {
            "marker": {
             "pattern": {
              "fillmode": "overlay",
              "size": 10,
              "solidity": 0.2
             }
            },
            "type": "histogram"
           }
          ],
          "histogram2d": [
           {
            "colorbar": {
             "outlinewidth": 0,
             "ticks": ""
            },
            "colorscale": [
             [
              0,
              "#0d0887"
             ],
             [
              0.1111111111111111,
              "#46039f"
             ],
             [
              0.2222222222222222,
              "#7201a8"
             ],
             [
              0.3333333333333333,
              "#9c179e"
             ],
             [
              0.4444444444444444,
              "#bd3786"
             ],
             [
              0.5555555555555556,
              "#d8576b"
             ],
             [
              0.6666666666666666,
              "#ed7953"
             ],
             [
              0.7777777777777778,
              "#fb9f3a"
             ],
             [
              0.8888888888888888,
              "#fdca26"
             ],
             [
              1,
              "#f0f921"
             ]
            ],
            "type": "histogram2d"
           }
          ],
          "histogram2dcontour": [
           {
            "colorbar": {
             "outlinewidth": 0,
             "ticks": ""
            },
            "colorscale": [
             [
              0,
              "#0d0887"
             ],
             [
              0.1111111111111111,
              "#46039f"
             ],
             [
              0.2222222222222222,
              "#7201a8"
             ],
             [
              0.3333333333333333,
              "#9c179e"
             ],
             [
              0.4444444444444444,
              "#bd3786"
             ],
             [
              0.5555555555555556,
              "#d8576b"
             ],
             [
              0.6666666666666666,
              "#ed7953"
             ],
             [
              0.7777777777777778,
              "#fb9f3a"
             ],
             [
              0.8888888888888888,
              "#fdca26"
             ],
             [
              1,
              "#f0f921"
             ]
            ],
            "type": "histogram2dcontour"
           }
          ],
          "mesh3d": [
           {
            "colorbar": {
             "outlinewidth": 0,
             "ticks": ""
            },
            "type": "mesh3d"
           }
          ],
          "parcoords": [
           {
            "line": {
             "colorbar": {
              "outlinewidth": 0,
              "ticks": ""
             }
            },
            "type": "parcoords"
           }
          ],
          "pie": [
           {
            "automargin": true,
            "type": "pie"
           }
          ],
          "scatter": [
           {
            "fillpattern": {
             "fillmode": "overlay",
             "size": 10,
             "solidity": 0.2
            },
            "type": "scatter"
           }
          ],
          "scatter3d": [
           {
            "line": {
             "colorbar": {
              "outlinewidth": 0,
              "ticks": ""
             }
            },
            "marker": {
             "colorbar": {
              "outlinewidth": 0,
              "ticks": ""
             }
            },
            "type": "scatter3d"
           }
          ],
          "scattercarpet": [
           {
            "marker": {
             "colorbar": {
              "outlinewidth": 0,
              "ticks": ""
             }
            },
            "type": "scattercarpet"
           }
          ],
          "scattergeo": [
           {
            "marker": {
             "colorbar": {
              "outlinewidth": 0,
              "ticks": ""
             }
            },
            "type": "scattergeo"
           }
          ],
          "scattergl": [
           {
            "marker": {
             "colorbar": {
              "outlinewidth": 0,
              "ticks": ""
             }
            },
            "type": "scattergl"
           }
          ],
          "scattermapbox": [
           {
            "marker": {
             "colorbar": {
              "outlinewidth": 0,
              "ticks": ""
             }
            },
            "type": "scattermapbox"
           }
          ],
          "scatterpolar": [
           {
            "marker": {
             "colorbar": {
              "outlinewidth": 0,
              "ticks": ""
             }
            },
            "type": "scatterpolar"
           }
          ],
          "scatterpolargl": [
           {
            "marker": {
             "colorbar": {
              "outlinewidth": 0,
              "ticks": ""
             }
            },
            "type": "scatterpolargl"
           }
          ],
          "scatterternary": [
           {
            "marker": {
             "colorbar": {
              "outlinewidth": 0,
              "ticks": ""
             }
            },
            "type": "scatterternary"
           }
          ],
          "surface": [
           {
            "colorbar": {
             "outlinewidth": 0,
             "ticks": ""
            },
            "colorscale": [
             [
              0,
              "#0d0887"
             ],
             [
              0.1111111111111111,
              "#46039f"
             ],
             [
              0.2222222222222222,
              "#7201a8"
             ],
             [
              0.3333333333333333,
              "#9c179e"
             ],
             [
              0.4444444444444444,
              "#bd3786"
             ],
             [
              0.5555555555555556,
              "#d8576b"
             ],
             [
              0.6666666666666666,
              "#ed7953"
             ],
             [
              0.7777777777777778,
              "#fb9f3a"
             ],
             [
              0.8888888888888888,
              "#fdca26"
             ],
             [
              1,
              "#f0f921"
             ]
            ],
            "type": "surface"
           }
          ],
          "table": [
           {
            "cells": {
             "fill": {
              "color": "#EBF0F8"
             },
             "line": {
              "color": "white"
             }
            },
            "header": {
             "fill": {
              "color": "#C8D4E3"
             },
             "line": {
              "color": "white"
             }
            },
            "type": "table"
           }
          ]
         },
         "layout": {
          "annotationdefaults": {
           "arrowcolor": "#2a3f5f",
           "arrowhead": 0,
           "arrowwidth": 1
          },
          "autotypenumbers": "strict",
          "coloraxis": {
           "colorbar": {
            "outlinewidth": 0,
            "ticks": ""
           }
          },
          "colorscale": {
           "diverging": [
            [
             0,
             "#8e0152"
            ],
            [
             0.1,
             "#c51b7d"
            ],
            [
             0.2,
             "#de77ae"
            ],
            [
             0.3,
             "#f1b6da"
            ],
            [
             0.4,
             "#fde0ef"
            ],
            [
             0.5,
             "#f7f7f7"
            ],
            [
             0.6,
             "#e6f5d0"
            ],
            [
             0.7,
             "#b8e186"
            ],
            [
             0.8,
             "#7fbc41"
            ],
            [
             0.9,
             "#4d9221"
            ],
            [
             1,
             "#276419"
            ]
           ],
           "sequential": [
            [
             0,
             "#0d0887"
            ],
            [
             0.1111111111111111,
             "#46039f"
            ],
            [
             0.2222222222222222,
             "#7201a8"
            ],
            [
             0.3333333333333333,
             "#9c179e"
            ],
            [
             0.4444444444444444,
             "#bd3786"
            ],
            [
             0.5555555555555556,
             "#d8576b"
            ],
            [
             0.6666666666666666,
             "#ed7953"
            ],
            [
             0.7777777777777778,
             "#fb9f3a"
            ],
            [
             0.8888888888888888,
             "#fdca26"
            ],
            [
             1,
             "#f0f921"
            ]
           ],
           "sequentialminus": [
            [
             0,
             "#0d0887"
            ],
            [
             0.1111111111111111,
             "#46039f"
            ],
            [
             0.2222222222222222,
             "#7201a8"
            ],
            [
             0.3333333333333333,
             "#9c179e"
            ],
            [
             0.4444444444444444,
             "#bd3786"
            ],
            [
             0.5555555555555556,
             "#d8576b"
            ],
            [
             0.6666666666666666,
             "#ed7953"
            ],
            [
             0.7777777777777778,
             "#fb9f3a"
            ],
            [
             0.8888888888888888,
             "#fdca26"
            ],
            [
             1,
             "#f0f921"
            ]
           ]
          },
          "colorway": [
           "#636efa",
           "#EF553B",
           "#00cc96",
           "#ab63fa",
           "#FFA15A",
           "#19d3f3",
           "#FF6692",
           "#B6E880",
           "#FF97FF",
           "#FECB52"
          ],
          "font": {
           "color": "#2a3f5f"
          },
          "geo": {
           "bgcolor": "white",
           "lakecolor": "white",
           "landcolor": "#E5ECF6",
           "showlakes": true,
           "showland": true,
           "subunitcolor": "white"
          },
          "hoverlabel": {
           "align": "left"
          },
          "hovermode": "closest",
          "mapbox": {
           "style": "light"
          },
          "paper_bgcolor": "white",
          "plot_bgcolor": "#E5ECF6",
          "polar": {
           "angularaxis": {
            "gridcolor": "white",
            "linecolor": "white",
            "ticks": ""
           },
           "bgcolor": "#E5ECF6",
           "radialaxis": {
            "gridcolor": "white",
            "linecolor": "white",
            "ticks": ""
           }
          },
          "scene": {
           "xaxis": {
            "backgroundcolor": "#E5ECF6",
            "gridcolor": "white",
            "gridwidth": 2,
            "linecolor": "white",
            "showbackground": true,
            "ticks": "",
            "zerolinecolor": "white"
           },
           "yaxis": {
            "backgroundcolor": "#E5ECF6",
            "gridcolor": "white",
            "gridwidth": 2,
            "linecolor": "white",
            "showbackground": true,
            "ticks": "",
            "zerolinecolor": "white"
           },
           "zaxis": {
            "backgroundcolor": "#E5ECF6",
            "gridcolor": "white",
            "gridwidth": 2,
            "linecolor": "white",
            "showbackground": true,
            "ticks": "",
            "zerolinecolor": "white"
           }
          },
          "shapedefaults": {
           "line": {
            "color": "#2a3f5f"
           }
          },
          "ternary": {
           "aaxis": {
            "gridcolor": "white",
            "linecolor": "white",
            "ticks": ""
           },
           "baxis": {
            "gridcolor": "white",
            "linecolor": "white",
            "ticks": ""
           },
           "bgcolor": "#E5ECF6",
           "caxis": {
            "gridcolor": "white",
            "linecolor": "white",
            "ticks": ""
           }
          },
          "title": {
           "x": 0.05
          },
          "xaxis": {
           "automargin": true,
           "gridcolor": "white",
           "linecolor": "white",
           "ticks": "",
           "title": {
            "standoff": 15
           },
           "zerolinecolor": "white",
           "zerolinewidth": 2
          },
          "yaxis": {
           "automargin": true,
           "gridcolor": "white",
           "linecolor": "white",
           "ticks": "",
           "title": {
            "standoff": 15
           },
           "zerolinecolor": "white",
           "zerolinewidth": 2
          }
         }
        },
        "xaxis": {
         "anchor": "y",
         "autorange": true,
         "domain": [
          0,
          1
         ],
         "range": [
          -0.5,
          9.5
         ],
         "title": {
          "text": "puissance_nominale"
         },
         "type": "category"
        },
        "yaxis": {
         "anchor": "x",
         "autorange": true,
         "domain": [
          0,
          1
         ],
         "range": [
          0,
          9404.21052631579
         ],
         "title": {
          "text": "nombre total"
         },
         "type": "linear"
        }
       }
      },
      "image/png": "[encoded data removed]",
      "text/html": [
       "<div>                            <div id=\"a6773e15-9f7b-44b1-9628-8a0fc167c867\" class=\"plotly-graph-div\" style=\"height:525px; width:100%;\"></div>            <script type=\"text/javascript\">                require([\"plotly\"], function(Plotly) {                    window.PLOTLYENV=window.PLOTLYENV || {};                                    if (document.getElementById(\"a6773e15-9f7b-44b1-9628-8a0fc167c867\")) {                    Plotly.newPlot(                        \"a6773e15-9f7b-44b1-9628-8a0fc167c867\",                        [{\"alignmentgroup\":\"True\",\"hovertemplate\":\"puissance_nominale=%{x}<br>nombre total=%{y}<extra></extra>\",\"legendgroup\":\"\",\"marker\":{\"color\":\"#636efa\",\"pattern\":{\"shape\":\"\"}},\"name\":\"\",\"offsetgroup\":\"\",\"orientation\":\"v\",\"showlegend\":false,\"textposition\":\"auto\",\"x\":[\"22.0\",\"7.0\",\"18.0\",\"22000.0\",\"50.0\",\"7.4\",\"300.0\",\"150.0\",\"24.0\",\"43.0\"],\"xaxis\":\"x\",\"y\":[8934,1995,1488,1220,875,739,624,517,363,252],\"yaxis\":\"y\",\"type\":\"bar\"}],                        {\"template\":{\"data\":{\"histogram2dcontour\":[{\"type\":\"histogram2dcontour\",\"colorbar\":{\"outlinewidth\":0,\"ticks\":\"\"},\"colorscale\":[[0.0,\"#0d0887\"],[0.1111111111111111,\"#46039f\"],[0.2222222222222222,\"#7201a8\"],[0.3333333333333333,\"#9c179e\"],[0.4444444444444444,\"#bd3786\"],[0.5555555555555556,\"#d8576b\"],[0.6666666666666666,\"#ed7953\"],[0.7777777777777778,\"#fb9f3a\"],[0.8888888888888888,\"#fdca26\"],[1.0,\"#f0f921\"]]}],\"choropleth\":[{\"type\":\"choropleth\",\"colorbar\":{\"outlinewidth\":0,\"ticks\":\"\"}}],\"histogram2d\":[{\"type\":\"histogram2d\",\"colorbar\":{\"outlinewidth\":0,\"ticks\":\"\"},\"colorscale\":[[0.0,\"#0d0887\"],[0.1111111111111111,\"#46039f\"],[0.2222222222222222,\"#7201a8\"],[0.3333333333333333,\"#9c179e\"],[0.4444444444444444,\"#bd3786\"],[0.5555555555555556,\"#d8576b\"],[0.6666666666666666,\"#ed7953\"],[0.7777777777777778,\"#fb9f3a\"],[0.8888888888888888,\"#fdca26\"],[1.0,\"#f0f921\"]]}],\"heatmap\":[{\"type\":\"heatmap\",\"colorbar\":{\"outlinewidth\":0,\"ticks\":\"\"},\"colorscale\":[[0.0,\"#0d0887\"],[0.1111111111111111,\"#46039f\"],[0.2222222222222222,\"#7201a8\"],[0.3333333333333333,\"#9c179e\"],[0.4444444444444444,\"#bd3786\"],[0.5555555555555556,\"#d8576b\"],[0.6666666666666666,\"#ed7953\"],[0.7777777777777778,\"#fb9f3a\"],[0.8888888888888888,\"#fdca26\"],[1.0,\"#f0f921\"]]}],\"heatmapgl\":[{\"type\":\"heatmapgl\",\"colorbar\":{\"outlinewidth\":0,\"ticks\":\"\"},\"colorscale\":[[0.0,\"#0d0887\"],[0.1111111111111111,\"#46039f\"],[0.2222222222222222,\"#7201a8\"],[0.3333333333333333,\"#9c179e\"],[0.4444444444444444,\"#bd3786\"],[0.5555555555555556,\"#d8576b\"],[0.6666666666666666,\"#ed7953\"],[0.7777777777777778,\"#fb9f3a\"],[0.8888888888888888,\"#fdca26\"],[1.0,\"#f0f921\"]]}],\"contourcarpet\":[{\"type\":\"contourcarpet\",\"colorbar\":{\"outlinewidth\":0,\"ticks\":\"\"}}],\"contour\":[{\"type\":\"contour\",\"colorbar\":{\"outlinewidth\":0,\"ticks\":\"\"},\"colorscale\":[[0.0,\"#0d0887\"],[0.1111111111111111,\"#46039f\"],[0.2222222222222222,\"#7201a8\"],[0.3333333333333333,\"#9c179e\"],[0.4444444444444444,\"#bd3786\"],[0.5555555555555556,\"#d8576b\"],[0.6666666666666666,\"#ed7953\"],[0.7777777777777778,\"#fb9f3a\"],[0.8888888888888888,\"#fdca26\"],[1.0,\"#f0f921\"]]}],\"surface\":[{\"type\":\"surface\",\"colorbar\":{\"outlinewidth\":0,\"ticks\":\"\"},\"colorscale\":[[0.0,\"#0d0887\"],[0.1111111111111111,\"#46039f\"],[0.2222222222222222,\"#7201a8\"],[0.3333333333333333,\"#9c179e\"],[0.4444444444444444,\"#bd3786\"],[0.5555555555555556,\"#d8576b\"],[0.6666666666666666,\"#ed7953\"],[0.7777777777777778,\"#fb9f3a\"],[0.8888888888888888,\"#fdca26\"],[1.0,\"#f0f921\"]]}],\"mesh3d\":[{\"type\":\"mesh3d\",\"colorbar\":{\"outlinewidth\":0,\"ticks\":\"\"}}],\"scatter\":[{\"fillpattern\":{\"fillmode\":\"overlay\",\"size\":10,\"solidity\":0.2},\"type\":\"scatter\"}],\"parcoords\":[{\"type\":\"parcoords\",\"line\":{\"colorbar\":{\"outlinewidth\":0,\"ticks\":\"\"}}}],\"scatterpolargl\":[{\"type\":\"scatterpolargl\",\"marker\":{\"colorbar\":{\"outlinewidth\":0,\"ticks\":\"\"}}}],\"bar\":[{\"error_x\":{\"color\":\"#2a3f5f\"},\"error_y\":{\"color\":\"#2a3f5f\"},\"marker\":{\"line\":{\"color\":\"#E5ECF6\",\"width\":0.5},\"pattern\":{\"fillmode\":\"overlay\",\"size\":10,\"solidity\":0.2}},\"type\":\"bar\"}],\"scattergeo\":[{\"type\":\"scattergeo\",\"marker\":{\"colorbar\":{\"outlinewidth\":0,\"ticks\":\"\"}}}],\"scatterpolar\":[{\"type\":\"scatterpolar\",\"marker\":{\"colorbar\":{\"outlinewidth\":0,\"ticks\":\"\"}}}],\"histogram\":[{\"marker\":{\"pattern\":{\"fillmode\":\"overlay\",\"size\":10,\"solidity\":0.2}},\"type\":\"histogram\"}],\"scattergl\":[{\"type\":\"scattergl\",\"marker\":{\"colorbar\":{\"outlinewidth\":0,\"ticks\":\"\"}}}],\"scatter3d\":[{\"type\":\"scatter3d\",\"line\":{\"colorbar\":{\"outlinewidth\":0,\"ticks\":\"\"}},\"marker\":{\"colorbar\":{\"outlinewidth\":0,\"ticks\":\"\"}}}],\"scattermapbox\":[{\"type\":\"scattermapbox\",\"marker\":{\"colorbar\":{\"outlinewidth\":0,\"ticks\":\"\"}}}],\"scatterternary\":[{\"type\":\"scatterternary\",\"marker\":{\"colorbar\":{\"outlinewidth\":0,\"ticks\":\"\"}}}],\"scattercarpet\":[{\"type\":\"scattercarpet\",\"marker\":{\"colorbar\":{\"outlinewidth\":0,\"ticks\":\"\"}}}],\"carpet\":[{\"aaxis\":{\"endlinecolor\":\"#2a3f5f\",\"gridcolor\":\"white\",\"linecolor\":\"white\",\"minorgridcolor\":\"white\",\"startlinecolor\":\"#2a3f5f\"},\"baxis\":{\"endlinecolor\":\"#2a3f5f\",\"gridcolor\":\"white\",\"linecolor\":\"white\",\"minorgridcolor\":\"white\",\"startlinecolor\":\"#2a3f5f\"},\"type\":\"carpet\"}],\"table\":[{\"cells\":{\"fill\":{\"color\":\"#EBF0F8\"},\"line\":{\"color\":\"white\"}},\"header\":{\"fill\":{\"color\":\"#C8D4E3\"},\"line\":{\"color\":\"white\"}},\"type\":\"table\"}],\"barpolar\":[{\"marker\":{\"line\":{\"color\":\"#E5ECF6\",\"width\":0.5},\"pattern\":{\"fillmode\":\"overlay\",\"size\":10,\"solidity\":0.2}},\"type\":\"barpolar\"}],\"pie\":[{\"automargin\":true,\"type\":\"pie\"}]},\"layout\":{\"autotypenumbers\":\"strict\",\"colorway\":[\"#636efa\",\"#EF553B\",\"#00cc96\",\"#ab63fa\",\"#FFA15A\",\"#19d3f3\",\"#FF6692\",\"#B6E880\",\"#FF97FF\",\"#FECB52\"],\"font\":{\"color\":\"#2a3f5f\"},\"hovermode\":\"closest\",\"hoverlabel\":{\"align\":\"left\"},\"paper_bgcolor\":\"white\",\"plot_bgcolor\":\"#E5ECF6\",\"polar\":{\"bgcolor\":\"#E5ECF6\",\"angularaxis\":{\"gridcolor\":\"white\",\"linecolor\":\"white\",\"ticks\":\"\"},\"radialaxis\":{\"gridcolor\":\"white\",\"linecolor\":\"white\",\"ticks\":\"\"}},\"ternary\":{\"bgcolor\":\"#E5ECF6\",\"aaxis\":{\"gridcolor\":\"white\",\"linecolor\":\"white\",\"ticks\":\"\"},\"baxis\":{\"gridcolor\":\"white\",\"linecolor\":\"white\",\"ticks\":\"\"},\"caxis\":{\"gridcolor\":\"white\",\"linecolor\":\"white\",\"ticks\":\"\"}},\"coloraxis\":{\"colorbar\":{\"outlinewidth\":0,\"ticks\":\"\"}},\"colorscale\":{\"sequential\":[[0.0,\"#0d0887\"],[0.1111111111111111,\"#46039f\"],[0.2222222222222222,\"#7201a8\"],[0.3333333333333333,\"#9c179e\"],[0.4444444444444444,\"#bd3786\"],[0.5555555555555556,\"#d8576b\"],[0.6666666666666666,\"#ed7953\"],[0.7777777777777778,\"#fb9f3a\"],[0.8888888888888888,\"#fdca26\"],[1.0,\"#f0f921\"]],\"sequentialminus\":[[0.0,\"#0d0887\"],[0.1111111111111111,\"#46039f\"],[0.2222222222222222,\"#7201a8\"],[0.3333333333333333,\"#9c179e\"],[0.4444444444444444,\"#bd3786\"],[0.5555555555555556,\"#d8576b\"],[0.6666666666666666,\"#ed7953\"],[0.7777777777777778,\"#fb9f3a\"],[0.8888888888888888,\"#fdca26\"],[1.0,\"#f0f921\"]],\"diverging\":[[0,\"#8e0152\"],[0.1,\"#c51b7d\"],[0.2,\"#de77ae\"],[0.3,\"#f1b6da\"],[0.4,\"#fde0ef\"],[0.5,\"#f7f7f7\"],[0.6,\"#e6f5d0\"],[0.7,\"#b8e186\"],[0.8,\"#7fbc41\"],[0.9,\"#4d9221\"],[1,\"#276419\"]]},\"xaxis\":{\"gridcolor\":\"white\",\"linecolor\":\"white\",\"ticks\":\"\",\"title\":{\"standoff\":15},\"zerolinecolor\":\"white\",\"automargin\":true,\"zerolinewidth\":2},\"yaxis\":{\"gridcolor\":\"white\",\"linecolor\":\"white\",\"ticks\":\"\",\"title\":{\"standoff\":15},\"zerolinecolor\":\"white\",\"automargin\":true,\"zerolinewidth\":2},\"scene\":{\"xaxis\":{\"backgroundcolor\":\"#E5ECF6\",\"gridcolor\":\"white\",\"linecolor\":\"white\",\"showbackground\":true,\"ticks\":\"\",\"zerolinecolor\":\"white\",\"gridwidth\":2},\"yaxis\":{\"backgroundcolor\":\"#E5ECF6\",\"gridcolor\":\"white\",\"linecolor\":\"white\",\"showbackground\":true,\"ticks\":\"\",\"zerolinecolor\":\"white\",\"gridwidth\":2},\"zaxis\":{\"backgroundcolor\":\"#E5ECF6\",\"gridcolor\":\"white\",\"linecolor\":\"white\",\"showbackground\":true,\"ticks\":\"\",\"zerolinecolor\":\"white\",\"gridwidth\":2}},\"shapedefaults\":{\"line\":{\"color\":\"#2a3f5f\"}},\"annotationdefaults\":{\"arrowcolor\":\"#2a3f5f\",\"arrowhead\":0,\"arrowwidth\":1},\"geo\":{\"bgcolor\":\"white\",\"landcolor\":\"#E5ECF6\",\"subunitcolor\":\"white\",\"showland\":true,\"showlakes\":true,\"lakecolor\":\"white\"},\"title\":{\"x\":0.05},\"mapbox\":{\"style\":\"light\"}}},\"xaxis\":{\"anchor\":\"y\",\"domain\":[0.0,1.0],\"title\":{\"text\":\"puissance_nominale\"}},\"yaxis\":{\"anchor\":\"x\",\"domain\":[0.0,1.0],\"title\":{\"text\":\"nombre total\"}},\"legend\":{\"tracegroupgap\":0},\"margin\":{\"t\":60},\"barmode\":\"relative\"},                        {\"responsive\": true}                    ).then(function(){\n",
       "                            \n",
       "var gd = document.getElementById('a6773e15-9f7b-44b1-9628-8a0fc167c867');\n",
       "var x = new MutationObserver(function (mutations, observer) {{\n",
       "        var display = window.getComputedStyle(gd).display;\n",
       "        if (!display || display === 'none') {{\n",
       "            console.log([gd, 'removed!']);\n",
       "            Plotly.purge(gd);\n",
       "            observer.disconnect();\n",
       "        }}\n",
       "}});\n",
       "\n",
       "// Listen for the removal of the full notebook cells\n",
       "var notebookContainer = gd.closest('#notebook-container');\n",
       "if (notebookContainer) {{\n",
       "    x.observe(notebookContainer, {childList: true});\n",
       "}}\n",
       "\n",
       "// Listen for the clearing of the current output cell\n",
       "var outputEl = gd.closest('.output');\n",
       "if (outputEl) {{\n",
       "    x.observe(outputEl, {childList: true});\n",
       "}}\n",
       "\n",
       "                        })                };                });            </script>        </div>"
      ]
     },
     "metadata": {},
     "output_type": "display_data"
    }
   ],
   "source": [
    "table = table \n",
    "group = \"puissance_nominale\"\n",
    "by =\"nom_operateur\"\n",
    "first_elements = 10\n",
    "Show_repartition(table,group,by,first_elements)"
   ]
  },
  {
   "cell_type": "markdown",
   "id": "57179b15-07a1-4c3e-813d-53079e8eb59a",
   "metadata": {},
   "source": [
    "table = table \n",
    "group = \"puissance_nominale\"\n",
    "by =\"nom_operateur\"\n",
    "first_elements = 10\n",
    "Show_repartition(table,group,by,first_elements)### 2.1) Répartition par département des opérateurs par puissance"
   ]
  },
  {
   "cell_type": "markdown",
   "id": "10e78d59-7fb1-430c-ab1c-b0a8dfd1b111",
   "metadata": {},
   "source": [
    "## 3) Top 10 des départements ayant le plus d'opérateurs"
   ]
  },
  {
   "cell_type": "code",
   "execution_count": 36,
   "id": "a5bb8518-ecdb-4806-ab62-9cb6f8b6e15f",
   "metadata": {
    "tags": []
   },
   "outputs": [
    {
     "data": {
      "application/vnd.plotly.v1+json": {
       "config": {
        "plotlyServerURL": "https://plot.ly"
       },
       "data": [
        {
         "alignmentgroup": "True",
         "hovertemplate": "code_departement=%{x}<br>nombre total=%{y}<extra></extra>",
         "legendgroup": "",
         "marker": {
          "color": "#636efa",
          "pattern": {
           "shape": ""
          }
         },
         "name": "",
         "offsetgroup": "",
         "orientation": "v",
         "showlegend": false,
         "textposition": "auto",
         "type": "bar",
         "x": [
          "92",
          "69",
          "59",
          "78",
          "77",
          "33",
          "31",
          "94",
          "93",
          "62"
         ],
         "xaxis": "x",
         "y": [
          1273,
          915,
          836,
          778,
          693,
          598,
          561,
          547,
          536,
          526
         ],
         "yaxis": "y"
        }
       ],
       "layout": {
        "autosize": true,
        "barmode": "relative",
        "legend": {
         "tracegroupgap": 0
        },
        "margin": {
         "t": 60
        },
        "template": {
         "data": {
          "bar": [
           {
            "error_x": {
             "color": "#2a3f5f"
            },
            "error_y": {
             "color": "#2a3f5f"
            },
            "marker": {
             "line": {
              "color": "#E5ECF6",
              "width": 0.5
             },
             "pattern": {
              "fillmode": "overlay",
              "size": 10,
              "solidity": 0.2
             }
            },
            "type": "bar"
           }
          ],
          "barpolar": [
           {
            "marker": {
             "line": {
              "color": "#E5ECF6",
              "width": 0.5
             },
             "pattern": {
              "fillmode": "overlay",
              "size": 10,
              "solidity": 0.2
             }
            },
            "type": "barpolar"
           }
          ],
          "carpet": [
           {
            "aaxis": {
             "endlinecolor": "#2a3f5f",
             "gridcolor": "white",
             "linecolor": "white",
             "minorgridcolor": "white",
             "startlinecolor": "#2a3f5f"
            },
            "baxis": {
             "endlinecolor": "#2a3f5f",
             "gridcolor": "white",
             "linecolor": "white",
             "minorgridcolor": "white",
             "startlinecolor": "#2a3f5f"
            },
            "type": "carpet"
           }
          ],
          "choropleth": [
           {
            "colorbar": {
             "outlinewidth": 0,
             "ticks": ""
            },
            "type": "choropleth"
           }
          ],
          "contour": [
           {
            "colorbar": {
             "outlinewidth": 0,
             "ticks": ""
            },
            "colorscale": [
             [
              0,
              "#0d0887"
             ],
             [
              0.1111111111111111,
              "#46039f"
             ],
             [
              0.2222222222222222,
              "#7201a8"
             ],
             [
              0.3333333333333333,
              "#9c179e"
             ],
             [
              0.4444444444444444,
              "#bd3786"
             ],
             [
              0.5555555555555556,
              "#d8576b"
             ],
             [
              0.6666666666666666,
              "#ed7953"
             ],
             [
              0.7777777777777778,
              "#fb9f3a"
             ],
             [
              0.8888888888888888,
              "#fdca26"
             ],
             [
              1,
              "#f0f921"
             ]
            ],
            "type": "contour"
           }
          ],
          "contourcarpet": [
           {
            "colorbar": {
             "outlinewidth": 0,
             "ticks": ""
            },
            "type": "contourcarpet"
           }
          ],
          "heatmap": [
           {
            "colorbar": {
             "outlinewidth": 0,
             "ticks": ""
            },
            "colorscale": [
             [
              0,
              "#0d0887"
             ],
             [
              0.1111111111111111,
              "#46039f"
             ],
             [
              0.2222222222222222,
              "#7201a8"
             ],
             [
              0.3333333333333333,
              "#9c179e"
             ],
             [
              0.4444444444444444,
              "#bd3786"
             ],
             [
              0.5555555555555556,
              "#d8576b"
             ],
             [
              0.6666666666666666,
              "#ed7953"
             ],
             [
              0.7777777777777778,
              "#fb9f3a"
             ],
             [
              0.8888888888888888,
              "#fdca26"
             ],
             [
              1,
              "#f0f921"
             ]
            ],
            "type": "heatmap"
           }
          ],
          "heatmapgl": [
           {
            "colorbar": {
             "outlinewidth": 0,
             "ticks": ""
            },
            "colorscale": [
             [
              0,
              "#0d0887"
             ],
             [
              0.1111111111111111,
              "#46039f"
             ],
             [
              0.2222222222222222,
              "#7201a8"
             ],
             [
              0.3333333333333333,
              "#9c179e"
             ],
             [
              0.4444444444444444,
              "#bd3786"
             ],
             [
              0.5555555555555556,
              "#d8576b"
             ],
             [
              0.6666666666666666,
              "#ed7953"
             ],
             [
              0.7777777777777778,
              "#fb9f3a"
             ],
             [
              0.8888888888888888,
              "#fdca26"
             ],
             [
              1,
              "#f0f921"
             ]
            ],
            "type": "heatmapgl"
           }
          ],
          "histogram": [
           {
            "marker": {
             "pattern": {
              "fillmode": "overlay",
              "size": 10,
              "solidity": 0.2
             }
            },
            "type": "histogram"
           }
          ],
          "histogram2d": [
           {
            "colorbar": {
             "outlinewidth": 0,
             "ticks": ""
            },
            "colorscale": [
             [
              0,
              "#0d0887"
             ],
             [
              0.1111111111111111,
              "#46039f"
             ],
             [
              0.2222222222222222,
              "#7201a8"
             ],
             [
              0.3333333333333333,
              "#9c179e"
             ],
             [
              0.4444444444444444,
              "#bd3786"
             ],
             [
              0.5555555555555556,
              "#d8576b"
             ],
             [
              0.6666666666666666,
              "#ed7953"
             ],
             [
              0.7777777777777778,
              "#fb9f3a"
             ],
             [
              0.8888888888888888,
              "#fdca26"
             ],
             [
              1,
              "#f0f921"
             ]
            ],
            "type": "histogram2d"
           }
          ],
          "histogram2dcontour": [
           {
            "colorbar": {
             "outlinewidth": 0,
             "ticks": ""
            },
            "colorscale": [
             [
              0,
              "#0d0887"
             ],
             [
              0.1111111111111111,
              "#46039f"
             ],
             [
              0.2222222222222222,
              "#7201a8"
             ],
             [
              0.3333333333333333,
              "#9c179e"
             ],
             [
              0.4444444444444444,
              "#bd3786"
             ],
             [
              0.5555555555555556,
              "#d8576b"
             ],
             [
              0.6666666666666666,
              "#ed7953"
             ],
             [
              0.7777777777777778,
              "#fb9f3a"
             ],
             [
              0.8888888888888888,
              "#fdca26"
             ],
             [
              1,
              "#f0f921"
             ]
            ],
            "type": "histogram2dcontour"
           }
          ],
          "mesh3d": [
           {
            "colorbar": {
             "outlinewidth": 0,
             "ticks": ""
            },
            "type": "mesh3d"
           }
          ],
          "parcoords": [
           {
            "line": {
             "colorbar": {
              "outlinewidth": 0,
              "ticks": ""
             }
            },
            "type": "parcoords"
           }
          ],
          "pie": [
           {
            "automargin": true,
            "type": "pie"
           }
          ],
          "scatter": [
           {
            "fillpattern": {
             "fillmode": "overlay",
             "size": 10,
             "solidity": 0.2
            },
            "type": "scatter"
           }
          ],
          "scatter3d": [
           {
            "line": {
             "colorbar": {
              "outlinewidth": 0,
              "ticks": ""
             }
            },
            "marker": {
             "colorbar": {
              "outlinewidth": 0,
              "ticks": ""
             }
            },
            "type": "scatter3d"
           }
          ],
          "scattercarpet": [
           {
            "marker": {
             "colorbar": {
              "outlinewidth": 0,
              "ticks": ""
             }
            },
            "type": "scattercarpet"
           }
          ],
          "scattergeo": [
           {
            "marker": {
             "colorbar": {
              "outlinewidth": 0,
              "ticks": ""
             }
            },
            "type": "scattergeo"
           }
          ],
          "scattergl": [
           {
            "marker": {
             "colorbar": {
              "outlinewidth": 0,
              "ticks": ""
             }
            },
            "type": "scattergl"
           }
          ],
          "scattermapbox": [
           {
            "marker": {
             "colorbar": {
              "outlinewidth": 0,
              "ticks": ""
             }
            },
            "type": "scattermapbox"
           }
          ],
          "scatterpolar": [
           {
            "marker": {
             "colorbar": {
              "outlinewidth": 0,
              "ticks": ""
             }
            },
            "type": "scatterpolar"
           }
          ],
          "scatterpolargl": [
           {
            "marker": {
             "colorbar": {
              "outlinewidth": 0,
              "ticks": ""
             }
            },
            "type": "scatterpolargl"
           }
          ],
          "scatterternary": [
           {
            "marker": {
             "colorbar": {
              "outlinewidth": 0,
              "ticks": ""
             }
            },
            "type": "scatterternary"
           }
          ],
          "surface": [
           {
            "colorbar": {
             "outlinewidth": 0,
             "ticks": ""
            },
            "colorscale": [
             [
              0,
              "#0d0887"
             ],
             [
              0.1111111111111111,
              "#46039f"
             ],
             [
              0.2222222222222222,
              "#7201a8"
             ],
             [
              0.3333333333333333,
              "#9c179e"
             ],
             [
              0.4444444444444444,
              "#bd3786"
             ],
             [
              0.5555555555555556,
              "#d8576b"
             ],
             [
              0.6666666666666666,
              "#ed7953"
             ],
             [
              0.7777777777777778,
              "#fb9f3a"
             ],
             [
              0.8888888888888888,
              "#fdca26"
             ],
             [
              1,
              "#f0f921"
             ]
            ],
            "type": "surface"
           }
          ],
          "table": [
           {
            "cells": {
             "fill": {
              "color": "#EBF0F8"
             },
             "line": {
              "color": "white"
             }
            },
            "header": {
             "fill": {
              "color": "#C8D4E3"
             },
             "line": {
              "color": "white"
             }
            },
            "type": "table"
           }
          ]
         },
         "layout": {
          "annotationdefaults": {
           "arrowcolor": "#2a3f5f",
           "arrowhead": 0,
           "arrowwidth": 1
          },
          "autotypenumbers": "strict",
          "coloraxis": {
           "colorbar": {
            "outlinewidth": 0,
            "ticks": ""
           }
          },
          "colorscale": {
           "diverging": [
            [
             0,
             "#8e0152"
            ],
            [
             0.1,
             "#c51b7d"
            ],
            [
             0.2,
             "#de77ae"
            ],
            [
             0.3,
             "#f1b6da"
            ],
            [
             0.4,
             "#fde0ef"
            ],
            [
             0.5,
             "#f7f7f7"
            ],
            [
             0.6,
             "#e6f5d0"
            ],
            [
             0.7,
             "#b8e186"
            ],
            [
             0.8,
             "#7fbc41"
            ],
            [
             0.9,
             "#4d9221"
            ],
            [
             1,
             "#276419"
            ]
           ],
           "sequential": [
            [
             0,
             "#0d0887"
            ],
            [
             0.1111111111111111,
             "#46039f"
            ],
            [
             0.2222222222222222,
             "#7201a8"
            ],
            [
             0.3333333333333333,
             "#9c179e"
            ],
            [
             0.4444444444444444,
             "#bd3786"
            ],
            [
             0.5555555555555556,
             "#d8576b"
            ],
            [
             0.6666666666666666,
             "#ed7953"
            ],
            [
             0.7777777777777778,
             "#fb9f3a"
            ],
            [
             0.8888888888888888,
             "#fdca26"
            ],
            [
             1,
             "#f0f921"
            ]
           ],
           "sequentialminus": [
            [
             0,
             "#0d0887"
            ],
            [
             0.1111111111111111,
             "#46039f"
            ],
            [
             0.2222222222222222,
             "#7201a8"
            ],
            [
             0.3333333333333333,
             "#9c179e"
            ],
            [
             0.4444444444444444,
             "#bd3786"
            ],
            [
             0.5555555555555556,
             "#d8576b"
            ],
            [
             0.6666666666666666,
             "#ed7953"
            ],
            [
             0.7777777777777778,
             "#fb9f3a"
            ],
            [
             0.8888888888888888,
             "#fdca26"
            ],
            [
             1,
             "#f0f921"
            ]
           ]
          },
          "colorway": [
           "#636efa",
           "#EF553B",
           "#00cc96",
           "#ab63fa",
           "#FFA15A",
           "#19d3f3",
           "#FF6692",
           "#B6E880",
           "#FF97FF",
           "#FECB52"
          ],
          "font": {
           "color": "#2a3f5f"
          },
          "geo": {
           "bgcolor": "white",
           "lakecolor": "white",
           "landcolor": "#E5ECF6",
           "showlakes": true,
           "showland": true,
           "subunitcolor": "white"
          },
          "hoverlabel": {
           "align": "left"
          },
          "hovermode": "closest",
          "mapbox": {
           "style": "light"
          },
          "paper_bgcolor": "white",
          "plot_bgcolor": "#E5ECF6",
          "polar": {
           "angularaxis": {
            "gridcolor": "white",
            "linecolor": "white",
            "ticks": ""
           },
           "bgcolor": "#E5ECF6",
           "radialaxis": {
            "gridcolor": "white",
            "linecolor": "white",
            "ticks": ""
           }
          },
          "scene": {
           "xaxis": {
            "backgroundcolor": "#E5ECF6",
            "gridcolor": "white",
            "gridwidth": 2,
            "linecolor": "white",
            "showbackground": true,
            "ticks": "",
            "zerolinecolor": "white"
           },
           "yaxis": {
            "backgroundcolor": "#E5ECF6",
            "gridcolor": "white",
            "gridwidth": 2,
            "linecolor": "white",
            "showbackground": true,
            "ticks": "",
            "zerolinecolor": "white"
           },
           "zaxis": {
            "backgroundcolor": "#E5ECF6",
            "gridcolor": "white",
            "gridwidth": 2,
            "linecolor": "white",
            "showbackground": true,
            "ticks": "",
            "zerolinecolor": "white"
           }
          },
          "shapedefaults": {
           "line": {
            "color": "#2a3f5f"
           }
          },
          "ternary": {
           "aaxis": {
            "gridcolor": "white",
            "linecolor": "white",
            "ticks": ""
           },
           "baxis": {
            "gridcolor": "white",
            "linecolor": "white",
            "ticks": ""
           },
           "bgcolor": "#E5ECF6",
           "caxis": {
            "gridcolor": "white",
            "linecolor": "white",
            "ticks": ""
           }
          },
          "title": {
           "x": 0.05
          },
          "xaxis": {
           "automargin": true,
           "gridcolor": "white",
           "linecolor": "white",
           "ticks": "",
           "title": {
            "standoff": 15
           },
           "zerolinecolor": "white",
           "zerolinewidth": 2
          },
          "yaxis": {
           "automargin": true,
           "gridcolor": "white",
           "linecolor": "white",
           "ticks": "",
           "title": {
            "standoff": 15
           },
           "zerolinecolor": "white",
           "zerolinewidth": 2
          }
         }
        },
        "xaxis": {
         "anchor": "y",
         "autorange": true,
         "domain": [
          0,
          1
         ],
         "range": [
          -0.5,
          9.5
         ],
         "title": {
          "text": "code_departement"
         },
         "type": "category"
        },
        "yaxis": {
         "anchor": "x",
         "autorange": true,
         "domain": [
          0,
          1
         ],
         "range": [
          0,
          1340
         ],
         "title": {
          "text": "nombre total"
         },
         "type": "linear"
        }
       }
      },
      "image/png": "[encoded data removed]",
      "text/html": [
       "<div>                            <div id=\"a516492b-62bc-40ee-b0b9-0a8a22fec96c\" class=\"plotly-graph-div\" style=\"height:525px; width:100%;\"></div>            <script type=\"text/javascript\">                require([\"plotly\"], function(Plotly) {                    window.PLOTLYENV=window.PLOTLYENV || {};                                    if (document.getElementById(\"a516492b-62bc-40ee-b0b9-0a8a22fec96c\")) {                    Plotly.newPlot(                        \"a516492b-62bc-40ee-b0b9-0a8a22fec96c\",                        [{\"alignmentgroup\":\"True\",\"hovertemplate\":\"code_departement=%{x}<br>nombre total=%{y}<extra></extra>\",\"legendgroup\":\"\",\"marker\":{\"color\":\"#636efa\",\"pattern\":{\"shape\":\"\"}},\"name\":\"\",\"offsetgroup\":\"\",\"orientation\":\"v\",\"showlegend\":false,\"textposition\":\"auto\",\"x\":[\"92\",\"69\",\"59\",\"78\",\"77\",\"33\",\"31\",\"94\",\"93\",\"62\"],\"xaxis\":\"x\",\"y\":[1273,915,836,778,693,598,561,547,536,526],\"yaxis\":\"y\",\"type\":\"bar\"}],                        {\"template\":{\"data\":{\"histogram2dcontour\":[{\"type\":\"histogram2dcontour\",\"colorbar\":{\"outlinewidth\":0,\"ticks\":\"\"},\"colorscale\":[[0.0,\"#0d0887\"],[0.1111111111111111,\"#46039f\"],[0.2222222222222222,\"#7201a8\"],[0.3333333333333333,\"#9c179e\"],[0.4444444444444444,\"#bd3786\"],[0.5555555555555556,\"#d8576b\"],[0.6666666666666666,\"#ed7953\"],[0.7777777777777778,\"#fb9f3a\"],[0.8888888888888888,\"#fdca26\"],[1.0,\"#f0f921\"]]}],\"choropleth\":[{\"type\":\"choropleth\",\"colorbar\":{\"outlinewidth\":0,\"ticks\":\"\"}}],\"histogram2d\":[{\"type\":\"histogram2d\",\"colorbar\":{\"outlinewidth\":0,\"ticks\":\"\"},\"colorscale\":[[0.0,\"#0d0887\"],[0.1111111111111111,\"#46039f\"],[0.2222222222222222,\"#7201a8\"],[0.3333333333333333,\"#9c179e\"],[0.4444444444444444,\"#bd3786\"],[0.5555555555555556,\"#d8576b\"],[0.6666666666666666,\"#ed7953\"],[0.7777777777777778,\"#fb9f3a\"],[0.8888888888888888,\"#fdca26\"],[1.0,\"#f0f921\"]]}],\"heatmap\":[{\"type\":\"heatmap\",\"colorbar\":{\"outlinewidth\":0,\"ticks\":\"\"},\"colorscale\":[[0.0,\"#0d0887\"],[0.1111111111111111,\"#46039f\"],[0.2222222222222222,\"#7201a8\"],[0.3333333333333333,\"#9c179e\"],[0.4444444444444444,\"#bd3786\"],[0.5555555555555556,\"#d8576b\"],[0.6666666666666666,\"#ed7953\"],[0.7777777777777778,\"#fb9f3a\"],[0.8888888888888888,\"#fdca26\"],[1.0,\"#f0f921\"]]}],\"heatmapgl\":[{\"type\":\"heatmapgl\",\"colorbar\":{\"outlinewidth\":0,\"ticks\":\"\"},\"colorscale\":[[0.0,\"#0d0887\"],[0.1111111111111111,\"#46039f\"],[0.2222222222222222,\"#7201a8\"],[0.3333333333333333,\"#9c179e\"],[0.4444444444444444,\"#bd3786\"],[0.5555555555555556,\"#d8576b\"],[0.6666666666666666,\"#ed7953\"],[0.7777777777777778,\"#fb9f3a\"],[0.8888888888888888,\"#fdca26\"],[1.0,\"#f0f921\"]]}],\"contourcarpet\":[{\"type\":\"contourcarpet\",\"colorbar\":{\"outlinewidth\":0,\"ticks\":\"\"}}],\"contour\":[{\"type\":\"contour\",\"colorbar\":{\"outlinewidth\":0,\"ticks\":\"\"},\"colorscale\":[[0.0,\"#0d0887\"],[0.1111111111111111,\"#46039f\"],[0.2222222222222222,\"#7201a8\"],[0.3333333333333333,\"#9c179e\"],[0.4444444444444444,\"#bd3786\"],[0.5555555555555556,\"#d8576b\"],[0.6666666666666666,\"#ed7953\"],[0.7777777777777778,\"#fb9f3a\"],[0.8888888888888888,\"#fdca26\"],[1.0,\"#f0f921\"]]}],\"surface\":[{\"type\":\"surface\",\"colorbar\":{\"outlinewidth\":0,\"ticks\":\"\"},\"colorscale\":[[0.0,\"#0d0887\"],[0.1111111111111111,\"#46039f\"],[0.2222222222222222,\"#7201a8\"],[0.3333333333333333,\"#9c179e\"],[0.4444444444444444,\"#bd3786\"],[0.5555555555555556,\"#d8576b\"],[0.6666666666666666,\"#ed7953\"],[0.7777777777777778,\"#fb9f3a\"],[0.8888888888888888,\"#fdca26\"],[1.0,\"#f0f921\"]]}],\"mesh3d\":[{\"type\":\"mesh3d\",\"colorbar\":{\"outlinewidth\":0,\"ticks\":\"\"}}],\"scatter\":[{\"fillpattern\":{\"fillmode\":\"overlay\",\"size\":10,\"solidity\":0.2},\"type\":\"scatter\"}],\"parcoords\":[{\"type\":\"parcoords\",\"line\":{\"colorbar\":{\"outlinewidth\":0,\"ticks\":\"\"}}}],\"scatterpolargl\":[{\"type\":\"scatterpolargl\",\"marker\":{\"colorbar\":{\"outlinewidth\":0,\"ticks\":\"\"}}}],\"bar\":[{\"error_x\":{\"color\":\"#2a3f5f\"},\"error_y\":{\"color\":\"#2a3f5f\"},\"marker\":{\"line\":{\"color\":\"#E5ECF6\",\"width\":0.5},\"pattern\":{\"fillmode\":\"overlay\",\"size\":10,\"solidity\":0.2}},\"type\":\"bar\"}],\"scattergeo\":[{\"type\":\"scattergeo\",\"marker\":{\"colorbar\":{\"outlinewidth\":0,\"ticks\":\"\"}}}],\"scatterpolar\":[{\"type\":\"scatterpolar\",\"marker\":{\"colorbar\":{\"outlinewidth\":0,\"ticks\":\"\"}}}],\"histogram\":[{\"marker\":{\"pattern\":{\"fillmode\":\"overlay\",\"size\":10,\"solidity\":0.2}},\"type\":\"histogram\"}],\"scattergl\":[{\"type\":\"scattergl\",\"marker\":{\"colorbar\":{\"outlinewidth\":0,\"ticks\":\"\"}}}],\"scatter3d\":[{\"type\":\"scatter3d\",\"line\":{\"colorbar\":{\"outlinewidth\":0,\"ticks\":\"\"}},\"marker\":{\"colorbar\":{\"outlinewidth\":0,\"ticks\":\"\"}}}],\"scattermapbox\":[{\"type\":\"scattermapbox\",\"marker\":{\"colorbar\":{\"outlinewidth\":0,\"ticks\":\"\"}}}],\"scatterternary\":[{\"type\":\"scatterternary\",\"marker\":{\"colorbar\":{\"outlinewidth\":0,\"ticks\":\"\"}}}],\"scattercarpet\":[{\"type\":\"scattercarpet\",\"marker\":{\"colorbar\":{\"outlinewidth\":0,\"ticks\":\"\"}}}],\"carpet\":[{\"aaxis\":{\"endlinecolor\":\"#2a3f5f\",\"gridcolor\":\"white\",\"linecolor\":\"white\",\"minorgridcolor\":\"white\",\"startlinecolor\":\"#2a3f5f\"},\"baxis\":{\"endlinecolor\":\"#2a3f5f\",\"gridcolor\":\"white\",\"linecolor\":\"white\",\"minorgridcolor\":\"white\",\"startlinecolor\":\"#2a3f5f\"},\"type\":\"carpet\"}],\"table\":[{\"cells\":{\"fill\":{\"color\":\"#EBF0F8\"},\"line\":{\"color\":\"white\"}},\"header\":{\"fill\":{\"color\":\"#C8D4E3\"},\"line\":{\"color\":\"white\"}},\"type\":\"table\"}],\"barpolar\":[{\"marker\":{\"line\":{\"color\":\"#E5ECF6\",\"width\":0.5},\"pattern\":{\"fillmode\":\"overlay\",\"size\":10,\"solidity\":0.2}},\"type\":\"barpolar\"}],\"pie\":[{\"automargin\":true,\"type\":\"pie\"}]},\"layout\":{\"autotypenumbers\":\"strict\",\"colorway\":[\"#636efa\",\"#EF553B\",\"#00cc96\",\"#ab63fa\",\"#FFA15A\",\"#19d3f3\",\"#FF6692\",\"#B6E880\",\"#FF97FF\",\"#FECB52\"],\"font\":{\"color\":\"#2a3f5f\"},\"hovermode\":\"closest\",\"hoverlabel\":{\"align\":\"left\"},\"paper_bgcolor\":\"white\",\"plot_bgcolor\":\"#E5ECF6\",\"polar\":{\"bgcolor\":\"#E5ECF6\",\"angularaxis\":{\"gridcolor\":\"white\",\"linecolor\":\"white\",\"ticks\":\"\"},\"radialaxis\":{\"gridcolor\":\"white\",\"linecolor\":\"white\",\"ticks\":\"\"}},\"ternary\":{\"bgcolor\":\"#E5ECF6\",\"aaxis\":{\"gridcolor\":\"white\",\"linecolor\":\"white\",\"ticks\":\"\"},\"baxis\":{\"gridcolor\":\"white\",\"linecolor\":\"white\",\"ticks\":\"\"},\"caxis\":{\"gridcolor\":\"white\",\"linecolor\":\"white\",\"ticks\":\"\"}},\"coloraxis\":{\"colorbar\":{\"outlinewidth\":0,\"ticks\":\"\"}},\"colorscale\":{\"sequential\":[[0.0,\"#0d0887\"],[0.1111111111111111,\"#46039f\"],[0.2222222222222222,\"#7201a8\"],[0.3333333333333333,\"#9c179e\"],[0.4444444444444444,\"#bd3786\"],[0.5555555555555556,\"#d8576b\"],[0.6666666666666666,\"#ed7953\"],[0.7777777777777778,\"#fb9f3a\"],[0.8888888888888888,\"#fdca26\"],[1.0,\"#f0f921\"]],\"sequentialminus\":[[0.0,\"#0d0887\"],[0.1111111111111111,\"#46039f\"],[0.2222222222222222,\"#7201a8\"],[0.3333333333333333,\"#9c179e\"],[0.4444444444444444,\"#bd3786\"],[0.5555555555555556,\"#d8576b\"],[0.6666666666666666,\"#ed7953\"],[0.7777777777777778,\"#fb9f3a\"],[0.8888888888888888,\"#fdca26\"],[1.0,\"#f0f921\"]],\"diverging\":[[0,\"#8e0152\"],[0.1,\"#c51b7d\"],[0.2,\"#de77ae\"],[0.3,\"#f1b6da\"],[0.4,\"#fde0ef\"],[0.5,\"#f7f7f7\"],[0.6,\"#e6f5d0\"],[0.7,\"#b8e186\"],[0.8,\"#7fbc41\"],[0.9,\"#4d9221\"],[1,\"#276419\"]]},\"xaxis\":{\"gridcolor\":\"white\",\"linecolor\":\"white\",\"ticks\":\"\",\"title\":{\"standoff\":15},\"zerolinecolor\":\"white\",\"automargin\":true,\"zerolinewidth\":2},\"yaxis\":{\"gridcolor\":\"white\",\"linecolor\":\"white\",\"ticks\":\"\",\"title\":{\"standoff\":15},\"zerolinecolor\":\"white\",\"automargin\":true,\"zerolinewidth\":2},\"scene\":{\"xaxis\":{\"backgroundcolor\":\"#E5ECF6\",\"gridcolor\":\"white\",\"linecolor\":\"white\",\"showbackground\":true,\"ticks\":\"\",\"zerolinecolor\":\"white\",\"gridwidth\":2},\"yaxis\":{\"backgroundcolor\":\"#E5ECF6\",\"gridcolor\":\"white\",\"linecolor\":\"white\",\"showbackground\":true,\"ticks\":\"\",\"zerolinecolor\":\"white\",\"gridwidth\":2},\"zaxis\":{\"backgroundcolor\":\"#E5ECF6\",\"gridcolor\":\"white\",\"linecolor\":\"white\",\"showbackground\":true,\"ticks\":\"\",\"zerolinecolor\":\"white\",\"gridwidth\":2}},\"shapedefaults\":{\"line\":{\"color\":\"#2a3f5f\"}},\"annotationdefaults\":{\"arrowcolor\":\"#2a3f5f\",\"arrowhead\":0,\"arrowwidth\":1},\"geo\":{\"bgcolor\":\"white\",\"landcolor\":\"#E5ECF6\",\"subunitcolor\":\"white\",\"showland\":true,\"showlakes\":true,\"lakecolor\":\"white\"},\"title\":{\"x\":0.05},\"mapbox\":{\"style\":\"light\"}}},\"xaxis\":{\"anchor\":\"y\",\"domain\":[0.0,1.0],\"title\":{\"text\":\"code_departement\"}},\"yaxis\":{\"anchor\":\"x\",\"domain\":[0.0,1.0],\"title\":{\"text\":\"nombre total\"}},\"legend\":{\"tracegroupgap\":0},\"margin\":{\"t\":60},\"barmode\":\"relative\"},                        {\"responsive\": true}                    ).then(function(){\n",
       "                            \n",
       "var gd = document.getElementById('a516492b-62bc-40ee-b0b9-0a8a22fec96c');\n",
       "var x = new MutationObserver(function (mutations, observer) {{\n",
       "        var display = window.getComputedStyle(gd).display;\n",
       "        if (!display || display === 'none') {{\n",
       "            console.log([gd, 'removed!']);\n",
       "            Plotly.purge(gd);\n",
       "            observer.disconnect();\n",
       "        }}\n",
       "}});\n",
       "\n",
       "// Listen for the removal of the full notebook cells\n",
       "var notebookContainer = gd.closest('#notebook-container');\n",
       "if (notebookContainer) {{\n",
       "    x.observe(notebookContainer, {childList: true});\n",
       "}}\n",
       "\n",
       "// Listen for the clearing of the current output cell\n",
       "var outputEl = gd.closest('.output');\n",
       "if (outputEl) {{\n",
       "    x.observe(outputEl, {childList: true});\n",
       "}}\n",
       "\n",
       "                        })                };                });            </script>        </div>"
      ]
     },
     "metadata": {},
     "output_type": "display_data"
    }
   ],
   "source": [
    "table = table \n",
    "group = \"code_departement\"\n",
    "by =\"nom_operateur\"\n",
    "first_elements = 10\n",
    "Show_repartition(table,group,by,first_elements)"
   ]
  },
  {
   "cell_type": "markdown",
   "id": "826c1f8f-dfc2-4531-b752-fcb7906ae0d8",
   "metadata": {},
   "source": [
    "## 2) top 10 des opérateurs ayant le plus de points de charges"
   ]
  },
  {
   "cell_type": "code",
   "execution_count": 40,
   "id": "610085e5-b0e0-477a-a51b-7480a5485614",
   "metadata": {
    "tags": []
   },
   "outputs": [
    {
     "data": {
      "text/html": [
       "<div>\n",
       "<style scoped>\n",
       "    .dataframe tbody tr th:only-of-type {\n",
       "        vertical-align: middle;\n",
       "    }\n",
       "\n",
       "    .dataframe tbody tr th {\n",
       "        vertical-align: top;\n",
       "    }\n",
       "\n",
       "    .dataframe thead th {\n",
       "        text-align: right;\n",
       "    }\n",
       "</style>\n",
       "<table border=\"1\" class=\"dataframe\">\n",
       "  <thead>\n",
       "    <tr style=\"text-align: right;\">\n",
       "      <th></th>\n",
       "      <th>nbre_pdc</th>\n",
       "      <th>nom_enseigne</th>\n",
       "    </tr>\n",
       "  </thead>\n",
       "  <tbody>\n",
       "    <tr>\n",
       "      <th>165</th>\n",
       "      <td>241</td>\n",
       "      <td>SAEMES</td>\n",
       "    </tr>\n",
       "    <tr>\n",
       "      <th>38</th>\n",
       "      <td>56</td>\n",
       "      <td>Leroy Merlin</td>\n",
       "    </tr>\n",
       "    <tr>\n",
       "      <th>360</th>\n",
       "      <td>44</td>\n",
       "      <td>ADEO</td>\n",
       "    </tr>\n",
       "    <tr>\n",
       "      <th>105</th>\n",
       "      <td>40</td>\n",
       "      <td>ADP Groupe</td>\n",
       "    </tr>\n",
       "    <tr>\n",
       "      <th>195</th>\n",
       "      <td>39</td>\n",
       "      <td>Mercedes</td>\n",
       "    </tr>\n",
       "    <tr>\n",
       "      <th>...</th>\n",
       "      <td>...</td>\n",
       "      <td>...</td>\n",
       "    </tr>\n",
       "    <tr>\n",
       "      <th>447</th>\n",
       "      <td>1</td>\n",
       "      <td>IPARRA</td>\n",
       "    </tr>\n",
       "    <tr>\n",
       "      <th>562</th>\n",
       "      <td>1</td>\n",
       "      <td>LABODENT</td>\n",
       "    </tr>\n",
       "    <tr>\n",
       "      <th>563</th>\n",
       "      <td>1</td>\n",
       "      <td>CAMPING LE PLO</td>\n",
       "    </tr>\n",
       "    <tr>\n",
       "      <th>182</th>\n",
       "      <td>1</td>\n",
       "      <td>GCA ERAGNY</td>\n",
       "    </tr>\n",
       "    <tr>\n",
       "      <th>391</th>\n",
       "      <td>1</td>\n",
       "      <td>DPA -MAZDA MONTELIMAR</td>\n",
       "    </tr>\n",
       "  </tbody>\n",
       "</table>\n",
       "<p>685 rows × 2 columns</p>\n",
       "</div>"
      ],
      "text/plain": [
       "     nbre_pdc           nom_enseigne\n",
       "165       241                 SAEMES\n",
       "38         56           Leroy Merlin\n",
       "360        44                   ADEO\n",
       "105        40             ADP Groupe\n",
       "195        39               Mercedes\n",
       "..        ...                    ...\n",
       "447         1                 IPARRA\n",
       "562         1               LABODENT\n",
       "563         1         CAMPING LE PLO\n",
       "182         1             GCA ERAGNY\n",
       "391         1  DPA -MAZDA MONTELIMAR\n",
       "\n",
       "[685 rows x 2 columns]"
      ]
     },
     "execution_count": 40,
     "metadata": {},
     "output_type": "execute_result"
    }
   ],
   "source": [
    "nom_enseigne = table.nom_enseigne.unique().tolist()\n",
    "nom_amenageur = table.nom_amenageur.unique().tolist()\n",
    "liste_enseigne = []\n",
    "liste_amenageur = []\n",
    "for nom in nom_enseigne :\n",
    "    liste_enseigne.append(table[table.nom_enseigne == nom].nbre_pdc.unique().max())\n",
    "    #liste_amenageur.append(table[table.nom_amenageur == nom].nbre_pdc.unique().max())\n",
    "\n",
    "#for nom in nom_amenageur :\n",
    "#    liste_amenageur.append(table[table.nom_amenageur == nom].nbre_pdc.unique().max())\n",
    "table_pdc_ens = pd.DataFrame(liste_enseigne).rename(columns ={0:\"nbre_pdc\"})\n",
    "table_pdc_ens[\"nom_enseigne\"] = nom_enseigne\n",
    "table_pdc_ens\n",
    "table_pdc_ens.sort_values(by='nbre_pdc',ascending=False)"
   ]
  },
  {
   "cell_type": "code",
   "execution_count": 41,
   "id": "0198039d-3ef8-4ed8-8884-f1e7111b4f88",
   "metadata": {
    "tags": []
   },
   "outputs": [
    {
     "data": {
      "application/vnd.plotly.v1+json": {
       "config": {
        "plotlyServerURL": "https://plot.ly"
       },
       "data": [
        {
         "alignmentgroup": "True",
         "hovertemplate": "nom_enseigne=%{x}<br>nbre_pdc=%{y}<extra></extra>",
         "legendgroup": "",
         "marker": {
          "color": "#636efa",
          "pattern": {
           "shape": ""
          }
         },
         "name": "",
         "offsetgroup": "",
         "orientation": "v",
         "showlegend": false,
         "textposition": "auto",
         "type": "bar",
         "x": [
          "ELECTRA",
          "MAMP",
          "MC HOTELLERIE",
          "HOTEL DU MOULIN DAURE",
          "ELECTRIC 55 CHARGING",
          "LUMI'IN",
          "WARNING",
          "ACCOR Hotels",
          "larecharge",
          "Simone"
         ],
         "xaxis": "x",
         "y": [
          8,
          2,
          2,
          2,
          6,
          6,
          6,
          8,
          6,
          2
         ],
         "yaxis": "y"
        }
       ],
       "layout": {
        "autosize": true,
        "barmode": "relative",
        "legend": {
         "tracegroupgap": 0
        },
        "margin": {
         "t": 60
        },
        "template": {
         "data": {
          "bar": [
           {
            "error_x": {
             "color": "#2a3f5f"
            },
            "error_y": {
             "color": "#2a3f5f"
            },
            "marker": {
             "line": {
              "color": "#E5ECF6",
              "width": 0.5
             },
             "pattern": {
              "fillmode": "overlay",
              "size": 10,
              "solidity": 0.2
             }
            },
            "type": "bar"
           }
          ],
          "barpolar": [
           {
            "marker": {
             "line": {
              "color": "#E5ECF6",
              "width": 0.5
             },
             "pattern": {
              "fillmode": "overlay",
              "size": 10,
              "solidity": 0.2
             }
            },
            "type": "barpolar"
           }
          ],
          "carpet": [
           {
            "aaxis": {
             "endlinecolor": "#2a3f5f",
             "gridcolor": "white",
             "linecolor": "white",
             "minorgridcolor": "white",
             "startlinecolor": "#2a3f5f"
            },
            "baxis": {
             "endlinecolor": "#2a3f5f",
             "gridcolor": "white",
             "linecolor": "white",
             "minorgridcolor": "white",
             "startlinecolor": "#2a3f5f"
            },
            "type": "carpet"
           }
          ],
          "choropleth": [
           {
            "colorbar": {
             "outlinewidth": 0,
             "ticks": ""
            },
            "type": "choropleth"
           }
          ],
          "contour": [
           {
            "colorbar": {
             "outlinewidth": 0,
             "ticks": ""
            },
            "colorscale": [
             [
              0,
              "#0d0887"
             ],
             [
              0.1111111111111111,
              "#46039f"
             ],
             [
              0.2222222222222222,
              "#7201a8"
             ],
             [
              0.3333333333333333,
              "#9c179e"
             ],
             [
              0.4444444444444444,
              "#bd3786"
             ],
             [
              0.5555555555555556,
              "#d8576b"
             ],
             [
              0.6666666666666666,
              "#ed7953"
             ],
             [
              0.7777777777777778,
              "#fb9f3a"
             ],
             [
              0.8888888888888888,
              "#fdca26"
             ],
             [
              1,
              "#f0f921"
             ]
            ],
            "type": "contour"
           }
          ],
          "contourcarpet": [
           {
            "colorbar": {
             "outlinewidth": 0,
             "ticks": ""
            },
            "type": "contourcarpet"
           }
          ],
          "heatmap": [
           {
            "colorbar": {
             "outlinewidth": 0,
             "ticks": ""
            },
            "colorscale": [
             [
              0,
              "#0d0887"
             ],
             [
              0.1111111111111111,
              "#46039f"
             ],
             [
              0.2222222222222222,
              "#7201a8"
             ],
             [
              0.3333333333333333,
              "#9c179e"
             ],
             [
              0.4444444444444444,
              "#bd3786"
             ],
             [
              0.5555555555555556,
              "#d8576b"
             ],
             [
              0.6666666666666666,
              "#ed7953"
             ],
             [
              0.7777777777777778,
              "#fb9f3a"
             ],
             [
              0.8888888888888888,
              "#fdca26"
             ],
             [
              1,
              "#f0f921"
             ]
            ],
            "type": "heatmap"
           }
          ],
          "heatmapgl": [
           {
            "colorbar": {
             "outlinewidth": 0,
             "ticks": ""
            },
            "colorscale": [
             [
              0,
              "#0d0887"
             ],
             [
              0.1111111111111111,
              "#46039f"
             ],
             [
              0.2222222222222222,
              "#7201a8"
             ],
             [
              0.3333333333333333,
              "#9c179e"
             ],
             [
              0.4444444444444444,
              "#bd3786"
             ],
             [
              0.5555555555555556,
              "#d8576b"
             ],
             [
              0.6666666666666666,
              "#ed7953"
             ],
             [
              0.7777777777777778,
              "#fb9f3a"
             ],
             [
              0.8888888888888888,
              "#fdca26"
             ],
             [
              1,
              "#f0f921"
             ]
            ],
            "type": "heatmapgl"
           }
          ],
          "histogram": [
           {
            "marker": {
             "pattern": {
              "fillmode": "overlay",
              "size": 10,
              "solidity": 0.2
             }
            },
            "type": "histogram"
           }
          ],
          "histogram2d": [
           {
            "colorbar": {
             "outlinewidth": 0,
             "ticks": ""
            },
            "colorscale": [
             [
              0,
              "#0d0887"
             ],
             [
              0.1111111111111111,
              "#46039f"
             ],
             [
              0.2222222222222222,
              "#7201a8"
             ],
             [
              0.3333333333333333,
              "#9c179e"
             ],
             [
              0.4444444444444444,
              "#bd3786"
             ],
             [
              0.5555555555555556,
              "#d8576b"
             ],
             [
              0.6666666666666666,
              "#ed7953"
             ],
             [
              0.7777777777777778,
              "#fb9f3a"
             ],
             [
              0.8888888888888888,
              "#fdca26"
             ],
             [
              1,
              "#f0f921"
             ]
            ],
            "type": "histogram2d"
           }
          ],
          "histogram2dcontour": [
           {
            "colorbar": {
             "outlinewidth": 0,
             "ticks": ""
            },
            "colorscale": [
             [
              0,
              "#0d0887"
             ],
             [
              0.1111111111111111,
              "#46039f"
             ],
             [
              0.2222222222222222,
              "#7201a8"
             ],
             [
              0.3333333333333333,
              "#9c179e"
             ],
             [
              0.4444444444444444,
              "#bd3786"
             ],
             [
              0.5555555555555556,
              "#d8576b"
             ],
             [
              0.6666666666666666,
              "#ed7953"
             ],
             [
              0.7777777777777778,
              "#fb9f3a"
             ],
             [
              0.8888888888888888,
              "#fdca26"
             ],
             [
              1,
              "#f0f921"
             ]
            ],
            "type": "histogram2dcontour"
           }
          ],
          "mesh3d": [
           {
            "colorbar": {
             "outlinewidth": 0,
             "ticks": ""
            },
            "type": "mesh3d"
           }
          ],
          "parcoords": [
           {
            "line": {
             "colorbar": {
              "outlinewidth": 0,
              "ticks": ""
             }
            },
            "type": "parcoords"
           }
          ],
          "pie": [
           {
            "automargin": true,
            "type": "pie"
           }
          ],
          "scatter": [
           {
            "fillpattern": {
             "fillmode": "overlay",
             "size": 10,
             "solidity": 0.2
            },
            "type": "scatter"
           }
          ],
          "scatter3d": [
           {
            "line": {
             "colorbar": {
              "outlinewidth": 0,
              "ticks": ""
             }
            },
            "marker": {
             "colorbar": {
              "outlinewidth": 0,
              "ticks": ""
             }
            },
            "type": "scatter3d"
           }
          ],
          "scattercarpet": [
           {
            "marker": {
             "colorbar": {
              "outlinewidth": 0,
              "ticks": ""
             }
            },
            "type": "scattercarpet"
           }
          ],
          "scattergeo": [
           {
            "marker": {
             "colorbar": {
              "outlinewidth": 0,
              "ticks": ""
             }
            },
            "type": "scattergeo"
           }
          ],
          "scattergl": [
           {
            "marker": {
             "colorbar": {
              "outlinewidth": 0,
              "ticks": ""
             }
            },
            "type": "scattergl"
           }
          ],
          "scattermapbox": [
           {
            "marker": {
             "colorbar": {
              "outlinewidth": 0,
              "ticks": ""
             }
            },
            "type": "scattermapbox"
           }
          ],
          "scatterpolar": [
           {
            "marker": {
             "colorbar": {
              "outlinewidth": 0,
              "ticks": ""
             }
            },
            "type": "scatterpolar"
           }
          ],
          "scatterpolargl": [
           {
            "marker": {
             "colorbar": {
              "outlinewidth": 0,
              "ticks": ""
             }
            },
            "type": "scatterpolargl"
           }
          ],
          "scatterternary": [
           {
            "marker": {
             "colorbar": {
              "outlinewidth": 0,
              "ticks": ""
             }
            },
            "type": "scatterternary"
           }
          ],
          "surface": [
           {
            "colorbar": {
             "outlinewidth": 0,
             "ticks": ""
            },
            "colorscale": [
             [
              0,
              "#0d0887"
             ],
             [
              0.1111111111111111,
              "#46039f"
             ],
             [
              0.2222222222222222,
              "#7201a8"
             ],
             [
              0.3333333333333333,
              "#9c179e"
             ],
             [
              0.4444444444444444,
              "#bd3786"
             ],
             [
              0.5555555555555556,
              "#d8576b"
             ],
             [
              0.6666666666666666,
              "#ed7953"
             ],
             [
              0.7777777777777778,
              "#fb9f3a"
             ],
             [
              0.8888888888888888,
              "#fdca26"
             ],
             [
              1,
              "#f0f921"
             ]
            ],
            "type": "surface"
           }
          ],
          "table": [
           {
            "cells": {
             "fill": {
              "color": "#EBF0F8"
             },
             "line": {
              "color": "white"
             }
            },
            "header": {
             "fill": {
              "color": "#C8D4E3"
             },
             "line": {
              "color": "white"
             }
            },
            "type": "table"
           }
          ]
         },
         "layout": {
          "annotationdefaults": {
           "arrowcolor": "#2a3f5f",
           "arrowhead": 0,
           "arrowwidth": 1
          },
          "autotypenumbers": "strict",
          "coloraxis": {
           "colorbar": {
            "outlinewidth": 0,
            "ticks": ""
           }
          },
          "colorscale": {
           "diverging": [
            [
             0,
             "#8e0152"
            ],
            [
             0.1,
             "#c51b7d"
            ],
            [
             0.2,
             "#de77ae"
            ],
            [
             0.3,
             "#f1b6da"
            ],
            [
             0.4,
             "#fde0ef"
            ],
            [
             0.5,
             "#f7f7f7"
            ],
            [
             0.6,
             "#e6f5d0"
            ],
            [
             0.7,
             "#b8e186"
            ],
            [
             0.8,
             "#7fbc41"
            ],
            [
             0.9,
             "#4d9221"
            ],
            [
             1,
             "#276419"
            ]
           ],
           "sequential": [
            [
             0,
             "#0d0887"
            ],
            [
             0.1111111111111111,
             "#46039f"
            ],
            [
             0.2222222222222222,
             "#7201a8"
            ],
            [
             0.3333333333333333,
             "#9c179e"
            ],
            [
             0.4444444444444444,
             "#bd3786"
            ],
            [
             0.5555555555555556,
             "#d8576b"
            ],
            [
             0.6666666666666666,
             "#ed7953"
            ],
            [
             0.7777777777777778,
             "#fb9f3a"
            ],
            [
             0.8888888888888888,
             "#fdca26"
            ],
            [
             1,
             "#f0f921"
            ]
           ],
           "sequentialminus": [
            [
             0,
             "#0d0887"
            ],
            [
             0.1111111111111111,
             "#46039f"
            ],
            [
             0.2222222222222222,
             "#7201a8"
            ],
            [
             0.3333333333333333,
             "#9c179e"
            ],
            [
             0.4444444444444444,
             "#bd3786"
            ],
            [
             0.5555555555555556,
             "#d8576b"
            ],
            [
             0.6666666666666666,
             "#ed7953"
            ],
            [
             0.7777777777777778,
             "#fb9f3a"
            ],
            [
             0.8888888888888888,
             "#fdca26"
            ],
            [
             1,
             "#f0f921"
            ]
           ]
          },
          "colorway": [
           "#636efa",
           "#EF553B",
           "#00cc96",
           "#ab63fa",
           "#FFA15A",
           "#19d3f3",
           "#FF6692",
           "#B6E880",
           "#FF97FF",
           "#FECB52"
          ],
          "font": {
           "color": "#2a3f5f"
          },
          "geo": {
           "bgcolor": "white",
           "lakecolor": "white",
           "landcolor": "#E5ECF6",
           "showlakes": true,
           "showland": true,
           "subunitcolor": "white"
          },
          "hoverlabel": {
           "align": "left"
          },
          "hovermode": "closest",
          "mapbox": {
           "style": "light"
          },
          "paper_bgcolor": "white",
          "plot_bgcolor": "#E5ECF6",
          "polar": {
           "angularaxis": {
            "gridcolor": "white",
            "linecolor": "white",
            "ticks": ""
           },
           "bgcolor": "#E5ECF6",
           "radialaxis": {
            "gridcolor": "white",
            "linecolor": "white",
            "ticks": ""
           }
          },
          "scene": {
           "xaxis": {
            "backgroundcolor": "#E5ECF6",
            "gridcolor": "white",
            "gridwidth": 2,
            "linecolor": "white",
            "showbackground": true,
            "ticks": "",
            "zerolinecolor": "white"
           },
           "yaxis": {
            "backgroundcolor": "#E5ECF6",
            "gridcolor": "white",
            "gridwidth": 2,
            "linecolor": "white",
            "showbackground": true,
            "ticks": "",
            "zerolinecolor": "white"
           },
           "zaxis": {
            "backgroundcolor": "#E5ECF6",
            "gridcolor": "white",
            "gridwidth": 2,
            "linecolor": "white",
            "showbackground": true,
            "ticks": "",
            "zerolinecolor": "white"
           }
          },
          "shapedefaults": {
           "line": {
            "color": "#2a3f5f"
           }
          },
          "ternary": {
           "aaxis": {
            "gridcolor": "white",
            "linecolor": "white",
            "ticks": ""
           },
           "baxis": {
            "gridcolor": "white",
            "linecolor": "white",
            "ticks": ""
           },
           "bgcolor": "#E5ECF6",
           "caxis": {
            "gridcolor": "white",
            "linecolor": "white",
            "ticks": ""
           }
          },
          "title": {
           "x": 0.05
          },
          "xaxis": {
           "automargin": true,
           "gridcolor": "white",
           "linecolor": "white",
           "ticks": "",
           "title": {
            "standoff": 15
           },
           "zerolinecolor": "white",
           "zerolinewidth": 2
          },
          "yaxis": {
           "automargin": true,
           "gridcolor": "white",
           "linecolor": "white",
           "ticks": "",
           "title": {
            "standoff": 15
           },
           "zerolinecolor": "white",
           "zerolinewidth": 2
          }
         }
        },
        "xaxis": {
         "anchor": "y",
         "autorange": true,
         "domain": [
          0,
          1
         ],
         "range": [
          -0.5,
          9.5
         ],
         "title": {
          "text": "nom_enseigne"
         },
         "type": "category"
        },
        "yaxis": {
         "anchor": "x",
         "autorange": true,
         "domain": [
          0,
          1
         ],
         "range": [
          0,
          8.421052631578947
         ],
         "title": {
          "text": "nbre_pdc"
         },
         "type": "linear"
        }
       }
      },
      "image/png": "[encoded data removed]",
      "text/html": [
       "<div>                            <div id=\"da9ab8e2-ad35-4bbd-8916-0d226fd088ed\" class=\"plotly-graph-div\" style=\"height:525px; width:100%;\"></div>            <script type=\"text/javascript\">                require([\"plotly\"], function(Plotly) {                    window.PLOTLYENV=window.PLOTLYENV || {};                                    if (document.getElementById(\"da9ab8e2-ad35-4bbd-8916-0d226fd088ed\")) {                    Plotly.newPlot(                        \"da9ab8e2-ad35-4bbd-8916-0d226fd088ed\",                        [{\"alignmentgroup\":\"True\",\"hovertemplate\":\"nom_enseigne=%{x}<br>nbre_pdc=%{y}<extra></extra>\",\"legendgroup\":\"\",\"marker\":{\"color\":\"#636efa\",\"pattern\":{\"shape\":\"\"}},\"name\":\"\",\"offsetgroup\":\"\",\"orientation\":\"v\",\"showlegend\":false,\"textposition\":\"auto\",\"x\":[\"ELECTRA\",\"MAMP\",\"MC HOTELLERIE\",\"HOTEL DU MOULIN DAURE\",\"ELECTRIC 55 CHARGING\",\"LUMI'IN\",\"WARNING\",\"ACCOR Hotels\",\"larecharge\",\"Simone\"],\"xaxis\":\"x\",\"y\":[8,2,2,2,6,6,6,8,6,2],\"yaxis\":\"y\",\"type\":\"bar\"}],                        {\"template\":{\"data\":{\"histogram2dcontour\":[{\"type\":\"histogram2dcontour\",\"colorbar\":{\"outlinewidth\":0,\"ticks\":\"\"},\"colorscale\":[[0.0,\"#0d0887\"],[0.1111111111111111,\"#46039f\"],[0.2222222222222222,\"#7201a8\"],[0.3333333333333333,\"#9c179e\"],[0.4444444444444444,\"#bd3786\"],[0.5555555555555556,\"#d8576b\"],[0.6666666666666666,\"#ed7953\"],[0.7777777777777778,\"#fb9f3a\"],[0.8888888888888888,\"#fdca26\"],[1.0,\"#f0f921\"]]}],\"choropleth\":[{\"type\":\"choropleth\",\"colorbar\":{\"outlinewidth\":0,\"ticks\":\"\"}}],\"histogram2d\":[{\"type\":\"histogram2d\",\"colorbar\":{\"outlinewidth\":0,\"ticks\":\"\"},\"colorscale\":[[0.0,\"#0d0887\"],[0.1111111111111111,\"#46039f\"],[0.2222222222222222,\"#7201a8\"],[0.3333333333333333,\"#9c179e\"],[0.4444444444444444,\"#bd3786\"],[0.5555555555555556,\"#d8576b\"],[0.6666666666666666,\"#ed7953\"],[0.7777777777777778,\"#fb9f3a\"],[0.8888888888888888,\"#fdca26\"],[1.0,\"#f0f921\"]]}],\"heatmap\":[{\"type\":\"heatmap\",\"colorbar\":{\"outlinewidth\":0,\"ticks\":\"\"},\"colorscale\":[[0.0,\"#0d0887\"],[0.1111111111111111,\"#46039f\"],[0.2222222222222222,\"#7201a8\"],[0.3333333333333333,\"#9c179e\"],[0.4444444444444444,\"#bd3786\"],[0.5555555555555556,\"#d8576b\"],[0.6666666666666666,\"#ed7953\"],[0.7777777777777778,\"#fb9f3a\"],[0.8888888888888888,\"#fdca26\"],[1.0,\"#f0f921\"]]}],\"heatmapgl\":[{\"type\":\"heatmapgl\",\"colorbar\":{\"outlinewidth\":0,\"ticks\":\"\"},\"colorscale\":[[0.0,\"#0d0887\"],[0.1111111111111111,\"#46039f\"],[0.2222222222222222,\"#7201a8\"],[0.3333333333333333,\"#9c179e\"],[0.4444444444444444,\"#bd3786\"],[0.5555555555555556,\"#d8576b\"],[0.6666666666666666,\"#ed7953\"],[0.7777777777777778,\"#fb9f3a\"],[0.8888888888888888,\"#fdca26\"],[1.0,\"#f0f921\"]]}],\"contourcarpet\":[{\"type\":\"contourcarpet\",\"colorbar\":{\"outlinewidth\":0,\"ticks\":\"\"}}],\"contour\":[{\"type\":\"contour\",\"colorbar\":{\"outlinewidth\":0,\"ticks\":\"\"},\"colorscale\":[[0.0,\"#0d0887\"],[0.1111111111111111,\"#46039f\"],[0.2222222222222222,\"#7201a8\"],[0.3333333333333333,\"#9c179e\"],[0.4444444444444444,\"#bd3786\"],[0.5555555555555556,\"#d8576b\"],[0.6666666666666666,\"#ed7953\"],[0.7777777777777778,\"#fb9f3a\"],[0.8888888888888888,\"#fdca26\"],[1.0,\"#f0f921\"]]}],\"surface\":[{\"type\":\"surface\",\"colorbar\":{\"outlinewidth\":0,\"ticks\":\"\"},\"colorscale\":[[0.0,\"#0d0887\"],[0.1111111111111111,\"#46039f\"],[0.2222222222222222,\"#7201a8\"],[0.3333333333333333,\"#9c179e\"],[0.4444444444444444,\"#bd3786\"],[0.5555555555555556,\"#d8576b\"],[0.6666666666666666,\"#ed7953\"],[0.7777777777777778,\"#fb9f3a\"],[0.8888888888888888,\"#fdca26\"],[1.0,\"#f0f921\"]]}],\"mesh3d\":[{\"type\":\"mesh3d\",\"colorbar\":{\"outlinewidth\":0,\"ticks\":\"\"}}],\"scatter\":[{\"fillpattern\":{\"fillmode\":\"overlay\",\"size\":10,\"solidity\":0.2},\"type\":\"scatter\"}],\"parcoords\":[{\"type\":\"parcoords\",\"line\":{\"colorbar\":{\"outlinewidth\":0,\"ticks\":\"\"}}}],\"scatterpolargl\":[{\"type\":\"scatterpolargl\",\"marker\":{\"colorbar\":{\"outlinewidth\":0,\"ticks\":\"\"}}}],\"bar\":[{\"error_x\":{\"color\":\"#2a3f5f\"},\"error_y\":{\"color\":\"#2a3f5f\"},\"marker\":{\"line\":{\"color\":\"#E5ECF6\",\"width\":0.5},\"pattern\":{\"fillmode\":\"overlay\",\"size\":10,\"solidity\":0.2}},\"type\":\"bar\"}],\"scattergeo\":[{\"type\":\"scattergeo\",\"marker\":{\"colorbar\":{\"outlinewidth\":0,\"ticks\":\"\"}}}],\"scatterpolar\":[{\"type\":\"scatterpolar\",\"marker\":{\"colorbar\":{\"outlinewidth\":0,\"ticks\":\"\"}}}],\"histogram\":[{\"marker\":{\"pattern\":{\"fillmode\":\"overlay\",\"size\":10,\"solidity\":0.2}},\"type\":\"histogram\"}],\"scattergl\":[{\"type\":\"scattergl\",\"marker\":{\"colorbar\":{\"outlinewidth\":0,\"ticks\":\"\"}}}],\"scatter3d\":[{\"type\":\"scatter3d\",\"line\":{\"colorbar\":{\"outlinewidth\":0,\"ticks\":\"\"}},\"marker\":{\"colorbar\":{\"outlinewidth\":0,\"ticks\":\"\"}}}],\"scattermapbox\":[{\"type\":\"scattermapbox\",\"marker\":{\"colorbar\":{\"outlinewidth\":0,\"ticks\":\"\"}}}],\"scatterternary\":[{\"type\":\"scatterternary\",\"marker\":{\"colorbar\":{\"outlinewidth\":0,\"ticks\":\"\"}}}],\"scattercarpet\":[{\"type\":\"scattercarpet\",\"marker\":{\"colorbar\":{\"outlinewidth\":0,\"ticks\":\"\"}}}],\"carpet\":[{\"aaxis\":{\"endlinecolor\":\"#2a3f5f\",\"gridcolor\":\"white\",\"linecolor\":\"white\",\"minorgridcolor\":\"white\",\"startlinecolor\":\"#2a3f5f\"},\"baxis\":{\"endlinecolor\":\"#2a3f5f\",\"gridcolor\":\"white\",\"linecolor\":\"white\",\"minorgridcolor\":\"white\",\"startlinecolor\":\"#2a3f5f\"},\"type\":\"carpet\"}],\"table\":[{\"cells\":{\"fill\":{\"color\":\"#EBF0F8\"},\"line\":{\"color\":\"white\"}},\"header\":{\"fill\":{\"color\":\"#C8D4E3\"},\"line\":{\"color\":\"white\"}},\"type\":\"table\"}],\"barpolar\":[{\"marker\":{\"line\":{\"color\":\"#E5ECF6\",\"width\":0.5},\"pattern\":{\"fillmode\":\"overlay\",\"size\":10,\"solidity\":0.2}},\"type\":\"barpolar\"}],\"pie\":[{\"automargin\":true,\"type\":\"pie\"}]},\"layout\":{\"autotypenumbers\":\"strict\",\"colorway\":[\"#636efa\",\"#EF553B\",\"#00cc96\",\"#ab63fa\",\"#FFA15A\",\"#19d3f3\",\"#FF6692\",\"#B6E880\",\"#FF97FF\",\"#FECB52\"],\"font\":{\"color\":\"#2a3f5f\"},\"hovermode\":\"closest\",\"hoverlabel\":{\"align\":\"left\"},\"paper_bgcolor\":\"white\",\"plot_bgcolor\":\"#E5ECF6\",\"polar\":{\"bgcolor\":\"#E5ECF6\",\"angularaxis\":{\"gridcolor\":\"white\",\"linecolor\":\"white\",\"ticks\":\"\"},\"radialaxis\":{\"gridcolor\":\"white\",\"linecolor\":\"white\",\"ticks\":\"\"}},\"ternary\":{\"bgcolor\":\"#E5ECF6\",\"aaxis\":{\"gridcolor\":\"white\",\"linecolor\":\"white\",\"ticks\":\"\"},\"baxis\":{\"gridcolor\":\"white\",\"linecolor\":\"white\",\"ticks\":\"\"},\"caxis\":{\"gridcolor\":\"white\",\"linecolor\":\"white\",\"ticks\":\"\"}},\"coloraxis\":{\"colorbar\":{\"outlinewidth\":0,\"ticks\":\"\"}},\"colorscale\":{\"sequential\":[[0.0,\"#0d0887\"],[0.1111111111111111,\"#46039f\"],[0.2222222222222222,\"#7201a8\"],[0.3333333333333333,\"#9c179e\"],[0.4444444444444444,\"#bd3786\"],[0.5555555555555556,\"#d8576b\"],[0.6666666666666666,\"#ed7953\"],[0.7777777777777778,\"#fb9f3a\"],[0.8888888888888888,\"#fdca26\"],[1.0,\"#f0f921\"]],\"sequentialminus\":[[0.0,\"#0d0887\"],[0.1111111111111111,\"#46039f\"],[0.2222222222222222,\"#7201a8\"],[0.3333333333333333,\"#9c179e\"],[0.4444444444444444,\"#bd3786\"],[0.5555555555555556,\"#d8576b\"],[0.6666666666666666,\"#ed7953\"],[0.7777777777777778,\"#fb9f3a\"],[0.8888888888888888,\"#fdca26\"],[1.0,\"#f0f921\"]],\"diverging\":[[0,\"#8e0152\"],[0.1,\"#c51b7d\"],[0.2,\"#de77ae\"],[0.3,\"#f1b6da\"],[0.4,\"#fde0ef\"],[0.5,\"#f7f7f7\"],[0.6,\"#e6f5d0\"],[0.7,\"#b8e186\"],[0.8,\"#7fbc41\"],[0.9,\"#4d9221\"],[1,\"#276419\"]]},\"xaxis\":{\"gridcolor\":\"white\",\"linecolor\":\"white\",\"ticks\":\"\",\"title\":{\"standoff\":15},\"zerolinecolor\":\"white\",\"automargin\":true,\"zerolinewidth\":2},\"yaxis\":{\"gridcolor\":\"white\",\"linecolor\":\"white\",\"ticks\":\"\",\"title\":{\"standoff\":15},\"zerolinecolor\":\"white\",\"automargin\":true,\"zerolinewidth\":2},\"scene\":{\"xaxis\":{\"backgroundcolor\":\"#E5ECF6\",\"gridcolor\":\"white\",\"linecolor\":\"white\",\"showbackground\":true,\"ticks\":\"\",\"zerolinecolor\":\"white\",\"gridwidth\":2},\"yaxis\":{\"backgroundcolor\":\"#E5ECF6\",\"gridcolor\":\"white\",\"linecolor\":\"white\",\"showbackground\":true,\"ticks\":\"\",\"zerolinecolor\":\"white\",\"gridwidth\":2},\"zaxis\":{\"backgroundcolor\":\"#E5ECF6\",\"gridcolor\":\"white\",\"linecolor\":\"white\",\"showbackground\":true,\"ticks\":\"\",\"zerolinecolor\":\"white\",\"gridwidth\":2}},\"shapedefaults\":{\"line\":{\"color\":\"#2a3f5f\"}},\"annotationdefaults\":{\"arrowcolor\":\"#2a3f5f\",\"arrowhead\":0,\"arrowwidth\":1},\"geo\":{\"bgcolor\":\"white\",\"landcolor\":\"#E5ECF6\",\"subunitcolor\":\"white\",\"showland\":true,\"showlakes\":true,\"lakecolor\":\"white\"},\"title\":{\"x\":0.05},\"mapbox\":{\"style\":\"light\"}}},\"xaxis\":{\"anchor\":\"y\",\"domain\":[0.0,1.0],\"title\":{\"text\":\"nom_enseigne\"}},\"yaxis\":{\"anchor\":\"x\",\"domain\":[0.0,1.0],\"title\":{\"text\":\"nbre_pdc\"}},\"legend\":{\"tracegroupgap\":0},\"margin\":{\"t\":60},\"barmode\":\"relative\"},                        {\"responsive\": true}                    ).then(function(){\n",
       "                            \n",
       "var gd = document.getElementById('da9ab8e2-ad35-4bbd-8916-0d226fd088ed');\n",
       "var x = new MutationObserver(function (mutations, observer) {{\n",
       "        var display = window.getComputedStyle(gd).display;\n",
       "        if (!display || display === 'none') {{\n",
       "            console.log([gd, 'removed!']);\n",
       "            Plotly.purge(gd);\n",
       "            observer.disconnect();\n",
       "        }}\n",
       "}});\n",
       "\n",
       "// Listen for the removal of the full notebook cells\n",
       "var notebookContainer = gd.closest('#notebook-container');\n",
       "if (notebookContainer) {{\n",
       "    x.observe(notebookContainer, {childList: true});\n",
       "}}\n",
       "\n",
       "// Listen for the clearing of the current output cell\n",
       "var outputEl = gd.closest('.output');\n",
       "if (outputEl) {{\n",
       "    x.observe(outputEl, {childList: true});\n",
       "}}\n",
       "\n",
       "                        })                };                });            </script>        </div>"
      ]
     },
     "metadata": {},
     "output_type": "display_data"
    }
   ],
   "source": [
    "table_pdc_ens\n",
    "fig = px.bar(table_pdc_ens.head(10), x='nom_enseigne', y='nbre_pdc')\n",
    "fig.show()"
   ]
  },
  {
   "cell_type": "markdown",
   "id": "0e3a4eb9-94db-412b-a40a-11b573f65fa1",
   "metadata": {},
   "source": [
    "## Evolution de nbre_pdc au cours du temps"
   ]
  },
  {
   "cell_type": "code",
   "execution_count": 43,
   "id": "2fc9e43e-eda0-4d12-9e3d-6cdd8b669668",
   "metadata": {
    "tags": []
   },
   "outputs": [],
   "source": [
    "table_evolution = table.groupby('date_mise_en_service').nbre_pdc.count().reset_index(name='count').sort_values(by='date_mise_en_service', ascending=True)\n",
    "table_evolution[\"year\"]= table_evolution.date_mise_en_service.apply(lambda x : int(x.split('-')[0]))\n",
    "table_evolution = table_evolution.tail(-4)\n",
    "#table_evolution"
   ]
  },
  {
   "cell_type": "code",
   "execution_count": 44,
   "id": "18d409b1-c978-47df-b1d9-fd8489b07a6b",
   "metadata": {
    "tags": []
   },
   "outputs": [
    {
     "data": {
      "text/html": [
       "<div>\n",
       "<style scoped>\n",
       "    .dataframe tbody tr th:only-of-type {\n",
       "        vertical-align: middle;\n",
       "    }\n",
       "\n",
       "    .dataframe tbody tr th {\n",
       "        vertical-align: top;\n",
       "    }\n",
       "\n",
       "    .dataframe thead th {\n",
       "        text-align: right;\n",
       "    }\n",
       "</style>\n",
       "<table border=\"1\" class=\"dataframe\">\n",
       "  <thead>\n",
       "    <tr style=\"text-align: right;\">\n",
       "      <th></th>\n",
       "      <th>date_mise_en_service</th>\n",
       "      <th>count</th>\n",
       "      <th>year</th>\n",
       "    </tr>\n",
       "  </thead>\n",
       "  <tbody>\n",
       "    <tr>\n",
       "      <th>11</th>\n",
       "      <td>2015-05-28</td>\n",
       "      <td>18</td>\n",
       "      <td>2015</td>\n",
       "    </tr>\n",
       "    <tr>\n",
       "      <th>12</th>\n",
       "      <td>2015-05-29</td>\n",
       "      <td>10</td>\n",
       "      <td>2015</td>\n",
       "    </tr>\n",
       "    <tr>\n",
       "      <th>13</th>\n",
       "      <td>2015-06-02</td>\n",
       "      <td>1</td>\n",
       "      <td>2015</td>\n",
       "    </tr>\n",
       "    <tr>\n",
       "      <th>14</th>\n",
       "      <td>2015-07-01</td>\n",
       "      <td>64</td>\n",
       "      <td>2015</td>\n",
       "    </tr>\n",
       "    <tr>\n",
       "      <th>15</th>\n",
       "      <td>2015-09-09</td>\n",
       "      <td>4</td>\n",
       "      <td>2015</td>\n",
       "    </tr>\n",
       "    <tr>\n",
       "      <th>...</th>\n",
       "      <td>...</td>\n",
       "      <td>...</td>\n",
       "      <td>...</td>\n",
       "    </tr>\n",
       "    <tr>\n",
       "      <th>2081</th>\n",
       "      <td>2023-05-12</td>\n",
       "      <td>5</td>\n",
       "      <td>2023</td>\n",
       "    </tr>\n",
       "    <tr>\n",
       "      <th>2082</th>\n",
       "      <td>2023-05-15</td>\n",
       "      <td>10</td>\n",
       "      <td>2023</td>\n",
       "    </tr>\n",
       "    <tr>\n",
       "      <th>2083</th>\n",
       "      <td>2023-05-22</td>\n",
       "      <td>4</td>\n",
       "      <td>2023</td>\n",
       "    </tr>\n",
       "    <tr>\n",
       "      <th>2084</th>\n",
       "      <td>2023-05-23</td>\n",
       "      <td>4</td>\n",
       "      <td>2023</td>\n",
       "    </tr>\n",
       "    <tr>\n",
       "      <th>2085</th>\n",
       "      <td>2023-08-02</td>\n",
       "      <td>3</td>\n",
       "      <td>2023</td>\n",
       "    </tr>\n",
       "  </tbody>\n",
       "</table>\n",
       "<p>2075 rows × 3 columns</p>\n",
       "</div>"
      ],
      "text/plain": [
       "     date_mise_en_service  count  year\n",
       "11             2015-05-28     18  2015\n",
       "12             2015-05-29     10  2015\n",
       "13             2015-06-02      1  2015\n",
       "14             2015-07-01     64  2015\n",
       "15             2015-09-09      4  2015\n",
       "...                   ...    ...   ...\n",
       "2081           2023-05-12      5  2023\n",
       "2082           2023-05-15     10  2023\n",
       "2083           2023-05-22      4  2023\n",
       "2084           2023-05-23      4  2023\n",
       "2085           2023-08-02      3  2023\n",
       "\n",
       "[2075 rows x 3 columns]"
      ]
     },
     "execution_count": 44,
     "metadata": {},
     "output_type": "execute_result"
    }
   ],
   "source": [
    "df=table_evolution[table_evolution.year > 2014]\n",
    "df"
   ]
  },
  {
   "cell_type": "code",
   "execution_count": 45,
   "id": "8696e24c-ba7f-4e59-8444-39c8cd4a5fc6",
   "metadata": {
    "tags": []
   },
   "outputs": [
    {
     "data": {
      "application/vnd.plotly.v1+json": {
       "config": {
        "plotlyServerURL": "https://plot.ly"
       },
       "data": [
        {
         "hovertemplate": "count=%{x}<br>probability=%{y}<extra></extra>",
         "legendgroup": "",
         "line": {
          "dash": "solid",
          "shape": "hv"
         },
         "marker": {
          "color": "#636efa",
          "symbol": "circle"
         },
         "mode": "lines",
         "name": "",
         "showlegend": false,
         "type": "scattergl",
         "x": [
          1,
          1,
          1,
          1,
          1,
          1,
          1,
          1,
          1,
          1,
          1,
          1,
          1,
          1,
          1,
          1,
          1,
          1,
          1,
          1,
          1,
          1,
          1,
          1,
          1,
          1,
          1,
          1,
          1,
          1,
          1,
          1,
          1,
          1,
          1,
          1,
          1,
          1,
          1,
          1,
          1,
          1,
          1,
          1,
          1,
          1,
          1,
          1,
          1,
          1,
          1,
          1,
          1,
          1,
          1,
          1,
          1,
          1,
          1,
          1,
          1,
          1,
          1,
          1,
          1,
          1,
          1,
          1,
          1,
          1,
          1,
          1,
          1,
          1,
          1,
          1,
          1,
          1,
          1,
          1,
          1,
          1,
          1,
          1,
          1,
          1,
          1,
          1,
          1,
          1,
          1,
          1,
          1,
          1,
          1,
          1,
          1,
          1,
          1,
          1,
          1,
          1,
          1,
          1,
          1,
          1,
          1,
          1,
          1,
          1,
          1,
          1,
          1,
          1,
          1,
          1,
          1,
          1,
          1,
          1,
          1,
          1,
          1,
          1,
          1,
          1,
          1,
          1,
          1,
          1,
          1,
          1,
          1,
          1,
          1,
          1,
          1,
          1,
          1,
          1,
          1,
          1,
          1,
          1,
          1,
          1,
          1,
          1,
          1,
          1,
          1,
          1,
          1,
          1,
          1,
          1,
          1,
          1,
          1,
          1,
          1,
          1,
          1,
          1,
          1,
          1,
          1,
          1,
          1,
          1,
          1,
          1,
          1,
          1,
          1,
          1,
          1,
          1,
          1,
          1,
          1,
          1,
          1,
          1,
          1,
          1,
          1,
          1,
          1,
          1,
          1,
          1,
          1,
          1,
          1,
          1,
          1,
          1,
          1,
          1,
          1,
          1,
          1,
          1,
          1,
          1,
          1,
          1,
          1,
          1,
          1,
          1,
          1,
          1,
          1,
          1,
          1,
          1,
          1,
          1,
          1,
          1,
          1,
          1,
          1,
          1,
          1,
          1,
          1,
          1,
          1,
          1,
          1,
          1,
          1,
          1,
          1,
          1,
          1,
          1,
          1,
          1,
          1,
          1,
          1,
          1,
          1,
          1,
          1,
          1,
          1,
          1,
          1,
          1,
          1,
          1,
          1,
          1,
          1,
          1,
          1,
          1,
          1,
          1,
          1,
          1,
          1,
          1,
          1,
          1,
          1,
          1,
          1,
          1,
          1,
          1,
          1,
          1,
          1,
          1,
          1,
          1,
          1,
          1,
          1,
          1,
          1,
          1,
          1,
          1,
          1,
          1,
          1,
          1,
          1,
          1,
          1,
          1,
          1,
          1,
          1,
          1,
          1,
          1,
          1,
          1,
          1,
          1,
          1,
          1,
          1,
          1,
          1,
          1,
          1,
          1,
          1,
          1,
          1,
          1,
          1,
          2,
          2,
          2,
          2,
          2,
          2,
          2,
          2,
          2,
          2,
          2,
          2,
          2,
          2,
          2,
          2,
          2,
          2,
          2,
          2,
          2,
          2,
          2,
          2,
          2,
          2,
          2,
          2,
          2,
          2,
          2,
          2,
          2,
          2,
          2,
          2,
          2,
          2,
          2,
          2,
          2,
          2,
          2,
          2,
          2,
          2,
          2,
          2,
          2,
          2,
          2,
          2,
          2,
          2,
          2,
          2,
          2,
          2,
          2,
          2,
          2,
          2,
          2,
          2,
          2,
          2,
          2,
          2,
          2,
          2,
          2,
          2,
          2,
          2,
          2,
          2,
          2,
          2,
          2,
          2,
          2,
          2,
          2,
          2,
          2,
          2,
          2,
          2,
          2,
          2,
          2,
          2,
          2,
          2,
          2,
          2,
          2,
          2,
          2,
          2,
          2,
          2,
          2,
          2,
          2,
          2,
          2,
          2,
          2,
          2,
          2,
          2,
          2,
          2,
          2,
          2,
          2,
          2,
          2,
          2,
          2,
          2,
          2,
          2,
          2,
          2,
          2,
          2,
          2,
          2,
          2,
          2,
          2,
          2,
          2,
          2,
          2,
          2,
          2,
          2,
          2,
          2,
          2,
          2,
          2,
          2,
          2,
          2,
          2,
          2,
          2,
          2,
          2,
          2,
          2,
          2,
          2,
          2,
          2,
          2,
          2,
          2,
          2,
          2,
          2,
          2,
          2,
          2,
          2,
          2,
          2,
          2,
          2,
          2,
          2,
          2,
          2,
          2,
          2,
          2,
          2,
          2,
          2,
          2,
          2,
          2,
          2,
          2,
          2,
          2,
          2,
          2,
          2,
          2,
          2,
          2,
          2,
          2,
          2,
          2,
          2,
          2,
          2,
          2,
          2,
          2,
          2,
          2,
          2,
          2,
          2,
          2,
          2,
          2,
          2,
          2,
          2,
          2,
          2,
          2,
          2,
          2,
          2,
          2,
          2,
          2,
          2,
          2,
          2,
          2,
          2,
          2,
          2,
          2,
          2,
          2,
          2,
          2,
          2,
          2,
          2,
          2,
          2,
          2,
          2,
          2,
          2,
          2,
          2,
          2,
          2,
          2,
          2,
          2,
          2,
          2,
          2,
          2,
          2,
          2,
          2,
          2,
          2,
          2,
          2,
          2,
          2,
          2,
          2,
          2,
          2,
          2,
          2,
          2,
          2,
          2,
          2,
          2,
          2,
          2,
          2,
          2,
          2,
          2,
          2,
          2,
          2,
          2,
          2,
          2,
          2,
          2,
          2,
          2,
          2,
          2,
          2,
          2,
          2,
          2,
          2,
          2,
          2,
          2,
          2,
          2,
          2,
          2,
          2,
          2,
          2,
          2,
          2,
          2,
          2,
          2,
          2,
          2,
          2,
          2,
          2,
          2,
          2,
          2,
          2,
          2,
          2,
          2,
          2,
          2,
          2,
          2,
          2,
          2,
          2,
          2,
          2,
          2,
          2,
          2,
          2,
          2,
          2,
          2,
          2,
          2,
          2,
          2,
          2,
          2,
          2,
          2,
          2,
          2,
          2,
          2,
          2,
          2,
          2,
          2,
          2,
          2,
          2,
          2,
          2,
          2,
          2,
          3,
          3,
          3,
          3,
          3,
          3,
          3,
          3,
          3,
          3,
          3,
          3,
          3,
          3,
          3,
          3,
          3,
          3,
          3,
          3,
          3,
          3,
          3,
          3,
          3,
          3,
          3,
          3,
          3,
          3,
          3,
          3,
          3,
          3,
          3,
          3,
          3,
          3,
          3,
          3,
          3,
          3,
          3,
          3,
          3,
          3,
          3,
          3,
          3,
          3,
          3,
          3,
          3,
          3,
          3,
          3,
          3,
          3,
          3,
          3,
          3,
          3,
          3,
          3,
          3,
          3,
          3,
          3,
          3,
          3,
          3,
          3,
          3,
          3,
          3,
          3,
          3,
          3,
          3,
          3,
          3,
          3,
          3,
          3,
          3,
          3,
          3,
          3,
          3,
          3,
          3,
          3,
          3,
          3,
          3,
          3,
          3,
          3,
          3,
          3,
          3,
          3,
          3,
          3,
          3,
          3,
          3,
          3,
          3,
          3,
          3,
          3,
          3,
          3,
          3,
          3,
          3,
          3,
          3,
          3,
          3,
          3,
          3,
          3,
          3,
          3,
          3,
          3,
          3,
          3,
          3,
          3,
          3,
          3,
          3,
          3,
          3,
          3,
          3,
          3,
          3,
          3,
          3,
          3,
          3,
          3,
          3,
          3,
          3,
          3,
          3,
          3,
          3,
          3,
          3,
          3,
          3,
          3,
          3,
          3,
          3,
          3,
          3,
          3,
          3,
          3,
          3,
          3,
          3,
          3,
          3,
          3,
          3,
          3,
          3,
          3,
          3,
          3,
          3,
          3,
          3,
          3,
          3,
          3,
          3,
          3,
          3,
          3,
          3,
          3,
          3,
          3,
          3,
          3,
          3,
          4,
          4,
          4,
          4,
          4,
          4,
          4,
          4,
          4,
          4,
          4,
          4,
          4,
          4,
          4,
          4,
          4,
          4,
          4,
          4,
          4,
          4,
          4,
          4,
          4,
          4,
          4,
          4,
          4,
          4,
          4,
          4,
          4,
          4,
          4,
          4,
          4,
          4,
          4,
          4,
          4,
          4,
          4,
          4,
          4,
          4,
          4,
          4,
          4,
          4,
          4,
          4,
          4,
          4,
          4,
          4,
          4,
          4,
          4,
          4,
          4,
          4,
          4,
          4,
          4,
          4,
          4,
          4,
          4,
          4,
          4,
          4,
          4,
          4,
          4,
          4,
          4,
          4,
          4,
          4,
          4,
          4,
          4,
          4,
          4,
          4,
          4,
          4,
          4,
          4,
          4,
          4,
          4,
          4,
          4,
          4,
          4,
          4,
          4,
          4,
          4,
          4,
          4,
          4,
          4,
          4,
          4,
          4,
          4,
          4,
          4,
          4,
          4,
          4,
          4,
          4,
          4,
          4,
          4,
          4,
          4,
          4,
          4,
          4,
          4,
          4,
          4,
          4,
          4,
          4,
          4,
          4,
          4,
          4,
          4,
          4,
          4,
          4,
          4,
          4,
          4,
          4,
          4,
          4,
          4,
          4,
          4,
          4,
          4,
          4,
          4,
          4,
          4,
          4,
          4,
          4,
          4,
          4,
          4,
          4,
          4,
          4,
          4,
          4,
          5,
          5,
          5,
          5,
          5,
          5,
          5,
          5,
          5,
          5,
          5,
          5,
          5,
          5,
          5,
          5,
          5,
          5,
          5,
          5,
          5,
          5,
          5,
          5,
          5,
          5,
          5,
          5,
          5,
          5,
          5,
          5,
          5,
          5,
          5,
          5,
          5,
          5,
          5,
          5,
          5,
          5,
          5,
          5,
          5,
          5,
          5,
          5,
          5,
          5,
          5,
          5,
          5,
          5,
          5,
          5,
          5,
          5,
          5,
          5,
          5,
          5,
          5,
          5,
          5,
          5,
          5,
          5,
          5,
          5,
          5,
          5,
          5,
          5,
          5,
          5,
          5,
          5,
          5,
          5,
          5,
          5,
          5,
          5,
          5,
          5,
          5,
          5,
          5,
          5,
          5,
          5,
          5,
          5,
          5,
          5,
          5,
          5,
          5,
          5,
          5,
          5,
          5,
          5,
          5,
          5,
          5,
          5,
          5,
          5,
          5,
          5,
          5,
          5,
          5,
          5,
          5,
          5,
          5,
          5,
          5,
          5,
          5,
          5,
          6,
          6,
          6,
          6,
          6,
          6,
          6,
          6,
          6,
          6,
          6,
          6,
          6,
          6,
          6,
          6,
          6,
          6,
          6,
          6,
          6,
          6,
          6,
          6,
          6,
          6,
          6,
          6,
          6,
          6,
          6,
          6,
          6,
          6,
          6,
          6,
          6,
          6,
          6,
          6,
          6,
          6,
          6,
          6,
          6,
          6,
          6,
          6,
          6,
          6,
          6,
          6,
          6,
          6,
          6,
          6,
          6,
          6,
          6,
          6,
          6,
          6,
          6,
          6,
          6,
          6,
          6,
          6,
          6,
          6,
          6,
          6,
          6,
          6,
          6,
          6,
          6,
          6,
          6,
          6,
          6,
          6,
          6,
          6,
          6,
          6,
          6,
          6,
          6,
          6,
          6,
          6,
          6,
          6,
          7,
          7,
          7,
          7,
          7,
          7,
          7,
          7,
          7,
          7,
          7,
          7,
          7,
          7,
          7,
          7,
          7,
          7,
          7,
          7,
          7,
          7,
          7,
          7,
          7,
          7,
          7,
          7,
          7,
          7,
          7,
          7,
          7,
          7,
          7,
          7,
          7,
          7,
          7,
          7,
          7,
          7,
          7,
          7,
          7,
          7,
          7,
          7,
          7,
          7,
          7,
          7,
          7,
          7,
          7,
          7,
          7,
          7,
          7,
          7,
          7,
          8,
          8,
          8,
          8,
          8,
          8,
          8,
          8,
          8,
          8,
          8,
          8,
          8,
          8,
          8,
          8,
          8,
          8,
          8,
          8,
          8,
          8,
          8,
          8,
          8,
          8,
          8,
          8,
          8,
          8,
          8,
          8,
          8,
          8,
          8,
          8,
          8,
          8,
          8,
          8,
          8,
          8,
          8,
          8,
          8,
          8,
          8,
          8,
          8,
          8,
          8,
          8,
          8,
          8,
          8,
          8,
          8,
          8,
          8,
          8,
          8,
          8,
          8,
          8,
          8,
          8,
          8,
          8,
          8,
          8,
          8,
          8,
          8,
          9,
          9,
          9,
          9,
          9,
          9,
          9,
          9,
          9,
          9,
          9,
          9,
          9,
          9,
          9,
          9,
          9,
          9,
          9,
          9,
          9,
          9,
          9,
          9,
          9,
          9,
          9,
          9,
          9,
          9,
          9,
          9,
          9,
          9,
          9,
          9,
          9,
          9,
          9,
          9,
          9,
          9,
          10,
          10,
          10,
          10,
          10,
          10,
          10,
          10,
          10,
          10,
          10,
          10,
          10,
          10,
          10,
          10,
          10,
          10,
          10,
          10,
          10,
          10,
          10,
          10,
          10,
          10,
          10,
          10,
          10,
          10,
          10,
          10,
          10,
          10,
          10,
          10,
          10,
          10,
          10,
          10,
          10,
          11,
          11,
          11,
          11,
          11,
          11,
          11,
          11,
          11,
          11,
          11,
          11,
          11,
          11,
          11,
          11,
          11,
          11,
          11,
          11,
          11,
          11,
          11,
          11,
          11,
          11,
          11,
          11,
          11,
          11,
          11,
          11,
          12,
          12,
          12,
          12,
          12,
          12,
          12,
          12,
          12,
          12,
          12,
          12,
          12,
          12,
          12,
          12,
          12,
          12,
          12,
          12,
          12,
          12,
          12,
          12,
          12,
          12,
          12,
          12,
          12,
          12,
          12,
          12,
          12,
          12,
          12,
          12,
          12,
          12,
          12,
          12,
          12,
          12,
          13,
          13,
          13,
          13,
          13,
          13,
          13,
          13,
          13,
          13,
          13,
          13,
          13,
          13,
          13,
          13,
          13,
          13,
          13,
          13,
          13,
          13,
          13,
          13,
          13,
          13,
          13,
          13,
          13,
          13,
          13,
          13,
          13,
          13,
          13,
          14,
          14,
          14,
          14,
          14,
          14,
          14,
          14,
          14,
          14,
          14,
          14,
          14,
          14,
          14,
          14,
          14,
          14,
          14,
          14,
          14,
          14,
          14,
          14,
          14,
          14,
          14,
          14,
          15,
          15,
          15,
          15,
          15,
          15,
          15,
          15,
          15,
          15,
          15,
          15,
          15,
          15,
          15,
          15,
          15,
          15,
          15,
          15,
          15,
          15,
          15,
          15,
          15,
          15,
          15,
          15,
          15,
          15,
          15,
          15,
          15,
          15,
          15,
          15,
          15,
          15,
          15,
          16,
          16,
          16,
          16,
          16,
          16,
          16,
          16,
          16,
          16,
          16,
          16,
          16,
          16,
          16,
          16,
          16,
          16,
          16,
          16,
          16,
          16,
          16,
          16,
          16,
          16,
          17,
          17,
          17,
          17,
          17,
          17,
          17,
          17,
          17,
          17,
          17,
          17,
          17,
          17,
          17,
          17,
          17,
          17,
          17,
          17,
          17,
          17,
          17,
          17,
          17,
          17,
          17,
          17,
          18,
          18,
          18,
          18,
          18,
          18,
          18,
          18,
          18,
          18,
          18,
          18,
          18,
          18,
          18,
          18,
          18,
          18,
          18,
          18,
          18,
          18,
          18,
          18,
          18,
          18,
          18,
          18,
          19,
          19,
          19,
          19,
          19,
          19,
          19,
          19,
          19,
          19,
          19,
          19,
          19,
          19,
          19,
          19,
          19,
          19,
          19,
          19,
          19,
          19,
          19,
          20,
          20,
          20,
          20,
          20,
          20,
          20,
          20,
          20,
          20,
          20,
          20,
          20,
          20,
          20,
          20,
          20,
          20,
          20,
          20,
          20,
          20,
          20,
          21,
          21,
          21,
          21,
          21,
          21,
          21,
          21,
          21,
          21,
          21,
          21,
          21,
          21,
          21,
          21,
          21,
          21,
          21,
          21,
          21,
          21,
          21,
          22,
          22,
          22,
          22,
          22,
          22,
          22,
          22,
          22,
          22,
          22,
          22,
          22,
          22,
          22,
          22,
          22,
          22,
          22,
          22,
          22,
          22,
          23,
          23,
          23,
          23,
          23,
          23,
          23,
          23,
          23,
          23,
          23,
          23,
          23,
          23,
          23,
          23,
          23,
          23,
          23,
          24,
          24,
          24,
          24,
          24,
          24,
          24,
          24,
          24,
          24,
          24,
          24,
          24,
          24,
          24,
          24,
          24,
          24,
          24,
          24,
          24,
          25,
          25,
          25,
          25,
          25,
          25,
          25,
          25,
          25,
          26,
          26,
          26,
          26,
          26,
          26,
          26,
          26,
          26,
          26,
          26,
          26,
          26,
          26,
          26,
          26,
          27,
          27,
          27,
          27,
          27,
          27,
          27,
          27,
          27,
          27,
          27,
          27,
          28,
          28,
          28,
          28,
          28,
          28,
          28,
          28,
          29,
          29,
          29,
          29,
          29,
          29,
          29,
          30,
          30,
          30,
          30,
          30,
          30,
          30,
          30,
          31,
          31,
          31,
          31,
          31,
          31,
          31,
          31,
          31,
          32,
          32,
          32,
          32,
          32,
          32,
          32,
          32,
          32,
          33,
          33,
          33,
          33,
          33,
          33,
          33,
          33,
          34,
          34,
          34,
          34,
          34,
          34,
          34,
          34,
          35,
          35,
          35,
          35,
          35,
          35,
          36,
          36,
          36,
          36,
          37,
          37,
          37,
          37,
          37,
          38,
          38,
          38,
          38,
          38,
          38,
          38,
          38,
          39,
          40,
          40,
          40,
          40,
          40,
          40,
          40,
          41,
          41,
          41,
          41,
          41,
          42,
          42,
          42,
          42,
          42,
          43,
          43,
          43,
          43,
          43,
          43,
          44,
          44,
          44,
          44,
          44,
          44,
          44,
          45,
          46,
          46,
          46,
          46,
          47,
          47,
          47,
          48,
          49,
          49,
          50,
          50,
          51,
          51,
          51,
          52,
          52,
          52,
          53,
          54,
          54,
          55,
          55,
          55,
          56,
          57,
          59,
          59,
          59,
          60,
          62,
          63,
          64,
          64,
          64,
          64,
          65,
          65,
          68,
          68,
          70,
          70,
          71,
          72,
          74,
          77,
          80,
          80,
          80,
          83,
          84,
          85,
          93,
          94,
          94,
          97,
          98,
          113,
          131,
          281,
          297,
          337
         ],
         "xaxis": "x",
         "y": [
          0.0004803073967339097,
          0.0009606147934678194,
          0.001440922190201729,
          0.0019212295869356388,
          0.0024015369836695487,
          0.002881844380403458,
          0.0033621517771373678,
          0.0038424591738712775,
          0.004322766570605188,
          0.004803073967339097,
          0.005283381364073006,
          0.005763688760806916,
          0.006243996157540826,
          0.0067243035542747355,
          0.007204610951008645,
          0.007684918347742555,
          0.008165225744476465,
          0.008645533141210375,
          0.009125840537944284,
          0.009606147934678195,
          0.010086455331412104,
          0.010566762728146013,
          0.011047070124879923,
          0.011527377521613832,
          0.012007684918347743,
          0.012487992315081652,
          0.012968299711815562,
          0.013448607108549471,
          0.013928914505283382,
          0.01440922190201729,
          0.014889529298751201,
          0.01536983669548511,
          0.01585014409221902,
          0.01633045148895293,
          0.01681075888568684,
          0.01729106628242075,
          0.01777137367915466,
          0.01825168107588857,
          0.018731988472622477,
          0.01921229586935639,
          0.0196926032660903,
          0.020172910662824207,
          0.020653218059558116,
          0.021133525456292025,
          0.021613832853025938,
          0.022094140249759846,
          0.022574447646493755,
          0.023054755043227664,
          0.023535062439961577,
          0.024015369836695485,
          0.024495677233429394,
          0.024975984630163303,
          0.025456292026897216,
          0.025936599423631124,
          0.026416906820365033,
          0.026897214217098942,
          0.027377521613832854,
          0.027857829010566763,
          0.028338136407300672,
          0.02881844380403458,
          0.029298751200768493,
          0.029779058597502402,
          0.03025936599423631,
          0.03073967339097022,
          0.03121998078770413,
          0.03170028818443804,
          0.03218059558117195,
          0.03266090297790586,
          0.03314121037463977,
          0.03362151777137368,
          0.034101825168107586,
          0.0345821325648415,
          0.03506243996157541,
          0.03554274735830932,
          0.03602305475504323,
          0.03650336215177714,
          0.036983669548511046,
          0.037463976945244955,
          0.037944284341978864,
          0.03842459173871278,
          0.03890489913544669,
          0.0393852065321806,
          0.039865513928914506,
          0.040345821325648415,
          0.040826128722382324,
          0.04130643611911623,
          0.04178674351585014,
          0.04226705091258405,
          0.042747358309317966,
          0.043227665706051875,
          0.043707973102785784,
          0.04418828049951969,
          0.0446685878962536,
          0.04514889529298751,
          0.04562920268972142,
          0.04610951008645533,
          0.046589817483189244,
          0.04707012487992315,
          0.04755043227665706,
          0.04803073967339097,
          0.04851104707012488,
          0.04899135446685879,
          0.0494716618635927,
          0.049951969260326606,
          0.05043227665706052,
          0.05091258405379443,
          0.05139289145052834,
          0.05187319884726225,
          0.05235350624399616,
          0.052833813640730067,
          0.053314121037463975,
          0.053794428434197884,
          0.05427473583093179,
          0.05475504322766571,
          0.05523535062439962,
          0.05571565802113353,
          0.056195965417867436,
          0.056676272814601344,
          0.05715658021133525,
          0.05763688760806916,
          0.05811719500480307,
          0.05859750240153699,
          0.059077809798270896,
          0.059558117195004805,
          0.060038424591738714,
          0.06051873198847262,
          0.06099903938520653,
          0.06147934678194044,
          0.06195965417867435,
          0.06243996157540826,
          0.06292026897214217,
          0.06340057636887608,
          0.06388088376560999,
          0.0643611911623439,
          0.06484149855907781,
          0.06532180595581172,
          0.06580211335254563,
          0.06628242074927954,
          0.06676272814601344,
          0.06724303554274735,
          0.06772334293948126,
          0.06820365033621517,
          0.0686839577329491,
          0.069164265129683,
          0.06964457252641691,
          0.07012487992315082,
          0.07060518731988473,
          0.07108549471661864,
          0.07156580211335255,
          0.07204610951008646,
          0.07252641690682037,
          0.07300672430355427,
          0.07348703170028818,
          0.07396733909702209,
          0.074447646493756,
          0.07492795389048991,
          0.07540826128722382,
          0.07588856868395773,
          0.07636887608069164,
          0.07684918347742556,
          0.07732949087415947,
          0.07780979827089338,
          0.07829010566762729,
          0.0787704130643612,
          0.0792507204610951,
          0.07973102785782901,
          0.08021133525456292,
          0.08069164265129683,
          0.08117195004803074,
          0.08165225744476465,
          0.08213256484149856,
          0.08261287223823247,
          0.08309317963496637,
          0.08357348703170028,
          0.08405379442843419,
          0.0845341018251681,
          0.08501440922190202,
          0.08549471661863593,
          0.08597502401536984,
          0.08645533141210375,
          0.08693563880883766,
          0.08741594620557157,
          0.08789625360230548,
          0.08837656099903939,
          0.0888568683957733,
          0.0893371757925072,
          0.08981748318924111,
          0.09029779058597502,
          0.09077809798270893,
          0.09125840537944284,
          0.09173871277617675,
          0.09221902017291066,
          0.09269932756964457,
          0.09317963496637849,
          0.0936599423631124,
          0.0941402497598463,
          0.09462055715658022,
          0.09510086455331412,
          0.09558117195004803,
          0.09606147934678194,
          0.09654178674351585,
          0.09702209414024976,
          0.09750240153698367,
          0.09798270893371758,
          0.09846301633045149,
          0.0989433237271854,
          0.0994236311239193,
          0.09990393852065321,
          0.10038424591738712,
          0.10086455331412104,
          0.10134486071085495,
          0.10182516810758886,
          0.10230547550432277,
          0.10278578290105668,
          0.10326609029779059,
          0.1037463976945245,
          0.1042267050912584,
          0.10470701248799232,
          0.10518731988472622,
          0.10566762728146013,
          0.10614793467819404,
          0.10662824207492795,
          0.10710854947166186,
          0.10758885686839577,
          0.10806916426512968,
          0.10854947166186359,
          0.10902977905859751,
          0.10951008645533142,
          0.10999039385206533,
          0.11047070124879924,
          0.11095100864553314,
          0.11143131604226705,
          0.11191162343900096,
          0.11239193083573487,
          0.11287223823246878,
          0.11335254562920269,
          0.1138328530259366,
          0.1143131604226705,
          0.11479346781940442,
          0.11527377521613832,
          0.11575408261287223,
          0.11623439000960614,
          0.11671469740634005,
          0.11719500480307397,
          0.11767531219980788,
          0.11815561959654179,
          0.1186359269932757,
          0.11911623439000961,
          0.11959654178674352,
          0.12007684918347743,
          0.12055715658021134,
          0.12103746397694524,
          0.12151777137367915,
          0.12199807877041306,
          0.12247838616714697,
          0.12295869356388088,
          0.12343900096061479,
          0.1239193083573487,
          0.12439961575408261,
          0.12487992315081652,
          0.12536023054755044,
          0.12584053794428435,
          0.12632084534101826,
          0.12680115273775217,
          0.12728146013448607,
          0.12776176753121998,
          0.1282420749279539,
          0.1287223823246878,
          0.1292026897214217,
          0.12968299711815562,
          0.13016330451488953,
          0.13064361191162344,
          0.13112391930835735,
          0.13160422670509125,
          0.13208453410182516,
          0.13256484149855907,
          0.13304514889529298,
          0.1335254562920269,
          0.1340057636887608,
          0.1344860710854947,
          0.13496637848222862,
          0.13544668587896252,
          0.13592699327569643,
          0.13640730067243034,
          0.13688760806916425,
          0.1373679154658982,
          0.1378482228626321,
          0.138328530259366,
          0.13880883765609991,
          0.13928914505283382,
          0.13976945244956773,
          0.14024975984630164,
          0.14073006724303555,
          0.14121037463976946,
          0.14169068203650337,
          0.14217098943323728,
          0.14265129682997119,
          0.1431316042267051,
          0.143611911623439,
          0.1440922190201729,
          0.14457252641690682,
          0.14505283381364073,
          0.14553314121037464,
          0.14601344860710855,
          0.14649375600384246,
          0.14697406340057637,
          0.14745437079731027,
          0.14793467819404418,
          0.1484149855907781,
          0.148895292987512,
          0.1493756003842459,
          0.14985590778097982,
          0.15033621517771373,
          0.15081652257444764,
          0.15129682997118155,
          0.15177713736791545,
          0.15225744476464936,
          0.15273775216138327,
          0.15321805955811718,
          0.15369836695485112,
          0.15417867435158503,
          0.15465898174831894,
          0.15513928914505284,
          0.15561959654178675,
          0.15609990393852066,
          0.15658021133525457,
          0.15706051873198848,
          0.1575408261287224,
          0.1580211335254563,
          0.1585014409221902,
          0.15898174831892412,
          0.15946205571565802,
          0.15994236311239193,
          0.16042267050912584,
          0.16090297790585975,
          0.16138328530259366,
          0.16186359269932757,
          0.16234390009606148,
          0.1628242074927954,
          0.1633045148895293,
          0.1637848222862632,
          0.1642651296829971,
          0.16474543707973102,
          0.16522574447646493,
          0.16570605187319884,
          0.16618635926993275,
          0.16666666666666666,
          0.16714697406340057,
          0.16762728146013448,
          0.16810758885686838,
          0.1685878962536023,
          0.1690682036503362,
          0.16954851104707014,
          0.17002881844380405,
          0.17050912584053796,
          0.17098943323727187,
          0.17146974063400577,
          0.17195004803073968,
          0.1724303554274736,
          0.1729106628242075,
          0.1733909702209414,
          0.17387127761767532,
          0.17435158501440923,
          0.17483189241114314,
          0.17531219980787704,
          0.17579250720461095,
          0.17627281460134486,
          0.17675312199807877,
          0.17723342939481268,
          0.1777137367915466,
          0.1781940441882805,
          0.1786743515850144,
          0.17915465898174832,
          0.17963496637848222,
          0.18011527377521613,
          0.18059558117195004,
          0.18107588856868395,
          0.18155619596541786,
          0.18203650336215177,
          0.18251681075888568,
          0.1829971181556196,
          0.1834774255523535,
          0.1839577329490874,
          0.1844380403458213,
          0.18491834774255522,
          0.18539865513928913,
          0.18587896253602307,
          0.18635926993275698,
          0.18683957732949089,
          0.1873198847262248,
          0.1878001921229587,
          0.1882804995196926,
          0.18876080691642652,
          0.18924111431316043,
          0.18972142170989434,
          0.19020172910662825,
          0.19068203650336216,
          0.19116234390009607,
          0.19164265129682997,
          0.19212295869356388,
          0.1926032660902978,
          0.1930835734870317,
          0.1935638808837656,
          0.19404418828049952,
          0.19452449567723343,
          0.19500480307396734,
          0.19548511047070125,
          0.19596541786743515,
          0.19644572526416906,
          0.19692603266090297,
          0.19740634005763688,
          0.1978866474543708,
          0.1983669548511047,
          0.1988472622478386,
          0.19932756964457252,
          0.19980787704130643,
          0.20028818443804033,
          0.20076849183477424,
          0.20124879923150815,
          0.2017291066282421,
          0.202209414024976,
          0.2026897214217099,
          0.20317002881844382,
          0.20365033621517772,
          0.20413064361191163,
          0.20461095100864554,
          0.20509125840537945,
          0.20557156580211336,
          0.20605187319884727,
          0.20653218059558118,
          0.2070124879923151,
          0.207492795389049,
          0.2079731027857829,
          0.2084534101825168,
          0.20893371757925072,
          0.20941402497598463,
          0.20989433237271854,
          0.21037463976945245,
          0.21085494716618636,
          0.21133525456292027,
          0.21181556195965417,
          0.21229586935638808,
          0.212776176753122,
          0.2132564841498559,
          0.2137367915465898,
          0.21421709894332372,
          0.21469740634005763,
          0.21517771373679154,
          0.21565802113352545,
          0.21613832853025935,
          0.21661863592699326,
          0.21709894332372717,
          0.21757925072046108,
          0.21805955811719502,
          0.21853986551392893,
          0.21902017291066284,
          0.21950048030739674,
          0.21998078770413065,
          0.22046109510086456,
          0.22094140249759847,
          0.22142170989433238,
          0.2219020172910663,
          0.2223823246878002,
          0.2228626320845341,
          0.22334293948126802,
          0.22382324687800192,
          0.22430355427473583,
          0.22478386167146974,
          0.22526416906820365,
          0.22574447646493756,
          0.22622478386167147,
          0.22670509125840538,
          0.2271853986551393,
          0.2276657060518732,
          0.2281460134486071,
          0.228626320845341,
          0.22910662824207492,
          0.22958693563880883,
          0.23006724303554274,
          0.23054755043227665,
          0.23102785782901056,
          0.23150816522574447,
          0.23198847262247838,
          0.23246878001921228,
          0.2329490874159462,
          0.2334293948126801,
          0.23390970220941404,
          0.23439000960614795,
          0.23487031700288186,
          0.23535062439961577,
          0.23583093179634967,
          0.23631123919308358,
          0.2367915465898175,
          0.2372718539865514,
          0.2377521613832853,
          0.23823246878001922,
          0.23871277617675313,
          0.23919308357348704,
          0.23967339097022095,
          0.24015369836695485,
          0.24063400576368876,
          0.24111431316042267,
          0.24159462055715658,
          0.2420749279538905,
          0.2425552353506244,
          0.2430355427473583,
          0.24351585014409222,
          0.24399615754082613,
          0.24447646493756003,
          0.24495677233429394,
          0.24543707973102785,
          0.24591738712776176,
          0.24639769452449567,
          0.24687800192122958,
          0.2473583093179635,
          0.2478386167146974,
          0.2483189241114313,
          0.24879923150816521,
          0.24927953890489912,
          0.24975984630163303,
          0.25024015369836694,
          0.2507204610951009,
          0.25120076849183476,
          0.2516810758885687,
          0.2521613832853026,
          0.2526416906820365,
          0.2531219980787704,
          0.25360230547550433,
          0.2540826128722382,
          0.25456292026897215,
          0.25504322766570603,
          0.25552353506243997,
          0.25600384245917385,
          0.2564841498559078,
          0.25696445725264166,
          0.2574447646493756,
          0.2579250720461095,
          0.2584053794428434,
          0.25888568683957736,
          0.25936599423631124,
          0.2598463016330452,
          0.26032660902977905,
          0.260806916426513,
          0.2612872238232469,
          0.2617675312199808,
          0.2622478386167147,
          0.2627281460134486,
          0.2632084534101825,
          0.26368876080691644,
          0.2641690682036503,
          0.26464937560038426,
          0.26512968299711814,
          0.2656099903938521,
          0.26609029779058596,
          0.2665706051873199,
          0.2670509125840538,
          0.2675312199807877,
          0.2680115273775216,
          0.26849183477425553,
          0.2689721421709894,
          0.26945244956772335,
          0.26993275696445723,
          0.27041306436119117,
          0.27089337175792505,
          0.271373679154659,
          0.27185398655139287,
          0.2723342939481268,
          0.2728146013448607,
          0.2732949087415946,
          0.2737752161383285,
          0.27425552353506244,
          0.2747358309317964,
          0.27521613832853026,
          0.2756964457252642,
          0.2761767531219981,
          0.276657060518732,
          0.2771373679154659,
          0.27761767531219983,
          0.2780979827089337,
          0.27857829010566765,
          0.27905859750240153,
          0.27953890489913547,
          0.28001921229586935,
          0.2804995196926033,
          0.28097982708933716,
          0.2814601344860711,
          0.281940441882805,
          0.2824207492795389,
          0.2829010566762728,
          0.28338136407300674,
          0.2838616714697406,
          0.28434197886647455,
          0.28482228626320844,
          0.28530259365994237,
          0.28578290105667625,
          0.2862632084534102,
          0.28674351585014407,
          0.287223823246878,
          0.2877041306436119,
          0.2881844380403458,
          0.2886647454370797,
          0.28914505283381364,
          0.2896253602305475,
          0.29010566762728146,
          0.2905859750240154,
          0.2910662824207493,
          0.2915465898174832,
          0.2920268972142171,
          0.29250720461095103,
          0.2929875120076849,
          0.29346781940441885,
          0.29394812680115273,
          0.29442843419788667,
          0.29490874159462055,
          0.2953890489913545,
          0.29586935638808837,
          0.2963496637848223,
          0.2968299711815562,
          0.2973102785782901,
          0.297790585975024,
          0.29827089337175794,
          0.2987512007684918,
          0.29923150816522576,
          0.29971181556195964,
          0.3001921229586936,
          0.30067243035542746,
          0.3011527377521614,
          0.3016330451488953,
          0.3021133525456292,
          0.3025936599423631,
          0.30307396733909703,
          0.3035542747358309,
          0.30403458213256485,
          0.3045148895292987,
          0.30499519692603266,
          0.30547550432276654,
          0.3059558117195005,
          0.30643611911623436,
          0.3069164265129683,
          0.30739673390970224,
          0.3078770413064361,
          0.30835734870317005,
          0.30883765609990393,
          0.30931796349663787,
          0.30979827089337175,
          0.3102785782901057,
          0.31075888568683957,
          0.3112391930835735,
          0.3117195004803074,
          0.3121998078770413,
          0.3126801152737752,
          0.31316042267050914,
          0.313640730067243,
          0.31412103746397696,
          0.31460134486071084,
          0.3150816522574448,
          0.31556195965417866,
          0.3160422670509126,
          0.3165225744476465,
          0.3170028818443804,
          0.3174831892411143,
          0.31796349663784823,
          0.3184438040345821,
          0.31892411143131605,
          0.31940441882804993,
          0.31988472622478387,
          0.32036503362151775,
          0.3208453410182517,
          0.32132564841498557,
          0.3218059558117195,
          0.3222862632084534,
          0.3227665706051873,
          0.32324687800192126,
          0.32372718539865514,
          0.3242074927953891,
          0.32468780019212296,
          0.3251681075888569,
          0.3256484149855908,
          0.3261287223823247,
          0.3266090297790586,
          0.3270893371757925,
          0.3275696445725264,
          0.32804995196926034,
          0.3285302593659942,
          0.32901056676272816,
          0.32949087415946204,
          0.329971181556196,
          0.33045148895292986,
          0.3309317963496638,
          0.3314121037463977,
          0.3318924111431316,
          0.3323727185398655,
          0.33285302593659943,
          0.3333333333333333,
          0.33381364073006725,
          0.33429394812680113,
          0.33477425552353507,
          0.33525456292026895,
          0.3357348703170029,
          0.33621517771373677,
          0.3366954851104707,
          0.3371757925072046,
          0.3376560999039385,
          0.3381364073006724,
          0.33861671469740634,
          0.3390970220941403,
          0.33957732949087416,
          0.3400576368876081,
          0.340537944284342,
          0.3410182516810759,
          0.3414985590778098,
          0.34197886647454373,
          0.3424591738712776,
          0.34293948126801155,
          0.34341978866474543,
          0.34390009606147937,
          0.34438040345821325,
          0.3448607108549472,
          0.34534101825168106,
          0.345821325648415,
          0.3463016330451489,
          0.3467819404418828,
          0.3472622478386167,
          0.34774255523535064,
          0.3482228626320845,
          0.34870317002881845,
          0.34918347742555234,
          0.34966378482228627,
          0.35014409221902015,
          0.3506243996157541,
          0.35110470701248797,
          0.3515850144092219,
          0.3520653218059558,
          0.3525456292026897,
          0.3530259365994236,
          0.35350624399615754,
          0.3539865513928914,
          0.35446685878962536,
          0.3549471661863593,
          0.3554274735830932,
          0.3559077809798271,
          0.356388088376561,
          0.35686839577329493,
          0.3573487031700288,
          0.35782901056676275,
          0.35830931796349663,
          0.35878962536023057,
          0.35926993275696445,
          0.3597502401536984,
          0.36023054755043227,
          0.3607108549471662,
          0.3611911623439001,
          0.361671469740634,
          0.3621517771373679,
          0.36263208453410184,
          0.3631123919308357,
          0.36359269932756966,
          0.36407300672430354,
          0.3645533141210375,
          0.36503362151777136,
          0.3655139289145053,
          0.3659942363112392,
          0.3664745437079731,
          0.366954851104707,
          0.36743515850144093,
          0.3679154658981748,
          0.36839577329490875,
          0.3688760806916426,
          0.36935638808837656,
          0.36983669548511044,
          0.3703170028818444,
          0.37079731027857826,
          0.3712776176753122,
          0.37175792507204614,
          0.37223823246878,
          0.37271853986551395,
          0.37319884726224783,
          0.37367915465898177,
          0.37415946205571565,
          0.3746397694524496,
          0.37512007684918347,
          0.3756003842459174,
          0.3760806916426513,
          0.3765609990393852,
          0.3770413064361191,
          0.37752161383285304,
          0.3780019212295869,
          0.37848222862632086,
          0.37896253602305474,
          0.3794428434197887,
          0.37992315081652256,
          0.3804034582132565,
          0.3808837656099904,
          0.3813640730067243,
          0.3818443804034582,
          0.38232468780019213,
          0.382804995196926,
          0.38328530259365995,
          0.38376560999039383,
          0.38424591738712777,
          0.38472622478386165,
          0.3852065321805956,
          0.38568683957732947,
          0.3861671469740634,
          0.3866474543707973,
          0.3871277617675312,
          0.38760806916426516,
          0.38808837656099904,
          0.388568683957733,
          0.38904899135446686,
          0.3895292987512008,
          0.3900096061479347,
          0.3904899135446686,
          0.3909702209414025,
          0.3914505283381364,
          0.3919308357348703,
          0.39241114313160425,
          0.3928914505283381,
          0.39337175792507206,
          0.39385206532180594,
          0.3943323727185399,
          0.39481268011527376,
          0.3952929875120077,
          0.3957732949087416,
          0.3962536023054755,
          0.3967339097022094,
          0.39721421709894333,
          0.3976945244956772,
          0.39817483189241115,
          0.39865513928914503,
          0.39913544668587897,
          0.39961575408261285,
          0.4000960614793468,
          0.40057636887608067,
          0.4010566762728146,
          0.4015369836695485,
          0.4020172910662824,
          0.4024975984630163,
          0.40297790585975024,
          0.4034582132564842,
          0.40393852065321806,
          0.404418828049952,
          0.4048991354466859,
          0.4053794428434198,
          0.4058597502401537,
          0.40634005763688763,
          0.4068203650336215,
          0.40730067243035545,
          0.40778097982708933,
          0.40826128722382327,
          0.40874159462055715,
          0.4092219020172911,
          0.40970220941402496,
          0.4101825168107589,
          0.4106628242074928,
          0.4111431316042267,
          0.4116234390009606,
          0.41210374639769454,
          0.4125840537944284,
          0.41306436119116235,
          0.41354466858789624,
          0.4140249759846302,
          0.41450528338136405,
          0.414985590778098,
          0.41546589817483187,
          0.4159462055715658,
          0.4164265129682997,
          0.4169068203650336,
          0.4173871277617675,
          0.41786743515850144,
          0.4183477425552353,
          0.41882804995196926,
          0.41930835734870314,
          0.4197886647454371,
          0.420268972142171,
          0.4207492795389049,
          0.42122958693563883,
          0.4217098943323727,
          0.42219020172910665,
          0.42267050912584053,
          0.42315081652257447,
          0.42363112391930835,
          0.4241114313160423,
          0.42459173871277617,
          0.4250720461095101,
          0.425552353506244,
          0.4260326609029779,
          0.4265129682997118,
          0.42699327569644574,
          0.4274735830931796,
          0.42795389048991356,
          0.42843419788664744,
          0.4289145052833814,
          0.42939481268011526,
          0.4298751200768492,
          0.4303554274735831,
          0.430835734870317,
          0.4313160422670509,
          0.43179634966378483,
          0.4322766570605187,
          0.43275696445725265,
          0.4332372718539865,
          0.43371757925072046,
          0.43419788664745435,
          0.4346781940441883,
          0.43515850144092216,
          0.4356388088376561,
          0.43611911623439004,
          0.4365994236311239,
          0.43707973102785785,
          0.43756003842459174,
          0.43804034582132567,
          0.43852065321805955,
          0.4390009606147935,
          0.43948126801152737,
          0.4399615754082613,
          0.4404418828049952,
          0.4409221902017291,
          0.441402497598463,
          0.44188280499519694,
          0.4423631123919308,
          0.44284341978866476,
          0.44332372718539864,
          0.4438040345821326,
          0.44428434197886646,
          0.4447646493756004,
          0.4452449567723343,
          0.4457252641690682,
          0.4462055715658021,
          0.44668587896253603,
          0.4471661863592699,
          0.44764649375600385,
          0.44812680115273773,
          0.44860710854947167,
          0.44908741594620555,
          0.4495677233429395,
          0.45004803073967337,
          0.4505283381364073,
          0.4510086455331412,
          0.4514889529298751,
          0.45196926032660906,
          0.45244956772334294,
          0.4529298751200769,
          0.45341018251681076,
          0.4538904899135447,
          0.4543707973102786,
          0.4548511047070125,
          0.4553314121037464,
          0.45581171950048033,
          0.4562920268972142,
          0.45677233429394815,
          0.457252641690682,
          0.45773294908741596,
          0.45821325648414984,
          0.4586935638808838,
          0.45917387127761766,
          0.4596541786743516,
          0.4601344860710855,
          0.4606147934678194,
          0.4610951008645533,
          0.46157540826128723,
          0.4620557156580211,
          0.46253602305475505,
          0.46301633045148893,
          0.46349663784822287,
          0.46397694524495675,
          0.4644572526416907,
          0.46493756003842457,
          0.4654178674351585,
          0.4658981748318924,
          0.4663784822286263,
          0.4668587896253602,
          0.46733909702209414,
          0.4678194044188281,
          0.46829971181556196,
          0.4687800192122959,
          0.4692603266090298,
          0.4697406340057637,
          0.4702209414024976,
          0.47070124879923153,
          0.4711815561959654,
          0.47166186359269935,
          0.47214217098943323,
          0.47262247838616717,
          0.47310278578290105,
          0.473583093179635,
          0.47406340057636887,
          0.4745437079731028,
          0.4750240153698367,
          0.4755043227665706,
          0.4759846301633045,
          0.47646493756003844,
          0.4769452449567723,
          0.47742555235350626,
          0.47790585975024014,
          0.4783861671469741,
          0.47886647454370795,
          0.4793467819404419,
          0.47982708933717577,
          0.4803073967339097,
          0.4807877041306436,
          0.4812680115273775,
          0.4817483189241114,
          0.48222862632084534,
          0.4827089337175792,
          0.48318924111431316,
          0.48366954851104704,
          0.484149855907781,
          0.4846301633045149,
          0.4851104707012488,
          0.48559077809798273,
          0.4860710854947166,
          0.48655139289145055,
          0.48703170028818443,
          0.48751200768491837,
          0.48799231508165225,
          0.4884726224783862,
          0.48895292987512007,
          0.489433237271854,
          0.4899135446685879,
          0.4903938520653218,
          0.4908741594620557,
          0.49135446685878964,
          0.4918347742555235,
          0.49231508165225746,
          0.49279538904899134,
          0.4932756964457253,
          0.49375600384245916,
          0.4942363112391931,
          0.494716618635927,
          0.4951969260326609,
          0.4956772334293948,
          0.49615754082612873,
          0.4966378482228626,
          0.49711815561959655,
          0.49759846301633043,
          0.49807877041306436,
          0.49855907780979825,
          0.4990393852065322,
          0.49951969260326606,
          0.5,
          0.5004803073967339,
          0.5009606147934679,
          0.5014409221902018,
          0.5019212295869356,
          0.5024015369836695,
          0.5028818443804035,
          0.5033621517771374,
          0.5038424591738713,
          0.5043227665706052,
          0.5048030739673391,
          0.505283381364073,
          0.5057636887608069,
          0.5062439961575408,
          0.5067243035542748,
          0.5072046109510087,
          0.5076849183477425,
          0.5081652257444764,
          0.5086455331412104,
          0.5091258405379443,
          0.5096061479346782,
          0.5100864553314121,
          0.510566762728146,
          0.5110470701248799,
          0.5115273775216138,
          0.5120076849183477,
          0.5124879923150817,
          0.5129682997118156,
          0.5134486071085494,
          0.5139289145052833,
          0.5144092219020173,
          0.5148895292987512,
          0.5153698366954851,
          0.515850144092219,
          0.516330451488953,
          0.5168107588856868,
          0.5172910662824207,
          0.5177713736791547,
          0.5182516810758886,
          0.5187319884726225,
          0.5192122958693564,
          0.5196926032660903,
          0.5201729106628242,
          0.5206532180595581,
          0.521133525456292,
          0.521613832853026,
          0.5220941402497599,
          0.5225744476464937,
          0.5230547550432276,
          0.5235350624399616,
          0.5240153698366955,
          0.5244956772334294,
          0.5249759846301633,
          0.5254562920268973,
          0.5259365994236311,
          0.526416906820365,
          0.5268972142170989,
          0.5273775216138329,
          0.5278578290105668,
          0.5283381364073007,
          0.5288184438040345,
          0.5292987512007685,
          0.5297790585975024,
          0.5302593659942363,
          0.5307396733909702,
          0.5312199807877042,
          0.531700288184438,
          0.5321805955811719,
          0.5326609029779059,
          0.5331412103746398,
          0.5336215177713737,
          0.5341018251681076,
          0.5345821325648416,
          0.5350624399615754,
          0.5355427473583093,
          0.5360230547550432,
          0.5365033621517772,
          0.5369836695485111,
          0.537463976945245,
          0.5379442843419788,
          0.5384245917387128,
          0.5389048991354467,
          0.5393852065321806,
          0.5398655139289145,
          0.5403458213256485,
          0.5408261287223823,
          0.5413064361191162,
          0.5417867435158501,
          0.5422670509125841,
          0.542747358309318,
          0.5432276657060519,
          0.5437079731027857,
          0.5441882804995197,
          0.5446685878962536,
          0.5451488952929875,
          0.5456292026897214,
          0.5461095100864554,
          0.5465898174831892,
          0.5470701248799231,
          0.547550432276657,
          0.548030739673391,
          0.5485110470701249,
          0.5489913544668588,
          0.5494716618635928,
          0.5499519692603266,
          0.5504322766570605,
          0.5509125840537944,
          0.5513928914505284,
          0.5518731988472623,
          0.5523535062439962,
          0.55283381364073,
          0.553314121037464,
          0.5537944284341979,
          0.5542747358309318,
          0.5547550432276657,
          0.5552353506243997,
          0.5557156580211335,
          0.5561959654178674,
          0.5566762728146013,
          0.5571565802113353,
          0.5576368876080692,
          0.5581171950048031,
          0.5585975024015369,
          0.5590778097982709,
          0.5595581171950048,
          0.5600384245917387,
          0.5605187319884726,
          0.5609990393852066,
          0.5614793467819404,
          0.5619596541786743,
          0.5624399615754082,
          0.5629202689721422,
          0.5634005763688761,
          0.56388088376561,
          0.5643611911623438,
          0.5648414985590778,
          0.5653218059558117,
          0.5658021133525456,
          0.5662824207492796,
          0.5667627281460135,
          0.5672430355427474,
          0.5677233429394812,
          0.5682036503362152,
          0.5686839577329491,
          0.569164265129683,
          0.5696445725264169,
          0.5701248799231509,
          0.5706051873198847,
          0.5710854947166186,
          0.5715658021133525,
          0.5720461095100865,
          0.5725264169068204,
          0.5730067243035543,
          0.5734870317002881,
          0.5739673390970221,
          0.574447646493756,
          0.5749279538904899,
          0.5754082612872238,
          0.5758885686839578,
          0.5763688760806917,
          0.5768491834774255,
          0.5773294908741594,
          0.5778097982708934,
          0.5782901056676273,
          0.5787704130643612,
          0.579250720461095,
          0.579731027857829,
          0.5802113352545629,
          0.5806916426512968,
          0.5811719500480308,
          0.5816522574447647,
          0.5821325648414986,
          0.5826128722382324,
          0.5830931796349664,
          0.5835734870317003,
          0.5840537944284342,
          0.5845341018251681,
          0.5850144092219021,
          0.585494716618636,
          0.5859750240153698,
          0.5864553314121037,
          0.5869356388088377,
          0.5874159462055716,
          0.5878962536023055,
          0.5883765609990393,
          0.5888568683957733,
          0.5893371757925072,
          0.5898174831892411,
          0.590297790585975,
          0.590778097982709,
          0.5912584053794429,
          0.5917387127761767,
          0.5922190201729106,
          0.5926993275696446,
          0.5931796349663785,
          0.5936599423631124,
          0.5941402497598463,
          0.5946205571565802,
          0.5951008645533141,
          0.595581171950048,
          0.5960614793467819,
          0.5965417867435159,
          0.5970220941402498,
          0.5975024015369836,
          0.5979827089337176,
          0.5984630163304515,
          0.5989433237271854,
          0.5994236311239193,
          0.5999039385206533,
          0.6003842459173871,
          0.600864553314121,
          0.6013448607108549,
          0.6018251681075889,
          0.6023054755043228,
          0.6027857829010567,
          0.6032660902977905,
          0.6037463976945245,
          0.6042267050912584,
          0.6047070124879923,
          0.6051873198847262,
          0.6056676272814602,
          0.6061479346781941,
          0.6066282420749279,
          0.6071085494716618,
          0.6075888568683958,
          0.6080691642651297,
          0.6085494716618636,
          0.6090297790585975,
          0.6095100864553314,
          0.6099903938520653,
          0.6104707012487992,
          0.6109510086455331,
          0.6114313160422671,
          0.611911623439001,
          0.6123919308357348,
          0.6128722382324687,
          0.6133525456292027,
          0.6138328530259366,
          0.6143131604226705,
          0.6147934678194045,
          0.6152737752161384,
          0.6157540826128722,
          0.6162343900096061,
          0.6167146974063401,
          0.617195004803074,
          0.6176753121998079,
          0.6181556195965417,
          0.6186359269932757,
          0.6191162343900096,
          0.6195965417867435,
          0.6200768491834774,
          0.6205571565802114,
          0.6210374639769453,
          0.6215177713736791,
          0.621998078770413,
          0.622478386167147,
          0.6229586935638809,
          0.6234390009606148,
          0.6239193083573487,
          0.6243996157540826,
          0.6248799231508165,
          0.6253602305475504,
          0.6258405379442843,
          0.6263208453410183,
          0.6268011527377522,
          0.627281460134486,
          0.6277617675312199,
          0.6282420749279539,
          0.6287223823246878,
          0.6292026897214217,
          0.6296829971181557,
          0.6301633045148896,
          0.6306436119116234,
          0.6311239193083573,
          0.6316042267050913,
          0.6320845341018252,
          0.6325648414985591,
          0.633045148895293,
          0.633525456292027,
          0.6340057636887608,
          0.6344860710854947,
          0.6349663784822286,
          0.6354466858789626,
          0.6359269932756965,
          0.6364073006724303,
          0.6368876080691642,
          0.6373679154658982,
          0.6378482228626321,
          0.638328530259366,
          0.6388088376560999,
          0.6392891450528339,
          0.6397694524495677,
          0.6402497598463016,
          0.6407300672430355,
          0.6412103746397695,
          0.6416906820365034,
          0.6421709894332372,
          0.6426512968299711,
          0.6431316042267051,
          0.643611911623439,
          0.6440922190201729,
          0.6445725264169068,
          0.6450528338136408,
          0.6455331412103746,
          0.6460134486071085,
          0.6464937560038425,
          0.6469740634005764,
          0.6474543707973103,
          0.6479346781940442,
          0.6484149855907781,
          0.648895292987512,
          0.6493756003842459,
          0.6498559077809798,
          0.6503362151777138,
          0.6508165225744477,
          0.6512968299711815,
          0.6517771373679154,
          0.6522574447646494,
          0.6527377521613833,
          0.6532180595581172,
          0.6536983669548511,
          0.654178674351585,
          0.6546589817483189,
          0.6551392891450528,
          0.6556195965417867,
          0.6560999039385207,
          0.6565802113352546,
          0.6570605187319885,
          0.6575408261287223,
          0.6580211335254563,
          0.6585014409221902,
          0.6589817483189241,
          0.659462055715658,
          0.659942363112392,
          0.6604226705091258,
          0.6609029779058597,
          0.6613832853025937,
          0.6618635926993276,
          0.6623439000960615,
          0.6628242074927954,
          0.6633045148895294,
          0.6637848222862632,
          0.6642651296829971,
          0.664745437079731,
          0.665225744476465,
          0.6657060518731989,
          0.6661863592699327,
          0.6666666666666666,
          0.6671469740634006,
          0.6676272814601345,
          0.6681075888568684,
          0.6685878962536023,
          0.6690682036503363,
          0.6695485110470701,
          0.670028818443804,
          0.6705091258405379,
          0.6709894332372719,
          0.6714697406340058,
          0.6719500480307397,
          0.6724303554274735,
          0.6729106628242075,
          0.6733909702209414,
          0.6738712776176753,
          0.6743515850144092,
          0.6748318924111432,
          0.675312199807877,
          0.6757925072046109,
          0.6762728146013448,
          0.6767531219980788,
          0.6772334293948127,
          0.6777137367915466,
          0.6781940441882806,
          0.6786743515850144,
          0.6791546589817483,
          0.6796349663784822,
          0.6801152737752162,
          0.6805955811719501,
          0.681075888568684,
          0.6815561959654178,
          0.6820365033621518,
          0.6825168107588857,
          0.6829971181556196,
          0.6834774255523535,
          0.6839577329490875,
          0.6844380403458213,
          0.6849183477425552,
          0.6853986551392891,
          0.6858789625360231,
          0.686359269932757,
          0.6868395773294909,
          0.6873198847262247,
          0.6878001921229587,
          0.6882804995196926,
          0.6887608069164265,
          0.6892411143131604,
          0.6897214217098944,
          0.6902017291066282,
          0.6906820365033621,
          0.691162343900096,
          0.69164265129683,
          0.6921229586935639,
          0.6926032660902978,
          0.6930835734870316,
          0.6935638808837656,
          0.6940441882804995,
          0.6945244956772334,
          0.6950048030739674,
          0.6954851104707013,
          0.6959654178674352,
          0.696445725264169,
          0.696926032660903,
          0.6974063400576369,
          0.6978866474543708,
          0.6983669548511047,
          0.6988472622478387,
          0.6993275696445725,
          0.6998078770413064,
          0.7002881844380403,
          0.7007684918347743,
          0.7012487992315082,
          0.7017291066282421,
          0.7022094140249759,
          0.7026897214217099,
          0.7031700288184438,
          0.7036503362151777,
          0.7041306436119116,
          0.7046109510086456,
          0.7050912584053795,
          0.7055715658021133,
          0.7060518731988472,
          0.7065321805955812,
          0.7070124879923151,
          0.707492795389049,
          0.7079731027857828,
          0.7084534101825168,
          0.7089337175792507,
          0.7094140249759846,
          0.7098943323727186,
          0.7103746397694525,
          0.7108549471661864,
          0.7113352545629202,
          0.7118155619596542,
          0.7122958693563881,
          0.712776176753122,
          0.7132564841498559,
          0.7137367915465899,
          0.7142170989433237,
          0.7146974063400576,
          0.7151777137367915,
          0.7156580211335255,
          0.7161383285302594,
          0.7166186359269933,
          0.7170989433237271,
          0.7175792507204611,
          0.718059558117195,
          0.7185398655139289,
          0.7190201729106628,
          0.7195004803073968,
          0.7199807877041307,
          0.7204610951008645,
          0.7209414024975984,
          0.7214217098943324,
          0.7219020172910663,
          0.7223823246878002,
          0.722862632084534,
          0.723342939481268,
          0.7238232468780019,
          0.7243035542747358,
          0.7247838616714697,
          0.7252641690682037,
          0.7257444764649376,
          0.7262247838616714,
          0.7267050912584054,
          0.7271853986551393,
          0.7276657060518732,
          0.7281460134486071,
          0.7286263208453411,
          0.729106628242075,
          0.7295869356388088,
          0.7300672430355427,
          0.7305475504322767,
          0.7310278578290106,
          0.7315081652257445,
          0.7319884726224783,
          0.7324687800192123,
          0.7329490874159462,
          0.7334293948126801,
          0.733909702209414,
          0.734390009606148,
          0.7348703170028819,
          0.7353506243996157,
          0.7358309317963496,
          0.7363112391930836,
          0.7367915465898175,
          0.7372718539865514,
          0.7377521613832853,
          0.7382324687800192,
          0.7387127761767531,
          0.739193083573487,
          0.7396733909702209,
          0.7401536983669549,
          0.7406340057636888,
          0.7411143131604226,
          0.7415946205571565,
          0.7420749279538905,
          0.7425552353506244,
          0.7430355427473583,
          0.7435158501440923,
          0.7439961575408262,
          0.74447646493756,
          0.7449567723342939,
          0.7454370797310279,
          0.7459173871277618,
          0.7463976945244957,
          0.7468780019212296,
          0.7473583093179635,
          0.7478386167146974,
          0.7483189241114313,
          0.7487992315081652,
          0.7492795389048992,
          0.7497598463016331,
          0.7502401536983669,
          0.7507204610951008,
          0.7512007684918348,
          0.7516810758885687,
          0.7521613832853026,
          0.7526416906820365,
          0.7531219980787704,
          0.7536023054755043,
          0.7540826128722382,
          0.7545629202689721,
          0.7550432276657061,
          0.75552353506244,
          0.7560038424591738,
          0.7564841498559077,
          0.7569644572526417,
          0.7574447646493756,
          0.7579250720461095,
          0.7584053794428435,
          0.7588856868395774,
          0.7593659942363112,
          0.7598463016330451,
          0.7603266090297791,
          0.760806916426513,
          0.7612872238232469,
          0.7617675312199808,
          0.7622478386167147,
          0.7627281460134486,
          0.7632084534101825,
          0.7636887608069164,
          0.7641690682036504,
          0.7646493756003843,
          0.7651296829971181,
          0.765609990393852,
          0.766090297790586,
          0.7665706051873199,
          0.7670509125840538,
          0.7675312199807877,
          0.7680115273775217,
          0.7684918347742555,
          0.7689721421709894,
          0.7694524495677233,
          0.7699327569644573,
          0.7704130643611912,
          0.770893371757925,
          0.7713736791546589,
          0.7718539865513929,
          0.7723342939481268,
          0.7728146013448607,
          0.7732949087415946,
          0.7737752161383286,
          0.7742555235350624,
          0.7747358309317963,
          0.7752161383285303,
          0.7756964457252642,
          0.7761767531219981,
          0.776657060518732,
          0.777137367915466,
          0.7776176753121998,
          0.7780979827089337,
          0.7785782901056676,
          0.7790585975024016,
          0.7795389048991355,
          0.7800192122958693,
          0.7804995196926032,
          0.7809798270893372,
          0.7814601344860711,
          0.781940441882805,
          0.7824207492795389,
          0.7829010566762729,
          0.7833813640730067,
          0.7838616714697406,
          0.7843419788664745,
          0.7848222862632085,
          0.7853025936599424,
          0.7857829010566763,
          0.7862632084534101,
          0.7867435158501441,
          0.787223823246878,
          0.7877041306436119,
          0.7881844380403458,
          0.7886647454370798,
          0.7891450528338136,
          0.7896253602305475,
          0.7901056676272814,
          0.7905859750240154,
          0.7910662824207493,
          0.7915465898174832,
          0.7920268972142172,
          0.792507204610951,
          0.7929875120076849,
          0.7934678194044188,
          0.7939481268011528,
          0.7944284341978867,
          0.7949087415946205,
          0.7953890489913544,
          0.7958693563880884,
          0.7963496637848223,
          0.7968299711815562,
          0.7973102785782901,
          0.7977905859750241,
          0.7982708933717579,
          0.7987512007684918,
          0.7992315081652257,
          0.7997118155619597,
          0.8001921229586936,
          0.8006724303554275,
          0.8011527377521613,
          0.8016330451488953,
          0.8021133525456292,
          0.8025936599423631,
          0.803073967339097,
          0.803554274735831,
          0.8040345821325648,
          0.8045148895292987,
          0.8049951969260326,
          0.8054755043227666,
          0.8059558117195005,
          0.8064361191162344,
          0.8069164265129684,
          0.8073967339097022,
          0.8078770413064361,
          0.80835734870317,
          0.808837656099904,
          0.8093179634966379,
          0.8097982708933718,
          0.8102785782901056,
          0.8107588856868396,
          0.8112391930835735,
          0.8117195004803074,
          0.8121998078770413,
          0.8126801152737753,
          0.8131604226705091,
          0.813640730067243,
          0.8141210374639769,
          0.8146013448607109,
          0.8150816522574448,
          0.8155619596541787,
          0.8160422670509125,
          0.8165225744476465,
          0.8170028818443804,
          0.8174831892411143,
          0.8179634966378482,
          0.8184438040345822,
          0.818924111431316,
          0.8194044188280499,
          0.8198847262247838,
          0.8203650336215178,
          0.8208453410182517,
          0.8213256484149856,
          0.8218059558117194,
          0.8222862632084534,
          0.8227665706051873,
          0.8232468780019212,
          0.8237271853986552,
          0.8242074927953891,
          0.824687800192123,
          0.8251681075888568,
          0.8256484149855908,
          0.8261287223823247,
          0.8266090297790586,
          0.8270893371757925,
          0.8275696445725265,
          0.8280499519692603,
          0.8285302593659942,
          0.8290105667627281,
          0.8294908741594621,
          0.829971181556196,
          0.8304514889529299,
          0.8309317963496637,
          0.8314121037463977,
          0.8318924111431316,
          0.8323727185398655,
          0.8328530259365994,
          0.8333333333333334,
          0.8338136407300673,
          0.8342939481268011,
          0.834774255523535,
          0.835254562920269,
          0.8357348703170029,
          0.8362151777137368,
          0.8366954851104706,
          0.8371757925072046,
          0.8376560999039385,
          0.8381364073006724,
          0.8386167146974063,
          0.8390970220941403,
          0.8395773294908742,
          0.840057636887608,
          0.840537944284342,
          0.8410182516810759,
          0.8414985590778098,
          0.8419788664745437,
          0.8424591738712777,
          0.8429394812680115,
          0.8434197886647454,
          0.8439000960614793,
          0.8443804034582133,
          0.8448607108549472,
          0.8453410182516811,
          0.845821325648415,
          0.8463016330451489,
          0.8467819404418828,
          0.8472622478386167,
          0.8477425552353506,
          0.8482228626320846,
          0.8487031700288185,
          0.8491834774255523,
          0.8496637848222862,
          0.8501440922190202,
          0.8506243996157541,
          0.851104707012488,
          0.8515850144092219,
          0.8520653218059558,
          0.8525456292026897,
          0.8530259365994236,
          0.8535062439961575,
          0.8539865513928915,
          0.8544668587896254,
          0.8549471661863592,
          0.8554274735830932,
          0.8559077809798271,
          0.856388088376561,
          0.8568683957732949,
          0.8573487031700289,
          0.8578290105667628,
          0.8583093179634966,
          0.8587896253602305,
          0.8592699327569645,
          0.8597502401536984,
          0.8602305475504323,
          0.8607108549471661,
          0.8611911623439001,
          0.861671469740634,
          0.8621517771373679,
          0.8626320845341018,
          0.8631123919308358,
          0.8635926993275697,
          0.8640730067243035,
          0.8645533141210374,
          0.8650336215177714,
          0.8655139289145053,
          0.8659942363112392,
          0.866474543707973,
          0.866954851104707,
          0.8674351585014409,
          0.8679154658981748,
          0.8683957732949087,
          0.8688760806916427,
          0.8693563880883766,
          0.8698366954851104,
          0.8703170028818443,
          0.8707973102785783,
          0.8712776176753122,
          0.8717579250720461,
          0.8722382324687801,
          0.872718539865514,
          0.8731988472622478,
          0.8736791546589817,
          0.8741594620557157,
          0.8746397694524496,
          0.8751200768491835,
          0.8756003842459174,
          0.8760806916426513,
          0.8765609990393852,
          0.8770413064361191,
          0.877521613832853,
          0.878001921229587,
          0.8784822286263209,
          0.8789625360230547,
          0.8794428434197886,
          0.8799231508165226,
          0.8804034582132565,
          0.8808837656099904,
          0.8813640730067243,
          0.8818443804034583,
          0.8823246878001921,
          0.882804995196926,
          0.8832853025936599,
          0.8837656099903939,
          0.8842459173871278,
          0.8847262247838616,
          0.8852065321805955,
          0.8856868395773295,
          0.8861671469740634,
          0.8866474543707973,
          0.8871277617675313,
          0.8876080691642652,
          0.888088376560999,
          0.8885686839577329,
          0.8890489913544669,
          0.8895292987512008,
          0.8900096061479347,
          0.8904899135446686,
          0.8909702209414025,
          0.8914505283381364,
          0.8919308357348703,
          0.8924111431316042,
          0.8928914505283382,
          0.8933717579250721,
          0.8938520653218059,
          0.8943323727185398,
          0.8948126801152738,
          0.8952929875120077,
          0.8957732949087416,
          0.8962536023054755,
          0.8967339097022095,
          0.8972142170989433,
          0.8976945244956772,
          0.8981748318924111,
          0.8986551392891451,
          0.899135446685879,
          0.8996157540826129,
          0.9000960614793467,
          0.9005763688760807,
          0.9010566762728146,
          0.9015369836695485,
          0.9020172910662824,
          0.9024975984630164,
          0.9029779058597502,
          0.9034582132564841,
          0.9039385206532181,
          0.904418828049952,
          0.9048991354466859,
          0.9053794428434198,
          0.9058597502401537,
          0.9063400576368876,
          0.9068203650336215,
          0.9073006724303554,
          0.9077809798270894,
          0.9082612872238233,
          0.9087415946205571,
          0.909221902017291,
          0.909702209414025,
          0.9101825168107589,
          0.9106628242074928,
          0.9111431316042267,
          0.9116234390009607,
          0.9121037463976945,
          0.9125840537944284,
          0.9130643611911623,
          0.9135446685878963,
          0.9140249759846302,
          0.914505283381364,
          0.9149855907780979,
          0.9154658981748319,
          0.9159462055715658,
          0.9164265129682997,
          0.9169068203650336,
          0.9173871277617676,
          0.9178674351585014,
          0.9183477425552353,
          0.9188280499519692,
          0.9193083573487032,
          0.9197886647454371,
          0.920268972142171,
          0.920749279538905,
          0.9212295869356388,
          0.9217098943323727,
          0.9221902017291066,
          0.9226705091258406,
          0.9231508165225745,
          0.9236311239193083,
          0.9241114313160422,
          0.9245917387127762,
          0.9250720461095101,
          0.925552353506244,
          0.9260326609029779,
          0.9265129682997119,
          0.9269932756964457,
          0.9274735830931796,
          0.9279538904899135,
          0.9284341978866475,
          0.9289145052833814,
          0.9293948126801153,
          0.9298751200768491,
          0.9303554274735831,
          0.930835734870317,
          0.9313160422670509,
          0.9317963496637848,
          0.9322766570605188,
          0.9327569644572526,
          0.9332372718539865,
          0.9337175792507204,
          0.9341978866474544,
          0.9346781940441883,
          0.9351585014409222,
          0.9356388088376562,
          0.93611911623439,
          0.9365994236311239,
          0.9370797310278578,
          0.9375600384245918,
          0.9380403458213257,
          0.9385206532180596,
          0.9390009606147934,
          0.9394812680115274,
          0.9399615754082613,
          0.9404418828049952,
          0.9409221902017291,
          0.9414024975984631,
          0.9418828049951969,
          0.9423631123919308,
          0.9428434197886647,
          0.9433237271853987,
          0.9438040345821326,
          0.9442843419788665,
          0.9447646493756003,
          0.9452449567723343,
          0.9457252641690682,
          0.9462055715658021,
          0.946685878962536,
          0.94716618635927,
          0.9476464937560038,
          0.9481268011527377,
          0.9486071085494716,
          0.9490874159462056,
          0.9495677233429395,
          0.9500480307396734,
          0.9505283381364072,
          0.9510086455331412,
          0.9514889529298751,
          0.951969260326609,
          0.952449567723343,
          0.9529298751200769,
          0.9534101825168108,
          0.9538904899135446,
          0.9543707973102786,
          0.9548511047070125,
          0.9553314121037464,
          0.9558117195004803,
          0.9562920268972143,
          0.9567723342939481,
          0.957252641690682,
          0.9577329490874159,
          0.9582132564841499,
          0.9586935638808838,
          0.9591738712776177,
          0.9596541786743515,
          0.9601344860710855,
          0.9606147934678194,
          0.9610951008645533,
          0.9615754082612872,
          0.9620557156580212,
          0.962536023054755,
          0.9630163304514889,
          0.9634966378482228,
          0.9639769452449568,
          0.9644572526416907,
          0.9649375600384246,
          0.9654178674351584,
          0.9658981748318924,
          0.9663784822286263,
          0.9668587896253602,
          0.9673390970220941,
          0.9678194044188281,
          0.968299711815562,
          0.9687800192122958,
          0.9692603266090298,
          0.9697406340057637,
          0.9702209414024976,
          0.9707012487992315,
          0.9711815561959655,
          0.9716618635926993,
          0.9721421709894332,
          0.9726224783861671,
          0.9731027857829011,
          0.973583093179635,
          0.9740634005763689,
          0.9745437079731027,
          0.9750240153698367,
          0.9755043227665706,
          0.9759846301633045,
          0.9764649375600384,
          0.9769452449567724,
          0.9774255523535063,
          0.9779058597502401,
          0.978386167146974,
          0.978866474543708,
          0.9793467819404419,
          0.9798270893371758,
          0.9803073967339097,
          0.9807877041306436,
          0.9812680115273775,
          0.9817483189241114,
          0.9822286263208453,
          0.9827089337175793,
          0.9831892411143132,
          0.983669548511047,
          0.984149855907781,
          0.9846301633045149,
          0.9851104707012488,
          0.9855907780979827,
          0.9860710854947167,
          0.9865513928914506,
          0.9870317002881844,
          0.9875120076849183,
          0.9879923150816523,
          0.9884726224783862,
          0.9889529298751201,
          0.989433237271854,
          0.9899135446685879,
          0.9903938520653218,
          0.9908741594620557,
          0.9913544668587896,
          0.9918347742555236,
          0.9923150816522575,
          0.9927953890489913,
          0.9932756964457252,
          0.9937560038424592,
          0.9942363112391931,
          0.994716618635927,
          0.9951969260326609,
          0.9956772334293948,
          0.9961575408261287,
          0.9966378482228626,
          0.9971181556195965,
          0.9975984630163305,
          0.9980787704130644,
          0.9985590778097982,
          0.9990393852065321,
          0.9995196926032661,
          1
         ],
         "yaxis": "y"
        }
       ],
       "layout": {
        "autosize": true,
        "legend": {
         "tracegroupgap": 0
        },
        "margin": {
         "t": 60
        },
        "template": {
         "data": {
          "bar": [
           {
            "error_x": {
             "color": "#2a3f5f"
            },
            "error_y": {
             "color": "#2a3f5f"
            },
            "marker": {
             "line": {
              "color": "#E5ECF6",
              "width": 0.5
             },
             "pattern": {
              "fillmode": "overlay",
              "size": 10,
              "solidity": 0.2
             }
            },
            "type": "bar"
           }
          ],
          "barpolar": [
           {
            "marker": {
             "line": {
              "color": "#E5ECF6",
              "width": 0.5
             },
             "pattern": {
              "fillmode": "overlay",
              "size": 10,
              "solidity": 0.2
             }
            },
            "type": "barpolar"
           }
          ],
          "carpet": [
           {
            "aaxis": {
             "endlinecolor": "#2a3f5f",
             "gridcolor": "white",
             "linecolor": "white",
             "minorgridcolor": "white",
             "startlinecolor": "#2a3f5f"
            },
            "baxis": {
             "endlinecolor": "#2a3f5f",
             "gridcolor": "white",
             "linecolor": "white",
             "minorgridcolor": "white",
             "startlinecolor": "#2a3f5f"
            },
            "type": "carpet"
           }
          ],
          "choropleth": [
           {
            "colorbar": {
             "outlinewidth": 0,
             "ticks": ""
            },
            "type": "choropleth"
           }
          ],
          "contour": [
           {
            "colorbar": {
             "outlinewidth": 0,
             "ticks": ""
            },
            "colorscale": [
             [
              0,
              "#0d0887"
             ],
             [
              0.1111111111111111,
              "#46039f"
             ],
             [
              0.2222222222222222,
              "#7201a8"
             ],
             [
              0.3333333333333333,
              "#9c179e"
             ],
             [
              0.4444444444444444,
              "#bd3786"
             ],
             [
              0.5555555555555556,
              "#d8576b"
             ],
             [
              0.6666666666666666,
              "#ed7953"
             ],
             [
              0.7777777777777778,
              "#fb9f3a"
             ],
             [
              0.8888888888888888,
              "#fdca26"
             ],
             [
              1,
              "#f0f921"
             ]
            ],
            "type": "contour"
           }
          ],
          "contourcarpet": [
           {
            "colorbar": {
             "outlinewidth": 0,
             "ticks": ""
            },
            "type": "contourcarpet"
           }
          ],
          "heatmap": [
           {
            "colorbar": {
             "outlinewidth": 0,
             "ticks": ""
            },
            "colorscale": [
             [
              0,
              "#0d0887"
             ],
             [
              0.1111111111111111,
              "#46039f"
             ],
             [
              0.2222222222222222,
              "#7201a8"
             ],
             [
              0.3333333333333333,
              "#9c179e"
             ],
             [
              0.4444444444444444,
              "#bd3786"
             ],
             [
              0.5555555555555556,
              "#d8576b"
             ],
             [
              0.6666666666666666,
              "#ed7953"
             ],
             [
              0.7777777777777778,
              "#fb9f3a"
             ],
             [
              0.8888888888888888,
              "#fdca26"
             ],
             [
              1,
              "#f0f921"
             ]
            ],
            "type": "heatmap"
           }
          ],
          "heatmapgl": [
           {
            "colorbar": {
             "outlinewidth": 0,
             "ticks": ""
            },
            "colorscale": [
             [
              0,
              "#0d0887"
             ],
             [
              0.1111111111111111,
              "#46039f"
             ],
             [
              0.2222222222222222,
              "#7201a8"
             ],
             [
              0.3333333333333333,
              "#9c179e"
             ],
             [
              0.4444444444444444,
              "#bd3786"
             ],
             [
              0.5555555555555556,
              "#d8576b"
             ],
             [
              0.6666666666666666,
              "#ed7953"
             ],
             [
              0.7777777777777778,
              "#fb9f3a"
             ],
             [
              0.8888888888888888,
              "#fdca26"
             ],
             [
              1,
              "#f0f921"
             ]
            ],
            "type": "heatmapgl"
           }
          ],
          "histogram": [
           {
            "marker": {
             "pattern": {
              "fillmode": "overlay",
              "size": 10,
              "solidity": 0.2
             }
            },
            "type": "histogram"
           }
          ],
          "histogram2d": [
           {
            "colorbar": {
             "outlinewidth": 0,
             "ticks": ""
            },
            "colorscale": [
             [
              0,
              "#0d0887"
             ],
             [
              0.1111111111111111,
              "#46039f"
             ],
             [
              0.2222222222222222,
              "#7201a8"
             ],
             [
              0.3333333333333333,
              "#9c179e"
             ],
             [
              0.4444444444444444,
              "#bd3786"
             ],
             [
              0.5555555555555556,
              "#d8576b"
             ],
             [
              0.6666666666666666,
              "#ed7953"
             ],
             [
              0.7777777777777778,
              "#fb9f3a"
             ],
             [
              0.8888888888888888,
              "#fdca26"
             ],
             [
              1,
              "#f0f921"
             ]
            ],
            "type": "histogram2d"
           }
          ],
          "histogram2dcontour": [
           {
            "colorbar": {
             "outlinewidth": 0,
             "ticks": ""
            },
            "colorscale": [
             [
              0,
              "#0d0887"
             ],
             [
              0.1111111111111111,
              "#46039f"
             ],
             [
              0.2222222222222222,
              "#7201a8"
             ],
             [
              0.3333333333333333,
              "#9c179e"
             ],
             [
              0.4444444444444444,
              "#bd3786"
             ],
             [
              0.5555555555555556,
              "#d8576b"
             ],
             [
              0.6666666666666666,
              "#ed7953"
             ],
             [
              0.7777777777777778,
              "#fb9f3a"
             ],
             [
              0.8888888888888888,
              "#fdca26"
             ],
             [
              1,
              "#f0f921"
             ]
            ],
            "type": "histogram2dcontour"
           }
          ],
          "mesh3d": [
           {
            "colorbar": {
             "outlinewidth": 0,
             "ticks": ""
            },
            "type": "mesh3d"
           }
          ],
          "parcoords": [
           {
            "line": {
             "colorbar": {
              "outlinewidth": 0,
              "ticks": ""
             }
            },
            "type": "parcoords"
           }
          ],
          "pie": [
           {
            "automargin": true,
            "type": "pie"
           }
          ],
          "scatter": [
           {
            "fillpattern": {
             "fillmode": "overlay",
             "size": 10,
             "solidity": 0.2
            },
            "type": "scatter"
           }
          ],
          "scatter3d": [
           {
            "line": {
             "colorbar": {
              "outlinewidth": 0,
              "ticks": ""
             }
            },
            "marker": {
             "colorbar": {
              "outlinewidth": 0,
              "ticks": ""
             }
            },
            "type": "scatter3d"
           }
          ],
          "scattercarpet": [
           {
            "marker": {
             "colorbar": {
              "outlinewidth": 0,
              "ticks": ""
             }
            },
            "type": "scattercarpet"
           }
          ],
          "scattergeo": [
           {
            "marker": {
             "colorbar": {
              "outlinewidth": 0,
              "ticks": ""
             }
            },
            "type": "scattergeo"
           }
          ],
          "scattergl": [
           {
            "marker": {
             "colorbar": {
              "outlinewidth": 0,
              "ticks": ""
             }
            },
            "type": "scattergl"
           }
          ],
          "scattermapbox": [
           {
            "marker": {
             "colorbar": {
              "outlinewidth": 0,
              "ticks": ""
             }
            },
            "type": "scattermapbox"
           }
          ],
          "scatterpolar": [
           {
            "marker": {
             "colorbar": {
              "outlinewidth": 0,
              "ticks": ""
             }
            },
            "type": "scatterpolar"
           }
          ],
          "scatterpolargl": [
           {
            "marker": {
             "colorbar": {
              "outlinewidth": 0,
              "ticks": ""
             }
            },
            "type": "scatterpolargl"
           }
          ],
          "scatterternary": [
           {
            "marker": {
             "colorbar": {
              "outlinewidth": 0,
              "ticks": ""
             }
            },
            "type": "scatterternary"
           }
          ],
          "surface": [
           {
            "colorbar": {
             "outlinewidth": 0,
             "ticks": ""
            },
            "colorscale": [
             [
              0,
              "#0d0887"
             ],
             [
              0.1111111111111111,
              "#46039f"
             ],
             [
              0.2222222222222222,
              "#7201a8"
             ],
             [
              0.3333333333333333,
              "#9c179e"
             ],
             [
              0.4444444444444444,
              "#bd3786"
             ],
             [
              0.5555555555555556,
              "#d8576b"
             ],
             [
              0.6666666666666666,
              "#ed7953"
             ],
             [
              0.7777777777777778,
              "#fb9f3a"
             ],
             [
              0.8888888888888888,
              "#fdca26"
             ],
             [
              1,
              "#f0f921"
             ]
            ],
            "type": "surface"
           }
          ],
          "table": [
           {
            "cells": {
             "fill": {
              "color": "#EBF0F8"
             },
             "line": {
              "color": "white"
             }
            },
            "header": {
             "fill": {
              "color": "#C8D4E3"
             },
             "line": {
              "color": "white"
             }
            },
            "type": "table"
           }
          ]
         },
         "layout": {
          "annotationdefaults": {
           "arrowcolor": "#2a3f5f",
           "arrowhead": 0,
           "arrowwidth": 1
          },
          "autotypenumbers": "strict",
          "coloraxis": {
           "colorbar": {
            "outlinewidth": 0,
            "ticks": ""
           }
          },
          "colorscale": {
           "diverging": [
            [
             0,
             "#8e0152"
            ],
            [
             0.1,
             "#c51b7d"
            ],
            [
             0.2,
             "#de77ae"
            ],
            [
             0.3,
             "#f1b6da"
            ],
            [
             0.4,
             "#fde0ef"
            ],
            [
             0.5,
             "#f7f7f7"
            ],
            [
             0.6,
             "#e6f5d0"
            ],
            [
             0.7,
             "#b8e186"
            ],
            [
             0.8,
             "#7fbc41"
            ],
            [
             0.9,
             "#4d9221"
            ],
            [
             1,
             "#276419"
            ]
           ],
           "sequential": [
            [
             0,
             "#0d0887"
            ],
            [
             0.1111111111111111,
             "#46039f"
            ],
            [
             0.2222222222222222,
             "#7201a8"
            ],
            [
             0.3333333333333333,
             "#9c179e"
            ],
            [
             0.4444444444444444,
             "#bd3786"
            ],
            [
             0.5555555555555556,
             "#d8576b"
            ],
            [
             0.6666666666666666,
             "#ed7953"
            ],
            [
             0.7777777777777778,
             "#fb9f3a"
            ],
            [
             0.8888888888888888,
             "#fdca26"
            ],
            [
             1,
             "#f0f921"
            ]
           ],
           "sequentialminus": [
            [
             0,
             "#0d0887"
            ],
            [
             0.1111111111111111,
             "#46039f"
            ],
            [
             0.2222222222222222,
             "#7201a8"
            ],
            [
             0.3333333333333333,
             "#9c179e"
            ],
            [
             0.4444444444444444,
             "#bd3786"
            ],
            [
             0.5555555555555556,
             "#d8576b"
            ],
            [
             0.6666666666666666,
             "#ed7953"
            ],
            [
             0.7777777777777778,
             "#fb9f3a"
            ],
            [
             0.8888888888888888,
             "#fdca26"
            ],
            [
             1,
             "#f0f921"
            ]
           ]
          },
          "colorway": [
           "#636efa",
           "#EF553B",
           "#00cc96",
           "#ab63fa",
           "#FFA15A",
           "#19d3f3",
           "#FF6692",
           "#B6E880",
           "#FF97FF",
           "#FECB52"
          ],
          "font": {
           "color": "#2a3f5f"
          },
          "geo": {
           "bgcolor": "white",
           "lakecolor": "white",
           "landcolor": "#E5ECF6",
           "showlakes": true,
           "showland": true,
           "subunitcolor": "white"
          },
          "hoverlabel": {
           "align": "left"
          },
          "hovermode": "closest",
          "mapbox": {
           "style": "light"
          },
          "paper_bgcolor": "white",
          "plot_bgcolor": "#E5ECF6",
          "polar": {
           "angularaxis": {
            "gridcolor": "white",
            "linecolor": "white",
            "ticks": ""
           },
           "bgcolor": "#E5ECF6",
           "radialaxis": {
            "gridcolor": "white",
            "linecolor": "white",
            "ticks": ""
           }
          },
          "scene": {
           "xaxis": {
            "backgroundcolor": "#E5ECF6",
            "gridcolor": "white",
            "gridwidth": 2,
            "linecolor": "white",
            "showbackground": true,
            "ticks": "",
            "zerolinecolor": "white"
           },
           "yaxis": {
            "backgroundcolor": "#E5ECF6",
            "gridcolor": "white",
            "gridwidth": 2,
            "linecolor": "white",
            "showbackground": true,
            "ticks": "",
            "zerolinecolor": "white"
           },
           "zaxis": {
            "backgroundcolor": "#E5ECF6",
            "gridcolor": "white",
            "gridwidth": 2,
            "linecolor": "white",
            "showbackground": true,
            "ticks": "",
            "zerolinecolor": "white"
           }
          },
          "shapedefaults": {
           "line": {
            "color": "#2a3f5f"
           }
          },
          "ternary": {
           "aaxis": {
            "gridcolor": "white",
            "linecolor": "white",
            "ticks": ""
           },
           "baxis": {
            "gridcolor": "white",
            "linecolor": "white",
            "ticks": ""
           },
           "bgcolor": "#E5ECF6",
           "caxis": {
            "gridcolor": "white",
            "linecolor": "white",
            "ticks": ""
           }
          },
          "title": {
           "x": 0.05
          },
          "xaxis": {
           "automargin": true,
           "gridcolor": "white",
           "linecolor": "white",
           "ticks": "",
           "title": {
            "standoff": 15
           },
           "zerolinecolor": "white",
           "zerolinewidth": 2
          },
          "yaxis": {
           "automargin": true,
           "gridcolor": "white",
           "linecolor": "white",
           "ticks": "",
           "title": {
            "standoff": 15
           },
           "zerolinecolor": "white",
           "zerolinewidth": 2
          }
         }
        },
        "xaxis": {
         "anchor": "y",
         "autorange": true,
         "domain": [
          0,
          1
         ],
         "range": [
          1,
          337
         ],
         "title": {
          "text": "count"
         },
         "type": "linear"
        },
        "yaxis": {
         "anchor": "x",
         "autorange": true,
         "domain": [
          0,
          1
         ],
         "range": [
          0,
          1.0526315789473684
         ],
         "rangemode": "tozero",
         "title": {
          "text": "probability"
         },
         "type": "linear"
        }
       }
      },
      "image/png": "[encoded data removed]",
      "text/html": [
       "<div>                            <div id=\"fbf08737-b1dc-44c5-9d03-e4ef8aa1f6ad\" class=\"plotly-graph-div\" style=\"height:525px; width:100%;\"></div>            <script type=\"text/javascript\">                require([\"plotly\"], function(Plotly) {                    window.PLOTLYENV=window.PLOTLYENV || {};                                    if (document.getElementById(\"fbf08737-b1dc-44c5-9d03-e4ef8aa1f6ad\")) {                    Plotly.newPlot(                        \"fbf08737-b1dc-44c5-9d03-e4ef8aa1f6ad\",                        [{\"hovertemplate\":\"count=%{x}<br>probability=%{y}<extra></extra>\",\"legendgroup\":\"\",\"line\":{\"dash\":\"solid\",\"shape\":\"hv\"},\"marker\":{\"color\":\"#636efa\",\"symbol\":\"circle\"},\"mode\":\"lines\",\"name\":\"\",\"showlegend\":false,\"x\":[1,1,1,1,1,1,1,1,1,1,1,1,1,1,1,1,1,1,1,1,1,1,1,1,1,1,1,1,1,1,1,1,1,1,1,1,1,1,1,1,1,1,1,1,1,1,1,1,1,1,1,1,1,1,1,1,1,1,1,1,1,1,1,1,1,1,1,1,1,1,1,1,1,1,1,1,1,1,1,1,1,1,1,1,1,1,1,1,1,1,1,1,1,1,1,1,1,1,1,1,1,1,1,1,1,1,1,1,1,1,1,1,1,1,1,1,1,1,1,1,1,1,1,1,1,1,1,1,1,1,1,1,1,1,1,1,1,1,1,1,1,1,1,1,1,1,1,1,1,1,1,1,1,1,1,1,1,1,1,1,1,1,1,1,1,1,1,1,1,1,1,1,1,1,1,1,1,1,1,1,1,1,1,1,1,1,1,1,1,1,1,1,1,1,1,1,1,1,1,1,1,1,1,1,1,1,1,1,1,1,1,1,1,1,1,1,1,1,1,1,1,1,1,1,1,1,1,1,1,1,1,1,1,1,1,1,1,1,1,1,1,1,1,1,1,1,1,1,1,1,1,1,1,1,1,1,1,1,1,1,1,1,1,1,1,1,1,1,1,1,1,1,1,1,1,1,1,1,1,1,1,1,1,1,1,1,1,1,1,1,1,1,1,1,1,1,1,1,1,1,1,1,1,1,1,1,1,1,1,1,1,1,1,1,1,1,1,1,1,1,1,2,2,2,2,2,2,2,2,2,2,2,2,2,2,2,2,2,2,2,2,2,2,2,2,2,2,2,2,2,2,2,2,2,2,2,2,2,2,2,2,2,2,2,2,2,2,2,2,2,2,2,2,2,2,2,2,2,2,2,2,2,2,2,2,2,2,2,2,2,2,2,2,2,2,2,2,2,2,2,2,2,2,2,2,2,2,2,2,2,2,2,2,2,2,2,2,2,2,2,2,2,2,2,2,2,2,2,2,2,2,2,2,2,2,2,2,2,2,2,2,2,2,2,2,2,2,2,2,2,2,2,2,2,2,2,2,2,2,2,2,2,2,2,2,2,2,2,2,2,2,2,2,2,2,2,2,2,2,2,2,2,2,2,2,2,2,2,2,2,2,2,2,2,2,2,2,2,2,2,2,2,2,2,2,2,2,2,2,2,2,2,2,2,2,2,2,2,2,2,2,2,2,2,2,2,2,2,2,2,2,2,2,2,2,2,2,2,2,2,2,2,2,2,2,2,2,2,2,2,2,2,2,2,2,2,2,2,2,2,2,2,2,2,2,2,2,2,2,2,2,2,2,2,2,2,2,2,2,2,2,2,2,2,2,2,2,2,2,2,2,2,2,2,2,2,2,2,2,2,2,2,2,2,2,2,2,2,2,2,2,2,2,2,2,2,2,2,2,2,2,2,2,2,2,2,2,2,2,2,2,2,2,2,2,2,2,2,2,2,2,2,2,2,2,2,2,2,2,2,2,2,2,2,2,2,2,2,2,2,2,2,2,2,2,2,2,2,2,2,2,2,2,2,2,2,2,2,2,2,2,2,2,2,2,2,2,2,3,3,3,3,3,3,3,3,3,3,3,3,3,3,3,3,3,3,3,3,3,3,3,3,3,3,3,3,3,3,3,3,3,3,3,3,3,3,3,3,3,3,3,3,3,3,3,3,3,3,3,3,3,3,3,3,3,3,3,3,3,3,3,3,3,3,3,3,3,3,3,3,3,3,3,3,3,3,3,3,3,3,3,3,3,3,3,3,3,3,3,3,3,3,3,3,3,3,3,3,3,3,3,3,3,3,3,3,3,3,3,3,3,3,3,3,3,3,3,3,3,3,3,3,3,3,3,3,3,3,3,3,3,3,3,3,3,3,3,3,3,3,3,3,3,3,3,3,3,3,3,3,3,3,3,3,3,3,3,3,3,3,3,3,3,3,3,3,3,3,3,3,3,3,3,3,3,3,3,3,3,3,3,3,3,3,3,3,3,3,3,3,3,3,3,4,4,4,4,4,4,4,4,4,4,4,4,4,4,4,4,4,4,4,4,4,4,4,4,4,4,4,4,4,4,4,4,4,4,4,4,4,4,4,4,4,4,4,4,4,4,4,4,4,4,4,4,4,4,4,4,4,4,4,4,4,4,4,4,4,4,4,4,4,4,4,4,4,4,4,4,4,4,4,4,4,4,4,4,4,4,4,4,4,4,4,4,4,4,4,4,4,4,4,4,4,4,4,4,4,4,4,4,4,4,4,4,4,4,4,4,4,4,4,4,4,4,4,4,4,4,4,4,4,4,4,4,4,4,4,4,4,4,4,4,4,4,4,4,4,4,4,4,4,4,4,4,4,4,4,4,4,4,4,4,4,4,4,4,5,5,5,5,5,5,5,5,5,5,5,5,5,5,5,5,5,5,5,5,5,5,5,5,5,5,5,5,5,5,5,5,5,5,5,5,5,5,5,5,5,5,5,5,5,5,5,5,5,5,5,5,5,5,5,5,5,5,5,5,5,5,5,5,5,5,5,5,5,5,5,5,5,5,5,5,5,5,5,5,5,5,5,5,5,5,5,5,5,5,5,5,5,5,5,5,5,5,5,5,5,5,5,5,5,5,5,5,5,5,5,5,5,5,5,5,5,5,5,5,5,5,5,5,6,6,6,6,6,6,6,6,6,6,6,6,6,6,6,6,6,6,6,6,6,6,6,6,6,6,6,6,6,6,6,6,6,6,6,6,6,6,6,6,6,6,6,6,6,6,6,6,6,6,6,6,6,6,6,6,6,6,6,6,6,6,6,6,6,6,6,6,6,6,6,6,6,6,6,6,6,6,6,6,6,6,6,6,6,6,6,6,6,6,6,6,6,6,7,7,7,7,7,7,7,7,7,7,7,7,7,7,7,7,7,7,7,7,7,7,7,7,7,7,7,7,7,7,7,7,7,7,7,7,7,7,7,7,7,7,7,7,7,7,7,7,7,7,7,7,7,7,7,7,7,7,7,7,7,8,8,8,8,8,8,8,8,8,8,8,8,8,8,8,8,8,8,8,8,8,8,8,8,8,8,8,8,8,8,8,8,8,8,8,8,8,8,8,8,8,8,8,8,8,8,8,8,8,8,8,8,8,8,8,8,8,8,8,8,8,8,8,8,8,8,8,8,8,8,8,8,8,9,9,9,9,9,9,9,9,9,9,9,9,9,9,9,9,9,9,9,9,9,9,9,9,9,9,9,9,9,9,9,9,9,9,9,9,9,9,9,9,9,9,10,10,10,10,10,10,10,10,10,10,10,10,10,10,10,10,10,10,10,10,10,10,10,10,10,10,10,10,10,10,10,10,10,10,10,10,10,10,10,10,10,11,11,11,11,11,11,11,11,11,11,11,11,11,11,11,11,11,11,11,11,11,11,11,11,11,11,11,11,11,11,11,11,12,12,12,12,12,12,12,12,12,12,12,12,12,12,12,12,12,12,12,12,12,12,12,12,12,12,12,12,12,12,12,12,12,12,12,12,12,12,12,12,12,12,13,13,13,13,13,13,13,13,13,13,13,13,13,13,13,13,13,13,13,13,13,13,13,13,13,13,13,13,13,13,13,13,13,13,13,14,14,14,14,14,14,14,14,14,14,14,14,14,14,14,14,14,14,14,14,14,14,14,14,14,14,14,14,15,15,15,15,15,15,15,15,15,15,15,15,15,15,15,15,15,15,15,15,15,15,15,15,15,15,15,15,15,15,15,15,15,15,15,15,15,15,15,16,16,16,16,16,16,16,16,16,16,16,16,16,16,16,16,16,16,16,16,16,16,16,16,16,16,17,17,17,17,17,17,17,17,17,17,17,17,17,17,17,17,17,17,17,17,17,17,17,17,17,17,17,17,18,18,18,18,18,18,18,18,18,18,18,18,18,18,18,18,18,18,18,18,18,18,18,18,18,18,18,18,19,19,19,19,19,19,19,19,19,19,19,19,19,19,19,19,19,19,19,19,19,19,19,20,20,20,20,20,20,20,20,20,20,20,20,20,20,20,20,20,20,20,20,20,20,20,21,21,21,21,21,21,21,21,21,21,21,21,21,21,21,21,21,21,21,21,21,21,21,22,22,22,22,22,22,22,22,22,22,22,22,22,22,22,22,22,22,22,22,22,22,23,23,23,23,23,23,23,23,23,23,23,23,23,23,23,23,23,23,23,24,24,24,24,24,24,24,24,24,24,24,24,24,24,24,24,24,24,24,24,24,25,25,25,25,25,25,25,25,25,26,26,26,26,26,26,26,26,26,26,26,26,26,26,26,26,27,27,27,27,27,27,27,27,27,27,27,27,28,28,28,28,28,28,28,28,29,29,29,29,29,29,29,30,30,30,30,30,30,30,30,31,31,31,31,31,31,31,31,31,32,32,32,32,32,32,32,32,32,33,33,33,33,33,33,33,33,34,34,34,34,34,34,34,34,35,35,35,35,35,35,36,36,36,36,37,37,37,37,37,38,38,38,38,38,38,38,38,39,40,40,40,40,40,40,40,41,41,41,41,41,42,42,42,42,42,43,43,43,43,43,43,44,44,44,44,44,44,44,45,46,46,46,46,47,47,47,48,49,49,50,50,51,51,51,52,52,52,53,54,54,55,55,55,56,57,59,59,59,60,62,63,64,64,64,64,65,65,68,68,70,70,71,72,74,77,80,80,80,83,84,85,93,94,94,97,98,113,131,281,297,337],\"xaxis\":\"x\",\"y\":[0.0004803073967339097,0.0009606147934678194,0.001440922190201729,0.0019212295869356388,0.0024015369836695487,0.002881844380403458,0.0033621517771373678,0.0038424591738712775,0.004322766570605188,0.004803073967339097,0.005283381364073006,0.005763688760806916,0.006243996157540826,0.0067243035542747355,0.007204610951008645,0.007684918347742555,0.008165225744476465,0.008645533141210375,0.009125840537944284,0.009606147934678195,0.010086455331412104,0.010566762728146013,0.011047070124879923,0.011527377521613832,0.012007684918347743,0.012487992315081652,0.012968299711815562,0.013448607108549471,0.013928914505283382,0.01440922190201729,0.014889529298751201,0.01536983669548511,0.01585014409221902,0.01633045148895293,0.01681075888568684,0.01729106628242075,0.01777137367915466,0.01825168107588857,0.018731988472622477,0.01921229586935639,0.0196926032660903,0.020172910662824207,0.020653218059558116,0.021133525456292025,0.021613832853025938,0.022094140249759846,0.022574447646493755,0.023054755043227664,0.023535062439961577,0.024015369836695485,0.024495677233429394,0.024975984630163303,0.025456292026897216,0.025936599423631124,0.026416906820365033,0.026897214217098942,0.027377521613832854,0.027857829010566763,0.028338136407300672,0.02881844380403458,0.029298751200768493,0.029779058597502402,0.03025936599423631,0.03073967339097022,0.03121998078770413,0.03170028818443804,0.03218059558117195,0.03266090297790586,0.03314121037463977,0.03362151777137368,0.034101825168107586,0.0345821325648415,0.03506243996157541,0.03554274735830932,0.03602305475504323,0.03650336215177714,0.036983669548511046,0.037463976945244955,0.037944284341978864,0.03842459173871278,0.03890489913544669,0.0393852065321806,0.039865513928914506,0.040345821325648415,0.040826128722382324,0.04130643611911623,0.04178674351585014,0.04226705091258405,0.042747358309317966,0.043227665706051875,0.043707973102785784,0.04418828049951969,0.0446685878962536,0.04514889529298751,0.04562920268972142,0.04610951008645533,0.046589817483189244,0.04707012487992315,0.04755043227665706,0.04803073967339097,0.04851104707012488,0.04899135446685879,0.0494716618635927,0.049951969260326606,0.05043227665706052,0.05091258405379443,0.05139289145052834,0.05187319884726225,0.05235350624399616,0.052833813640730067,0.053314121037463975,0.053794428434197884,0.05427473583093179,0.05475504322766571,0.05523535062439962,0.05571565802113353,0.056195965417867436,0.056676272814601344,0.05715658021133525,0.05763688760806916,0.05811719500480307,0.05859750240153699,0.059077809798270896,0.059558117195004805,0.060038424591738714,0.06051873198847262,0.06099903938520653,0.06147934678194044,0.06195965417867435,0.06243996157540826,0.06292026897214217,0.06340057636887608,0.06388088376560999,0.0643611911623439,0.06484149855907781,0.06532180595581172,0.06580211335254563,0.06628242074927954,0.06676272814601344,0.06724303554274735,0.06772334293948126,0.06820365033621517,0.0686839577329491,0.069164265129683,0.06964457252641691,0.07012487992315082,0.07060518731988473,0.07108549471661864,0.07156580211335255,0.07204610951008646,0.07252641690682037,0.07300672430355427,0.07348703170028818,0.07396733909702209,0.074447646493756,0.07492795389048991,0.07540826128722382,0.07588856868395773,0.07636887608069164,0.07684918347742556,0.07732949087415947,0.07780979827089338,0.07829010566762729,0.0787704130643612,0.0792507204610951,0.07973102785782901,0.08021133525456292,0.08069164265129683,0.08117195004803074,0.08165225744476465,0.08213256484149856,0.08261287223823247,0.08309317963496637,0.08357348703170028,0.08405379442843419,0.0845341018251681,0.08501440922190202,0.08549471661863593,0.08597502401536984,0.08645533141210375,0.08693563880883766,0.08741594620557157,0.08789625360230548,0.08837656099903939,0.0888568683957733,0.0893371757925072,0.08981748318924111,0.09029779058597502,0.09077809798270893,0.09125840537944284,0.09173871277617675,0.09221902017291066,0.09269932756964457,0.09317963496637849,0.0936599423631124,0.0941402497598463,0.09462055715658022,0.09510086455331412,0.09558117195004803,0.09606147934678194,0.09654178674351585,0.09702209414024976,0.09750240153698367,0.09798270893371758,0.09846301633045149,0.0989433237271854,0.0994236311239193,0.09990393852065321,0.10038424591738712,0.10086455331412104,0.10134486071085495,0.10182516810758886,0.10230547550432277,0.10278578290105668,0.10326609029779059,0.1037463976945245,0.1042267050912584,0.10470701248799232,0.10518731988472622,0.10566762728146013,0.10614793467819404,0.10662824207492795,0.10710854947166186,0.10758885686839577,0.10806916426512968,0.10854947166186359,0.10902977905859751,0.10951008645533142,0.10999039385206533,0.11047070124879924,0.11095100864553314,0.11143131604226705,0.11191162343900096,0.11239193083573487,0.11287223823246878,0.11335254562920269,0.1138328530259366,0.1143131604226705,0.11479346781940442,0.11527377521613832,0.11575408261287223,0.11623439000960614,0.11671469740634005,0.11719500480307397,0.11767531219980788,0.11815561959654179,0.1186359269932757,0.11911623439000961,0.11959654178674352,0.12007684918347743,0.12055715658021134,0.12103746397694524,0.12151777137367915,0.12199807877041306,0.12247838616714697,0.12295869356388088,0.12343900096061479,0.1239193083573487,0.12439961575408261,0.12487992315081652,0.12536023054755044,0.12584053794428435,0.12632084534101826,0.12680115273775217,0.12728146013448607,0.12776176753121998,0.1282420749279539,0.1287223823246878,0.1292026897214217,0.12968299711815562,0.13016330451488953,0.13064361191162344,0.13112391930835735,0.13160422670509125,0.13208453410182516,0.13256484149855907,0.13304514889529298,0.1335254562920269,0.1340057636887608,0.1344860710854947,0.13496637848222862,0.13544668587896252,0.13592699327569643,0.13640730067243034,0.13688760806916425,0.1373679154658982,0.1378482228626321,0.138328530259366,0.13880883765609991,0.13928914505283382,0.13976945244956773,0.14024975984630164,0.14073006724303555,0.14121037463976946,0.14169068203650337,0.14217098943323728,0.14265129682997119,0.1431316042267051,0.143611911623439,0.1440922190201729,0.14457252641690682,0.14505283381364073,0.14553314121037464,0.14601344860710855,0.14649375600384246,0.14697406340057637,0.14745437079731027,0.14793467819404418,0.1484149855907781,0.148895292987512,0.1493756003842459,0.14985590778097982,0.15033621517771373,0.15081652257444764,0.15129682997118155,0.15177713736791545,0.15225744476464936,0.15273775216138327,0.15321805955811718,0.15369836695485112,0.15417867435158503,0.15465898174831894,0.15513928914505284,0.15561959654178675,0.15609990393852066,0.15658021133525457,0.15706051873198848,0.1575408261287224,0.1580211335254563,0.1585014409221902,0.15898174831892412,0.15946205571565802,0.15994236311239193,0.16042267050912584,0.16090297790585975,0.16138328530259366,0.16186359269932757,0.16234390009606148,0.1628242074927954,0.1633045148895293,0.1637848222862632,0.1642651296829971,0.16474543707973102,0.16522574447646493,0.16570605187319884,0.16618635926993275,0.16666666666666666,0.16714697406340057,0.16762728146013448,0.16810758885686838,0.1685878962536023,0.1690682036503362,0.16954851104707014,0.17002881844380405,0.17050912584053796,0.17098943323727187,0.17146974063400577,0.17195004803073968,0.1724303554274736,0.1729106628242075,0.1733909702209414,0.17387127761767532,0.17435158501440923,0.17483189241114314,0.17531219980787704,0.17579250720461095,0.17627281460134486,0.17675312199807877,0.17723342939481268,0.1777137367915466,0.1781940441882805,0.1786743515850144,0.17915465898174832,0.17963496637848222,0.18011527377521613,0.18059558117195004,0.18107588856868395,0.18155619596541786,0.18203650336215177,0.18251681075888568,0.1829971181556196,0.1834774255523535,0.1839577329490874,0.1844380403458213,0.18491834774255522,0.18539865513928913,0.18587896253602307,0.18635926993275698,0.18683957732949089,0.1873198847262248,0.1878001921229587,0.1882804995196926,0.18876080691642652,0.18924111431316043,0.18972142170989434,0.19020172910662825,0.19068203650336216,0.19116234390009607,0.19164265129682997,0.19212295869356388,0.1926032660902978,0.1930835734870317,0.1935638808837656,0.19404418828049952,0.19452449567723343,0.19500480307396734,0.19548511047070125,0.19596541786743515,0.19644572526416906,0.19692603266090297,0.19740634005763688,0.1978866474543708,0.1983669548511047,0.1988472622478386,0.19932756964457252,0.19980787704130643,0.20028818443804033,0.20076849183477424,0.20124879923150815,0.2017291066282421,0.202209414024976,0.2026897214217099,0.20317002881844382,0.20365033621517772,0.20413064361191163,0.20461095100864554,0.20509125840537945,0.20557156580211336,0.20605187319884727,0.20653218059558118,0.2070124879923151,0.207492795389049,0.2079731027857829,0.2084534101825168,0.20893371757925072,0.20941402497598463,0.20989433237271854,0.21037463976945245,0.21085494716618636,0.21133525456292027,0.21181556195965417,0.21229586935638808,0.212776176753122,0.2132564841498559,0.2137367915465898,0.21421709894332372,0.21469740634005763,0.21517771373679154,0.21565802113352545,0.21613832853025935,0.21661863592699326,0.21709894332372717,0.21757925072046108,0.21805955811719502,0.21853986551392893,0.21902017291066284,0.21950048030739674,0.21998078770413065,0.22046109510086456,0.22094140249759847,0.22142170989433238,0.2219020172910663,0.2223823246878002,0.2228626320845341,0.22334293948126802,0.22382324687800192,0.22430355427473583,0.22478386167146974,0.22526416906820365,0.22574447646493756,0.22622478386167147,0.22670509125840538,0.2271853986551393,0.2276657060518732,0.2281460134486071,0.228626320845341,0.22910662824207492,0.22958693563880883,0.23006724303554274,0.23054755043227665,0.23102785782901056,0.23150816522574447,0.23198847262247838,0.23246878001921228,0.2329490874159462,0.2334293948126801,0.23390970220941404,0.23439000960614795,0.23487031700288186,0.23535062439961577,0.23583093179634967,0.23631123919308358,0.2367915465898175,0.2372718539865514,0.2377521613832853,0.23823246878001922,0.23871277617675313,0.23919308357348704,0.23967339097022095,0.24015369836695485,0.24063400576368876,0.24111431316042267,0.24159462055715658,0.2420749279538905,0.2425552353506244,0.2430355427473583,0.24351585014409222,0.24399615754082613,0.24447646493756003,0.24495677233429394,0.24543707973102785,0.24591738712776176,0.24639769452449567,0.24687800192122958,0.2473583093179635,0.2478386167146974,0.2483189241114313,0.24879923150816521,0.24927953890489912,0.24975984630163303,0.25024015369836694,0.2507204610951009,0.25120076849183476,0.2516810758885687,0.2521613832853026,0.2526416906820365,0.2531219980787704,0.25360230547550433,0.2540826128722382,0.25456292026897215,0.25504322766570603,0.25552353506243997,0.25600384245917385,0.2564841498559078,0.25696445725264166,0.2574447646493756,0.2579250720461095,0.2584053794428434,0.25888568683957736,0.25936599423631124,0.2598463016330452,0.26032660902977905,0.260806916426513,0.2612872238232469,0.2617675312199808,0.2622478386167147,0.2627281460134486,0.2632084534101825,0.26368876080691644,0.2641690682036503,0.26464937560038426,0.26512968299711814,0.2656099903938521,0.26609029779058596,0.2665706051873199,0.2670509125840538,0.2675312199807877,0.2680115273775216,0.26849183477425553,0.2689721421709894,0.26945244956772335,0.26993275696445723,0.27041306436119117,0.27089337175792505,0.271373679154659,0.27185398655139287,0.2723342939481268,0.2728146013448607,0.2732949087415946,0.2737752161383285,0.27425552353506244,0.2747358309317964,0.27521613832853026,0.2756964457252642,0.2761767531219981,0.276657060518732,0.2771373679154659,0.27761767531219983,0.2780979827089337,0.27857829010566765,0.27905859750240153,0.27953890489913547,0.28001921229586935,0.2804995196926033,0.28097982708933716,0.2814601344860711,0.281940441882805,0.2824207492795389,0.2829010566762728,0.28338136407300674,0.2838616714697406,0.28434197886647455,0.28482228626320844,0.28530259365994237,0.28578290105667625,0.2862632084534102,0.28674351585014407,0.287223823246878,0.2877041306436119,0.2881844380403458,0.2886647454370797,0.28914505283381364,0.2896253602305475,0.29010566762728146,0.2905859750240154,0.2910662824207493,0.2915465898174832,0.2920268972142171,0.29250720461095103,0.2929875120076849,0.29346781940441885,0.29394812680115273,0.29442843419788667,0.29490874159462055,0.2953890489913545,0.29586935638808837,0.2963496637848223,0.2968299711815562,0.2973102785782901,0.297790585975024,0.29827089337175794,0.2987512007684918,0.29923150816522576,0.29971181556195964,0.3001921229586936,0.30067243035542746,0.3011527377521614,0.3016330451488953,0.3021133525456292,0.3025936599423631,0.30307396733909703,0.3035542747358309,0.30403458213256485,0.3045148895292987,0.30499519692603266,0.30547550432276654,0.3059558117195005,0.30643611911623436,0.3069164265129683,0.30739673390970224,0.3078770413064361,0.30835734870317005,0.30883765609990393,0.30931796349663787,0.30979827089337175,0.3102785782901057,0.31075888568683957,0.3112391930835735,0.3117195004803074,0.3121998078770413,0.3126801152737752,0.31316042267050914,0.313640730067243,0.31412103746397696,0.31460134486071084,0.3150816522574448,0.31556195965417866,0.3160422670509126,0.3165225744476465,0.3170028818443804,0.3174831892411143,0.31796349663784823,0.3184438040345821,0.31892411143131605,0.31940441882804993,0.31988472622478387,0.32036503362151775,0.3208453410182517,0.32132564841498557,0.3218059558117195,0.3222862632084534,0.3227665706051873,0.32324687800192126,0.32372718539865514,0.3242074927953891,0.32468780019212296,0.3251681075888569,0.3256484149855908,0.3261287223823247,0.3266090297790586,0.3270893371757925,0.3275696445725264,0.32804995196926034,0.3285302593659942,0.32901056676272816,0.32949087415946204,0.329971181556196,0.33045148895292986,0.3309317963496638,0.3314121037463977,0.3318924111431316,0.3323727185398655,0.33285302593659943,0.3333333333333333,0.33381364073006725,0.33429394812680113,0.33477425552353507,0.33525456292026895,0.3357348703170029,0.33621517771373677,0.3366954851104707,0.3371757925072046,0.3376560999039385,0.3381364073006724,0.33861671469740634,0.3390970220941403,0.33957732949087416,0.3400576368876081,0.340537944284342,0.3410182516810759,0.3414985590778098,0.34197886647454373,0.3424591738712776,0.34293948126801155,0.34341978866474543,0.34390009606147937,0.34438040345821325,0.3448607108549472,0.34534101825168106,0.345821325648415,0.3463016330451489,0.3467819404418828,0.3472622478386167,0.34774255523535064,0.3482228626320845,0.34870317002881845,0.34918347742555234,0.34966378482228627,0.35014409221902015,0.3506243996157541,0.35110470701248797,0.3515850144092219,0.3520653218059558,0.3525456292026897,0.3530259365994236,0.35350624399615754,0.3539865513928914,0.35446685878962536,0.3549471661863593,0.3554274735830932,0.3559077809798271,0.356388088376561,0.35686839577329493,0.3573487031700288,0.35782901056676275,0.35830931796349663,0.35878962536023057,0.35926993275696445,0.3597502401536984,0.36023054755043227,0.3607108549471662,0.3611911623439001,0.361671469740634,0.3621517771373679,0.36263208453410184,0.3631123919308357,0.36359269932756966,0.36407300672430354,0.3645533141210375,0.36503362151777136,0.3655139289145053,0.3659942363112392,0.3664745437079731,0.366954851104707,0.36743515850144093,0.3679154658981748,0.36839577329490875,0.3688760806916426,0.36935638808837656,0.36983669548511044,0.3703170028818444,0.37079731027857826,0.3712776176753122,0.37175792507204614,0.37223823246878,0.37271853986551395,0.37319884726224783,0.37367915465898177,0.37415946205571565,0.3746397694524496,0.37512007684918347,0.3756003842459174,0.3760806916426513,0.3765609990393852,0.3770413064361191,0.37752161383285304,0.3780019212295869,0.37848222862632086,0.37896253602305474,0.3794428434197887,0.37992315081652256,0.3804034582132565,0.3808837656099904,0.3813640730067243,0.3818443804034582,0.38232468780019213,0.382804995196926,0.38328530259365995,0.38376560999039383,0.38424591738712777,0.38472622478386165,0.3852065321805956,0.38568683957732947,0.3861671469740634,0.3866474543707973,0.3871277617675312,0.38760806916426516,0.38808837656099904,0.388568683957733,0.38904899135446686,0.3895292987512008,0.3900096061479347,0.3904899135446686,0.3909702209414025,0.3914505283381364,0.3919308357348703,0.39241114313160425,0.3928914505283381,0.39337175792507206,0.39385206532180594,0.3943323727185399,0.39481268011527376,0.3952929875120077,0.3957732949087416,0.3962536023054755,0.3967339097022094,0.39721421709894333,0.3976945244956772,0.39817483189241115,0.39865513928914503,0.39913544668587897,0.39961575408261285,0.4000960614793468,0.40057636887608067,0.4010566762728146,0.4015369836695485,0.4020172910662824,0.4024975984630163,0.40297790585975024,0.4034582132564842,0.40393852065321806,0.404418828049952,0.4048991354466859,0.4053794428434198,0.4058597502401537,0.40634005763688763,0.4068203650336215,0.40730067243035545,0.40778097982708933,0.40826128722382327,0.40874159462055715,0.4092219020172911,0.40970220941402496,0.4101825168107589,0.4106628242074928,0.4111431316042267,0.4116234390009606,0.41210374639769454,0.4125840537944284,0.41306436119116235,0.41354466858789624,0.4140249759846302,0.41450528338136405,0.414985590778098,0.41546589817483187,0.4159462055715658,0.4164265129682997,0.4169068203650336,0.4173871277617675,0.41786743515850144,0.4183477425552353,0.41882804995196926,0.41930835734870314,0.4197886647454371,0.420268972142171,0.4207492795389049,0.42122958693563883,0.4217098943323727,0.42219020172910665,0.42267050912584053,0.42315081652257447,0.42363112391930835,0.4241114313160423,0.42459173871277617,0.4250720461095101,0.425552353506244,0.4260326609029779,0.4265129682997118,0.42699327569644574,0.4274735830931796,0.42795389048991356,0.42843419788664744,0.4289145052833814,0.42939481268011526,0.4298751200768492,0.4303554274735831,0.430835734870317,0.4313160422670509,0.43179634966378483,0.4322766570605187,0.43275696445725265,0.4332372718539865,0.43371757925072046,0.43419788664745435,0.4346781940441883,0.43515850144092216,0.4356388088376561,0.43611911623439004,0.4365994236311239,0.43707973102785785,0.43756003842459174,0.43804034582132567,0.43852065321805955,0.4390009606147935,0.43948126801152737,0.4399615754082613,0.4404418828049952,0.4409221902017291,0.441402497598463,0.44188280499519694,0.4423631123919308,0.44284341978866476,0.44332372718539864,0.4438040345821326,0.44428434197886646,0.4447646493756004,0.4452449567723343,0.4457252641690682,0.4462055715658021,0.44668587896253603,0.4471661863592699,0.44764649375600385,0.44812680115273773,0.44860710854947167,0.44908741594620555,0.4495677233429395,0.45004803073967337,0.4505283381364073,0.4510086455331412,0.4514889529298751,0.45196926032660906,0.45244956772334294,0.4529298751200769,0.45341018251681076,0.4538904899135447,0.4543707973102786,0.4548511047070125,0.4553314121037464,0.45581171950048033,0.4562920268972142,0.45677233429394815,0.457252641690682,0.45773294908741596,0.45821325648414984,0.4586935638808838,0.45917387127761766,0.4596541786743516,0.4601344860710855,0.4606147934678194,0.4610951008645533,0.46157540826128723,0.4620557156580211,0.46253602305475505,0.46301633045148893,0.46349663784822287,0.46397694524495675,0.4644572526416907,0.46493756003842457,0.4654178674351585,0.4658981748318924,0.4663784822286263,0.4668587896253602,0.46733909702209414,0.4678194044188281,0.46829971181556196,0.4687800192122959,0.4692603266090298,0.4697406340057637,0.4702209414024976,0.47070124879923153,0.4711815561959654,0.47166186359269935,0.47214217098943323,0.47262247838616717,0.47310278578290105,0.473583093179635,0.47406340057636887,0.4745437079731028,0.4750240153698367,0.4755043227665706,0.4759846301633045,0.47646493756003844,0.4769452449567723,0.47742555235350626,0.47790585975024014,0.4783861671469741,0.47886647454370795,0.4793467819404419,0.47982708933717577,0.4803073967339097,0.4807877041306436,0.4812680115273775,0.4817483189241114,0.48222862632084534,0.4827089337175792,0.48318924111431316,0.48366954851104704,0.484149855907781,0.4846301633045149,0.4851104707012488,0.48559077809798273,0.4860710854947166,0.48655139289145055,0.48703170028818443,0.48751200768491837,0.48799231508165225,0.4884726224783862,0.48895292987512007,0.489433237271854,0.4899135446685879,0.4903938520653218,0.4908741594620557,0.49135446685878964,0.4918347742555235,0.49231508165225746,0.49279538904899134,0.4932756964457253,0.49375600384245916,0.4942363112391931,0.494716618635927,0.4951969260326609,0.4956772334293948,0.49615754082612873,0.4966378482228626,0.49711815561959655,0.49759846301633043,0.49807877041306436,0.49855907780979825,0.4990393852065322,0.49951969260326606,0.5,0.5004803073967339,0.5009606147934679,0.5014409221902018,0.5019212295869356,0.5024015369836695,0.5028818443804035,0.5033621517771374,0.5038424591738713,0.5043227665706052,0.5048030739673391,0.505283381364073,0.5057636887608069,0.5062439961575408,0.5067243035542748,0.5072046109510087,0.5076849183477425,0.5081652257444764,0.5086455331412104,0.5091258405379443,0.5096061479346782,0.5100864553314121,0.510566762728146,0.5110470701248799,0.5115273775216138,0.5120076849183477,0.5124879923150817,0.5129682997118156,0.5134486071085494,0.5139289145052833,0.5144092219020173,0.5148895292987512,0.5153698366954851,0.515850144092219,0.516330451488953,0.5168107588856868,0.5172910662824207,0.5177713736791547,0.5182516810758886,0.5187319884726225,0.5192122958693564,0.5196926032660903,0.5201729106628242,0.5206532180595581,0.521133525456292,0.521613832853026,0.5220941402497599,0.5225744476464937,0.5230547550432276,0.5235350624399616,0.5240153698366955,0.5244956772334294,0.5249759846301633,0.5254562920268973,0.5259365994236311,0.526416906820365,0.5268972142170989,0.5273775216138329,0.5278578290105668,0.5283381364073007,0.5288184438040345,0.5292987512007685,0.5297790585975024,0.5302593659942363,0.5307396733909702,0.5312199807877042,0.531700288184438,0.5321805955811719,0.5326609029779059,0.5331412103746398,0.5336215177713737,0.5341018251681076,0.5345821325648416,0.5350624399615754,0.5355427473583093,0.5360230547550432,0.5365033621517772,0.5369836695485111,0.537463976945245,0.5379442843419788,0.5384245917387128,0.5389048991354467,0.5393852065321806,0.5398655139289145,0.5403458213256485,0.5408261287223823,0.5413064361191162,0.5417867435158501,0.5422670509125841,0.542747358309318,0.5432276657060519,0.5437079731027857,0.5441882804995197,0.5446685878962536,0.5451488952929875,0.5456292026897214,0.5461095100864554,0.5465898174831892,0.5470701248799231,0.547550432276657,0.548030739673391,0.5485110470701249,0.5489913544668588,0.5494716618635928,0.5499519692603266,0.5504322766570605,0.5509125840537944,0.5513928914505284,0.5518731988472623,0.5523535062439962,0.55283381364073,0.553314121037464,0.5537944284341979,0.5542747358309318,0.5547550432276657,0.5552353506243997,0.5557156580211335,0.5561959654178674,0.5566762728146013,0.5571565802113353,0.5576368876080692,0.5581171950048031,0.5585975024015369,0.5590778097982709,0.5595581171950048,0.5600384245917387,0.5605187319884726,0.5609990393852066,0.5614793467819404,0.5619596541786743,0.5624399615754082,0.5629202689721422,0.5634005763688761,0.56388088376561,0.5643611911623438,0.5648414985590778,0.5653218059558117,0.5658021133525456,0.5662824207492796,0.5667627281460135,0.5672430355427474,0.5677233429394812,0.5682036503362152,0.5686839577329491,0.569164265129683,0.5696445725264169,0.5701248799231509,0.5706051873198847,0.5710854947166186,0.5715658021133525,0.5720461095100865,0.5725264169068204,0.5730067243035543,0.5734870317002881,0.5739673390970221,0.574447646493756,0.5749279538904899,0.5754082612872238,0.5758885686839578,0.5763688760806917,0.5768491834774255,0.5773294908741594,0.5778097982708934,0.5782901056676273,0.5787704130643612,0.579250720461095,0.579731027857829,0.5802113352545629,0.5806916426512968,0.5811719500480308,0.5816522574447647,0.5821325648414986,0.5826128722382324,0.5830931796349664,0.5835734870317003,0.5840537944284342,0.5845341018251681,0.5850144092219021,0.585494716618636,0.5859750240153698,0.5864553314121037,0.5869356388088377,0.5874159462055716,0.5878962536023055,0.5883765609990393,0.5888568683957733,0.5893371757925072,0.5898174831892411,0.590297790585975,0.590778097982709,0.5912584053794429,0.5917387127761767,0.5922190201729106,0.5926993275696446,0.5931796349663785,0.5936599423631124,0.5941402497598463,0.5946205571565802,0.5951008645533141,0.595581171950048,0.5960614793467819,0.5965417867435159,0.5970220941402498,0.5975024015369836,0.5979827089337176,0.5984630163304515,0.5989433237271854,0.5994236311239193,0.5999039385206533,0.6003842459173871,0.600864553314121,0.6013448607108549,0.6018251681075889,0.6023054755043228,0.6027857829010567,0.6032660902977905,0.6037463976945245,0.6042267050912584,0.6047070124879923,0.6051873198847262,0.6056676272814602,0.6061479346781941,0.6066282420749279,0.6071085494716618,0.6075888568683958,0.6080691642651297,0.6085494716618636,0.6090297790585975,0.6095100864553314,0.6099903938520653,0.6104707012487992,0.6109510086455331,0.6114313160422671,0.611911623439001,0.6123919308357348,0.6128722382324687,0.6133525456292027,0.6138328530259366,0.6143131604226705,0.6147934678194045,0.6152737752161384,0.6157540826128722,0.6162343900096061,0.6167146974063401,0.617195004803074,0.6176753121998079,0.6181556195965417,0.6186359269932757,0.6191162343900096,0.6195965417867435,0.6200768491834774,0.6205571565802114,0.6210374639769453,0.6215177713736791,0.621998078770413,0.622478386167147,0.6229586935638809,0.6234390009606148,0.6239193083573487,0.6243996157540826,0.6248799231508165,0.6253602305475504,0.6258405379442843,0.6263208453410183,0.6268011527377522,0.627281460134486,0.6277617675312199,0.6282420749279539,0.6287223823246878,0.6292026897214217,0.6296829971181557,0.6301633045148896,0.6306436119116234,0.6311239193083573,0.6316042267050913,0.6320845341018252,0.6325648414985591,0.633045148895293,0.633525456292027,0.6340057636887608,0.6344860710854947,0.6349663784822286,0.6354466858789626,0.6359269932756965,0.6364073006724303,0.6368876080691642,0.6373679154658982,0.6378482228626321,0.638328530259366,0.6388088376560999,0.6392891450528339,0.6397694524495677,0.6402497598463016,0.6407300672430355,0.6412103746397695,0.6416906820365034,0.6421709894332372,0.6426512968299711,0.6431316042267051,0.643611911623439,0.6440922190201729,0.6445725264169068,0.6450528338136408,0.6455331412103746,0.6460134486071085,0.6464937560038425,0.6469740634005764,0.6474543707973103,0.6479346781940442,0.6484149855907781,0.648895292987512,0.6493756003842459,0.6498559077809798,0.6503362151777138,0.6508165225744477,0.6512968299711815,0.6517771373679154,0.6522574447646494,0.6527377521613833,0.6532180595581172,0.6536983669548511,0.654178674351585,0.6546589817483189,0.6551392891450528,0.6556195965417867,0.6560999039385207,0.6565802113352546,0.6570605187319885,0.6575408261287223,0.6580211335254563,0.6585014409221902,0.6589817483189241,0.659462055715658,0.659942363112392,0.6604226705091258,0.6609029779058597,0.6613832853025937,0.6618635926993276,0.6623439000960615,0.6628242074927954,0.6633045148895294,0.6637848222862632,0.6642651296829971,0.664745437079731,0.665225744476465,0.6657060518731989,0.6661863592699327,0.6666666666666666,0.6671469740634006,0.6676272814601345,0.6681075888568684,0.6685878962536023,0.6690682036503363,0.6695485110470701,0.670028818443804,0.6705091258405379,0.6709894332372719,0.6714697406340058,0.6719500480307397,0.6724303554274735,0.6729106628242075,0.6733909702209414,0.6738712776176753,0.6743515850144092,0.6748318924111432,0.675312199807877,0.6757925072046109,0.6762728146013448,0.6767531219980788,0.6772334293948127,0.6777137367915466,0.6781940441882806,0.6786743515850144,0.6791546589817483,0.6796349663784822,0.6801152737752162,0.6805955811719501,0.681075888568684,0.6815561959654178,0.6820365033621518,0.6825168107588857,0.6829971181556196,0.6834774255523535,0.6839577329490875,0.6844380403458213,0.6849183477425552,0.6853986551392891,0.6858789625360231,0.686359269932757,0.6868395773294909,0.6873198847262247,0.6878001921229587,0.6882804995196926,0.6887608069164265,0.6892411143131604,0.6897214217098944,0.6902017291066282,0.6906820365033621,0.691162343900096,0.69164265129683,0.6921229586935639,0.6926032660902978,0.6930835734870316,0.6935638808837656,0.6940441882804995,0.6945244956772334,0.6950048030739674,0.6954851104707013,0.6959654178674352,0.696445725264169,0.696926032660903,0.6974063400576369,0.6978866474543708,0.6983669548511047,0.6988472622478387,0.6993275696445725,0.6998078770413064,0.7002881844380403,0.7007684918347743,0.7012487992315082,0.7017291066282421,0.7022094140249759,0.7026897214217099,0.7031700288184438,0.7036503362151777,0.7041306436119116,0.7046109510086456,0.7050912584053795,0.7055715658021133,0.7060518731988472,0.7065321805955812,0.7070124879923151,0.707492795389049,0.7079731027857828,0.7084534101825168,0.7089337175792507,0.7094140249759846,0.7098943323727186,0.7103746397694525,0.7108549471661864,0.7113352545629202,0.7118155619596542,0.7122958693563881,0.712776176753122,0.7132564841498559,0.7137367915465899,0.7142170989433237,0.7146974063400576,0.7151777137367915,0.7156580211335255,0.7161383285302594,0.7166186359269933,0.7170989433237271,0.7175792507204611,0.718059558117195,0.7185398655139289,0.7190201729106628,0.7195004803073968,0.7199807877041307,0.7204610951008645,0.7209414024975984,0.7214217098943324,0.7219020172910663,0.7223823246878002,0.722862632084534,0.723342939481268,0.7238232468780019,0.7243035542747358,0.7247838616714697,0.7252641690682037,0.7257444764649376,0.7262247838616714,0.7267050912584054,0.7271853986551393,0.7276657060518732,0.7281460134486071,0.7286263208453411,0.729106628242075,0.7295869356388088,0.7300672430355427,0.7305475504322767,0.7310278578290106,0.7315081652257445,0.7319884726224783,0.7324687800192123,0.7329490874159462,0.7334293948126801,0.733909702209414,0.734390009606148,0.7348703170028819,0.7353506243996157,0.7358309317963496,0.7363112391930836,0.7367915465898175,0.7372718539865514,0.7377521613832853,0.7382324687800192,0.7387127761767531,0.739193083573487,0.7396733909702209,0.7401536983669549,0.7406340057636888,0.7411143131604226,0.7415946205571565,0.7420749279538905,0.7425552353506244,0.7430355427473583,0.7435158501440923,0.7439961575408262,0.74447646493756,0.7449567723342939,0.7454370797310279,0.7459173871277618,0.7463976945244957,0.7468780019212296,0.7473583093179635,0.7478386167146974,0.7483189241114313,0.7487992315081652,0.7492795389048992,0.7497598463016331,0.7502401536983669,0.7507204610951008,0.7512007684918348,0.7516810758885687,0.7521613832853026,0.7526416906820365,0.7531219980787704,0.7536023054755043,0.7540826128722382,0.7545629202689721,0.7550432276657061,0.75552353506244,0.7560038424591738,0.7564841498559077,0.7569644572526417,0.7574447646493756,0.7579250720461095,0.7584053794428435,0.7588856868395774,0.7593659942363112,0.7598463016330451,0.7603266090297791,0.760806916426513,0.7612872238232469,0.7617675312199808,0.7622478386167147,0.7627281460134486,0.7632084534101825,0.7636887608069164,0.7641690682036504,0.7646493756003843,0.7651296829971181,0.765609990393852,0.766090297790586,0.7665706051873199,0.7670509125840538,0.7675312199807877,0.7680115273775217,0.7684918347742555,0.7689721421709894,0.7694524495677233,0.7699327569644573,0.7704130643611912,0.770893371757925,0.7713736791546589,0.7718539865513929,0.7723342939481268,0.7728146013448607,0.7732949087415946,0.7737752161383286,0.7742555235350624,0.7747358309317963,0.7752161383285303,0.7756964457252642,0.7761767531219981,0.776657060518732,0.777137367915466,0.7776176753121998,0.7780979827089337,0.7785782901056676,0.7790585975024016,0.7795389048991355,0.7800192122958693,0.7804995196926032,0.7809798270893372,0.7814601344860711,0.781940441882805,0.7824207492795389,0.7829010566762729,0.7833813640730067,0.7838616714697406,0.7843419788664745,0.7848222862632085,0.7853025936599424,0.7857829010566763,0.7862632084534101,0.7867435158501441,0.787223823246878,0.7877041306436119,0.7881844380403458,0.7886647454370798,0.7891450528338136,0.7896253602305475,0.7901056676272814,0.7905859750240154,0.7910662824207493,0.7915465898174832,0.7920268972142172,0.792507204610951,0.7929875120076849,0.7934678194044188,0.7939481268011528,0.7944284341978867,0.7949087415946205,0.7953890489913544,0.7958693563880884,0.7963496637848223,0.7968299711815562,0.7973102785782901,0.7977905859750241,0.7982708933717579,0.7987512007684918,0.7992315081652257,0.7997118155619597,0.8001921229586936,0.8006724303554275,0.8011527377521613,0.8016330451488953,0.8021133525456292,0.8025936599423631,0.803073967339097,0.803554274735831,0.8040345821325648,0.8045148895292987,0.8049951969260326,0.8054755043227666,0.8059558117195005,0.8064361191162344,0.8069164265129684,0.8073967339097022,0.8078770413064361,0.80835734870317,0.808837656099904,0.8093179634966379,0.8097982708933718,0.8102785782901056,0.8107588856868396,0.8112391930835735,0.8117195004803074,0.8121998078770413,0.8126801152737753,0.8131604226705091,0.813640730067243,0.8141210374639769,0.8146013448607109,0.8150816522574448,0.8155619596541787,0.8160422670509125,0.8165225744476465,0.8170028818443804,0.8174831892411143,0.8179634966378482,0.8184438040345822,0.818924111431316,0.8194044188280499,0.8198847262247838,0.8203650336215178,0.8208453410182517,0.8213256484149856,0.8218059558117194,0.8222862632084534,0.8227665706051873,0.8232468780019212,0.8237271853986552,0.8242074927953891,0.824687800192123,0.8251681075888568,0.8256484149855908,0.8261287223823247,0.8266090297790586,0.8270893371757925,0.8275696445725265,0.8280499519692603,0.8285302593659942,0.8290105667627281,0.8294908741594621,0.829971181556196,0.8304514889529299,0.8309317963496637,0.8314121037463977,0.8318924111431316,0.8323727185398655,0.8328530259365994,0.8333333333333334,0.8338136407300673,0.8342939481268011,0.834774255523535,0.835254562920269,0.8357348703170029,0.8362151777137368,0.8366954851104706,0.8371757925072046,0.8376560999039385,0.8381364073006724,0.8386167146974063,0.8390970220941403,0.8395773294908742,0.840057636887608,0.840537944284342,0.8410182516810759,0.8414985590778098,0.8419788664745437,0.8424591738712777,0.8429394812680115,0.8434197886647454,0.8439000960614793,0.8443804034582133,0.8448607108549472,0.8453410182516811,0.845821325648415,0.8463016330451489,0.8467819404418828,0.8472622478386167,0.8477425552353506,0.8482228626320846,0.8487031700288185,0.8491834774255523,0.8496637848222862,0.8501440922190202,0.8506243996157541,0.851104707012488,0.8515850144092219,0.8520653218059558,0.8525456292026897,0.8530259365994236,0.8535062439961575,0.8539865513928915,0.8544668587896254,0.8549471661863592,0.8554274735830932,0.8559077809798271,0.856388088376561,0.8568683957732949,0.8573487031700289,0.8578290105667628,0.8583093179634966,0.8587896253602305,0.8592699327569645,0.8597502401536984,0.8602305475504323,0.8607108549471661,0.8611911623439001,0.861671469740634,0.8621517771373679,0.8626320845341018,0.8631123919308358,0.8635926993275697,0.8640730067243035,0.8645533141210374,0.8650336215177714,0.8655139289145053,0.8659942363112392,0.866474543707973,0.866954851104707,0.8674351585014409,0.8679154658981748,0.8683957732949087,0.8688760806916427,0.8693563880883766,0.8698366954851104,0.8703170028818443,0.8707973102785783,0.8712776176753122,0.8717579250720461,0.8722382324687801,0.872718539865514,0.8731988472622478,0.8736791546589817,0.8741594620557157,0.8746397694524496,0.8751200768491835,0.8756003842459174,0.8760806916426513,0.8765609990393852,0.8770413064361191,0.877521613832853,0.878001921229587,0.8784822286263209,0.8789625360230547,0.8794428434197886,0.8799231508165226,0.8804034582132565,0.8808837656099904,0.8813640730067243,0.8818443804034583,0.8823246878001921,0.882804995196926,0.8832853025936599,0.8837656099903939,0.8842459173871278,0.8847262247838616,0.8852065321805955,0.8856868395773295,0.8861671469740634,0.8866474543707973,0.8871277617675313,0.8876080691642652,0.888088376560999,0.8885686839577329,0.8890489913544669,0.8895292987512008,0.8900096061479347,0.8904899135446686,0.8909702209414025,0.8914505283381364,0.8919308357348703,0.8924111431316042,0.8928914505283382,0.8933717579250721,0.8938520653218059,0.8943323727185398,0.8948126801152738,0.8952929875120077,0.8957732949087416,0.8962536023054755,0.8967339097022095,0.8972142170989433,0.8976945244956772,0.8981748318924111,0.8986551392891451,0.899135446685879,0.8996157540826129,0.9000960614793467,0.9005763688760807,0.9010566762728146,0.9015369836695485,0.9020172910662824,0.9024975984630164,0.9029779058597502,0.9034582132564841,0.9039385206532181,0.904418828049952,0.9048991354466859,0.9053794428434198,0.9058597502401537,0.9063400576368876,0.9068203650336215,0.9073006724303554,0.9077809798270894,0.9082612872238233,0.9087415946205571,0.909221902017291,0.909702209414025,0.9101825168107589,0.9106628242074928,0.9111431316042267,0.9116234390009607,0.9121037463976945,0.9125840537944284,0.9130643611911623,0.9135446685878963,0.9140249759846302,0.914505283381364,0.9149855907780979,0.9154658981748319,0.9159462055715658,0.9164265129682997,0.9169068203650336,0.9173871277617676,0.9178674351585014,0.9183477425552353,0.9188280499519692,0.9193083573487032,0.9197886647454371,0.920268972142171,0.920749279538905,0.9212295869356388,0.9217098943323727,0.9221902017291066,0.9226705091258406,0.9231508165225745,0.9236311239193083,0.9241114313160422,0.9245917387127762,0.9250720461095101,0.925552353506244,0.9260326609029779,0.9265129682997119,0.9269932756964457,0.9274735830931796,0.9279538904899135,0.9284341978866475,0.9289145052833814,0.9293948126801153,0.9298751200768491,0.9303554274735831,0.930835734870317,0.9313160422670509,0.9317963496637848,0.9322766570605188,0.9327569644572526,0.9332372718539865,0.9337175792507204,0.9341978866474544,0.9346781940441883,0.9351585014409222,0.9356388088376562,0.93611911623439,0.9365994236311239,0.9370797310278578,0.9375600384245918,0.9380403458213257,0.9385206532180596,0.9390009606147934,0.9394812680115274,0.9399615754082613,0.9404418828049952,0.9409221902017291,0.9414024975984631,0.9418828049951969,0.9423631123919308,0.9428434197886647,0.9433237271853987,0.9438040345821326,0.9442843419788665,0.9447646493756003,0.9452449567723343,0.9457252641690682,0.9462055715658021,0.946685878962536,0.94716618635927,0.9476464937560038,0.9481268011527377,0.9486071085494716,0.9490874159462056,0.9495677233429395,0.9500480307396734,0.9505283381364072,0.9510086455331412,0.9514889529298751,0.951969260326609,0.952449567723343,0.9529298751200769,0.9534101825168108,0.9538904899135446,0.9543707973102786,0.9548511047070125,0.9553314121037464,0.9558117195004803,0.9562920268972143,0.9567723342939481,0.957252641690682,0.9577329490874159,0.9582132564841499,0.9586935638808838,0.9591738712776177,0.9596541786743515,0.9601344860710855,0.9606147934678194,0.9610951008645533,0.9615754082612872,0.9620557156580212,0.962536023054755,0.9630163304514889,0.9634966378482228,0.9639769452449568,0.9644572526416907,0.9649375600384246,0.9654178674351584,0.9658981748318924,0.9663784822286263,0.9668587896253602,0.9673390970220941,0.9678194044188281,0.968299711815562,0.9687800192122958,0.9692603266090298,0.9697406340057637,0.9702209414024976,0.9707012487992315,0.9711815561959655,0.9716618635926993,0.9721421709894332,0.9726224783861671,0.9731027857829011,0.973583093179635,0.9740634005763689,0.9745437079731027,0.9750240153698367,0.9755043227665706,0.9759846301633045,0.9764649375600384,0.9769452449567724,0.9774255523535063,0.9779058597502401,0.978386167146974,0.978866474543708,0.9793467819404419,0.9798270893371758,0.9803073967339097,0.9807877041306436,0.9812680115273775,0.9817483189241114,0.9822286263208453,0.9827089337175793,0.9831892411143132,0.983669548511047,0.984149855907781,0.9846301633045149,0.9851104707012488,0.9855907780979827,0.9860710854947167,0.9865513928914506,0.9870317002881844,0.9875120076849183,0.9879923150816523,0.9884726224783862,0.9889529298751201,0.989433237271854,0.9899135446685879,0.9903938520653218,0.9908741594620557,0.9913544668587896,0.9918347742555236,0.9923150816522575,0.9927953890489913,0.9932756964457252,0.9937560038424592,0.9942363112391931,0.994716618635927,0.9951969260326609,0.9956772334293948,0.9961575408261287,0.9966378482228626,0.9971181556195965,0.9975984630163305,0.9980787704130644,0.9985590778097982,0.9990393852065321,0.9995196926032661,1.0],\"yaxis\":\"y\",\"type\":\"scattergl\"}],                        {\"template\":{\"data\":{\"histogram2dcontour\":[{\"type\":\"histogram2dcontour\",\"colorbar\":{\"outlinewidth\":0,\"ticks\":\"\"},\"colorscale\":[[0.0,\"#0d0887\"],[0.1111111111111111,\"#46039f\"],[0.2222222222222222,\"#7201a8\"],[0.3333333333333333,\"#9c179e\"],[0.4444444444444444,\"#bd3786\"],[0.5555555555555556,\"#d8576b\"],[0.6666666666666666,\"#ed7953\"],[0.7777777777777778,\"#fb9f3a\"],[0.8888888888888888,\"#fdca26\"],[1.0,\"#f0f921\"]]}],\"choropleth\":[{\"type\":\"choropleth\",\"colorbar\":{\"outlinewidth\":0,\"ticks\":\"\"}}],\"histogram2d\":[{\"type\":\"histogram2d\",\"colorbar\":{\"outlinewidth\":0,\"ticks\":\"\"},\"colorscale\":[[0.0,\"#0d0887\"],[0.1111111111111111,\"#46039f\"],[0.2222222222222222,\"#7201a8\"],[0.3333333333333333,\"#9c179e\"],[0.4444444444444444,\"#bd3786\"],[0.5555555555555556,\"#d8576b\"],[0.6666666666666666,\"#ed7953\"],[0.7777777777777778,\"#fb9f3a\"],[0.8888888888888888,\"#fdca26\"],[1.0,\"#f0f921\"]]}],\"heatmap\":[{\"type\":\"heatmap\",\"colorbar\":{\"outlinewidth\":0,\"ticks\":\"\"},\"colorscale\":[[0.0,\"#0d0887\"],[0.1111111111111111,\"#46039f\"],[0.2222222222222222,\"#7201a8\"],[0.3333333333333333,\"#9c179e\"],[0.4444444444444444,\"#bd3786\"],[0.5555555555555556,\"#d8576b\"],[0.6666666666666666,\"#ed7953\"],[0.7777777777777778,\"#fb9f3a\"],[0.8888888888888888,\"#fdca26\"],[1.0,\"#f0f921\"]]}],\"heatmapgl\":[{\"type\":\"heatmapgl\",\"colorbar\":{\"outlinewidth\":0,\"ticks\":\"\"},\"colorscale\":[[0.0,\"#0d0887\"],[0.1111111111111111,\"#46039f\"],[0.2222222222222222,\"#7201a8\"],[0.3333333333333333,\"#9c179e\"],[0.4444444444444444,\"#bd3786\"],[0.5555555555555556,\"#d8576b\"],[0.6666666666666666,\"#ed7953\"],[0.7777777777777778,\"#fb9f3a\"],[0.8888888888888888,\"#fdca26\"],[1.0,\"#f0f921\"]]}],\"contourcarpet\":[{\"type\":\"contourcarpet\",\"colorbar\":{\"outlinewidth\":0,\"ticks\":\"\"}}],\"contour\":[{\"type\":\"contour\",\"colorbar\":{\"outlinewidth\":0,\"ticks\":\"\"},\"colorscale\":[[0.0,\"#0d0887\"],[0.1111111111111111,\"#46039f\"],[0.2222222222222222,\"#7201a8\"],[0.3333333333333333,\"#9c179e\"],[0.4444444444444444,\"#bd3786\"],[0.5555555555555556,\"#d8576b\"],[0.6666666666666666,\"#ed7953\"],[0.7777777777777778,\"#fb9f3a\"],[0.8888888888888888,\"#fdca26\"],[1.0,\"#f0f921\"]]}],\"surface\":[{\"type\":\"surface\",\"colorbar\":{\"outlinewidth\":0,\"ticks\":\"\"},\"colorscale\":[[0.0,\"#0d0887\"],[0.1111111111111111,\"#46039f\"],[0.2222222222222222,\"#7201a8\"],[0.3333333333333333,\"#9c179e\"],[0.4444444444444444,\"#bd3786\"],[0.5555555555555556,\"#d8576b\"],[0.6666666666666666,\"#ed7953\"],[0.7777777777777778,\"#fb9f3a\"],[0.8888888888888888,\"#fdca26\"],[1.0,\"#f0f921\"]]}],\"mesh3d\":[{\"type\":\"mesh3d\",\"colorbar\":{\"outlinewidth\":0,\"ticks\":\"\"}}],\"scatter\":[{\"fillpattern\":{\"fillmode\":\"overlay\",\"size\":10,\"solidity\":0.2},\"type\":\"scatter\"}],\"parcoords\":[{\"type\":\"parcoords\",\"line\":{\"colorbar\":{\"outlinewidth\":0,\"ticks\":\"\"}}}],\"scatterpolargl\":[{\"type\":\"scatterpolargl\",\"marker\":{\"colorbar\":{\"outlinewidth\":0,\"ticks\":\"\"}}}],\"bar\":[{\"error_x\":{\"color\":\"#2a3f5f\"},\"error_y\":{\"color\":\"#2a3f5f\"},\"marker\":{\"line\":{\"color\":\"#E5ECF6\",\"width\":0.5},\"pattern\":{\"fillmode\":\"overlay\",\"size\":10,\"solidity\":0.2}},\"type\":\"bar\"}],\"scattergeo\":[{\"type\":\"scattergeo\",\"marker\":{\"colorbar\":{\"outlinewidth\":0,\"ticks\":\"\"}}}],\"scatterpolar\":[{\"type\":\"scatterpolar\",\"marker\":{\"colorbar\":{\"outlinewidth\":0,\"ticks\":\"\"}}}],\"histogram\":[{\"marker\":{\"pattern\":{\"fillmode\":\"overlay\",\"size\":10,\"solidity\":0.2}},\"type\":\"histogram\"}],\"scattergl\":[{\"type\":\"scattergl\",\"marker\":{\"colorbar\":{\"outlinewidth\":0,\"ticks\":\"\"}}}],\"scatter3d\":[{\"type\":\"scatter3d\",\"line\":{\"colorbar\":{\"outlinewidth\":0,\"ticks\":\"\"}},\"marker\":{\"colorbar\":{\"outlinewidth\":0,\"ticks\":\"\"}}}],\"scattermapbox\":[{\"type\":\"scattermapbox\",\"marker\":{\"colorbar\":{\"outlinewidth\":0,\"ticks\":\"\"}}}],\"scatterternary\":[{\"type\":\"scatterternary\",\"marker\":{\"colorbar\":{\"outlinewidth\":0,\"ticks\":\"\"}}}],\"scattercarpet\":[{\"type\":\"scattercarpet\",\"marker\":{\"colorbar\":{\"outlinewidth\":0,\"ticks\":\"\"}}}],\"carpet\":[{\"aaxis\":{\"endlinecolor\":\"#2a3f5f\",\"gridcolor\":\"white\",\"linecolor\":\"white\",\"minorgridcolor\":\"white\",\"startlinecolor\":\"#2a3f5f\"},\"baxis\":{\"endlinecolor\":\"#2a3f5f\",\"gridcolor\":\"white\",\"linecolor\":\"white\",\"minorgridcolor\":\"white\",\"startlinecolor\":\"#2a3f5f\"},\"type\":\"carpet\"}],\"table\":[{\"cells\":{\"fill\":{\"color\":\"#EBF0F8\"},\"line\":{\"color\":\"white\"}},\"header\":{\"fill\":{\"color\":\"#C8D4E3\"},\"line\":{\"color\":\"white\"}},\"type\":\"table\"}],\"barpolar\":[{\"marker\":{\"line\":{\"color\":\"#E5ECF6\",\"width\":0.5},\"pattern\":{\"fillmode\":\"overlay\",\"size\":10,\"solidity\":0.2}},\"type\":\"barpolar\"}],\"pie\":[{\"automargin\":true,\"type\":\"pie\"}]},\"layout\":{\"autotypenumbers\":\"strict\",\"colorway\":[\"#636efa\",\"#EF553B\",\"#00cc96\",\"#ab63fa\",\"#FFA15A\",\"#19d3f3\",\"#FF6692\",\"#B6E880\",\"#FF97FF\",\"#FECB52\"],\"font\":{\"color\":\"#2a3f5f\"},\"hovermode\":\"closest\",\"hoverlabel\":{\"align\":\"left\"},\"paper_bgcolor\":\"white\",\"plot_bgcolor\":\"#E5ECF6\",\"polar\":{\"bgcolor\":\"#E5ECF6\",\"angularaxis\":{\"gridcolor\":\"white\",\"linecolor\":\"white\",\"ticks\":\"\"},\"radialaxis\":{\"gridcolor\":\"white\",\"linecolor\":\"white\",\"ticks\":\"\"}},\"ternary\":{\"bgcolor\":\"#E5ECF6\",\"aaxis\":{\"gridcolor\":\"white\",\"linecolor\":\"white\",\"ticks\":\"\"},\"baxis\":{\"gridcolor\":\"white\",\"linecolor\":\"white\",\"ticks\":\"\"},\"caxis\":{\"gridcolor\":\"white\",\"linecolor\":\"white\",\"ticks\":\"\"}},\"coloraxis\":{\"colorbar\":{\"outlinewidth\":0,\"ticks\":\"\"}},\"colorscale\":{\"sequential\":[[0.0,\"#0d0887\"],[0.1111111111111111,\"#46039f\"],[0.2222222222222222,\"#7201a8\"],[0.3333333333333333,\"#9c179e\"],[0.4444444444444444,\"#bd3786\"],[0.5555555555555556,\"#d8576b\"],[0.6666666666666666,\"#ed7953\"],[0.7777777777777778,\"#fb9f3a\"],[0.8888888888888888,\"#fdca26\"],[1.0,\"#f0f921\"]],\"sequentialminus\":[[0.0,\"#0d0887\"],[0.1111111111111111,\"#46039f\"],[0.2222222222222222,\"#7201a8\"],[0.3333333333333333,\"#9c179e\"],[0.4444444444444444,\"#bd3786\"],[0.5555555555555556,\"#d8576b\"],[0.6666666666666666,\"#ed7953\"],[0.7777777777777778,\"#fb9f3a\"],[0.8888888888888888,\"#fdca26\"],[1.0,\"#f0f921\"]],\"diverging\":[[0,\"#8e0152\"],[0.1,\"#c51b7d\"],[0.2,\"#de77ae\"],[0.3,\"#f1b6da\"],[0.4,\"#fde0ef\"],[0.5,\"#f7f7f7\"],[0.6,\"#e6f5d0\"],[0.7,\"#b8e186\"],[0.8,\"#7fbc41\"],[0.9,\"#4d9221\"],[1,\"#276419\"]]},\"xaxis\":{\"gridcolor\":\"white\",\"linecolor\":\"white\",\"ticks\":\"\",\"title\":{\"standoff\":15},\"zerolinecolor\":\"white\",\"automargin\":true,\"zerolinewidth\":2},\"yaxis\":{\"gridcolor\":\"white\",\"linecolor\":\"white\",\"ticks\":\"\",\"title\":{\"standoff\":15},\"zerolinecolor\":\"white\",\"automargin\":true,\"zerolinewidth\":2},\"scene\":{\"xaxis\":{\"backgroundcolor\":\"#E5ECF6\",\"gridcolor\":\"white\",\"linecolor\":\"white\",\"showbackground\":true,\"ticks\":\"\",\"zerolinecolor\":\"white\",\"gridwidth\":2},\"yaxis\":{\"backgroundcolor\":\"#E5ECF6\",\"gridcolor\":\"white\",\"linecolor\":\"white\",\"showbackground\":true,\"ticks\":\"\",\"zerolinecolor\":\"white\",\"gridwidth\":2},\"zaxis\":{\"backgroundcolor\":\"#E5ECF6\",\"gridcolor\":\"white\",\"linecolor\":\"white\",\"showbackground\":true,\"ticks\":\"\",\"zerolinecolor\":\"white\",\"gridwidth\":2}},\"shapedefaults\":{\"line\":{\"color\":\"#2a3f5f\"}},\"annotationdefaults\":{\"arrowcolor\":\"#2a3f5f\",\"arrowhead\":0,\"arrowwidth\":1},\"geo\":{\"bgcolor\":\"white\",\"landcolor\":\"#E5ECF6\",\"subunitcolor\":\"white\",\"showland\":true,\"showlakes\":true,\"lakecolor\":\"white\"},\"title\":{\"x\":0.05},\"mapbox\":{\"style\":\"light\"}}},\"xaxis\":{\"anchor\":\"y\",\"domain\":[0.0,1.0],\"title\":{\"text\":\"count\"}},\"yaxis\":{\"anchor\":\"x\",\"domain\":[0.0,1.0],\"title\":{\"text\":\"probability\"},\"rangemode\":\"tozero\"},\"legend\":{\"tracegroupgap\":0},\"margin\":{\"t\":60}},                        {\"responsive\": true}                    ).then(function(){\n",
       "                            \n",
       "var gd = document.getElementById('fbf08737-b1dc-44c5-9d03-e4ef8aa1f6ad');\n",
       "var x = new MutationObserver(function (mutations, observer) {{\n",
       "        var display = window.getComputedStyle(gd).display;\n",
       "        if (!display || display === 'none') {{\n",
       "            console.log([gd, 'removed!']);\n",
       "            Plotly.purge(gd);\n",
       "            observer.disconnect();\n",
       "        }}\n",
       "}});\n",
       "\n",
       "// Listen for the removal of the full notebook cells\n",
       "var notebookContainer = gd.closest('#notebook-container');\n",
       "if (notebookContainer) {{\n",
       "    x.observe(notebookContainer, {childList: true});\n",
       "}}\n",
       "\n",
       "// Listen for the clearing of the current output cell\n",
       "var outputEl = gd.closest('.output');\n",
       "if (outputEl) {{\n",
       "    x.observe(outputEl, {childList: true});\n",
       "}}\n",
       "\n",
       "                        })                };                });            </script>        </div>"
      ]
     },
     "metadata": {},
     "output_type": "display_data"
    }
   ],
   "source": [
    "fig = px.ecdf(table_evolution, x=\"count\")\n",
    "fig.show()"
   ]
  },
  {
   "cell_type": "code",
   "execution_count": 46,
   "id": "fed70d57-0f7c-4119-850d-cf04e4042cfb",
   "metadata": {
    "tags": []
   },
   "outputs": [
    {
     "data": {
      "application/vnd.plotly.v1+json": {
       "config": {
        "plotlyServerURL": "https://plot.ly"
       },
       "data": [
        {
         "hovertemplate": "date_mise_en_service=%{x}<br>count=%{y}<extra></extra>",
         "legendgroup": "",
         "line": {
          "color": "#636efa",
          "dash": "solid"
         },
         "marker": {
          "symbol": "circle"
         },
         "mode": "lines",
         "name": "",
         "showlegend": false,
         "type": "scattergl",
         "x": [
          "2014-01-01",
          "2014-01-03",
          "2014-01-09",
          "2014-01-19",
          "2014-01-20",
          "2014-01-29",
          "2014-06-30",
          "2015-05-28",
          "2015-05-29",
          "2015-06-02",
          "2015-07-01",
          "2015-09-09",
          "2015-09-23",
          "2015-09-29",
          "2015-10-02",
          "2015-10-05",
          "2015-10-08",
          "2015-10-15",
          "2015-10-19",
          "2015-11-06",
          "2015-11-25",
          "2015-12-14",
          "2015-12-15",
          "2015-12-20",
          "2015-12-22",
          "2016-01-06",
          "2016-01-07",
          "2016-01-11",
          "2016-01-13",
          "2016-01-18",
          "2016-01-19",
          "2016-01-20",
          "2016-01-21",
          "2016-01-22",
          "2016-01-25",
          "2016-02-01",
          "2016-02-02",
          "2016-02-04",
          "2016-02-05",
          "2016-02-09",
          "2016-02-11",
          "2016-02-12",
          "2016-02-16",
          "2016-02-18",
          "2016-02-23",
          "2016-02-26",
          "2016-03-01",
          "2016-03-02",
          "2016-03-04",
          "2016-03-08",
          "2016-03-10",
          "2016-03-15",
          "2016-03-16",
          "2016-03-21",
          "2016-03-23",
          "2016-03-25",
          "2016-03-26",
          "2016-03-29",
          "2016-04-04",
          "2016-04-05",
          "2016-04-08",
          "2016-04-10",
          "2016-04-13",
          "2016-04-21",
          "2016-05-26",
          "2016-05-27",
          "2016-05-30",
          "2016-06-07",
          "2016-06-08",
          "2016-06-09",
          "2016-06-13",
          "2016-06-20",
          "2016-06-22",
          "2016-06-30",
          "2016-07-12",
          "2016-07-18",
          "2016-07-22",
          "2016-07-25",
          "2016-08-10",
          "2016-08-11",
          "2016-08-12",
          "2016-08-17",
          "2016-08-18",
          "2016-08-31",
          "2016-09-02",
          "2016-09-07",
          "2016-09-14",
          "2016-09-20",
          "2016-09-21",
          "2016-09-22",
          "2016-09-30",
          "2016-10-01",
          "2016-10-02",
          "2016-10-05",
          "2016-10-06",
          "2016-10-07",
          "2016-10-14",
          "2016-10-17",
          "2016-10-19",
          "2016-10-23",
          "2016-10-25",
          "2016-10-28",
          "2016-11-02",
          "2016-11-07",
          "2016-11-09",
          "2016-11-10",
          "2016-11-14",
          "2016-11-15",
          "2016-11-18",
          "2016-11-21",
          "2016-11-22",
          "2016-11-24",
          "2016-11-27",
          "2016-11-29",
          "2016-11-30",
          "2016-12-01",
          "2016-12-02",
          "2016-12-05",
          "2016-12-06",
          "2016-12-08",
          "2016-12-09",
          "2016-12-10",
          "2016-12-12",
          "2016-12-13",
          "2016-12-14",
          "2016-12-16",
          "2016-12-17",
          "2016-12-18",
          "2016-12-19",
          "2017-01-04",
          "2017-01-06",
          "2017-01-07",
          "2017-01-10",
          "2017-01-11",
          "2017-01-12",
          "2017-01-13",
          "2017-01-15",
          "2017-01-16",
          "2017-01-17",
          "2017-01-19",
          "2017-01-21",
          "2017-01-25",
          "2017-01-27",
          "2017-01-30",
          "2017-01-31",
          "2017-02-01",
          "2017-02-02",
          "2017-02-03",
          "2017-02-06",
          "2017-02-08",
          "2017-02-14",
          "2017-02-15",
          "2017-02-16",
          "2017-02-17",
          "2017-02-18",
          "2017-02-21",
          "2017-02-22",
          "2017-02-24",
          "2017-02-25",
          "2017-02-27",
          "2017-02-28",
          "2017-03-01",
          "2017-03-03",
          "2017-03-04",
          "2017-03-06",
          "2017-03-08",
          "2017-03-09",
          "2017-03-10",
          "2017-03-14",
          "2017-03-15",
          "2017-03-17",
          "2017-03-18",
          "2017-03-19",
          "2017-03-20",
          "2017-03-21",
          "2017-03-22",
          "2017-03-23",
          "2017-03-24",
          "2017-03-27",
          "2017-03-28",
          "2017-03-30",
          "2017-03-31",
          "2017-04-04",
          "2017-04-07",
          "2017-04-10",
          "2017-04-11",
          "2017-04-13",
          "2017-04-14",
          "2017-04-16",
          "2017-04-18",
          "2017-04-21",
          "2017-04-23",
          "2017-04-24",
          "2017-04-25",
          "2017-04-27",
          "2017-04-28",
          "2017-04-29",
          "2017-04-30",
          "2017-05-01",
          "2017-05-02",
          "2017-05-03",
          "2017-05-04",
          "2017-05-05",
          "2017-05-09",
          "2017-05-10",
          "2017-05-11",
          "2017-05-13",
          "2017-05-14",
          "2017-05-16",
          "2017-05-17",
          "2017-05-18",
          "2017-05-19",
          "2017-05-22",
          "2017-05-24",
          "2017-05-26",
          "2017-05-27",
          "2017-05-29",
          "2017-05-30",
          "2017-05-31",
          "2017-06-02",
          "2017-06-06",
          "2017-06-08",
          "2017-06-10",
          "2017-06-12",
          "2017-06-14",
          "2017-06-16",
          "2017-06-19",
          "2017-06-20",
          "2017-06-21",
          "2017-06-22",
          "2017-06-23",
          "2017-06-26",
          "2017-06-27",
          "2017-06-28",
          "2017-06-29",
          "2017-07-02",
          "2017-07-03",
          "2017-07-04",
          "2017-07-05",
          "2017-07-06",
          "2017-07-07",
          "2017-07-09",
          "2017-07-11",
          "2017-07-12",
          "2017-07-13",
          "2017-07-14",
          "2017-07-15",
          "2017-07-16",
          "2017-07-17",
          "2017-07-18",
          "2017-07-19",
          "2017-07-20",
          "2017-07-21",
          "2017-07-22",
          "2017-07-23",
          "2017-07-25",
          "2017-07-26",
          "2017-07-27",
          "2017-07-28",
          "2017-07-29",
          "2017-07-31",
          "2017-08-02",
          "2017-08-03",
          "2017-08-04",
          "2017-08-05",
          "2017-08-06",
          "2017-08-07",
          "2017-08-09",
          "2017-08-10",
          "2017-08-11",
          "2017-08-12",
          "2017-08-13",
          "2017-08-14",
          "2017-08-15",
          "2017-08-16",
          "2017-08-17",
          "2017-08-18",
          "2017-08-19",
          "2017-08-21",
          "2017-08-22",
          "2017-08-23",
          "2017-08-24",
          "2017-08-25",
          "2017-08-26",
          "2017-08-27",
          "2017-08-28",
          "2017-08-30",
          "2017-08-31",
          "2017-09-01",
          "2017-09-03",
          "2017-09-04",
          "2017-09-06",
          "2017-09-07",
          "2017-09-08",
          "2017-09-09",
          "2017-09-10",
          "2017-09-11",
          "2017-09-12",
          "2017-09-13",
          "2017-09-14",
          "2017-09-15",
          "2017-09-16",
          "2017-09-17",
          "2017-09-18",
          "2017-09-19",
          "2017-09-20",
          "2017-09-22",
          "2017-09-23",
          "2017-09-24",
          "2017-09-25",
          "2017-09-26",
          "2017-09-27",
          "2017-09-28",
          "2017-09-29",
          "2017-09-30",
          "2017-10-01",
          "2017-10-02",
          "2017-10-04",
          "2017-10-05",
          "2017-10-06",
          "2017-10-08",
          "2017-10-09",
          "2017-10-10",
          "2017-10-11",
          "2017-10-12",
          "2017-10-13",
          "2017-10-14",
          "2017-10-15",
          "2017-10-16",
          "2017-10-18",
          "2017-10-19",
          "2017-10-20",
          "2017-10-21",
          "2017-10-22",
          "2017-10-23",
          "2017-10-24",
          "2017-10-25",
          "2017-10-26",
          "2017-10-27",
          "2017-10-29",
          "2017-10-31",
          "2017-11-01",
          "2017-11-02",
          "2017-11-03",
          "2017-11-04",
          "2017-11-05",
          "2017-11-06",
          "2017-11-07",
          "2017-11-08",
          "2017-11-09",
          "2017-11-10",
          "2017-11-12",
          "2017-11-13",
          "2017-11-14",
          "2017-11-15",
          "2017-11-16",
          "2017-11-17",
          "2017-11-18",
          "2017-11-19",
          "2017-11-20",
          "2017-11-21",
          "2017-11-22",
          "2017-11-23",
          "2017-11-24",
          "2017-11-25",
          "2017-11-27",
          "2017-11-29",
          "2017-11-30",
          "2017-12-01",
          "2017-12-02",
          "2017-12-03",
          "2017-12-04",
          "2017-12-05",
          "2017-12-06",
          "2017-12-07",
          "2017-12-08",
          "2017-12-10",
          "2017-12-13",
          "2017-12-14",
          "2017-12-15",
          "2017-12-16",
          "2017-12-17",
          "2017-12-18",
          "2017-12-19",
          "2017-12-20",
          "2017-12-21",
          "2017-12-22",
          "2017-12-24",
          "2017-12-25",
          "2017-12-27",
          "2017-12-29",
          "2017-12-30",
          "2017-12-31",
          "2018-01-01",
          "2018-01-03",
          "2018-01-05",
          "2018-01-06",
          "2018-01-09",
          "2018-01-10",
          "2018-01-11",
          "2018-01-12",
          "2018-01-13",
          "2018-01-14",
          "2018-01-15",
          "2018-01-16",
          "2018-01-17",
          "2018-01-19",
          "2018-01-20",
          "2018-01-21",
          "2018-01-23",
          "2018-01-24",
          "2018-01-25",
          "2018-01-26",
          "2018-01-28",
          "2018-01-29",
          "2018-01-31",
          "2018-02-01",
          "2018-02-03",
          "2018-02-04",
          "2018-02-05",
          "2018-02-06",
          "2018-02-07",
          "2018-02-08",
          "2018-02-09",
          "2018-02-10",
          "2018-02-11",
          "2018-02-12",
          "2018-02-13",
          "2018-02-14",
          "2018-02-15",
          "2018-02-16",
          "2018-02-17",
          "2018-02-19",
          "2018-02-20",
          "2018-02-21",
          "2018-02-22",
          "2018-02-23",
          "2018-02-24",
          "2018-02-25",
          "2018-02-26",
          "2018-02-27",
          "2018-02-28",
          "2018-03-01",
          "2018-03-02",
          "2018-03-03",
          "2018-03-06",
          "2018-03-07",
          "2018-03-08",
          "2018-03-09",
          "2018-03-10",
          "2018-03-11",
          "2018-03-12",
          "2018-03-13",
          "2018-03-14",
          "2018-03-15",
          "2018-03-16",
          "2018-03-17",
          "2018-03-18",
          "2018-03-19",
          "2018-03-20",
          "2018-03-21",
          "2018-03-22",
          "2018-03-23",
          "2018-03-25",
          "2018-03-26",
          "2018-03-27",
          "2018-03-29",
          "2018-03-30",
          "2018-03-31",
          "2018-04-01",
          "2018-04-02",
          "2018-04-03",
          "2018-04-04",
          "2018-04-05",
          "2018-04-06",
          "2018-04-07",
          "2018-04-08",
          "2018-04-09",
          "2018-04-10",
          "2018-04-11",
          "2018-04-12",
          "2018-04-13",
          "2018-04-14",
          "2018-04-15",
          "2018-04-16",
          "2018-04-17",
          "2018-04-18",
          "2018-04-19",
          "2018-04-20",
          "2018-04-21",
          "2018-04-22",
          "2018-04-23",
          "2018-04-24",
          "2018-04-25",
          "2018-04-26",
          "2018-04-29",
          "2018-04-30",
          "2018-05-01",
          "2018-05-03",
          "2018-05-04",
          "2018-05-05",
          "2018-05-06",
          "2018-05-07",
          "2018-05-08",
          "2018-05-10",
          "2018-05-11",
          "2018-05-12",
          "2018-05-13",
          "2018-05-15",
          "2018-05-16",
          "2018-05-17",
          "2018-05-18",
          "2018-05-19",
          "2018-05-21",
          "2018-05-22",
          "2018-05-23",
          "2018-05-24",
          "2018-05-25",
          "2018-05-26",
          "2018-05-27",
          "2018-05-28",
          "2018-05-29",
          "2018-05-30",
          "2018-05-31",
          "2018-06-01",
          "2018-06-02",
          "2018-06-03",
          "2018-06-04",
          "2018-06-05",
          "2018-06-06",
          "2018-06-07",
          "2018-06-08",
          "2018-06-09",
          "2018-06-10",
          "2018-06-11",
          "2018-06-12",
          "2018-06-13",
          "2018-06-14",
          "2018-06-15",
          "2018-06-16",
          "2018-06-17",
          "2018-06-18",
          "2018-06-19",
          "2018-06-20",
          "2018-06-22",
          "2018-06-24",
          "2018-06-25",
          "2018-06-26",
          "2018-06-27",
          "2018-06-28",
          "2018-06-29",
          "2018-06-30",
          "2018-07-01",
          "2018-07-02",
          "2018-07-03",
          "2018-07-04",
          "2018-07-05",
          "2018-07-06",
          "2018-07-07",
          "2018-07-08",
          "2018-07-09",
          "2018-07-10",
          "2018-07-11",
          "2018-07-12",
          "2018-07-13",
          "2018-07-14",
          "2018-07-15",
          "2018-07-16",
          "2018-07-17",
          "2018-07-18",
          "2018-07-19",
          "2018-07-20",
          "2018-07-21",
          "2018-07-22",
          "2018-07-24",
          "2018-07-25",
          "2018-07-26",
          "2018-07-27",
          "2018-07-28",
          "2018-07-29",
          "2018-07-30",
          "2018-07-31",
          "2018-08-01",
          "2018-08-02",
          "2018-08-03",
          "2018-08-04",
          "2018-08-07",
          "2018-08-08",
          "2018-08-09",
          "2018-08-10",
          "2018-08-11",
          "2018-08-15",
          "2018-08-16",
          "2018-08-18",
          "2018-08-19",
          "2018-08-20",
          "2018-08-21",
          "2018-08-22",
          "2018-08-23",
          "2018-08-24",
          "2018-08-25",
          "2018-08-26",
          "2018-08-27",
          "2018-08-28",
          "2018-08-30",
          "2018-08-31",
          "2018-09-01",
          "2018-09-02",
          "2018-09-03",
          "2018-09-05",
          "2018-09-06",
          "2018-09-07",
          "2018-09-08",
          "2018-09-09",
          "2018-09-10",
          "2018-09-12",
          "2018-09-13",
          "2018-09-14",
          "2018-09-15",
          "2018-09-16",
          "2018-09-19",
          "2018-09-21",
          "2018-09-22",
          "2018-09-23",
          "2018-09-24",
          "2018-09-25",
          "2018-09-26",
          "2018-09-27",
          "2018-09-28",
          "2018-09-29",
          "2018-09-30",
          "2018-10-01",
          "2018-10-02",
          "2018-10-03",
          "2018-10-04",
          "2018-10-05",
          "2018-10-07",
          "2018-10-08",
          "2018-10-10",
          "2018-10-11",
          "2018-10-12",
          "2018-10-13",
          "2018-10-14",
          "2018-10-15",
          "2018-10-16",
          "2018-10-17",
          "2018-10-19",
          "2018-10-20",
          "2018-10-21",
          "2018-10-22",
          "2018-10-23",
          "2018-10-26",
          "2018-10-27",
          "2018-10-28",
          "2018-10-29",
          "2018-10-30",
          "2018-10-31",
          "2018-11-01",
          "2018-11-02",
          "2018-11-03",
          "2018-11-04",
          "2018-11-05",
          "2018-11-06",
          "2018-11-08",
          "2018-11-09",
          "2018-11-10",
          "2018-11-11",
          "2018-11-12",
          "2018-11-13",
          "2018-11-14",
          "2018-11-15",
          "2018-11-16",
          "2018-11-18",
          "2018-11-19",
          "2018-11-20",
          "2018-11-21",
          "2018-11-22",
          "2018-11-23",
          "2018-11-24",
          "2018-11-25",
          "2018-11-27",
          "2018-11-28",
          "2018-11-29",
          "2018-11-30",
          "2018-12-03",
          "2018-12-05",
          "2018-12-06",
          "2018-12-07",
          "2018-12-08",
          "2018-12-09",
          "2018-12-10",
          "2018-12-11",
          "2018-12-12",
          "2018-12-13",
          "2018-12-15",
          "2018-12-16",
          "2018-12-18",
          "2018-12-19",
          "2018-12-20",
          "2018-12-22",
          "2018-12-23",
          "2018-12-24",
          "2018-12-26",
          "2018-12-27",
          "2018-12-28",
          "2018-12-29",
          "2018-12-30",
          "2019-01-01",
          "2019-01-03",
          "2019-01-04",
          "2019-01-05",
          "2019-01-06",
          "2019-01-07",
          "2019-01-09",
          "2019-01-10",
          "2019-01-11",
          "2019-01-12",
          "2019-01-13",
          "2019-01-14",
          "2019-01-15",
          "2019-01-16",
          "2019-01-17",
          "2019-01-18",
          "2019-01-19",
          "2019-01-20",
          "2019-01-21",
          "2019-01-22",
          "2019-01-23",
          "2019-01-24",
          "2019-01-25",
          "2019-01-26",
          "2019-01-27",
          "2019-01-28",
          "2019-01-29",
          "2019-01-30",
          "2019-01-31",
          "2019-02-01",
          "2019-02-02",
          "2019-02-03",
          "2019-02-04",
          "2019-02-05",
          "2019-02-06",
          "2019-02-07",
          "2019-02-09",
          "2019-02-10",
          "2019-02-12",
          "2019-02-13",
          "2019-02-14",
          "2019-02-15",
          "2019-02-16",
          "2019-02-17",
          "2019-02-18",
          "2019-02-19",
          "2019-02-20",
          "2019-02-21",
          "2019-02-22",
          "2019-02-23",
          "2019-02-24",
          "2019-02-25",
          "2019-02-26",
          "2019-02-27",
          "2019-02-28",
          "2019-03-01",
          "2019-03-02",
          "2019-03-03",
          "2019-03-04",
          "2019-03-05",
          "2019-03-06",
          "2019-03-07",
          "2019-03-08",
          "2019-03-09",
          "2019-03-10",
          "2019-03-11",
          "2019-03-12",
          "2019-03-13",
          "2019-03-14",
          "2019-03-15",
          "2019-03-16",
          "2019-03-17",
          "2019-03-18",
          "2019-03-20",
          "2019-03-21",
          "2019-03-22",
          "2019-03-25",
          "2019-03-26",
          "2019-03-27",
          "2019-03-28",
          "2019-03-29",
          "2019-03-30",
          "2019-03-31",
          "2019-04-01",
          "2019-04-02",
          "2019-04-04",
          "2019-04-05",
          "2019-04-06",
          "2019-04-07",
          "2019-04-08",
          "2019-04-09",
          "2019-04-10",
          "2019-04-11",
          "2019-04-12",
          "2019-04-13",
          "2019-04-14",
          "2019-04-15",
          "2019-04-16",
          "2019-04-17",
          "2019-04-20",
          "2019-04-21",
          "2019-04-22",
          "2019-04-23",
          "2019-04-24",
          "2019-04-26",
          "2019-04-27",
          "2019-04-28",
          "2019-04-29",
          "2019-04-30",
          "2019-05-02",
          "2019-05-03",
          "2019-05-04",
          "2019-05-05",
          "2019-05-06",
          "2019-05-07",
          "2019-05-09",
          "2019-05-10",
          "2019-05-11",
          "2019-05-12",
          "2019-05-13",
          "2019-05-15",
          "2019-05-17",
          "2019-05-18",
          "2019-05-19",
          "2019-05-20",
          "2019-05-21",
          "2019-05-22",
          "2019-05-23",
          "2019-05-24",
          "2019-05-25",
          "2019-05-27",
          "2019-05-28",
          "2019-05-29",
          "2019-05-30",
          "2019-05-31",
          "2019-06-02",
          "2019-06-04",
          "2019-06-05",
          "2019-06-06",
          "2019-06-07",
          "2019-06-08",
          "2019-06-09",
          "2019-06-10",
          "2019-06-11",
          "2019-06-12",
          "2019-06-13",
          "2019-06-14",
          "2019-06-15",
          "2019-06-16",
          "2019-06-18",
          "2019-06-19",
          "2019-06-20",
          "2019-06-21",
          "2019-06-23",
          "2019-06-24",
          "2019-06-25",
          "2019-06-26",
          "2019-06-28",
          "2019-06-30",
          "2019-07-01",
          "2019-07-02",
          "2019-07-03",
          "2019-07-04",
          "2019-07-05",
          "2019-07-06",
          "2019-07-07",
          "2019-07-11",
          "2019-07-12",
          "2019-07-13",
          "2019-07-14",
          "2019-07-15",
          "2019-07-16",
          "2019-07-17",
          "2019-07-18",
          "2019-07-19",
          "2019-07-20",
          "2019-07-21",
          "2019-07-24",
          "2019-07-25",
          "2019-07-26",
          "2019-07-28",
          "2019-07-29",
          "2019-07-30",
          "2019-08-01",
          "2019-08-03",
          "2019-08-05",
          "2019-08-06",
          "2019-08-07",
          "2019-08-08",
          "2019-08-09",
          "2019-08-10",
          "2019-08-13",
          "2019-08-14",
          "2019-08-15",
          "2019-08-16",
          "2019-08-18",
          "2019-08-20",
          "2019-08-21",
          "2019-08-22",
          "2019-08-24",
          "2019-08-27",
          "2019-08-30",
          "2019-08-31",
          "2019-09-03",
          "2019-09-04",
          "2019-09-05",
          "2019-09-06",
          "2019-09-07",
          "2019-09-08",
          "2019-09-09",
          "2019-09-10",
          "2019-09-12",
          "2019-09-13",
          "2019-09-15",
          "2019-09-16",
          "2019-09-17",
          "2019-09-18",
          "2019-09-19",
          "2019-09-20",
          "2019-09-25",
          "2019-09-26",
          "2019-09-27",
          "2019-09-28",
          "2019-09-30",
          "2019-10-01",
          "2019-10-02",
          "2019-10-03",
          "2019-10-05",
          "2019-10-06",
          "2019-10-09",
          "2019-10-10",
          "2019-10-11",
          "2019-10-12",
          "2019-10-13",
          "2019-10-14",
          "2019-10-15",
          "2019-10-17",
          "2019-10-18",
          "2019-10-22",
          "2019-10-24",
          "2019-10-25",
          "2019-10-26",
          "2019-10-27",
          "2019-10-28",
          "2019-10-29",
          "2019-10-30",
          "2019-10-31",
          "2019-11-04",
          "2019-11-05",
          "2019-11-07",
          "2019-11-08",
          "2019-11-09",
          "2019-11-11",
          "2019-11-12",
          "2019-11-13",
          "2019-11-14",
          "2019-11-15",
          "2019-11-16",
          "2019-11-18",
          "2019-11-19",
          "2019-11-20",
          "2019-11-21",
          "2019-11-22",
          "2019-11-23",
          "2019-11-25",
          "2019-11-26",
          "2019-11-27",
          "2019-11-28",
          "2019-11-29",
          "2019-12-01",
          "2019-12-02",
          "2019-12-03",
          "2019-12-04",
          "2019-12-05",
          "2019-12-06",
          "2019-12-07",
          "2019-12-08",
          "2019-12-09",
          "2019-12-10",
          "2019-12-11",
          "2019-12-12",
          "2019-12-13",
          "2019-12-14",
          "2019-12-15",
          "2019-12-16",
          "2019-12-17",
          "2019-12-18",
          "2019-12-19",
          "2019-12-20",
          "2019-12-23",
          "2019-12-24",
          "2019-12-26",
          "2019-12-27",
          "2019-12-28",
          "2019-12-29",
          "2019-12-31",
          "2020-01-02",
          "2020-01-04",
          "2020-01-05",
          "2020-01-06",
          "2020-01-07",
          "2020-01-08",
          "2020-01-09",
          "2020-01-10",
          "2020-01-11",
          "2020-01-13",
          "2020-01-14",
          "2020-01-15",
          "2020-01-17",
          "2020-01-18",
          "2020-01-20",
          "2020-01-22",
          "2020-01-23",
          "2020-01-24",
          "2020-01-27",
          "2020-01-28",
          "2020-01-29",
          "2020-01-30",
          "2020-01-31",
          "2020-02-02",
          "2020-02-03",
          "2020-02-04",
          "2020-02-05",
          "2020-02-06",
          "2020-02-07",
          "2020-02-08",
          "2020-02-10",
          "2020-02-11",
          "2020-02-12",
          "2020-02-13",
          "2020-02-14",
          "2020-02-15",
          "2020-02-16",
          "2020-02-17",
          "2020-02-18",
          "2020-02-19",
          "2020-02-20",
          "2020-02-21",
          "2020-02-22",
          "2020-02-24",
          "2020-02-25",
          "2020-02-26",
          "2020-02-27",
          "2020-02-28",
          "2020-02-29",
          "2020-03-02",
          "2020-03-03",
          "2020-03-04",
          "2020-03-05",
          "2020-03-06",
          "2020-03-07",
          "2020-03-09",
          "2020-03-10",
          "2020-03-11",
          "2020-03-12",
          "2020-03-13",
          "2020-03-14",
          "2020-03-15",
          "2020-03-16",
          "2020-03-24",
          "2020-03-26",
          "2020-03-30",
          "2020-03-31",
          "2020-04-01",
          "2020-04-02",
          "2020-04-03",
          "2020-04-06",
          "2020-04-07",
          "2020-04-08",
          "2020-04-09",
          "2020-04-10",
          "2020-04-11",
          "2020-04-13",
          "2020-04-14",
          "2020-04-15",
          "2020-04-16",
          "2020-04-20",
          "2020-04-25",
          "2020-04-28",
          "2020-05-04",
          "2020-05-05",
          "2020-05-06",
          "2020-05-07",
          "2020-05-09",
          "2020-05-11",
          "2020-05-12",
          "2020-05-14",
          "2020-05-15",
          "2020-05-16",
          "2020-05-18",
          "2020-05-19",
          "2020-05-21",
          "2020-05-23",
          "2020-05-24",
          "2020-05-25",
          "2020-05-26",
          "2020-05-27",
          "2020-05-28",
          "2020-05-29",
          "2020-05-30",
          "2020-05-31",
          "2020-06-01",
          "2020-06-02",
          "2020-06-03",
          "2020-06-04",
          "2020-06-05",
          "2020-06-06",
          "2020-06-07",
          "2020-06-08",
          "2020-06-09",
          "2020-06-10",
          "2020-06-11",
          "2020-06-12",
          "2020-06-14",
          "2020-06-15",
          "2020-06-16",
          "2020-06-17",
          "2020-06-18",
          "2020-06-19",
          "2020-06-21",
          "2020-06-22",
          "2020-06-23",
          "2020-06-24",
          "2020-06-25",
          "2020-06-26",
          "2020-06-27",
          "2020-06-28",
          "2020-06-29",
          "2020-06-30",
          "2020-07-01",
          "2020-07-02",
          "2020-07-03",
          "2020-07-04",
          "2020-07-05",
          "2020-07-06",
          "2020-07-07",
          "2020-07-08",
          "2020-07-09",
          "2020-07-10",
          "2020-07-11",
          "2020-07-12",
          "2020-07-14",
          "2020-07-15",
          "2020-07-16",
          "2020-07-17",
          "2020-07-18",
          "2020-07-19",
          "2020-07-20",
          "2020-07-21",
          "2020-07-22",
          "2020-07-23",
          "2020-07-24",
          "2020-07-25",
          "2020-07-26",
          "2020-07-27",
          "2020-07-28",
          "2020-07-29",
          "2020-07-30",
          "2020-07-31",
          "2020-08-01",
          "2020-08-02",
          "2020-08-03",
          "2020-08-04",
          "2020-08-05",
          "2020-08-06",
          "2020-08-07",
          "2020-08-08",
          "2020-08-09",
          "2020-08-10",
          "2020-08-12",
          "2020-08-13",
          "2020-08-14",
          "2020-08-15",
          "2020-08-16",
          "2020-08-17",
          "2020-08-18",
          "2020-08-19",
          "2020-08-20",
          "2020-08-21",
          "2020-08-22",
          "2020-08-25",
          "2020-08-26",
          "2020-08-27",
          "2020-08-28",
          "2020-08-29",
          "2020-09-01",
          "2020-09-02",
          "2020-09-03",
          "2020-09-04",
          "2020-09-05",
          "2020-09-07",
          "2020-09-08",
          "2020-09-09",
          "2020-09-10",
          "2020-09-11",
          "2020-09-12",
          "2020-09-13",
          "2020-09-14",
          "2020-09-15",
          "2020-09-16",
          "2020-09-17",
          "2020-09-18",
          "2020-09-19",
          "2020-09-20",
          "2020-09-21",
          "2020-09-22",
          "2020-09-23",
          "2020-09-24",
          "2020-09-25",
          "2020-09-26",
          "2020-09-27",
          "2020-09-28",
          "2020-09-29",
          "2020-09-30",
          "2020-10-01",
          "2020-10-02",
          "2020-10-03",
          "2020-10-05",
          "2020-10-06",
          "2020-10-07",
          "2020-10-08",
          "2020-10-09",
          "2020-10-10",
          "2020-10-12",
          "2020-10-13",
          "2020-10-14",
          "2020-10-15",
          "2020-10-16",
          "2020-10-17",
          "2020-10-18",
          "2020-10-19",
          "2020-10-21",
          "2020-10-22",
          "2020-10-23",
          "2020-10-26",
          "2020-10-27",
          "2020-10-28",
          "2020-10-29",
          "2020-10-30",
          "2020-10-31",
          "2020-11-01",
          "2020-11-02",
          "2020-11-03",
          "2020-11-04",
          "2020-11-05",
          "2020-11-06",
          "2020-11-07",
          "2020-11-09",
          "2020-11-10",
          "2020-11-11",
          "2020-11-12",
          "2020-11-13",
          "2020-11-14",
          "2020-11-16",
          "2020-11-17",
          "2020-11-18",
          "2020-11-19",
          "2020-11-20",
          "2020-11-21",
          "2020-11-22",
          "2020-11-23",
          "2020-11-24",
          "2020-11-25",
          "2020-11-26",
          "2020-11-27",
          "2020-11-28",
          "2020-11-29",
          "2020-11-30",
          "2020-12-01",
          "2020-12-02",
          "2020-12-03",
          "2020-12-04",
          "2020-12-06",
          "2020-12-07",
          "2020-12-08",
          "2020-12-09",
          "2020-12-10",
          "2020-12-11",
          "2020-12-12",
          "2020-12-13",
          "2020-12-14",
          "2020-12-15",
          "2020-12-16",
          "2020-12-17",
          "2020-12-18",
          "2020-12-19",
          "2020-12-21",
          "2020-12-22",
          "2020-12-23",
          "2020-12-24",
          "2020-12-25",
          "2020-12-26",
          "2020-12-27",
          "2020-12-28",
          "2020-12-29",
          "2020-12-30",
          "2021-01-01",
          "2021-01-02",
          "2021-01-03",
          "2021-01-04",
          "2021-01-05",
          "2021-01-06",
          "2021-01-07",
          "2021-01-08",
          "2021-01-09",
          "2021-01-11",
          "2021-01-12",
          "2021-01-13",
          "2021-01-14",
          "2021-01-15",
          "2021-01-16",
          "2021-01-17",
          "2021-01-18",
          "2021-01-19",
          "2021-01-20",
          "2021-01-21",
          "2021-01-22",
          "2021-01-23",
          "2021-01-24",
          "2021-01-25",
          "2021-01-26",
          "2021-01-27",
          "2021-01-28",
          "2021-01-29",
          "2021-01-30",
          "2021-01-31",
          "2021-02-01",
          "2021-02-02",
          "2021-02-03",
          "2021-02-04",
          "2021-02-05",
          "2021-02-06",
          "2021-02-08",
          "2021-02-09",
          "2021-02-10",
          "2021-02-11",
          "2021-02-12",
          "2021-02-15",
          "2021-02-16",
          "2021-02-17",
          "2021-02-18",
          "2021-02-19",
          "2021-02-21",
          "2021-02-22",
          "2021-02-23",
          "2021-02-24",
          "2021-02-25",
          "2021-02-26",
          "2021-02-27",
          "2021-02-28",
          "2021-03-01",
          "2021-03-02",
          "2021-03-03",
          "2021-03-04",
          "2021-03-05",
          "2021-03-06",
          "2021-03-08",
          "2021-03-09",
          "2021-03-10",
          "2021-03-11",
          "2021-03-12",
          "2021-03-13",
          "2021-03-14",
          "2021-03-15",
          "2021-03-16",
          "2021-03-17",
          "2021-03-18",
          "2021-03-19",
          "2021-03-20",
          "2021-03-21",
          "2021-03-23",
          "2021-03-24",
          "2021-03-25",
          "2021-03-26",
          "2021-03-28",
          "2021-03-29",
          "2021-03-30",
          "2021-03-31",
          "2021-04-01",
          "2021-04-02",
          "2021-04-03",
          "2021-04-04",
          "2021-04-05",
          "2021-04-06",
          "2021-04-07",
          "2021-04-08",
          "2021-04-09",
          "2021-04-12",
          "2021-04-13",
          "2021-04-14",
          "2021-04-15",
          "2021-04-16",
          "2021-04-17",
          "2021-04-18",
          "2021-04-19",
          "2021-04-20",
          "2021-04-21",
          "2021-04-22",
          "2021-04-23",
          "2021-04-24",
          "2021-04-25",
          "2021-04-26",
          "2021-04-27",
          "2021-04-28",
          "2021-04-29",
          "2021-04-30",
          "2021-05-01",
          "2021-05-02",
          "2021-05-03",
          "2021-05-04",
          "2021-05-05",
          "2021-05-06",
          "2021-05-07",
          "2021-05-08",
          "2021-05-09",
          "2021-05-10",
          "2021-05-11",
          "2021-05-12",
          "2021-05-13",
          "2021-05-14",
          "2021-05-15",
          "2021-05-16",
          "2021-05-17",
          "2021-05-18",
          "2021-05-19",
          "2021-05-20",
          "2021-05-21",
          "2021-05-22",
          "2021-05-24",
          "2021-05-25",
          "2021-05-26",
          "2021-05-27",
          "2021-05-28",
          "2021-05-29",
          "2021-05-30",
          "2021-05-31",
          "2021-06-01",
          "2021-06-02",
          "2021-06-03",
          "2021-06-04",
          "2021-06-05",
          "2021-06-06",
          "2021-06-07",
          "2021-06-08",
          "2021-06-09",
          "2021-06-10",
          "2021-06-11",
          "2021-06-13",
          "2021-06-14",
          "2021-06-15",
          "2021-06-16",
          "2021-06-17",
          "2021-06-18",
          "2021-06-19",
          "2021-06-20",
          "2021-06-21",
          "2021-06-22",
          "2021-06-23",
          "2021-06-24",
          "2021-06-25",
          "2021-06-26",
          "2021-06-27",
          "2021-06-28",
          "2021-06-29",
          "2021-06-30",
          "2021-07-01",
          "2021-07-02",
          "2021-07-03",
          "2021-07-04",
          "2021-07-05",
          "2021-07-06",
          "2021-07-07",
          "2021-07-08",
          "2021-07-09",
          "2021-07-10",
          "2021-07-11",
          "2021-07-12",
          "2021-07-13",
          "2021-07-14",
          "2021-07-15",
          "2021-07-16",
          "2021-07-19",
          "2021-07-20",
          "2021-07-21",
          "2021-07-22",
          "2021-07-23",
          "2021-07-24",
          "2021-07-26",
          "2021-07-27",
          "2021-07-28",
          "2021-07-29",
          "2021-07-30",
          "2021-08-01",
          "2021-08-02",
          "2021-08-03",
          "2021-08-04",
          "2021-08-05",
          "2021-08-06",
          "2021-08-07",
          "2021-08-08",
          "2021-08-09",
          "2021-08-10",
          "2021-08-11",
          "2021-08-12",
          "2021-08-13",
          "2021-08-14",
          "2021-08-15",
          "2021-08-16",
          "2021-08-17",
          "2021-08-18",
          "2021-08-19",
          "2021-08-20",
          "2021-08-21",
          "2021-08-23",
          "2021-08-24",
          "2021-08-25",
          "2021-08-26",
          "2021-08-27",
          "2021-08-28",
          "2021-08-30",
          "2021-08-31",
          "2021-09-01",
          "2021-09-02",
          "2021-09-03",
          "2021-09-04",
          "2021-09-06",
          "2021-09-07",
          "2021-09-08",
          "2021-09-09",
          "2021-09-10",
          "2021-09-11",
          "2021-09-13",
          "2021-09-14",
          "2021-09-15",
          "2021-09-16",
          "2021-09-17",
          "2021-09-18",
          "2021-09-19",
          "2021-09-20",
          "2021-09-21",
          "2021-09-22",
          "2021-09-23",
          "2021-09-24",
          "2021-09-26",
          "2021-09-27",
          "2021-09-28",
          "2021-09-29",
          "2021-09-30",
          "2021-10-01",
          "2021-10-02",
          "2021-10-04",
          "2021-10-05",
          "2021-10-06",
          "2021-10-07",
          "2021-10-08",
          "2021-10-09",
          "2021-10-11",
          "2021-10-12",
          "2021-10-13",
          "2021-10-14",
          "2021-10-15",
          "2021-10-16",
          "2021-10-17",
          "2021-10-18",
          "2021-10-19",
          "2021-10-20",
          "2021-10-21",
          "2021-10-22",
          "2021-10-23",
          "2021-10-24",
          "2021-10-25",
          "2021-10-26",
          "2021-10-27",
          "2021-10-28",
          "2021-10-29",
          "2021-10-30",
          "2021-11-01",
          "2021-11-02",
          "2021-11-03",
          "2021-11-05",
          "2021-11-06",
          "2021-11-08",
          "2021-11-09",
          "2021-11-10",
          "2021-11-12",
          "2021-11-13",
          "2021-11-15",
          "2021-11-16",
          "2021-11-17",
          "2021-11-18",
          "2021-11-19",
          "2021-11-21",
          "2021-11-22",
          "2021-11-23",
          "2021-11-24",
          "2021-11-25",
          "2021-11-26",
          "2021-11-27",
          "2021-11-28",
          "2021-11-29",
          "2021-11-30",
          "2021-12-01",
          "2021-12-02",
          "2021-12-03",
          "2021-12-04",
          "2021-12-05",
          "2021-12-06",
          "2021-12-07",
          "2021-12-08",
          "2021-12-09",
          "2021-12-10",
          "2021-12-11",
          "2021-12-12",
          "2021-12-13",
          "2021-12-14",
          "2021-12-15",
          "2021-12-16",
          "2021-12-17",
          "2021-12-18",
          "2021-12-19",
          "2021-12-20",
          "2021-12-21",
          "2021-12-22",
          "2021-12-23",
          "2021-12-25",
          "2021-12-26",
          "2021-12-27",
          "2021-12-28",
          "2021-12-30",
          "2021-12-31",
          "2022-01-01",
          "2022-01-03",
          "2022-01-04",
          "2022-01-05",
          "2022-01-06",
          "2022-01-07",
          "2022-01-08",
          "2022-01-09",
          "2022-01-10",
          "2022-01-11",
          "2022-01-12",
          "2022-01-13",
          "2022-01-14",
          "2022-01-15",
          "2022-01-17",
          "2022-01-18",
          "2022-01-19",
          "2022-01-20",
          "2022-01-21",
          "2022-01-22",
          "2022-01-23",
          "2022-01-24",
          "2022-01-26",
          "2022-01-27",
          "2022-01-28",
          "2022-01-29",
          "2022-01-30",
          "2022-01-31",
          "2022-02-01",
          "2022-02-02",
          "2022-02-03",
          "2022-02-04",
          "2022-02-05",
          "2022-02-06",
          "2022-02-07",
          "2022-02-08",
          "2022-02-09",
          "2022-02-10",
          "2022-02-11",
          "2022-02-12",
          "2022-02-13",
          "2022-02-14",
          "2022-02-16",
          "2022-02-17",
          "2022-02-18",
          "2022-02-19",
          "2022-02-20",
          "2022-02-21",
          "2022-02-22",
          "2022-02-23",
          "2022-02-24",
          "2022-02-25",
          "2022-02-28",
          "2022-03-01",
          "2022-03-02",
          "2022-03-03",
          "2022-03-04",
          "2022-03-05",
          "2022-03-07",
          "2022-03-08",
          "2022-03-09",
          "2022-03-10",
          "2022-03-11",
          "2022-03-12",
          "2022-03-13",
          "2022-03-14",
          "2022-03-15",
          "2022-03-16",
          "2022-03-17",
          "2022-03-18",
          "2022-03-19",
          "2022-03-20",
          "2022-03-21",
          "2022-03-22",
          "2022-03-23",
          "2022-03-24",
          "2022-03-25",
          "2022-03-29",
          "2022-03-30",
          "2022-03-31",
          "2022-04-01",
          "2022-04-02",
          "2022-04-03",
          "2022-04-04",
          "2022-04-05",
          "2022-04-06",
          "2022-04-07",
          "2022-04-08",
          "2022-04-09",
          "2022-04-11",
          "2022-04-12",
          "2022-04-13",
          "2022-04-14",
          "2022-04-15",
          "2022-04-16",
          "2022-04-17",
          "2022-04-18",
          "2022-04-19",
          "2022-04-20",
          "2022-04-21",
          "2022-04-22",
          "2022-04-23",
          "2022-04-24",
          "2022-04-25",
          "2022-04-26",
          "2022-04-27",
          "2022-04-28",
          "2022-04-29",
          "2022-04-30",
          "2022-05-01",
          "2022-05-02",
          "2022-05-03",
          "2022-05-04",
          "2022-05-05",
          "2022-05-06",
          "2022-05-09",
          "2022-05-10",
          "2022-05-11",
          "2022-05-12",
          "2022-05-13",
          "2022-05-14",
          "2022-05-15",
          "2022-05-16",
          "2022-05-17",
          "2022-05-18",
          "2022-05-19",
          "2022-05-20",
          "2022-05-21",
          "2022-05-22",
          "2022-05-23",
          "2022-05-24",
          "2022-05-25",
          "2022-05-26",
          "2022-05-27",
          "2022-05-30",
          "2022-05-31",
          "2022-06-01",
          "2022-06-02",
          "2022-06-03",
          "2022-06-04",
          "2022-06-05",
          "2022-06-06",
          "2022-06-07",
          "2022-06-08",
          "2022-06-09",
          "2022-06-10",
          "2022-06-11",
          "2022-06-12",
          "2022-06-13",
          "2022-06-14",
          "2022-06-15",
          "2022-06-16",
          "2022-06-17",
          "2022-06-18",
          "2022-06-19",
          "2022-06-20",
          "2022-06-21",
          "2022-06-22",
          "2022-06-23",
          "2022-06-24",
          "2022-06-25",
          "2022-06-26",
          "2022-06-27",
          "2022-06-28",
          "2022-06-29",
          "2022-06-30",
          "2022-07-01",
          "2022-07-03",
          "2022-07-04",
          "2022-07-05",
          "2022-07-06",
          "2022-07-07",
          "2022-07-08",
          "2022-07-09",
          "2022-07-10",
          "2022-07-11",
          "2022-07-12",
          "2022-07-13",
          "2022-07-15",
          "2022-07-17",
          "2022-07-18",
          "2022-07-19",
          "2022-07-20",
          "2022-07-21",
          "2022-07-22",
          "2022-07-23",
          "2022-07-24",
          "2022-07-25",
          "2022-07-26",
          "2022-07-27",
          "2022-07-28",
          "2022-07-29",
          "2022-07-30",
          "2022-08-02",
          "2022-08-03",
          "2022-08-04",
          "2022-08-05",
          "2022-08-07",
          "2022-08-08",
          "2022-08-09",
          "2022-08-10",
          "2022-08-11",
          "2022-08-12",
          "2022-08-14",
          "2022-08-16",
          "2022-08-17",
          "2022-08-18",
          "2022-08-19",
          "2022-08-20",
          "2022-08-21",
          "2022-08-22",
          "2022-08-23",
          "2022-08-24",
          "2022-08-25",
          "2022-08-26",
          "2022-08-27",
          "2022-08-28",
          "2022-08-29",
          "2022-08-30",
          "2022-08-31",
          "2022-09-01",
          "2022-09-02",
          "2022-09-03",
          "2022-09-04",
          "2022-09-05",
          "2022-09-06",
          "2022-09-07",
          "2022-09-08",
          "2022-09-09",
          "2022-09-10",
          "2022-09-11",
          "2022-09-12",
          "2022-09-13",
          "2022-09-14",
          "2022-09-15",
          "2022-09-16",
          "2022-09-17",
          "2022-09-19",
          "2022-09-20",
          "2022-09-21",
          "2022-09-22",
          "2022-09-23",
          "2022-09-25",
          "2022-09-26",
          "2022-09-27",
          "2022-09-28",
          "2022-09-29",
          "2022-09-30",
          "2022-10-02",
          "2022-10-03",
          "2022-10-04",
          "2022-10-05",
          "2022-10-06",
          "2022-10-07",
          "2022-10-08",
          "2022-10-09",
          "2022-10-10",
          "2022-10-11",
          "2022-10-12",
          "2022-10-13",
          "2022-10-14",
          "2022-10-15",
          "2022-10-16",
          "2022-10-17",
          "2022-10-18",
          "2022-10-19",
          "2022-10-20",
          "2022-10-21",
          "2022-10-22",
          "2022-10-24",
          "2022-10-25",
          "2022-10-26",
          "2022-10-27",
          "2022-10-28",
          "2022-10-29",
          "2022-10-31",
          "2022-11-01",
          "2022-11-02",
          "2022-11-03",
          "2022-11-04",
          "2022-11-05",
          "2022-11-06",
          "2022-11-07",
          "2022-11-08",
          "2022-11-09",
          "2022-11-10",
          "2022-11-11",
          "2022-11-12",
          "2022-11-13",
          "2022-11-14",
          "2022-11-15",
          "2022-11-16",
          "2022-11-17",
          "2022-11-18",
          "2022-11-19",
          "2022-11-21",
          "2022-11-22",
          "2022-11-23",
          "2022-11-24",
          "2022-11-25",
          "2022-11-27",
          "2022-11-28",
          "2022-11-29",
          "2022-11-30",
          "2022-12-01",
          "2022-12-02",
          "2022-12-03",
          "2022-12-04",
          "2022-12-05",
          "2022-12-06",
          "2022-12-07",
          "2022-12-08",
          "2022-12-09",
          "2022-12-10",
          "2022-12-11",
          "2022-12-12",
          "2022-12-13",
          "2022-12-14",
          "2022-12-15",
          "2022-12-16",
          "2022-12-17",
          "2022-12-19",
          "2022-12-20",
          "2022-12-21",
          "2022-12-22",
          "2022-12-23",
          "2022-12-24",
          "2022-12-26",
          "2022-12-27",
          "2022-12-28",
          "2022-12-29",
          "2022-12-30",
          "2023-01-02",
          "2023-01-03",
          "2023-01-04",
          "2023-01-05",
          "2023-01-06",
          "2023-01-07",
          "2023-01-08",
          "2023-01-09",
          "2023-01-10",
          "2023-01-11",
          "2023-01-12",
          "2023-01-13",
          "2023-01-14",
          "2023-01-15",
          "2023-01-16",
          "2023-01-17",
          "2023-01-18",
          "2023-01-19",
          "2023-01-20",
          "2023-01-23",
          "2023-01-24",
          "2023-01-25",
          "2023-01-26",
          "2023-01-27",
          "2023-01-28",
          "2023-01-29",
          "2023-01-30",
          "2023-01-31",
          "2023-02-01",
          "2023-02-02",
          "2023-02-03",
          "2023-02-04",
          "2023-02-05",
          "2023-02-06",
          "2023-02-07",
          "2023-02-08",
          "2023-02-09",
          "2023-02-10",
          "2023-02-11",
          "2023-02-12",
          "2023-02-13",
          "2023-02-14",
          "2023-02-15",
          "2023-02-16",
          "2023-02-17",
          "2023-02-18",
          "2023-02-19",
          "2023-02-20",
          "2023-02-21",
          "2023-02-22",
          "2023-02-23",
          "2023-02-24",
          "2023-02-25",
          "2023-02-27",
          "2023-02-28",
          "2023-03-01",
          "2023-03-02",
          "2023-03-03",
          "2023-03-04",
          "2023-03-05",
          "2023-03-06",
          "2023-03-07",
          "2023-03-08",
          "2023-03-09",
          "2023-03-10",
          "2023-03-11",
          "2023-03-12",
          "2023-03-13",
          "2023-03-14",
          "2023-03-15",
          "2023-03-16",
          "2023-03-17",
          "2023-03-18",
          "2023-03-20",
          "2023-03-21",
          "2023-03-22",
          "2023-03-23",
          "2023-03-24",
          "2023-03-28",
          "2023-03-29",
          "2023-03-30",
          "2023-03-31",
          "2023-04-01",
          "2023-04-02",
          "2023-04-03",
          "2023-04-04",
          "2023-04-05",
          "2023-04-06",
          "2023-04-07",
          "2023-04-08",
          "2023-04-11",
          "2023-04-12",
          "2023-04-15",
          "2023-04-17",
          "2023-04-18",
          "2023-04-19",
          "2023-04-20",
          "2023-04-21",
          "2023-04-25",
          "2023-04-26",
          "2023-04-27",
          "2023-04-28",
          "2023-05-02",
          "2023-05-03",
          "2023-05-04",
          "2023-05-05",
          "2023-05-09",
          "2023-05-11",
          "2023-05-12",
          "2023-05-15",
          "2023-05-22",
          "2023-05-23",
          "2023-08-02"
         ],
         "xaxis": "x",
         "y": [
          5,
          1,
          2,
          1,
          1,
          1,
          2,
          18,
          10,
          1,
          64,
          4,
          2,
          4,
          2,
          2,
          2,
          2,
          2,
          2,
          2,
          2,
          2,
          2,
          2,
          2,
          2,
          8,
          2,
          2,
          8,
          2,
          4,
          14,
          4,
          18,
          4,
          2,
          2,
          5,
          2,
          2,
          2,
          2,
          12,
          2,
          2,
          2,
          2,
          2,
          2,
          2,
          2,
          4,
          2,
          2,
          2,
          2,
          4,
          4,
          2,
          2,
          4,
          2,
          1,
          4,
          8,
          2,
          2,
          2,
          4,
          2,
          2,
          2,
          2,
          6,
          8,
          2,
          26,
          18,
          20,
          2,
          6,
          38,
          10,
          18,
          2,
          4,
          4,
          2,
          2,
          1,
          3,
          1,
          2,
          3,
          4,
          2,
          2,
          4,
          2,
          11,
          2,
          16,
          1,
          2,
          4,
          10,
          1,
          4,
          4,
          2,
          1,
          2,
          1,
          2,
          34,
          2,
          2,
          3,
          2,
          2,
          4,
          2,
          14,
          12,
          2,
          2,
          4,
          12,
          1,
          1,
          1,
          4,
          5,
          9,
          3,
          7,
          2,
          8,
          2,
          18,
          2,
          2,
          1,
          10,
          6,
          10,
          8,
          1,
          16,
          2,
          2,
          8,
          1,
          2,
          2,
          4,
          1,
          2,
          9,
          6,
          4,
          1,
          6,
          4,
          1,
          11,
          3,
          2,
          39,
          2,
          1,
          19,
          5,
          2,
          3,
          8,
          7,
          14,
          8,
          1,
          6,
          36,
          9,
          3,
          19,
          22,
          1,
          4,
          1,
          1,
          4,
          3,
          7,
          2,
          2,
          1,
          1,
          7,
          5,
          3,
          5,
          3,
          9,
          6,
          3,
          2,
          3,
          13,
          6,
          2,
          5,
          3,
          1,
          1,
          4,
          3,
          2,
          3,
          7,
          5,
          1,
          1,
          54,
          9,
          4,
          10,
          3,
          1,
          8,
          8,
          3,
          12,
          9,
          1,
          5,
          1,
          8,
          5,
          6,
          1,
          2,
          4,
          2,
          4,
          4,
          8,
          2,
          2,
          1,
          7,
          1,
          4,
          2,
          1,
          8,
          5,
          4,
          6,
          2,
          8,
          27,
          1,
          1,
          3,
          3,
          1,
          5,
          4,
          3,
          1,
          7,
          2,
          1,
          5,
          1,
          2,
          4,
          2,
          4,
          5,
          2,
          1,
          1,
          2,
          1,
          8,
          5,
          1,
          3,
          1,
          4,
          2,
          4,
          1,
          8,
          4,
          5,
          5,
          1,
          4,
          3,
          3,
          14,
          12,
          10,
          2,
          2,
          7,
          4,
          4,
          7,
          4,
          1,
          2,
          3,
          5,
          16,
          1,
          2,
          2,
          2,
          3,
          4,
          1,
          2,
          3,
          4,
          6,
          1,
          5,
          3,
          1,
          2,
          4,
          2,
          2,
          7,
          4,
          2,
          5,
          15,
          7,
          2,
          2,
          4,
          6,
          4,
          12,
          3,
          1,
          4,
          8,
          2,
          14,
          2,
          2,
          1,
          4,
          10,
          4,
          1,
          9,
          2,
          6,
          2,
          12,
          5,
          1,
          1,
          2,
          1,
          2,
          4,
          9,
          3,
          1,
          2,
          14,
          1,
          2,
          3,
          5,
          8,
          9,
          2,
          1,
          1,
          3,
          3,
          2,
          1,
          2,
          1,
          1,
          1,
          1,
          2,
          12,
          3,
          3,
          3,
          24,
          2,
          5,
          8,
          2,
          2,
          3,
          5,
          5,
          4,
          3,
          4,
          1,
          8,
          5,
          4,
          8,
          6,
          5,
          1,
          11,
          4,
          2,
          5,
          1,
          7,
          12,
          15,
          4,
          3,
          1,
          20,
          1,
          3,
          1,
          1,
          5,
          6,
          1,
          4,
          1,
          2,
          5,
          2,
          2,
          3,
          2,
          2,
          2,
          3,
          8,
          2,
          11,
          1,
          1,
          2,
          1,
          1,
          1,
          18,
          1,
          14,
          1,
          2,
          4,
          1,
          4,
          1,
          1,
          15,
          2,
          4,
          3,
          1,
          5,
          6,
          1,
          7,
          3,
          3,
          2,
          19,
          1,
          6,
          6,
          1,
          3,
          2,
          2,
          2,
          1,
          2,
          3,
          1,
          1,
          2,
          4,
          2,
          1,
          1,
          1,
          4,
          3,
          2,
          2,
          4,
          5,
          3,
          2,
          2,
          4,
          4,
          8,
          6,
          2,
          2,
          3,
          6,
          3,
          9,
          5,
          12,
          5,
          1,
          4,
          13,
          3,
          13,
          4,
          2,
          1,
          10,
          13,
          8,
          22,
          2,
          3,
          3,
          5,
          6,
          1,
          7,
          2,
          2,
          12,
          5,
          5,
          3,
          6,
          1,
          3,
          12,
          14,
          6,
          7,
          1,
          1,
          8,
          2,
          3,
          3,
          6,
          3,
          4,
          1,
          2,
          6,
          6,
          1,
          2,
          1,
          2,
          5,
          4,
          2,
          3,
          2,
          4,
          4,
          1,
          3,
          3,
          3,
          5,
          7,
          1,
          4,
          2,
          1,
          5,
          3,
          2,
          2,
          5,
          6,
          4,
          5,
          4,
          7,
          2,
          3,
          2,
          4,
          1,
          1,
          1,
          3,
          1,
          6,
          1,
          1,
          5,
          3,
          3,
          3,
          2,
          2,
          3,
          1,
          4,
          4,
          2,
          10,
          1,
          3,
          1,
          5,
          1,
          7,
          1,
          5,
          6,
          2,
          1,
          3,
          2,
          3,
          2,
          6,
          4,
          1,
          3,
          3,
          1,
          2,
          2,
          2,
          5,
          4,
          3,
          2,
          3,
          6,
          2,
          2,
          3,
          3,
          3,
          3,
          1,
          10,
          3,
          3,
          1,
          1,
          1,
          2,
          1,
          3,
          3,
          1,
          3,
          1,
          3,
          1,
          2,
          1,
          9,
          1,
          3,
          4,
          1,
          1,
          2,
          3,
          3,
          2,
          2,
          10,
          5,
          3,
          2,
          1,
          1,
          1,
          6,
          2,
          3,
          1,
          5,
          2,
          2,
          5,
          2,
          1,
          3,
          1,
          3,
          2,
          2,
          1,
          3,
          2,
          2,
          1,
          5,
          3,
          5,
          21,
          26,
          1,
          2,
          33,
          38,
          30,
          30,
          34,
          2,
          2,
          42,
          51,
          52,
          41,
          10,
          2,
          1,
          10,
          4,
          3,
          1,
          5,
          2,
          2,
          1,
          2,
          4,
          1,
          2,
          11,
          3,
          1,
          1,
          2,
          1,
          1,
          5,
          4,
          2,
          8,
          6,
          2,
          8,
          6,
          7,
          1,
          2,
          3,
          3,
          3,
          3,
          6,
          4,
          5,
          2,
          5,
          1,
          20,
          4,
          1,
          3,
          9,
          5,
          1,
          2,
          3,
          1,
          1,
          3,
          2,
          5,
          4,
          2,
          3,
          2,
          2,
          5,
          2,
          2,
          1,
          2,
          5,
          1,
          3,
          2,
          1,
          1,
          2,
          2,
          4,
          3,
          1,
          2,
          3,
          2,
          3,
          2,
          1,
          3,
          3,
          2,
          3,
          4,
          1,
          1,
          2,
          3,
          3,
          4,
          2,
          2,
          4,
          1,
          5,
          9,
          2,
          5,
          4,
          3,
          3,
          3,
          1,
          3,
          7,
          3,
          2,
          1,
          2,
          1,
          1,
          5,
          1,
          2,
          5,
          2,
          1,
          3,
          2,
          1,
          1,
          3,
          4,
          6,
          1,
          2,
          4,
          10,
          5,
          5,
          2,
          2,
          1,
          4,
          3,
          1,
          4,
          5,
          2,
          2,
          7,
          2,
          5,
          5,
          5,
          3,
          2,
          2,
          3,
          3,
          6,
          5,
          4,
          7,
          8,
          2,
          1,
          1,
          3,
          1,
          20,
          1,
          1,
          1,
          1,
          6,
          4,
          2,
          1,
          1,
          3,
          2,
          3,
          4,
          3,
          3,
          2,
          2,
          4,
          1,
          1,
          7,
          2,
          4,
          4,
          3,
          5,
          6,
          1,
          16,
          9,
          2,
          2,
          1,
          1,
          2,
          2,
          6,
          1,
          1,
          2,
          1,
          4,
          2,
          2,
          1,
          3,
          3,
          2,
          3,
          7,
          3,
          10,
          5,
          6,
          3,
          19,
          3,
          1,
          1,
          3,
          7,
          5,
          4,
          5,
          2,
          3,
          2,
          7,
          1,
          2,
          9,
          25,
          17,
          9,
          1,
          59,
          85,
          98,
          93,
          24,
          5,
          1,
          47,
          43,
          30,
          23,
          19,
          2,
          1,
          5,
          13,
          2,
          14,
          6,
          4,
          5,
          13,
          2,
          1,
          2,
          2,
          2,
          2,
          3,
          2,
          3,
          5,
          4,
          2,
          2,
          2,
          5,
          12,
          4,
          5,
          7,
          1,
          10,
          1,
          2,
          13,
          4,
          10,
          4,
          1,
          1,
          11,
          18,
          17,
          7,
          3,
          2,
          9,
          10,
          16,
          8,
          1,
          3,
          6,
          8,
          42,
          8,
          2,
          2,
          4,
          11,
          8,
          13,
          2,
          2,
          6,
          4,
          6,
          5,
          2,
          1,
          12,
          68,
          80,
          11,
          7,
          2,
          1,
          2,
          12,
          2,
          34,
          62,
          68,
          94,
          77,
          38,
          83,
          74,
          72,
          56,
          64,
          80,
          38,
          70,
          24,
          1,
          1,
          1,
          4,
          6,
          4,
          1,
          4,
          7,
          6,
          5,
          1,
          2,
          6,
          13,
          1,
          3,
          1,
          9,
          29,
          37,
          40,
          15,
          1,
          2,
          4,
          8,
          10,
          20,
          20,
          2,
          10,
          33,
          32,
          26,
          8,
          1,
          1,
          2,
          16,
          20,
          36,
          13,
          3,
          2,
          14,
          12,
          24,
          28,
          12,
          1,
          8,
          16,
          22,
          23,
          6,
          8,
          7,
          5,
          4,
          29,
          18,
          12,
          3,
          3,
          3,
          1,
          2,
          21,
          5,
          2,
          6,
          7,
          4,
          13,
          7,
          5,
          4,
          6,
          13,
          24,
          38,
          22,
          5,
          1,
          15,
          13,
          11,
          8,
          5,
          5,
          1,
          2,
          8,
          4,
          1,
          2,
          1,
          6,
          19,
          2,
          4,
          4,
          1,
          12,
          6,
          5,
          1,
          1,
          15,
          9,
          5,
          5,
          1,
          5,
          5,
          6,
          2,
          5,
          1,
          2,
          2,
          2,
          12,
          7,
          8,
          1,
          3,
          1,
          22,
          3,
          8,
          17,
          2,
          1,
          9,
          25,
          9,
          5,
          3,
          2,
          12,
          23,
          26,
          26,
          4,
          4,
          20,
          9,
          26,
          14,
          15,
          3,
          1,
          6,
          23,
          6,
          5,
          2,
          6,
          31,
          15,
          12,
          2,
          4,
          5,
          3,
          6,
          8,
          1,
          2,
          2,
          26,
          2,
          4,
          15,
          1,
          19,
          18,
          20,
          16,
          1,
          1,
          1,
          7,
          5,
          17,
          25,
          14,
          2,
          1,
          9,
          8,
          4,
          12,
          5,
          2,
          4,
          6,
          22,
          8,
          4,
          3,
          2,
          13,
          2,
          3,
          11,
          15,
          1,
          11,
          6,
          11,
          8,
          5,
          3,
          1,
          16,
          2,
          1,
          281,
          2,
          1,
          5,
          18,
          21,
          13,
          6,
          2,
          6,
          18,
          22,
          8,
          65,
          1,
          1,
          2,
          9,
          9,
          11,
          18,
          1,
          1,
          6,
          4,
          27,
          6,
          13,
          3,
          1,
          2,
          14,
          7,
          16,
          3,
          12,
          2,
          11,
          6,
          13,
          2,
          22,
          15,
          5,
          13,
          9,
          1,
          10,
          16,
          5,
          5,
          20,
          1,
          4,
          1,
          15,
          3,
          2,
          7,
          3,
          8,
          4,
          10,
          22,
          9,
          1,
          2,
          38,
          6,
          18,
          8,
          7,
          1,
          2,
          8,
          2,
          14,
          5,
          4,
          24,
          23,
          15,
          16,
          6,
          2,
          1,
          2,
          10,
          19,
          20,
          19,
          27,
          50,
          51,
          48,
          46,
          1,
          1,
          42,
          63,
          57,
          64,
          54,
          2,
          2,
          55,
          97,
          55,
          44,
          46,
          1,
          2,
          12,
          36,
          26,
          8,
          26,
          2,
          4,
          7,
          8,
          21,
          1,
          6,
          1,
          1,
          9,
          19,
          9,
          47,
          34,
          3,
          3,
          19,
          23,
          40,
          32,
          11,
          12,
          21,
          22,
          14,
          21,
          34,
          7,
          5,
          32,
          17,
          21,
          12,
          27,
          2,
          29,
          32,
          22,
          14,
          9,
          4,
          2,
          20,
          17,
          4,
          15,
          18,
          7,
          4,
          15,
          44,
          25,
          51,
          21,
          3,
          15,
          23,
          9,
          6,
          8,
          23,
          6,
          1,
          337,
          22,
          8,
          6,
          15,
          8,
          28,
          21,
          59,
          3,
          3,
          22,
          14,
          36,
          9,
          7,
          2,
          16,
          13,
          28,
          25,
          8,
          3,
          1,
          3,
          4,
          8,
          33,
          18,
          1,
          2,
          23,
          2,
          6,
          7,
          1,
          1,
          7,
          35,
          19,
          18,
          15,
          1,
          16,
          17,
          20,
          15,
          20,
          24,
          6,
          28,
          19,
          18,
          3,
          3,
          2,
          20,
          28,
          2,
          20,
          1,
          3,
          8,
          12,
          21,
          21,
          1,
          1,
          8,
          15,
          7,
          11,
          13,
          2,
          21,
          17,
          29,
          10,
          10,
          2,
          1,
          32,
          31,
          4,
          10,
          1,
          2,
          3,
          11,
          13,
          24,
          24,
          2,
          1,
          5,
          32,
          22,
          10,
          7,
          1,
          5,
          19,
          9,
          11,
          1,
          7,
          50,
          13,
          6,
          1,
          2,
          15,
          24,
          6,
          15,
          4,
          26,
          21,
          15,
          43,
          15,
          1,
          3,
          6,
          17,
          25,
          5,
          9,
          28,
          1,
          8,
          18,
          7,
          10,
          5,
          3,
          2,
          23,
          23,
          35,
          26,
          19,
          3,
          1,
          15,
          21,
          40,
          21,
          1,
          8,
          10,
          1,
          3,
          1,
          3,
          8,
          7,
          2,
          13,
          4,
          6,
          8,
          9,
          8,
          44,
          23,
          4,
          3,
          3,
          11,
          11,
          13,
          11,
          1,
          1,
          17,
          2,
          18,
          4,
          6,
          3,
          21,
          1,
          15,
          4,
          14,
          4,
          1,
          32,
          18,
          21,
          12,
          10,
          11,
          1,
          1,
          17,
          2,
          6,
          1,
          2,
          16,
          4,
          40,
          9,
          19,
          24,
          7,
          9,
          29,
          70,
          7,
          6,
          14,
          23,
          30,
          6,
          2,
          1,
          3,
          24,
          14,
          6,
          11,
          2,
          2,
          2,
          6,
          17,
          12,
          8,
          9,
          22,
          20,
          18,
          1,
          2,
          17,
          13,
          31,
          16,
          40,
          2,
          5,
          5,
          31,
          15,
          6,
          5,
          2,
          2,
          16,
          3,
          18,
          12,
          2,
          2,
          10,
          9,
          3,
          17,
          8,
          4,
          7,
          4,
          3,
          15,
          52,
          17,
          8,
          12,
          3,
          5,
          17,
          3,
          2,
          8,
          8,
          34,
          29,
          21,
          6,
          3,
          16,
          33,
          60,
          1,
          2,
          7,
          24,
          26,
          22,
          4,
          1,
          4,
          1,
          6,
          14,
          31,
          17,
          1,
          5,
          10,
          13,
          37,
          16,
          9,
          1,
          2,
          10,
          18,
          33,
          18,
          8,
          1,
          4,
          17,
          12,
          23,
          21,
          16,
          2,
          4,
          12,
          8,
          35,
          18,
          14,
          7,
          14,
          21,
          17,
          3,
          1,
          31,
          16,
          31,
          31,
          32,
          3,
          4,
          8,
          11,
          42,
          37,
          17,
          3,
          10,
          42,
          27,
          15,
          1,
          14,
          38,
          18,
          20,
          25,
          3,
          11,
          13,
          31,
          15,
          1,
          2,
          15,
          15,
          11,
          25,
          21,
          5,
          2,
          6,
          5,
          2,
          7,
          14,
          1,
          1,
          12,
          24,
          11,
          22,
          17,
          2,
          1,
          20,
          34,
          27,
          12,
          26,
          2,
          19,
          22,
          41,
          30,
          20,
          2,
          13,
          13,
          44,
          35,
          32,
          1,
          30,
          13,
          24,
          52,
          30,
          12,
          2,
          6,
          21,
          11,
          46,
          15,
          2,
          2,
          35,
          33,
          43,
          44,
          15,
          1,
          19,
          20,
          27,
          27,
          46,
          1,
          12,
          4,
          20,
          5,
          15,
          2,
          9,
          17,
          10,
          23,
          13,
          2,
          2,
          1,
          15,
          15,
          40,
          27,
          19,
          1,
          7,
          38,
          22,
          41,
          15,
          4,
          43,
          25,
          49,
          37,
          59,
          6,
          4,
          16,
          44,
          94,
          43,
          28,
          10,
          1,
          23,
          26,
          10,
          65,
          27,
          2,
          35,
          84,
          113,
          131,
          80,
          4,
          19,
          71,
          53,
          55,
          24,
          3,
          7,
          23,
          17,
          33,
          2,
          6,
          64,
          19,
          29,
          17,
          9,
          1,
          1,
          47,
          34,
          27,
          44,
          7,
          43,
          7,
          20,
          5,
          49,
          24,
          2,
          16,
          7,
          23,
          41,
          8,
          6,
          3,
          33,
          27,
          14,
          37,
          30,
          2,
          1,
          13,
          40,
          24,
          18,
          11,
          1,
          2,
          12,
          16,
          17,
          28,
          21,
          14,
          26,
          14,
          24,
          26,
          12,
          2,
          1,
          19,
          22,
          297,
          22,
          13,
          6,
          1,
          24,
          19,
          16,
          41,
          10,
          4,
          16,
          10,
          12,
          18,
          24,
          3,
          22,
          17,
          45,
          13,
          5,
          4,
          12,
          7,
          5,
          6,
          3,
          15,
          11,
          1,
          17,
          5,
          4,
          23,
          4,
          4,
          13,
          8,
          17,
          11,
          6,
          11,
          5,
          2,
          2,
          5,
          10,
          4,
          4,
          3
         ],
         "yaxis": "y"
        }
       ],
       "layout": {
        "autosize": true,
        "legend": {
         "tracegroupgap": 0
        },
        "margin": {
         "t": 60
        },
        "template": {
         "data": {
          "bar": [
           {
            "error_x": {
             "color": "#2a3f5f"
            },
            "error_y": {
             "color": "#2a3f5f"
            },
            "marker": {
             "line": {
              "color": "#E5ECF6",
              "width": 0.5
             },
             "pattern": {
              "fillmode": "overlay",
              "size": 10,
              "solidity": 0.2
             }
            },
            "type": "bar"
           }
          ],
          "barpolar": [
           {
            "marker": {
             "line": {
              "color": "#E5ECF6",
              "width": 0.5
             },
             "pattern": {
              "fillmode": "overlay",
              "size": 10,
              "solidity": 0.2
             }
            },
            "type": "barpolar"
           }
          ],
          "carpet": [
           {
            "aaxis": {
             "endlinecolor": "#2a3f5f",
             "gridcolor": "white",
             "linecolor": "white",
             "minorgridcolor": "white",
             "startlinecolor": "#2a3f5f"
            },
            "baxis": {
             "endlinecolor": "#2a3f5f",
             "gridcolor": "white",
             "linecolor": "white",
             "minorgridcolor": "white",
             "startlinecolor": "#2a3f5f"
            },
            "type": "carpet"
           }
          ],
          "choropleth": [
           {
            "colorbar": {
             "outlinewidth": 0,
             "ticks": ""
            },
            "type": "choropleth"
           }
          ],
          "contour": [
           {
            "colorbar": {
             "outlinewidth": 0,
             "ticks": ""
            },
            "colorscale": [
             [
              0,
              "#0d0887"
             ],
             [
              0.1111111111111111,
              "#46039f"
             ],
             [
              0.2222222222222222,
              "#7201a8"
             ],
             [
              0.3333333333333333,
              "#9c179e"
             ],
             [
              0.4444444444444444,
              "#bd3786"
             ],
             [
              0.5555555555555556,
              "#d8576b"
             ],
             [
              0.6666666666666666,
              "#ed7953"
             ],
             [
              0.7777777777777778,
              "#fb9f3a"
             ],
             [
              0.8888888888888888,
              "#fdca26"
             ],
             [
              1,
              "#f0f921"
             ]
            ],
            "type": "contour"
           }
          ],
          "contourcarpet": [
           {
            "colorbar": {
             "outlinewidth": 0,
             "ticks": ""
            },
            "type": "contourcarpet"
           }
          ],
          "heatmap": [
           {
            "colorbar": {
             "outlinewidth": 0,
             "ticks": ""
            },
            "colorscale": [
             [
              0,
              "#0d0887"
             ],
             [
              0.1111111111111111,
              "#46039f"
             ],
             [
              0.2222222222222222,
              "#7201a8"
             ],
             [
              0.3333333333333333,
              "#9c179e"
             ],
             [
              0.4444444444444444,
              "#bd3786"
             ],
             [
              0.5555555555555556,
              "#d8576b"
             ],
             [
              0.6666666666666666,
              "#ed7953"
             ],
             [
              0.7777777777777778,
              "#fb9f3a"
             ],
             [
              0.8888888888888888,
              "#fdca26"
             ],
             [
              1,
              "#f0f921"
             ]
            ],
            "type": "heatmap"
           }
          ],
          "heatmapgl": [
           {
            "colorbar": {
             "outlinewidth": 0,
             "ticks": ""
            },
            "colorscale": [
             [
              0,
              "#0d0887"
             ],
             [
              0.1111111111111111,
              "#46039f"
             ],
             [
              0.2222222222222222,
              "#7201a8"
             ],
             [
              0.3333333333333333,
              "#9c179e"
             ],
             [
              0.4444444444444444,
              "#bd3786"
             ],
             [
              0.5555555555555556,
              "#d8576b"
             ],
             [
              0.6666666666666666,
              "#ed7953"
             ],
             [
              0.7777777777777778,
              "#fb9f3a"
             ],
             [
              0.8888888888888888,
              "#fdca26"
             ],
             [
              1,
              "#f0f921"
             ]
            ],
            "type": "heatmapgl"
           }
          ],
          "histogram": [
           {
            "marker": {
             "pattern": {
              "fillmode": "overlay",
              "size": 10,
              "solidity": 0.2
             }
            },
            "type": "histogram"
           }
          ],
          "histogram2d": [
           {
            "colorbar": {
             "outlinewidth": 0,
             "ticks": ""
            },
            "colorscale": [
             [
              0,
              "#0d0887"
             ],
             [
              0.1111111111111111,
              "#46039f"
             ],
             [
              0.2222222222222222,
              "#7201a8"
             ],
             [
              0.3333333333333333,
              "#9c179e"
             ],
             [
              0.4444444444444444,
              "#bd3786"
             ],
             [
              0.5555555555555556,
              "#d8576b"
             ],
             [
              0.6666666666666666,
              "#ed7953"
             ],
             [
              0.7777777777777778,
              "#fb9f3a"
             ],
             [
              0.8888888888888888,
              "#fdca26"
             ],
             [
              1,
              "#f0f921"
             ]
            ],
            "type": "histogram2d"
           }
          ],
          "histogram2dcontour": [
           {
            "colorbar": {
             "outlinewidth": 0,
             "ticks": ""
            },
            "colorscale": [
             [
              0,
              "#0d0887"
             ],
             [
              0.1111111111111111,
              "#46039f"
             ],
             [
              0.2222222222222222,
              "#7201a8"
             ],
             [
              0.3333333333333333,
              "#9c179e"
             ],
             [
              0.4444444444444444,
              "#bd3786"
             ],
             [
              0.5555555555555556,
              "#d8576b"
             ],
             [
              0.6666666666666666,
              "#ed7953"
             ],
             [
              0.7777777777777778,
              "#fb9f3a"
             ],
             [
              0.8888888888888888,
              "#fdca26"
             ],
             [
              1,
              "#f0f921"
             ]
            ],
            "type": "histogram2dcontour"
           }
          ],
          "mesh3d": [
           {
            "colorbar": {
             "outlinewidth": 0,
             "ticks": ""
            },
            "type": "mesh3d"
           }
          ],
          "parcoords": [
           {
            "line": {
             "colorbar": {
              "outlinewidth": 0,
              "ticks": ""
             }
            },
            "type": "parcoords"
           }
          ],
          "pie": [
           {
            "automargin": true,
            "type": "pie"
           }
          ],
          "scatter": [
           {
            "fillpattern": {
             "fillmode": "overlay",
             "size": 10,
             "solidity": 0.2
            },
            "type": "scatter"
           }
          ],
          "scatter3d": [
           {
            "line": {
             "colorbar": {
              "outlinewidth": 0,
              "ticks": ""
             }
            },
            "marker": {
             "colorbar": {
              "outlinewidth": 0,
              "ticks": ""
             }
            },
            "type": "scatter3d"
           }
          ],
          "scattercarpet": [
           {
            "marker": {
             "colorbar": {
              "outlinewidth": 0,
              "ticks": ""
             }
            },
            "type": "scattercarpet"
           }
          ],
          "scattergeo": [
           {
            "marker": {
             "colorbar": {
              "outlinewidth": 0,
              "ticks": ""
             }
            },
            "type": "scattergeo"
           }
          ],
          "scattergl": [
           {
            "marker": {
             "colorbar": {
              "outlinewidth": 0,
              "ticks": ""
             }
            },
            "type": "scattergl"
           }
          ],
          "scattermapbox": [
           {
            "marker": {
             "colorbar": {
              "outlinewidth": 0,
              "ticks": ""
             }
            },
            "type": "scattermapbox"
           }
          ],
          "scatterpolar": [
           {
            "marker": {
             "colorbar": {
              "outlinewidth": 0,
              "ticks": ""
             }
            },
            "type": "scatterpolar"
           }
          ],
          "scatterpolargl": [
           {
            "marker": {
             "colorbar": {
              "outlinewidth": 0,
              "ticks": ""
             }
            },
            "type": "scatterpolargl"
           }
          ],
          "scatterternary": [
           {
            "marker": {
             "colorbar": {
              "outlinewidth": 0,
              "ticks": ""
             }
            },
            "type": "scatterternary"
           }
          ],
          "surface": [
           {
            "colorbar": {
             "outlinewidth": 0,
             "ticks": ""
            },
            "colorscale": [
             [
              0,
              "#0d0887"
             ],
             [
              0.1111111111111111,
              "#46039f"
             ],
             [
              0.2222222222222222,
              "#7201a8"
             ],
             [
              0.3333333333333333,
              "#9c179e"
             ],
             [
              0.4444444444444444,
              "#bd3786"
             ],
             [
              0.5555555555555556,
              "#d8576b"
             ],
             [
              0.6666666666666666,
              "#ed7953"
             ],
             [
              0.7777777777777778,
              "#fb9f3a"
             ],
             [
              0.8888888888888888,
              "#fdca26"
             ],
             [
              1,
              "#f0f921"
             ]
            ],
            "type": "surface"
           }
          ],
          "table": [
           {
            "cells": {
             "fill": {
              "color": "#EBF0F8"
             },
             "line": {
              "color": "white"
             }
            },
            "header": {
             "fill": {
              "color": "#C8D4E3"
             },
             "line": {
              "color": "white"
             }
            },
            "type": "table"
           }
          ]
         },
         "layout": {
          "annotationdefaults": {
           "arrowcolor": "#2a3f5f",
           "arrowhead": 0,
           "arrowwidth": 1
          },
          "autotypenumbers": "strict",
          "coloraxis": {
           "colorbar": {
            "outlinewidth": 0,
            "ticks": ""
           }
          },
          "colorscale": {
           "diverging": [
            [
             0,
             "#8e0152"
            ],
            [
             0.1,
             "#c51b7d"
            ],
            [
             0.2,
             "#de77ae"
            ],
            [
             0.3,
             "#f1b6da"
            ],
            [
             0.4,
             "#fde0ef"
            ],
            [
             0.5,
             "#f7f7f7"
            ],
            [
             0.6,
             "#e6f5d0"
            ],
            [
             0.7,
             "#b8e186"
            ],
            [
             0.8,
             "#7fbc41"
            ],
            [
             0.9,
             "#4d9221"
            ],
            [
             1,
             "#276419"
            ]
           ],
           "sequential": [
            [
             0,
             "#0d0887"
            ],
            [
             0.1111111111111111,
             "#46039f"
            ],
            [
             0.2222222222222222,
             "#7201a8"
            ],
            [
             0.3333333333333333,
             "#9c179e"
            ],
            [
             0.4444444444444444,
             "#bd3786"
            ],
            [
             0.5555555555555556,
             "#d8576b"
            ],
            [
             0.6666666666666666,
             "#ed7953"
            ],
            [
             0.7777777777777778,
             "#fb9f3a"
            ],
            [
             0.8888888888888888,
             "#fdca26"
            ],
            [
             1,
             "#f0f921"
            ]
           ],
           "sequentialminus": [
            [
             0,
             "#0d0887"
            ],
            [
             0.1111111111111111,
             "#46039f"
            ],
            [
             0.2222222222222222,
             "#7201a8"
            ],
            [
             0.3333333333333333,
             "#9c179e"
            ],
            [
             0.4444444444444444,
             "#bd3786"
            ],
            [
             0.5555555555555556,
             "#d8576b"
            ],
            [
             0.6666666666666666,
             "#ed7953"
            ],
            [
             0.7777777777777778,
             "#fb9f3a"
            ],
            [
             0.8888888888888888,
             "#fdca26"
            ],
            [
             1,
             "#f0f921"
            ]
           ]
          },
          "colorway": [
           "#636efa",
           "#EF553B",
           "#00cc96",
           "#ab63fa",
           "#FFA15A",
           "#19d3f3",
           "#FF6692",
           "#B6E880",
           "#FF97FF",
           "#FECB52"
          ],
          "font": {
           "color": "#2a3f5f"
          },
          "geo": {
           "bgcolor": "white",
           "lakecolor": "white",
           "landcolor": "#E5ECF6",
           "showlakes": true,
           "showland": true,
           "subunitcolor": "white"
          },
          "hoverlabel": {
           "align": "left"
          },
          "hovermode": "closest",
          "mapbox": {
           "style": "light"
          },
          "paper_bgcolor": "white",
          "plot_bgcolor": "#E5ECF6",
          "polar": {
           "angularaxis": {
            "gridcolor": "white",
            "linecolor": "white",
            "ticks": ""
           },
           "bgcolor": "#E5ECF6",
           "radialaxis": {
            "gridcolor": "white",
            "linecolor": "white",
            "ticks": ""
           }
          },
          "scene": {
           "xaxis": {
            "backgroundcolor": "#E5ECF6",
            "gridcolor": "white",
            "gridwidth": 2,
            "linecolor": "white",
            "showbackground": true,
            "ticks": "",
            "zerolinecolor": "white"
           },
           "yaxis": {
            "backgroundcolor": "#E5ECF6",
            "gridcolor": "white",
            "gridwidth": 2,
            "linecolor": "white",
            "showbackground": true,
            "ticks": "",
            "zerolinecolor": "white"
           },
           "zaxis": {
            "backgroundcolor": "#E5ECF6",
            "gridcolor": "white",
            "gridwidth": 2,
            "linecolor": "white",
            "showbackground": true,
            "ticks": "",
            "zerolinecolor": "white"
           }
          },
          "shapedefaults": {
           "line": {
            "color": "#2a3f5f"
           }
          },
          "ternary": {
           "aaxis": {
            "gridcolor": "white",
            "linecolor": "white",
            "ticks": ""
           },
           "baxis": {
            "gridcolor": "white",
            "linecolor": "white",
            "ticks": ""
           },
           "bgcolor": "#E5ECF6",
           "caxis": {
            "gridcolor": "white",
            "linecolor": "white",
            "ticks": ""
           }
          },
          "title": {
           "x": 0.05
          },
          "xaxis": {
           "automargin": true,
           "gridcolor": "white",
           "linecolor": "white",
           "ticks": "",
           "title": {
            "standoff": 15
           },
           "zerolinecolor": "white",
           "zerolinewidth": 2
          },
          "yaxis": {
           "automargin": true,
           "gridcolor": "white",
           "linecolor": "white",
           "ticks": "",
           "title": {
            "standoff": 15
           },
           "zerolinecolor": "white",
           "zerolinewidth": 2
          }
         }
        },
        "xaxis": {
         "anchor": "y",
         "autorange": true,
         "domain": [
          0,
          1
         ],
         "range": [
          "2014-01-01",
          "2023-08-02"
         ],
         "title": {
          "text": "date_mise_en_service"
         },
         "type": "date"
        },
        "yaxis": {
         "anchor": "x",
         "autorange": true,
         "domain": [
          0,
          1
         ],
         "range": [
          -17.666666666666668,
          355.6666666666667
         ],
         "title": {
          "text": "count"
         },
         "type": "linear"
        }
       }
      },
      "image/png": "[encoded data removed]",
      "text/html": [
       "<div>                            <div id=\"69fe9a42-4055-45a4-aef5-f6809b68ab36\" class=\"plotly-graph-div\" style=\"height:525px; width:100%;\"></div>            <script type=\"text/javascript\">                require([\"plotly\"], function(Plotly) {                    window.PLOTLYENV=window.PLOTLYENV || {};                                    if (document.getElementById(\"69fe9a42-4055-45a4-aef5-f6809b68ab36\")) {                    Plotly.newPlot(                        \"69fe9a42-4055-45a4-aef5-f6809b68ab36\",                        [{\"hovertemplate\":\"date_mise_en_service=%{x}<br>count=%{y}<extra></extra>\",\"legendgroup\":\"\",\"line\":{\"color\":\"#636efa\",\"dash\":\"solid\"},\"marker\":{\"symbol\":\"circle\"},\"mode\":\"lines\",\"name\":\"\",\"showlegend\":false,\"x\":[\"2014-01-01\",\"2014-01-03\",\"2014-01-09\",\"2014-01-19\",\"2014-01-20\",\"2014-01-29\",\"2014-06-30\",\"2015-05-28\",\"2015-05-29\",\"2015-06-02\",\"2015-07-01\",\"2015-09-09\",\"2015-09-23\",\"2015-09-29\",\"2015-10-02\",\"2015-10-05\",\"2015-10-08\",\"2015-10-15\",\"2015-10-19\",\"2015-11-06\",\"2015-11-25\",\"2015-12-14\",\"2015-12-15\",\"2015-12-20\",\"2015-12-22\",\"2016-01-06\",\"2016-01-07\",\"2016-01-11\",\"2016-01-13\",\"2016-01-18\",\"2016-01-19\",\"2016-01-20\",\"2016-01-21\",\"2016-01-22\",\"2016-01-25\",\"2016-02-01\",\"2016-02-02\",\"2016-02-04\",\"2016-02-05\",\"2016-02-09\",\"2016-02-11\",\"2016-02-12\",\"2016-02-16\",\"2016-02-18\",\"2016-02-23\",\"2016-02-26\",\"2016-03-01\",\"2016-03-02\",\"2016-03-04\",\"2016-03-08\",\"2016-03-10\",\"2016-03-15\",\"2016-03-16\",\"2016-03-21\",\"2016-03-23\",\"2016-03-25\",\"2016-03-26\",\"2016-03-29\",\"2016-04-04\",\"2016-04-05\",\"2016-04-08\",\"2016-04-10\",\"2016-04-13\",\"2016-04-21\",\"2016-05-26\",\"2016-05-27\",\"2016-05-30\",\"2016-06-07\",\"2016-06-08\",\"2016-06-09\",\"2016-06-13\",\"2016-06-20\",\"2016-06-22\",\"2016-06-30\",\"2016-07-12\",\"2016-07-18\",\"2016-07-22\",\"2016-07-25\",\"2016-08-10\",\"2016-08-11\",\"2016-08-12\",\"2016-08-17\",\"2016-08-18\",\"2016-08-31\",\"2016-09-02\",\"2016-09-07\",\"2016-09-14\",\"2016-09-20\",\"2016-09-21\",\"2016-09-22\",\"2016-09-30\",\"2016-10-01\",\"2016-10-02\",\"2016-10-05\",\"2016-10-06\",\"2016-10-07\",\"2016-10-14\",\"2016-10-17\",\"2016-10-19\",\"2016-10-23\",\"2016-10-25\",\"2016-10-28\",\"2016-11-02\",\"2016-11-07\",\"2016-11-09\",\"2016-11-10\",\"2016-11-14\",\"2016-11-15\",\"2016-11-18\",\"2016-11-21\",\"2016-11-22\",\"2016-11-24\",\"2016-11-27\",\"2016-11-29\",\"2016-11-30\",\"2016-12-01\",\"2016-12-02\",\"2016-12-05\",\"2016-12-06\",\"2016-12-08\",\"2016-12-09\",\"2016-12-10\",\"2016-12-12\",\"2016-12-13\",\"2016-12-14\",\"2016-12-16\",\"2016-12-17\",\"2016-12-18\",\"2016-12-19\",\"2017-01-04\",\"2017-01-06\",\"2017-01-07\",\"2017-01-10\",\"2017-01-11\",\"2017-01-12\",\"2017-01-13\",\"2017-01-15\",\"2017-01-16\",\"2017-01-17\",\"2017-01-19\",\"2017-01-21\",\"2017-01-25\",\"2017-01-27\",\"2017-01-30\",\"2017-01-31\",\"2017-02-01\",\"2017-02-02\",\"2017-02-03\",\"2017-02-06\",\"2017-02-08\",\"2017-02-14\",\"2017-02-15\",\"2017-02-16\",\"2017-02-17\",\"2017-02-18\",\"2017-02-21\",\"2017-02-22\",\"2017-02-24\",\"2017-02-25\",\"2017-02-27\",\"2017-02-28\",\"2017-03-01\",\"2017-03-03\",\"2017-03-04\",\"2017-03-06\",\"2017-03-08\",\"2017-03-09\",\"2017-03-10\",\"2017-03-14\",\"2017-03-15\",\"2017-03-17\",\"2017-03-18\",\"2017-03-19\",\"2017-03-20\",\"2017-03-21\",\"2017-03-22\",\"2017-03-23\",\"2017-03-24\",\"2017-03-27\",\"2017-03-28\",\"2017-03-30\",\"2017-03-31\",\"2017-04-04\",\"2017-04-07\",\"2017-04-10\",\"2017-04-11\",\"2017-04-13\",\"2017-04-14\",\"2017-04-16\",\"2017-04-18\",\"2017-04-21\",\"2017-04-23\",\"2017-04-24\",\"2017-04-25\",\"2017-04-27\",\"2017-04-28\",\"2017-04-29\",\"2017-04-30\",\"2017-05-01\",\"2017-05-02\",\"2017-05-03\",\"2017-05-04\",\"2017-05-05\",\"2017-05-09\",\"2017-05-10\",\"2017-05-11\",\"2017-05-13\",\"2017-05-14\",\"2017-05-16\",\"2017-05-17\",\"2017-05-18\",\"2017-05-19\",\"2017-05-22\",\"2017-05-24\",\"2017-05-26\",\"2017-05-27\",\"2017-05-29\",\"2017-05-30\",\"2017-05-31\",\"2017-06-02\",\"2017-06-06\",\"2017-06-08\",\"2017-06-10\",\"2017-06-12\",\"2017-06-14\",\"2017-06-16\",\"2017-06-19\",\"2017-06-20\",\"2017-06-21\",\"2017-06-22\",\"2017-06-23\",\"2017-06-26\",\"2017-06-27\",\"2017-06-28\",\"2017-06-29\",\"2017-07-02\",\"2017-07-03\",\"2017-07-04\",\"2017-07-05\",\"2017-07-06\",\"2017-07-07\",\"2017-07-09\",\"2017-07-11\",\"2017-07-12\",\"2017-07-13\",\"2017-07-14\",\"2017-07-15\",\"2017-07-16\",\"2017-07-17\",\"2017-07-18\",\"2017-07-19\",\"2017-07-20\",\"2017-07-21\",\"2017-07-22\",\"2017-07-23\",\"2017-07-25\",\"2017-07-26\",\"2017-07-27\",\"2017-07-28\",\"2017-07-29\",\"2017-07-31\",\"2017-08-02\",\"2017-08-03\",\"2017-08-04\",\"2017-08-05\",\"2017-08-06\",\"2017-08-07\",\"2017-08-09\",\"2017-08-10\",\"2017-08-11\",\"2017-08-12\",\"2017-08-13\",\"2017-08-14\",\"2017-08-15\",\"2017-08-16\",\"2017-08-17\",\"2017-08-18\",\"2017-08-19\",\"2017-08-21\",\"2017-08-22\",\"2017-08-23\",\"2017-08-24\",\"2017-08-25\",\"2017-08-26\",\"2017-08-27\",\"2017-08-28\",\"2017-08-30\",\"2017-08-31\",\"2017-09-01\",\"2017-09-03\",\"2017-09-04\",\"2017-09-06\",\"2017-09-07\",\"2017-09-08\",\"2017-09-09\",\"2017-09-10\",\"2017-09-11\",\"2017-09-12\",\"2017-09-13\",\"2017-09-14\",\"2017-09-15\",\"2017-09-16\",\"2017-09-17\",\"2017-09-18\",\"2017-09-19\",\"2017-09-20\",\"2017-09-22\",\"2017-09-23\",\"2017-09-24\",\"2017-09-25\",\"2017-09-26\",\"2017-09-27\",\"2017-09-28\",\"2017-09-29\",\"2017-09-30\",\"2017-10-01\",\"2017-10-02\",\"2017-10-04\",\"2017-10-05\",\"2017-10-06\",\"2017-10-08\",\"2017-10-09\",\"2017-10-10\",\"2017-10-11\",\"2017-10-12\",\"2017-10-13\",\"2017-10-14\",\"2017-10-15\",\"2017-10-16\",\"2017-10-18\",\"2017-10-19\",\"2017-10-20\",\"2017-10-21\",\"2017-10-22\",\"2017-10-23\",\"2017-10-24\",\"2017-10-25\",\"2017-10-26\",\"2017-10-27\",\"2017-10-29\",\"2017-10-31\",\"2017-11-01\",\"2017-11-02\",\"2017-11-03\",\"2017-11-04\",\"2017-11-05\",\"2017-11-06\",\"2017-11-07\",\"2017-11-08\",\"2017-11-09\",\"2017-11-10\",\"2017-11-12\",\"2017-11-13\",\"2017-11-14\",\"2017-11-15\",\"2017-11-16\",\"2017-11-17\",\"2017-11-18\",\"2017-11-19\",\"2017-11-20\",\"2017-11-21\",\"2017-11-22\",\"2017-11-23\",\"2017-11-24\",\"2017-11-25\",\"2017-11-27\",\"2017-11-29\",\"2017-11-30\",\"2017-12-01\",\"2017-12-02\",\"2017-12-03\",\"2017-12-04\",\"2017-12-05\",\"2017-12-06\",\"2017-12-07\",\"2017-12-08\",\"2017-12-10\",\"2017-12-13\",\"2017-12-14\",\"2017-12-15\",\"2017-12-16\",\"2017-12-17\",\"2017-12-18\",\"2017-12-19\",\"2017-12-20\",\"2017-12-21\",\"2017-12-22\",\"2017-12-24\",\"2017-12-25\",\"2017-12-27\",\"2017-12-29\",\"2017-12-30\",\"2017-12-31\",\"2018-01-01\",\"2018-01-03\",\"2018-01-05\",\"2018-01-06\",\"2018-01-09\",\"2018-01-10\",\"2018-01-11\",\"2018-01-12\",\"2018-01-13\",\"2018-01-14\",\"2018-01-15\",\"2018-01-16\",\"2018-01-17\",\"2018-01-19\",\"2018-01-20\",\"2018-01-21\",\"2018-01-23\",\"2018-01-24\",\"2018-01-25\",\"2018-01-26\",\"2018-01-28\",\"2018-01-29\",\"2018-01-31\",\"2018-02-01\",\"2018-02-03\",\"2018-02-04\",\"2018-02-05\",\"2018-02-06\",\"2018-02-07\",\"2018-02-08\",\"2018-02-09\",\"2018-02-10\",\"2018-02-11\",\"2018-02-12\",\"2018-02-13\",\"2018-02-14\",\"2018-02-15\",\"2018-02-16\",\"2018-02-17\",\"2018-02-19\",\"2018-02-20\",\"2018-02-21\",\"2018-02-22\",\"2018-02-23\",\"2018-02-24\",\"2018-02-25\",\"2018-02-26\",\"2018-02-27\",\"2018-02-28\",\"2018-03-01\",\"2018-03-02\",\"2018-03-03\",\"2018-03-06\",\"2018-03-07\",\"2018-03-08\",\"2018-03-09\",\"2018-03-10\",\"2018-03-11\",\"2018-03-12\",\"2018-03-13\",\"2018-03-14\",\"2018-03-15\",\"2018-03-16\",\"2018-03-17\",\"2018-03-18\",\"2018-03-19\",\"2018-03-20\",\"2018-03-21\",\"2018-03-22\",\"2018-03-23\",\"2018-03-25\",\"2018-03-26\",\"2018-03-27\",\"2018-03-29\",\"2018-03-30\",\"2018-03-31\",\"2018-04-01\",\"2018-04-02\",\"2018-04-03\",\"2018-04-04\",\"2018-04-05\",\"2018-04-06\",\"2018-04-07\",\"2018-04-08\",\"2018-04-09\",\"2018-04-10\",\"2018-04-11\",\"2018-04-12\",\"2018-04-13\",\"2018-04-14\",\"2018-04-15\",\"2018-04-16\",\"2018-04-17\",\"2018-04-18\",\"2018-04-19\",\"2018-04-20\",\"2018-04-21\",\"2018-04-22\",\"2018-04-23\",\"2018-04-24\",\"2018-04-25\",\"2018-04-26\",\"2018-04-29\",\"2018-04-30\",\"2018-05-01\",\"2018-05-03\",\"2018-05-04\",\"2018-05-05\",\"2018-05-06\",\"2018-05-07\",\"2018-05-08\",\"2018-05-10\",\"2018-05-11\",\"2018-05-12\",\"2018-05-13\",\"2018-05-15\",\"2018-05-16\",\"2018-05-17\",\"2018-05-18\",\"2018-05-19\",\"2018-05-21\",\"2018-05-22\",\"2018-05-23\",\"2018-05-24\",\"2018-05-25\",\"2018-05-26\",\"2018-05-27\",\"2018-05-28\",\"2018-05-29\",\"2018-05-30\",\"2018-05-31\",\"2018-06-01\",\"2018-06-02\",\"2018-06-03\",\"2018-06-04\",\"2018-06-05\",\"2018-06-06\",\"2018-06-07\",\"2018-06-08\",\"2018-06-09\",\"2018-06-10\",\"2018-06-11\",\"2018-06-12\",\"2018-06-13\",\"2018-06-14\",\"2018-06-15\",\"2018-06-16\",\"2018-06-17\",\"2018-06-18\",\"2018-06-19\",\"2018-06-20\",\"2018-06-22\",\"2018-06-24\",\"2018-06-25\",\"2018-06-26\",\"2018-06-27\",\"2018-06-28\",\"2018-06-29\",\"2018-06-30\",\"2018-07-01\",\"2018-07-02\",\"2018-07-03\",\"2018-07-04\",\"2018-07-05\",\"2018-07-06\",\"2018-07-07\",\"2018-07-08\",\"2018-07-09\",\"2018-07-10\",\"2018-07-11\",\"2018-07-12\",\"2018-07-13\",\"2018-07-14\",\"2018-07-15\",\"2018-07-16\",\"2018-07-17\",\"2018-07-18\",\"2018-07-19\",\"2018-07-20\",\"2018-07-21\",\"2018-07-22\",\"2018-07-24\",\"2018-07-25\",\"2018-07-26\",\"2018-07-27\",\"2018-07-28\",\"2018-07-29\",\"2018-07-30\",\"2018-07-31\",\"2018-08-01\",\"2018-08-02\",\"2018-08-03\",\"2018-08-04\",\"2018-08-07\",\"2018-08-08\",\"2018-08-09\",\"2018-08-10\",\"2018-08-11\",\"2018-08-15\",\"2018-08-16\",\"2018-08-18\",\"2018-08-19\",\"2018-08-20\",\"2018-08-21\",\"2018-08-22\",\"2018-08-23\",\"2018-08-24\",\"2018-08-25\",\"2018-08-26\",\"2018-08-27\",\"2018-08-28\",\"2018-08-30\",\"2018-08-31\",\"2018-09-01\",\"2018-09-02\",\"2018-09-03\",\"2018-09-05\",\"2018-09-06\",\"2018-09-07\",\"2018-09-08\",\"2018-09-09\",\"2018-09-10\",\"2018-09-12\",\"2018-09-13\",\"2018-09-14\",\"2018-09-15\",\"2018-09-16\",\"2018-09-19\",\"2018-09-21\",\"2018-09-22\",\"2018-09-23\",\"2018-09-24\",\"2018-09-25\",\"2018-09-26\",\"2018-09-27\",\"2018-09-28\",\"2018-09-29\",\"2018-09-30\",\"2018-10-01\",\"2018-10-02\",\"2018-10-03\",\"2018-10-04\",\"2018-10-05\",\"2018-10-07\",\"2018-10-08\",\"2018-10-10\",\"2018-10-11\",\"2018-10-12\",\"2018-10-13\",\"2018-10-14\",\"2018-10-15\",\"2018-10-16\",\"2018-10-17\",\"2018-10-19\",\"2018-10-20\",\"2018-10-21\",\"2018-10-22\",\"2018-10-23\",\"2018-10-26\",\"2018-10-27\",\"2018-10-28\",\"2018-10-29\",\"2018-10-30\",\"2018-10-31\",\"2018-11-01\",\"2018-11-02\",\"2018-11-03\",\"2018-11-04\",\"2018-11-05\",\"2018-11-06\",\"2018-11-08\",\"2018-11-09\",\"2018-11-10\",\"2018-11-11\",\"2018-11-12\",\"2018-11-13\",\"2018-11-14\",\"2018-11-15\",\"2018-11-16\",\"2018-11-18\",\"2018-11-19\",\"2018-11-20\",\"2018-11-21\",\"2018-11-22\",\"2018-11-23\",\"2018-11-24\",\"2018-11-25\",\"2018-11-27\",\"2018-11-28\",\"2018-11-29\",\"2018-11-30\",\"2018-12-03\",\"2018-12-05\",\"2018-12-06\",\"2018-12-07\",\"2018-12-08\",\"2018-12-09\",\"2018-12-10\",\"2018-12-11\",\"2018-12-12\",\"2018-12-13\",\"2018-12-15\",\"2018-12-16\",\"2018-12-18\",\"2018-12-19\",\"2018-12-20\",\"2018-12-22\",\"2018-12-23\",\"2018-12-24\",\"2018-12-26\",\"2018-12-27\",\"2018-12-28\",\"2018-12-29\",\"2018-12-30\",\"2019-01-01\",\"2019-01-03\",\"2019-01-04\",\"2019-01-05\",\"2019-01-06\",\"2019-01-07\",\"2019-01-09\",\"2019-01-10\",\"2019-01-11\",\"2019-01-12\",\"2019-01-13\",\"2019-01-14\",\"2019-01-15\",\"2019-01-16\",\"2019-01-17\",\"2019-01-18\",\"2019-01-19\",\"2019-01-20\",\"2019-01-21\",\"2019-01-22\",\"2019-01-23\",\"2019-01-24\",\"2019-01-25\",\"2019-01-26\",\"2019-01-27\",\"2019-01-28\",\"2019-01-29\",\"2019-01-30\",\"2019-01-31\",\"2019-02-01\",\"2019-02-02\",\"2019-02-03\",\"2019-02-04\",\"2019-02-05\",\"2019-02-06\",\"2019-02-07\",\"2019-02-09\",\"2019-02-10\",\"2019-02-12\",\"2019-02-13\",\"2019-02-14\",\"2019-02-15\",\"2019-02-16\",\"2019-02-17\",\"2019-02-18\",\"2019-02-19\",\"2019-02-20\",\"2019-02-21\",\"2019-02-22\",\"2019-02-23\",\"2019-02-24\",\"2019-02-25\",\"2019-02-26\",\"2019-02-27\",\"2019-02-28\",\"2019-03-01\",\"2019-03-02\",\"2019-03-03\",\"2019-03-04\",\"2019-03-05\",\"2019-03-06\",\"2019-03-07\",\"2019-03-08\",\"2019-03-09\",\"2019-03-10\",\"2019-03-11\",\"2019-03-12\",\"2019-03-13\",\"2019-03-14\",\"2019-03-15\",\"2019-03-16\",\"2019-03-17\",\"2019-03-18\",\"2019-03-20\",\"2019-03-21\",\"2019-03-22\",\"2019-03-25\",\"2019-03-26\",\"2019-03-27\",\"2019-03-28\",\"2019-03-29\",\"2019-03-30\",\"2019-03-31\",\"2019-04-01\",\"2019-04-02\",\"2019-04-04\",\"2019-04-05\",\"2019-04-06\",\"2019-04-07\",\"2019-04-08\",\"2019-04-09\",\"2019-04-10\",\"2019-04-11\",\"2019-04-12\",\"2019-04-13\",\"2019-04-14\",\"2019-04-15\",\"2019-04-16\",\"2019-04-17\",\"2019-04-20\",\"2019-04-21\",\"2019-04-22\",\"2019-04-23\",\"2019-04-24\",\"2019-04-26\",\"2019-04-27\",\"2019-04-28\",\"2019-04-29\",\"2019-04-30\",\"2019-05-02\",\"2019-05-03\",\"2019-05-04\",\"2019-05-05\",\"2019-05-06\",\"2019-05-07\",\"2019-05-09\",\"2019-05-10\",\"2019-05-11\",\"2019-05-12\",\"2019-05-13\",\"2019-05-15\",\"2019-05-17\",\"2019-05-18\",\"2019-05-19\",\"2019-05-20\",\"2019-05-21\",\"2019-05-22\",\"2019-05-23\",\"2019-05-24\",\"2019-05-25\",\"2019-05-27\",\"2019-05-28\",\"2019-05-29\",\"2019-05-30\",\"2019-05-31\",\"2019-06-02\",\"2019-06-04\",\"2019-06-05\",\"2019-06-06\",\"2019-06-07\",\"2019-06-08\",\"2019-06-09\",\"2019-06-10\",\"2019-06-11\",\"2019-06-12\",\"2019-06-13\",\"2019-06-14\",\"2019-06-15\",\"2019-06-16\",\"2019-06-18\",\"2019-06-19\",\"2019-06-20\",\"2019-06-21\",\"2019-06-23\",\"2019-06-24\",\"2019-06-25\",\"2019-06-26\",\"2019-06-28\",\"2019-06-30\",\"2019-07-01\",\"2019-07-02\",\"2019-07-03\",\"2019-07-04\",\"2019-07-05\",\"2019-07-06\",\"2019-07-07\",\"2019-07-11\",\"2019-07-12\",\"2019-07-13\",\"2019-07-14\",\"2019-07-15\",\"2019-07-16\",\"2019-07-17\",\"2019-07-18\",\"2019-07-19\",\"2019-07-20\",\"2019-07-21\",\"2019-07-24\",\"2019-07-25\",\"2019-07-26\",\"2019-07-28\",\"2019-07-29\",\"2019-07-30\",\"2019-08-01\",\"2019-08-03\",\"2019-08-05\",\"2019-08-06\",\"2019-08-07\",\"2019-08-08\",\"2019-08-09\",\"2019-08-10\",\"2019-08-13\",\"2019-08-14\",\"2019-08-15\",\"2019-08-16\",\"2019-08-18\",\"2019-08-20\",\"2019-08-21\",\"2019-08-22\",\"2019-08-24\",\"2019-08-27\",\"2019-08-30\",\"2019-08-31\",\"2019-09-03\",\"2019-09-04\",\"2019-09-05\",\"2019-09-06\",\"2019-09-07\",\"2019-09-08\",\"2019-09-09\",\"2019-09-10\",\"2019-09-12\",\"2019-09-13\",\"2019-09-15\",\"2019-09-16\",\"2019-09-17\",\"2019-09-18\",\"2019-09-19\",\"2019-09-20\",\"2019-09-25\",\"2019-09-26\",\"2019-09-27\",\"2019-09-28\",\"2019-09-30\",\"2019-10-01\",\"2019-10-02\",\"2019-10-03\",\"2019-10-05\",\"2019-10-06\",\"2019-10-09\",\"2019-10-10\",\"2019-10-11\",\"2019-10-12\",\"2019-10-13\",\"2019-10-14\",\"2019-10-15\",\"2019-10-17\",\"2019-10-18\",\"2019-10-22\",\"2019-10-24\",\"2019-10-25\",\"2019-10-26\",\"2019-10-27\",\"2019-10-28\",\"2019-10-29\",\"2019-10-30\",\"2019-10-31\",\"2019-11-04\",\"2019-11-05\",\"2019-11-07\",\"2019-11-08\",\"2019-11-09\",\"2019-11-11\",\"2019-11-12\",\"2019-11-13\",\"2019-11-14\",\"2019-11-15\",\"2019-11-16\",\"2019-11-18\",\"2019-11-19\",\"2019-11-20\",\"2019-11-21\",\"2019-11-22\",\"2019-11-23\",\"2019-11-25\",\"2019-11-26\",\"2019-11-27\",\"2019-11-28\",\"2019-11-29\",\"2019-12-01\",\"2019-12-02\",\"2019-12-03\",\"2019-12-04\",\"2019-12-05\",\"2019-12-06\",\"2019-12-07\",\"2019-12-08\",\"2019-12-09\",\"2019-12-10\",\"2019-12-11\",\"2019-12-12\",\"2019-12-13\",\"2019-12-14\",\"2019-12-15\",\"2019-12-16\",\"2019-12-17\",\"2019-12-18\",\"2019-12-19\",\"2019-12-20\",\"2019-12-23\",\"2019-12-24\",\"2019-12-26\",\"2019-12-27\",\"2019-12-28\",\"2019-12-29\",\"2019-12-31\",\"2020-01-02\",\"2020-01-04\",\"2020-01-05\",\"2020-01-06\",\"2020-01-07\",\"2020-01-08\",\"2020-01-09\",\"2020-01-10\",\"2020-01-11\",\"2020-01-13\",\"2020-01-14\",\"2020-01-15\",\"2020-01-17\",\"2020-01-18\",\"2020-01-20\",\"2020-01-22\",\"2020-01-23\",\"2020-01-24\",\"2020-01-27\",\"2020-01-28\",\"2020-01-29\",\"2020-01-30\",\"2020-01-31\",\"2020-02-02\",\"2020-02-03\",\"2020-02-04\",\"2020-02-05\",\"2020-02-06\",\"2020-02-07\",\"2020-02-08\",\"2020-02-10\",\"2020-02-11\",\"2020-02-12\",\"2020-02-13\",\"2020-02-14\",\"2020-02-15\",\"2020-02-16\",\"2020-02-17\",\"2020-02-18\",\"2020-02-19\",\"2020-02-20\",\"2020-02-21\",\"2020-02-22\",\"2020-02-24\",\"2020-02-25\",\"2020-02-26\",\"2020-02-27\",\"2020-02-28\",\"2020-02-29\",\"2020-03-02\",\"2020-03-03\",\"2020-03-04\",\"2020-03-05\",\"2020-03-06\",\"2020-03-07\",\"2020-03-09\",\"2020-03-10\",\"2020-03-11\",\"2020-03-12\",\"2020-03-13\",\"2020-03-14\",\"2020-03-15\",\"2020-03-16\",\"2020-03-24\",\"2020-03-26\",\"2020-03-30\",\"2020-03-31\",\"2020-04-01\",\"2020-04-02\",\"2020-04-03\",\"2020-04-06\",\"2020-04-07\",\"2020-04-08\",\"2020-04-09\",\"2020-04-10\",\"2020-04-11\",\"2020-04-13\",\"2020-04-14\",\"2020-04-15\",\"2020-04-16\",\"2020-04-20\",\"2020-04-25\",\"2020-04-28\",\"2020-05-04\",\"2020-05-05\",\"2020-05-06\",\"2020-05-07\",\"2020-05-09\",\"2020-05-11\",\"2020-05-12\",\"2020-05-14\",\"2020-05-15\",\"2020-05-16\",\"2020-05-18\",\"2020-05-19\",\"2020-05-21\",\"2020-05-23\",\"2020-05-24\",\"2020-05-25\",\"2020-05-26\",\"2020-05-27\",\"2020-05-28\",\"2020-05-29\",\"2020-05-30\",\"2020-05-31\",\"2020-06-01\",\"2020-06-02\",\"2020-06-03\",\"2020-06-04\",\"2020-06-05\",\"2020-06-06\",\"2020-06-07\",\"2020-06-08\",\"2020-06-09\",\"2020-06-10\",\"2020-06-11\",\"2020-06-12\",\"2020-06-14\",\"2020-06-15\",\"2020-06-16\",\"2020-06-17\",\"2020-06-18\",\"2020-06-19\",\"2020-06-21\",\"2020-06-22\",\"2020-06-23\",\"2020-06-24\",\"2020-06-25\",\"2020-06-26\",\"2020-06-27\",\"2020-06-28\",\"2020-06-29\",\"2020-06-30\",\"2020-07-01\",\"2020-07-02\",\"2020-07-03\",\"2020-07-04\",\"2020-07-05\",\"2020-07-06\",\"2020-07-07\",\"2020-07-08\",\"2020-07-09\",\"2020-07-10\",\"2020-07-11\",\"2020-07-12\",\"2020-07-14\",\"2020-07-15\",\"2020-07-16\",\"2020-07-17\",\"2020-07-18\",\"2020-07-19\",\"2020-07-20\",\"2020-07-21\",\"2020-07-22\",\"2020-07-23\",\"2020-07-24\",\"2020-07-25\",\"2020-07-26\",\"2020-07-27\",\"2020-07-28\",\"2020-07-29\",\"2020-07-30\",\"2020-07-31\",\"2020-08-01\",\"2020-08-02\",\"2020-08-03\",\"2020-08-04\",\"2020-08-05\",\"2020-08-06\",\"2020-08-07\",\"2020-08-08\",\"2020-08-09\",\"2020-08-10\",\"2020-08-12\",\"2020-08-13\",\"2020-08-14\",\"2020-08-15\",\"2020-08-16\",\"2020-08-17\",\"2020-08-18\",\"2020-08-19\",\"2020-08-20\",\"2020-08-21\",\"2020-08-22\",\"2020-08-25\",\"2020-08-26\",\"2020-08-27\",\"2020-08-28\",\"2020-08-29\",\"2020-09-01\",\"2020-09-02\",\"2020-09-03\",\"2020-09-04\",\"2020-09-05\",\"2020-09-07\",\"2020-09-08\",\"2020-09-09\",\"2020-09-10\",\"2020-09-11\",\"2020-09-12\",\"2020-09-13\",\"2020-09-14\",\"2020-09-15\",\"2020-09-16\",\"2020-09-17\",\"2020-09-18\",\"2020-09-19\",\"2020-09-20\",\"2020-09-21\",\"2020-09-22\",\"2020-09-23\",\"2020-09-24\",\"2020-09-25\",\"2020-09-26\",\"2020-09-27\",\"2020-09-28\",\"2020-09-29\",\"2020-09-30\",\"2020-10-01\",\"2020-10-02\",\"2020-10-03\",\"2020-10-05\",\"2020-10-06\",\"2020-10-07\",\"2020-10-08\",\"2020-10-09\",\"2020-10-10\",\"2020-10-12\",\"2020-10-13\",\"2020-10-14\",\"2020-10-15\",\"2020-10-16\",\"2020-10-17\",\"2020-10-18\",\"2020-10-19\",\"2020-10-21\",\"2020-10-22\",\"2020-10-23\",\"2020-10-26\",\"2020-10-27\",\"2020-10-28\",\"2020-10-29\",\"2020-10-30\",\"2020-10-31\",\"2020-11-01\",\"2020-11-02\",\"2020-11-03\",\"2020-11-04\",\"2020-11-05\",\"2020-11-06\",\"2020-11-07\",\"2020-11-09\",\"2020-11-10\",\"2020-11-11\",\"2020-11-12\",\"2020-11-13\",\"2020-11-14\",\"2020-11-16\",\"2020-11-17\",\"2020-11-18\",\"2020-11-19\",\"2020-11-20\",\"2020-11-21\",\"2020-11-22\",\"2020-11-23\",\"2020-11-24\",\"2020-11-25\",\"2020-11-26\",\"2020-11-27\",\"2020-11-28\",\"2020-11-29\",\"2020-11-30\",\"2020-12-01\",\"2020-12-02\",\"2020-12-03\",\"2020-12-04\",\"2020-12-06\",\"2020-12-07\",\"2020-12-08\",\"2020-12-09\",\"2020-12-10\",\"2020-12-11\",\"2020-12-12\",\"2020-12-13\",\"2020-12-14\",\"2020-12-15\",\"2020-12-16\",\"2020-12-17\",\"2020-12-18\",\"2020-12-19\",\"2020-12-21\",\"2020-12-22\",\"2020-12-23\",\"2020-12-24\",\"2020-12-25\",\"2020-12-26\",\"2020-12-27\",\"2020-12-28\",\"2020-12-29\",\"2020-12-30\",\"2021-01-01\",\"2021-01-02\",\"2021-01-03\",\"2021-01-04\",\"2021-01-05\",\"2021-01-06\",\"2021-01-07\",\"2021-01-08\",\"2021-01-09\",\"2021-01-11\",\"2021-01-12\",\"2021-01-13\",\"2021-01-14\",\"2021-01-15\",\"2021-01-16\",\"2021-01-17\",\"2021-01-18\",\"2021-01-19\",\"2021-01-20\",\"2021-01-21\",\"2021-01-22\",\"2021-01-23\",\"2021-01-24\",\"2021-01-25\",\"2021-01-26\",\"2021-01-27\",\"2021-01-28\",\"2021-01-29\",\"2021-01-30\",\"2021-01-31\",\"2021-02-01\",\"2021-02-02\",\"2021-02-03\",\"2021-02-04\",\"2021-02-05\",\"2021-02-06\",\"2021-02-08\",\"2021-02-09\",\"2021-02-10\",\"2021-02-11\",\"2021-02-12\",\"2021-02-15\",\"2021-02-16\",\"2021-02-17\",\"2021-02-18\",\"2021-02-19\",\"2021-02-21\",\"2021-02-22\",\"2021-02-23\",\"2021-02-24\",\"2021-02-25\",\"2021-02-26\",\"2021-02-27\",\"2021-02-28\",\"2021-03-01\",\"2021-03-02\",\"2021-03-03\",\"2021-03-04\",\"2021-03-05\",\"2021-03-06\",\"2021-03-08\",\"2021-03-09\",\"2021-03-10\",\"2021-03-11\",\"2021-03-12\",\"2021-03-13\",\"2021-03-14\",\"2021-03-15\",\"2021-03-16\",\"2021-03-17\",\"2021-03-18\",\"2021-03-19\",\"2021-03-20\",\"2021-03-21\",\"2021-03-23\",\"2021-03-24\",\"2021-03-25\",\"2021-03-26\",\"2021-03-28\",\"2021-03-29\",\"2021-03-30\",\"2021-03-31\",\"2021-04-01\",\"2021-04-02\",\"2021-04-03\",\"2021-04-04\",\"2021-04-05\",\"2021-04-06\",\"2021-04-07\",\"2021-04-08\",\"2021-04-09\",\"2021-04-12\",\"2021-04-13\",\"2021-04-14\",\"2021-04-15\",\"2021-04-16\",\"2021-04-17\",\"2021-04-18\",\"2021-04-19\",\"2021-04-20\",\"2021-04-21\",\"2021-04-22\",\"2021-04-23\",\"2021-04-24\",\"2021-04-25\",\"2021-04-26\",\"2021-04-27\",\"2021-04-28\",\"2021-04-29\",\"2021-04-30\",\"2021-05-01\",\"2021-05-02\",\"2021-05-03\",\"2021-05-04\",\"2021-05-05\",\"2021-05-06\",\"2021-05-07\",\"2021-05-08\",\"2021-05-09\",\"2021-05-10\",\"2021-05-11\",\"2021-05-12\",\"2021-05-13\",\"2021-05-14\",\"2021-05-15\",\"2021-05-16\",\"2021-05-17\",\"2021-05-18\",\"2021-05-19\",\"2021-05-20\",\"2021-05-21\",\"2021-05-22\",\"2021-05-24\",\"2021-05-25\",\"2021-05-26\",\"2021-05-27\",\"2021-05-28\",\"2021-05-29\",\"2021-05-30\",\"2021-05-31\",\"2021-06-01\",\"2021-06-02\",\"2021-06-03\",\"2021-06-04\",\"2021-06-05\",\"2021-06-06\",\"2021-06-07\",\"2021-06-08\",\"2021-06-09\",\"2021-06-10\",\"2021-06-11\",\"2021-06-13\",\"2021-06-14\",\"2021-06-15\",\"2021-06-16\",\"2021-06-17\",\"2021-06-18\",\"2021-06-19\",\"2021-06-20\",\"2021-06-21\",\"2021-06-22\",\"2021-06-23\",\"2021-06-24\",\"2021-06-25\",\"2021-06-26\",\"2021-06-27\",\"2021-06-28\",\"2021-06-29\",\"2021-06-30\",\"2021-07-01\",\"2021-07-02\",\"2021-07-03\",\"2021-07-04\",\"2021-07-05\",\"2021-07-06\",\"2021-07-07\",\"2021-07-08\",\"2021-07-09\",\"2021-07-10\",\"2021-07-11\",\"2021-07-12\",\"2021-07-13\",\"2021-07-14\",\"2021-07-15\",\"2021-07-16\",\"2021-07-19\",\"2021-07-20\",\"2021-07-21\",\"2021-07-22\",\"2021-07-23\",\"2021-07-24\",\"2021-07-26\",\"2021-07-27\",\"2021-07-28\",\"2021-07-29\",\"2021-07-30\",\"2021-08-01\",\"2021-08-02\",\"2021-08-03\",\"2021-08-04\",\"2021-08-05\",\"2021-08-06\",\"2021-08-07\",\"2021-08-08\",\"2021-08-09\",\"2021-08-10\",\"2021-08-11\",\"2021-08-12\",\"2021-08-13\",\"2021-08-14\",\"2021-08-15\",\"2021-08-16\",\"2021-08-17\",\"2021-08-18\",\"2021-08-19\",\"2021-08-20\",\"2021-08-21\",\"2021-08-23\",\"2021-08-24\",\"2021-08-25\",\"2021-08-26\",\"2021-08-27\",\"2021-08-28\",\"2021-08-30\",\"2021-08-31\",\"2021-09-01\",\"2021-09-02\",\"2021-09-03\",\"2021-09-04\",\"2021-09-06\",\"2021-09-07\",\"2021-09-08\",\"2021-09-09\",\"2021-09-10\",\"2021-09-11\",\"2021-09-13\",\"2021-09-14\",\"2021-09-15\",\"2021-09-16\",\"2021-09-17\",\"2021-09-18\",\"2021-09-19\",\"2021-09-20\",\"2021-09-21\",\"2021-09-22\",\"2021-09-23\",\"2021-09-24\",\"2021-09-26\",\"2021-09-27\",\"2021-09-28\",\"2021-09-29\",\"2021-09-30\",\"2021-10-01\",\"2021-10-02\",\"2021-10-04\",\"2021-10-05\",\"2021-10-06\",\"2021-10-07\",\"2021-10-08\",\"2021-10-09\",\"2021-10-11\",\"2021-10-12\",\"2021-10-13\",\"2021-10-14\",\"2021-10-15\",\"2021-10-16\",\"2021-10-17\",\"2021-10-18\",\"2021-10-19\",\"2021-10-20\",\"2021-10-21\",\"2021-10-22\",\"2021-10-23\",\"2021-10-24\",\"2021-10-25\",\"2021-10-26\",\"2021-10-27\",\"2021-10-28\",\"2021-10-29\",\"2021-10-30\",\"2021-11-01\",\"2021-11-02\",\"2021-11-03\",\"2021-11-05\",\"2021-11-06\",\"2021-11-08\",\"2021-11-09\",\"2021-11-10\",\"2021-11-12\",\"2021-11-13\",\"2021-11-15\",\"2021-11-16\",\"2021-11-17\",\"2021-11-18\",\"2021-11-19\",\"2021-11-21\",\"2021-11-22\",\"2021-11-23\",\"2021-11-24\",\"2021-11-25\",\"2021-11-26\",\"2021-11-27\",\"2021-11-28\",\"2021-11-29\",\"2021-11-30\",\"2021-12-01\",\"2021-12-02\",\"2021-12-03\",\"2021-12-04\",\"2021-12-05\",\"2021-12-06\",\"2021-12-07\",\"2021-12-08\",\"2021-12-09\",\"2021-12-10\",\"2021-12-11\",\"2021-12-12\",\"2021-12-13\",\"2021-12-14\",\"2021-12-15\",\"2021-12-16\",\"2021-12-17\",\"2021-12-18\",\"2021-12-19\",\"2021-12-20\",\"2021-12-21\",\"2021-12-22\",\"2021-12-23\",\"2021-12-25\",\"2021-12-26\",\"2021-12-27\",\"2021-12-28\",\"2021-12-30\",\"2021-12-31\",\"2022-01-01\",\"2022-01-03\",\"2022-01-04\",\"2022-01-05\",\"2022-01-06\",\"2022-01-07\",\"2022-01-08\",\"2022-01-09\",\"2022-01-10\",\"2022-01-11\",\"2022-01-12\",\"2022-01-13\",\"2022-01-14\",\"2022-01-15\",\"2022-01-17\",\"2022-01-18\",\"2022-01-19\",\"2022-01-20\",\"2022-01-21\",\"2022-01-22\",\"2022-01-23\",\"2022-01-24\",\"2022-01-26\",\"2022-01-27\",\"2022-01-28\",\"2022-01-29\",\"2022-01-30\",\"2022-01-31\",\"2022-02-01\",\"2022-02-02\",\"2022-02-03\",\"2022-02-04\",\"2022-02-05\",\"2022-02-06\",\"2022-02-07\",\"2022-02-08\",\"2022-02-09\",\"2022-02-10\",\"2022-02-11\",\"2022-02-12\",\"2022-02-13\",\"2022-02-14\",\"2022-02-16\",\"2022-02-17\",\"2022-02-18\",\"2022-02-19\",\"2022-02-20\",\"2022-02-21\",\"2022-02-22\",\"2022-02-23\",\"2022-02-24\",\"2022-02-25\",\"2022-02-28\",\"2022-03-01\",\"2022-03-02\",\"2022-03-03\",\"2022-03-04\",\"2022-03-05\",\"2022-03-07\",\"2022-03-08\",\"2022-03-09\",\"2022-03-10\",\"2022-03-11\",\"2022-03-12\",\"2022-03-13\",\"2022-03-14\",\"2022-03-15\",\"2022-03-16\",\"2022-03-17\",\"2022-03-18\",\"2022-03-19\",\"2022-03-20\",\"2022-03-21\",\"2022-03-22\",\"2022-03-23\",\"2022-03-24\",\"2022-03-25\",\"2022-03-29\",\"2022-03-30\",\"2022-03-31\",\"2022-04-01\",\"2022-04-02\",\"2022-04-03\",\"2022-04-04\",\"2022-04-05\",\"2022-04-06\",\"2022-04-07\",\"2022-04-08\",\"2022-04-09\",\"2022-04-11\",\"2022-04-12\",\"2022-04-13\",\"2022-04-14\",\"2022-04-15\",\"2022-04-16\",\"2022-04-17\",\"2022-04-18\",\"2022-04-19\",\"2022-04-20\",\"2022-04-21\",\"2022-04-22\",\"2022-04-23\",\"2022-04-24\",\"2022-04-25\",\"2022-04-26\",\"2022-04-27\",\"2022-04-28\",\"2022-04-29\",\"2022-04-30\",\"2022-05-01\",\"2022-05-02\",\"2022-05-03\",\"2022-05-04\",\"2022-05-05\",\"2022-05-06\",\"2022-05-09\",\"2022-05-10\",\"2022-05-11\",\"2022-05-12\",\"2022-05-13\",\"2022-05-14\",\"2022-05-15\",\"2022-05-16\",\"2022-05-17\",\"2022-05-18\",\"2022-05-19\",\"2022-05-20\",\"2022-05-21\",\"2022-05-22\",\"2022-05-23\",\"2022-05-24\",\"2022-05-25\",\"2022-05-26\",\"2022-05-27\",\"2022-05-30\",\"2022-05-31\",\"2022-06-01\",\"2022-06-02\",\"2022-06-03\",\"2022-06-04\",\"2022-06-05\",\"2022-06-06\",\"2022-06-07\",\"2022-06-08\",\"2022-06-09\",\"2022-06-10\",\"2022-06-11\",\"2022-06-12\",\"2022-06-13\",\"2022-06-14\",\"2022-06-15\",\"2022-06-16\",\"2022-06-17\",\"2022-06-18\",\"2022-06-19\",\"2022-06-20\",\"2022-06-21\",\"2022-06-22\",\"2022-06-23\",\"2022-06-24\",\"2022-06-25\",\"2022-06-26\",\"2022-06-27\",\"2022-06-28\",\"2022-06-29\",\"2022-06-30\",\"2022-07-01\",\"2022-07-03\",\"2022-07-04\",\"2022-07-05\",\"2022-07-06\",\"2022-07-07\",\"2022-07-08\",\"2022-07-09\",\"2022-07-10\",\"2022-07-11\",\"2022-07-12\",\"2022-07-13\",\"2022-07-15\",\"2022-07-17\",\"2022-07-18\",\"2022-07-19\",\"2022-07-20\",\"2022-07-21\",\"2022-07-22\",\"2022-07-23\",\"2022-07-24\",\"2022-07-25\",\"2022-07-26\",\"2022-07-27\",\"2022-07-28\",\"2022-07-29\",\"2022-07-30\",\"2022-08-02\",\"2022-08-03\",\"2022-08-04\",\"2022-08-05\",\"2022-08-07\",\"2022-08-08\",\"2022-08-09\",\"2022-08-10\",\"2022-08-11\",\"2022-08-12\",\"2022-08-14\",\"2022-08-16\",\"2022-08-17\",\"2022-08-18\",\"2022-08-19\",\"2022-08-20\",\"2022-08-21\",\"2022-08-22\",\"2022-08-23\",\"2022-08-24\",\"2022-08-25\",\"2022-08-26\",\"2022-08-27\",\"2022-08-28\",\"2022-08-29\",\"2022-08-30\",\"2022-08-31\",\"2022-09-01\",\"2022-09-02\",\"2022-09-03\",\"2022-09-04\",\"2022-09-05\",\"2022-09-06\",\"2022-09-07\",\"2022-09-08\",\"2022-09-09\",\"2022-09-10\",\"2022-09-11\",\"2022-09-12\",\"2022-09-13\",\"2022-09-14\",\"2022-09-15\",\"2022-09-16\",\"2022-09-17\",\"2022-09-19\",\"2022-09-20\",\"2022-09-21\",\"2022-09-22\",\"2022-09-23\",\"2022-09-25\",\"2022-09-26\",\"2022-09-27\",\"2022-09-28\",\"2022-09-29\",\"2022-09-30\",\"2022-10-02\",\"2022-10-03\",\"2022-10-04\",\"2022-10-05\",\"2022-10-06\",\"2022-10-07\",\"2022-10-08\",\"2022-10-09\",\"2022-10-10\",\"2022-10-11\",\"2022-10-12\",\"2022-10-13\",\"2022-10-14\",\"2022-10-15\",\"2022-10-16\",\"2022-10-17\",\"2022-10-18\",\"2022-10-19\",\"2022-10-20\",\"2022-10-21\",\"2022-10-22\",\"2022-10-24\",\"2022-10-25\",\"2022-10-26\",\"2022-10-27\",\"2022-10-28\",\"2022-10-29\",\"2022-10-31\",\"2022-11-01\",\"2022-11-02\",\"2022-11-03\",\"2022-11-04\",\"2022-11-05\",\"2022-11-06\",\"2022-11-07\",\"2022-11-08\",\"2022-11-09\",\"2022-11-10\",\"2022-11-11\",\"2022-11-12\",\"2022-11-13\",\"2022-11-14\",\"2022-11-15\",\"2022-11-16\",\"2022-11-17\",\"2022-11-18\",\"2022-11-19\",\"2022-11-21\",\"2022-11-22\",\"2022-11-23\",\"2022-11-24\",\"2022-11-25\",\"2022-11-27\",\"2022-11-28\",\"2022-11-29\",\"2022-11-30\",\"2022-12-01\",\"2022-12-02\",\"2022-12-03\",\"2022-12-04\",\"2022-12-05\",\"2022-12-06\",\"2022-12-07\",\"2022-12-08\",\"2022-12-09\",\"2022-12-10\",\"2022-12-11\",\"2022-12-12\",\"2022-12-13\",\"2022-12-14\",\"2022-12-15\",\"2022-12-16\",\"2022-12-17\",\"2022-12-19\",\"2022-12-20\",\"2022-12-21\",\"2022-12-22\",\"2022-12-23\",\"2022-12-24\",\"2022-12-26\",\"2022-12-27\",\"2022-12-28\",\"2022-12-29\",\"2022-12-30\",\"2023-01-02\",\"2023-01-03\",\"2023-01-04\",\"2023-01-05\",\"2023-01-06\",\"2023-01-07\",\"2023-01-08\",\"2023-01-09\",\"2023-01-10\",\"2023-01-11\",\"2023-01-12\",\"2023-01-13\",\"2023-01-14\",\"2023-01-15\",\"2023-01-16\",\"2023-01-17\",\"2023-01-18\",\"2023-01-19\",\"2023-01-20\",\"2023-01-23\",\"2023-01-24\",\"2023-01-25\",\"2023-01-26\",\"2023-01-27\",\"2023-01-28\",\"2023-01-29\",\"2023-01-30\",\"2023-01-31\",\"2023-02-01\",\"2023-02-02\",\"2023-02-03\",\"2023-02-04\",\"2023-02-05\",\"2023-02-06\",\"2023-02-07\",\"2023-02-08\",\"2023-02-09\",\"2023-02-10\",\"2023-02-11\",\"2023-02-12\",\"2023-02-13\",\"2023-02-14\",\"2023-02-15\",\"2023-02-16\",\"2023-02-17\",\"2023-02-18\",\"2023-02-19\",\"2023-02-20\",\"2023-02-21\",\"2023-02-22\",\"2023-02-23\",\"2023-02-24\",\"2023-02-25\",\"2023-02-27\",\"2023-02-28\",\"2023-03-01\",\"2023-03-02\",\"2023-03-03\",\"2023-03-04\",\"2023-03-05\",\"2023-03-06\",\"2023-03-07\",\"2023-03-08\",\"2023-03-09\",\"2023-03-10\",\"2023-03-11\",\"2023-03-12\",\"2023-03-13\",\"2023-03-14\",\"2023-03-15\",\"2023-03-16\",\"2023-03-17\",\"2023-03-18\",\"2023-03-20\",\"2023-03-21\",\"2023-03-22\",\"2023-03-23\",\"2023-03-24\",\"2023-03-28\",\"2023-03-29\",\"2023-03-30\",\"2023-03-31\",\"2023-04-01\",\"2023-04-02\",\"2023-04-03\",\"2023-04-04\",\"2023-04-05\",\"2023-04-06\",\"2023-04-07\",\"2023-04-08\",\"2023-04-11\",\"2023-04-12\",\"2023-04-15\",\"2023-04-17\",\"2023-04-18\",\"2023-04-19\",\"2023-04-20\",\"2023-04-21\",\"2023-04-25\",\"2023-04-26\",\"2023-04-27\",\"2023-04-28\",\"2023-05-02\",\"2023-05-03\",\"2023-05-04\",\"2023-05-05\",\"2023-05-09\",\"2023-05-11\",\"2023-05-12\",\"2023-05-15\",\"2023-05-22\",\"2023-05-23\",\"2023-08-02\"],\"xaxis\":\"x\",\"y\":[5,1,2,1,1,1,2,18,10,1,64,4,2,4,2,2,2,2,2,2,2,2,2,2,2,2,2,8,2,2,8,2,4,14,4,18,4,2,2,5,2,2,2,2,12,2,2,2,2,2,2,2,2,4,2,2,2,2,4,4,2,2,4,2,1,4,8,2,2,2,4,2,2,2,2,6,8,2,26,18,20,2,6,38,10,18,2,4,4,2,2,1,3,1,2,3,4,2,2,4,2,11,2,16,1,2,4,10,1,4,4,2,1,2,1,2,34,2,2,3,2,2,4,2,14,12,2,2,4,12,1,1,1,4,5,9,3,7,2,8,2,18,2,2,1,10,6,10,8,1,16,2,2,8,1,2,2,4,1,2,9,6,4,1,6,4,1,11,3,2,39,2,1,19,5,2,3,8,7,14,8,1,6,36,9,3,19,22,1,4,1,1,4,3,7,2,2,1,1,7,5,3,5,3,9,6,3,2,3,13,6,2,5,3,1,1,4,3,2,3,7,5,1,1,54,9,4,10,3,1,8,8,3,12,9,1,5,1,8,5,6,1,2,4,2,4,4,8,2,2,1,7,1,4,2,1,8,5,4,6,2,8,27,1,1,3,3,1,5,4,3,1,7,2,1,5,1,2,4,2,4,5,2,1,1,2,1,8,5,1,3,1,4,2,4,1,8,4,5,5,1,4,3,3,14,12,10,2,2,7,4,4,7,4,1,2,3,5,16,1,2,2,2,3,4,1,2,3,4,6,1,5,3,1,2,4,2,2,7,4,2,5,15,7,2,2,4,6,4,12,3,1,4,8,2,14,2,2,1,4,10,4,1,9,2,6,2,12,5,1,1,2,1,2,4,9,3,1,2,14,1,2,3,5,8,9,2,1,1,3,3,2,1,2,1,1,1,1,2,12,3,3,3,24,2,5,8,2,2,3,5,5,4,3,4,1,8,5,4,8,6,5,1,11,4,2,5,1,7,12,15,4,3,1,20,1,3,1,1,5,6,1,4,1,2,5,2,2,3,2,2,2,3,8,2,11,1,1,2,1,1,1,18,1,14,1,2,4,1,4,1,1,15,2,4,3,1,5,6,1,7,3,3,2,19,1,6,6,1,3,2,2,2,1,2,3,1,1,2,4,2,1,1,1,4,3,2,2,4,5,3,2,2,4,4,8,6,2,2,3,6,3,9,5,12,5,1,4,13,3,13,4,2,1,10,13,8,22,2,3,3,5,6,1,7,2,2,12,5,5,3,6,1,3,12,14,6,7,1,1,8,2,3,3,6,3,4,1,2,6,6,1,2,1,2,5,4,2,3,2,4,4,1,3,3,3,5,7,1,4,2,1,5,3,2,2,5,6,4,5,4,7,2,3,2,4,1,1,1,3,1,6,1,1,5,3,3,3,2,2,3,1,4,4,2,10,1,3,1,5,1,7,1,5,6,2,1,3,2,3,2,6,4,1,3,3,1,2,2,2,5,4,3,2,3,6,2,2,3,3,3,3,1,10,3,3,1,1,1,2,1,3,3,1,3,1,3,1,2,1,9,1,3,4,1,1,2,3,3,2,2,10,5,3,2,1,1,1,6,2,3,1,5,2,2,5,2,1,3,1,3,2,2,1,3,2,2,1,5,3,5,21,26,1,2,33,38,30,30,34,2,2,42,51,52,41,10,2,1,10,4,3,1,5,2,2,1,2,4,1,2,11,3,1,1,2,1,1,5,4,2,8,6,2,8,6,7,1,2,3,3,3,3,6,4,5,2,5,1,20,4,1,3,9,5,1,2,3,1,1,3,2,5,4,2,3,2,2,5,2,2,1,2,5,1,3,2,1,1,2,2,4,3,1,2,3,2,3,2,1,3,3,2,3,4,1,1,2,3,3,4,2,2,4,1,5,9,2,5,4,3,3,3,1,3,7,3,2,1,2,1,1,5,1,2,5,2,1,3,2,1,1,3,4,6,1,2,4,10,5,5,2,2,1,4,3,1,4,5,2,2,7,2,5,5,5,3,2,2,3,3,6,5,4,7,8,2,1,1,3,1,20,1,1,1,1,6,4,2,1,1,3,2,3,4,3,3,2,2,4,1,1,7,2,4,4,3,5,6,1,16,9,2,2,1,1,2,2,6,1,1,2,1,4,2,2,1,3,3,2,3,7,3,10,5,6,3,19,3,1,1,3,7,5,4,5,2,3,2,7,1,2,9,25,17,9,1,59,85,98,93,24,5,1,47,43,30,23,19,2,1,5,13,2,14,6,4,5,13,2,1,2,2,2,2,3,2,3,5,4,2,2,2,5,12,4,5,7,1,10,1,2,13,4,10,4,1,1,11,18,17,7,3,2,9,10,16,8,1,3,6,8,42,8,2,2,4,11,8,13,2,2,6,4,6,5,2,1,12,68,80,11,7,2,1,2,12,2,34,62,68,94,77,38,83,74,72,56,64,80,38,70,24,1,1,1,4,6,4,1,4,7,6,5,1,2,6,13,1,3,1,9,29,37,40,15,1,2,4,8,10,20,20,2,10,33,32,26,8,1,1,2,16,20,36,13,3,2,14,12,24,28,12,1,8,16,22,23,6,8,7,5,4,29,18,12,3,3,3,1,2,21,5,2,6,7,4,13,7,5,4,6,13,24,38,22,5,1,15,13,11,8,5,5,1,2,8,4,1,2,1,6,19,2,4,4,1,12,6,5,1,1,15,9,5,5,1,5,5,6,2,5,1,2,2,2,12,7,8,1,3,1,22,3,8,17,2,1,9,25,9,5,3,2,12,23,26,26,4,4,20,9,26,14,15,3,1,6,23,6,5,2,6,31,15,12,2,4,5,3,6,8,1,2,2,26,2,4,15,1,19,18,20,16,1,1,1,7,5,17,25,14,2,1,9,8,4,12,5,2,4,6,22,8,4,3,2,13,2,3,11,15,1,11,6,11,8,5,3,1,16,2,1,281,2,1,5,18,21,13,6,2,6,18,22,8,65,1,1,2,9,9,11,18,1,1,6,4,27,6,13,3,1,2,14,7,16,3,12,2,11,6,13,2,22,15,5,13,9,1,10,16,5,5,20,1,4,1,15,3,2,7,3,8,4,10,22,9,1,2,38,6,18,8,7,1,2,8,2,14,5,4,24,23,15,16,6,2,1,2,10,19,20,19,27,50,51,48,46,1,1,42,63,57,64,54,2,2,55,97,55,44,46,1,2,12,36,26,8,26,2,4,7,8,21,1,6,1,1,9,19,9,47,34,3,3,19,23,40,32,11,12,21,22,14,21,34,7,5,32,17,21,12,27,2,29,32,22,14,9,4,2,20,17,4,15,18,7,4,15,44,25,51,21,3,15,23,9,6,8,23,6,1,337,22,8,6,15,8,28,21,59,3,3,22,14,36,9,7,2,16,13,28,25,8,3,1,3,4,8,33,18,1,2,23,2,6,7,1,1,7,35,19,18,15,1,16,17,20,15,20,24,6,28,19,18,3,3,2,20,28,2,20,1,3,8,12,21,21,1,1,8,15,7,11,13,2,21,17,29,10,10,2,1,32,31,4,10,1,2,3,11,13,24,24,2,1,5,32,22,10,7,1,5,19,9,11,1,7,50,13,6,1,2,15,24,6,15,4,26,21,15,43,15,1,3,6,17,25,5,9,28,1,8,18,7,10,5,3,2,23,23,35,26,19,3,1,15,21,40,21,1,8,10,1,3,1,3,8,7,2,13,4,6,8,9,8,44,23,4,3,3,11,11,13,11,1,1,17,2,18,4,6,3,21,1,15,4,14,4,1,32,18,21,12,10,11,1,1,17,2,6,1,2,16,4,40,9,19,24,7,9,29,70,7,6,14,23,30,6,2,1,3,24,14,6,11,2,2,2,6,17,12,8,9,22,20,18,1,2,17,13,31,16,40,2,5,5,31,15,6,5,2,2,16,3,18,12,2,2,10,9,3,17,8,4,7,4,3,15,52,17,8,12,3,5,17,3,2,8,8,34,29,21,6,3,16,33,60,1,2,7,24,26,22,4,1,4,1,6,14,31,17,1,5,10,13,37,16,9,1,2,10,18,33,18,8,1,4,17,12,23,21,16,2,4,12,8,35,18,14,7,14,21,17,3,1,31,16,31,31,32,3,4,8,11,42,37,17,3,10,42,27,15,1,14,38,18,20,25,3,11,13,31,15,1,2,15,15,11,25,21,5,2,6,5,2,7,14,1,1,12,24,11,22,17,2,1,20,34,27,12,26,2,19,22,41,30,20,2,13,13,44,35,32,1,30,13,24,52,30,12,2,6,21,11,46,15,2,2,35,33,43,44,15,1,19,20,27,27,46,1,12,4,20,5,15,2,9,17,10,23,13,2,2,1,15,15,40,27,19,1,7,38,22,41,15,4,43,25,49,37,59,6,4,16,44,94,43,28,10,1,23,26,10,65,27,2,35,84,113,131,80,4,19,71,53,55,24,3,7,23,17,33,2,6,64,19,29,17,9,1,1,47,34,27,44,7,43,7,20,5,49,24,2,16,7,23,41,8,6,3,33,27,14,37,30,2,1,13,40,24,18,11,1,2,12,16,17,28,21,14,26,14,24,26,12,2,1,19,22,297,22,13,6,1,24,19,16,41,10,4,16,10,12,18,24,3,22,17,45,13,5,4,12,7,5,6,3,15,11,1,17,5,4,23,4,4,13,8,17,11,6,11,5,2,2,5,10,4,4,3],\"yaxis\":\"y\",\"type\":\"scattergl\"}],                        {\"template\":{\"data\":{\"histogram2dcontour\":[{\"type\":\"histogram2dcontour\",\"colorbar\":{\"outlinewidth\":0,\"ticks\":\"\"},\"colorscale\":[[0.0,\"#0d0887\"],[0.1111111111111111,\"#46039f\"],[0.2222222222222222,\"#7201a8\"],[0.3333333333333333,\"#9c179e\"],[0.4444444444444444,\"#bd3786\"],[0.5555555555555556,\"#d8576b\"],[0.6666666666666666,\"#ed7953\"],[0.7777777777777778,\"#fb9f3a\"],[0.8888888888888888,\"#fdca26\"],[1.0,\"#f0f921\"]]}],\"choropleth\":[{\"type\":\"choropleth\",\"colorbar\":{\"outlinewidth\":0,\"ticks\":\"\"}}],\"histogram2d\":[{\"type\":\"histogram2d\",\"colorbar\":{\"outlinewidth\":0,\"ticks\":\"\"},\"colorscale\":[[0.0,\"#0d0887\"],[0.1111111111111111,\"#46039f\"],[0.2222222222222222,\"#7201a8\"],[0.3333333333333333,\"#9c179e\"],[0.4444444444444444,\"#bd3786\"],[0.5555555555555556,\"#d8576b\"],[0.6666666666666666,\"#ed7953\"],[0.7777777777777778,\"#fb9f3a\"],[0.8888888888888888,\"#fdca26\"],[1.0,\"#f0f921\"]]}],\"heatmap\":[{\"type\":\"heatmap\",\"colorbar\":{\"outlinewidth\":0,\"ticks\":\"\"},\"colorscale\":[[0.0,\"#0d0887\"],[0.1111111111111111,\"#46039f\"],[0.2222222222222222,\"#7201a8\"],[0.3333333333333333,\"#9c179e\"],[0.4444444444444444,\"#bd3786\"],[0.5555555555555556,\"#d8576b\"],[0.6666666666666666,\"#ed7953\"],[0.7777777777777778,\"#fb9f3a\"],[0.8888888888888888,\"#fdca26\"],[1.0,\"#f0f921\"]]}],\"heatmapgl\":[{\"type\":\"heatmapgl\",\"colorbar\":{\"outlinewidth\":0,\"ticks\":\"\"},\"colorscale\":[[0.0,\"#0d0887\"],[0.1111111111111111,\"#46039f\"],[0.2222222222222222,\"#7201a8\"],[0.3333333333333333,\"#9c179e\"],[0.4444444444444444,\"#bd3786\"],[0.5555555555555556,\"#d8576b\"],[0.6666666666666666,\"#ed7953\"],[0.7777777777777778,\"#fb9f3a\"],[0.8888888888888888,\"#fdca26\"],[1.0,\"#f0f921\"]]}],\"contourcarpet\":[{\"type\":\"contourcarpet\",\"colorbar\":{\"outlinewidth\":0,\"ticks\":\"\"}}],\"contour\":[{\"type\":\"contour\",\"colorbar\":{\"outlinewidth\":0,\"ticks\":\"\"},\"colorscale\":[[0.0,\"#0d0887\"],[0.1111111111111111,\"#46039f\"],[0.2222222222222222,\"#7201a8\"],[0.3333333333333333,\"#9c179e\"],[0.4444444444444444,\"#bd3786\"],[0.5555555555555556,\"#d8576b\"],[0.6666666666666666,\"#ed7953\"],[0.7777777777777778,\"#fb9f3a\"],[0.8888888888888888,\"#fdca26\"],[1.0,\"#f0f921\"]]}],\"surface\":[{\"type\":\"surface\",\"colorbar\":{\"outlinewidth\":0,\"ticks\":\"\"},\"colorscale\":[[0.0,\"#0d0887\"],[0.1111111111111111,\"#46039f\"],[0.2222222222222222,\"#7201a8\"],[0.3333333333333333,\"#9c179e\"],[0.4444444444444444,\"#bd3786\"],[0.5555555555555556,\"#d8576b\"],[0.6666666666666666,\"#ed7953\"],[0.7777777777777778,\"#fb9f3a\"],[0.8888888888888888,\"#fdca26\"],[1.0,\"#f0f921\"]]}],\"mesh3d\":[{\"type\":\"mesh3d\",\"colorbar\":{\"outlinewidth\":0,\"ticks\":\"\"}}],\"scatter\":[{\"fillpattern\":{\"fillmode\":\"overlay\",\"size\":10,\"solidity\":0.2},\"type\":\"scatter\"}],\"parcoords\":[{\"type\":\"parcoords\",\"line\":{\"colorbar\":{\"outlinewidth\":0,\"ticks\":\"\"}}}],\"scatterpolargl\":[{\"type\":\"scatterpolargl\",\"marker\":{\"colorbar\":{\"outlinewidth\":0,\"ticks\":\"\"}}}],\"bar\":[{\"error_x\":{\"color\":\"#2a3f5f\"},\"error_y\":{\"color\":\"#2a3f5f\"},\"marker\":{\"line\":{\"color\":\"#E5ECF6\",\"width\":0.5},\"pattern\":{\"fillmode\":\"overlay\",\"size\":10,\"solidity\":0.2}},\"type\":\"bar\"}],\"scattergeo\":[{\"type\":\"scattergeo\",\"marker\":{\"colorbar\":{\"outlinewidth\":0,\"ticks\":\"\"}}}],\"scatterpolar\":[{\"type\":\"scatterpolar\",\"marker\":{\"colorbar\":{\"outlinewidth\":0,\"ticks\":\"\"}}}],\"histogram\":[{\"marker\":{\"pattern\":{\"fillmode\":\"overlay\",\"size\":10,\"solidity\":0.2}},\"type\":\"histogram\"}],\"scattergl\":[{\"type\":\"scattergl\",\"marker\":{\"colorbar\":{\"outlinewidth\":0,\"ticks\":\"\"}}}],\"scatter3d\":[{\"type\":\"scatter3d\",\"line\":{\"colorbar\":{\"outlinewidth\":0,\"ticks\":\"\"}},\"marker\":{\"colorbar\":{\"outlinewidth\":0,\"ticks\":\"\"}}}],\"scattermapbox\":[{\"type\":\"scattermapbox\",\"marker\":{\"colorbar\":{\"outlinewidth\":0,\"ticks\":\"\"}}}],\"scatterternary\":[{\"type\":\"scatterternary\",\"marker\":{\"colorbar\":{\"outlinewidth\":0,\"ticks\":\"\"}}}],\"scattercarpet\":[{\"type\":\"scattercarpet\",\"marker\":{\"colorbar\":{\"outlinewidth\":0,\"ticks\":\"\"}}}],\"carpet\":[{\"aaxis\":{\"endlinecolor\":\"#2a3f5f\",\"gridcolor\":\"white\",\"linecolor\":\"white\",\"minorgridcolor\":\"white\",\"startlinecolor\":\"#2a3f5f\"},\"baxis\":{\"endlinecolor\":\"#2a3f5f\",\"gridcolor\":\"white\",\"linecolor\":\"white\",\"minorgridcolor\":\"white\",\"startlinecolor\":\"#2a3f5f\"},\"type\":\"carpet\"}],\"table\":[{\"cells\":{\"fill\":{\"color\":\"#EBF0F8\"},\"line\":{\"color\":\"white\"}},\"header\":{\"fill\":{\"color\":\"#C8D4E3\"},\"line\":{\"color\":\"white\"}},\"type\":\"table\"}],\"barpolar\":[{\"marker\":{\"line\":{\"color\":\"#E5ECF6\",\"width\":0.5},\"pattern\":{\"fillmode\":\"overlay\",\"size\":10,\"solidity\":0.2}},\"type\":\"barpolar\"}],\"pie\":[{\"automargin\":true,\"type\":\"pie\"}]},\"layout\":{\"autotypenumbers\":\"strict\",\"colorway\":[\"#636efa\",\"#EF553B\",\"#00cc96\",\"#ab63fa\",\"#FFA15A\",\"#19d3f3\",\"#FF6692\",\"#B6E880\",\"#FF97FF\",\"#FECB52\"],\"font\":{\"color\":\"#2a3f5f\"},\"hovermode\":\"closest\",\"hoverlabel\":{\"align\":\"left\"},\"paper_bgcolor\":\"white\",\"plot_bgcolor\":\"#E5ECF6\",\"polar\":{\"bgcolor\":\"#E5ECF6\",\"angularaxis\":{\"gridcolor\":\"white\",\"linecolor\":\"white\",\"ticks\":\"\"},\"radialaxis\":{\"gridcolor\":\"white\",\"linecolor\":\"white\",\"ticks\":\"\"}},\"ternary\":{\"bgcolor\":\"#E5ECF6\",\"aaxis\":{\"gridcolor\":\"white\",\"linecolor\":\"white\",\"ticks\":\"\"},\"baxis\":{\"gridcolor\":\"white\",\"linecolor\":\"white\",\"ticks\":\"\"},\"caxis\":{\"gridcolor\":\"white\",\"linecolor\":\"white\",\"ticks\":\"\"}},\"coloraxis\":{\"colorbar\":{\"outlinewidth\":0,\"ticks\":\"\"}},\"colorscale\":{\"sequential\":[[0.0,\"#0d0887\"],[0.1111111111111111,\"#46039f\"],[0.2222222222222222,\"#7201a8\"],[0.3333333333333333,\"#9c179e\"],[0.4444444444444444,\"#bd3786\"],[0.5555555555555556,\"#d8576b\"],[0.6666666666666666,\"#ed7953\"],[0.7777777777777778,\"#fb9f3a\"],[0.8888888888888888,\"#fdca26\"],[1.0,\"#f0f921\"]],\"sequentialminus\":[[0.0,\"#0d0887\"],[0.1111111111111111,\"#46039f\"],[0.2222222222222222,\"#7201a8\"],[0.3333333333333333,\"#9c179e\"],[0.4444444444444444,\"#bd3786\"],[0.5555555555555556,\"#d8576b\"],[0.6666666666666666,\"#ed7953\"],[0.7777777777777778,\"#fb9f3a\"],[0.8888888888888888,\"#fdca26\"],[1.0,\"#f0f921\"]],\"diverging\":[[0,\"#8e0152\"],[0.1,\"#c51b7d\"],[0.2,\"#de77ae\"],[0.3,\"#f1b6da\"],[0.4,\"#fde0ef\"],[0.5,\"#f7f7f7\"],[0.6,\"#e6f5d0\"],[0.7,\"#b8e186\"],[0.8,\"#7fbc41\"],[0.9,\"#4d9221\"],[1,\"#276419\"]]},\"xaxis\":{\"gridcolor\":\"white\",\"linecolor\":\"white\",\"ticks\":\"\",\"title\":{\"standoff\":15},\"zerolinecolor\":\"white\",\"automargin\":true,\"zerolinewidth\":2},\"yaxis\":{\"gridcolor\":\"white\",\"linecolor\":\"white\",\"ticks\":\"\",\"title\":{\"standoff\":15},\"zerolinecolor\":\"white\",\"automargin\":true,\"zerolinewidth\":2},\"scene\":{\"xaxis\":{\"backgroundcolor\":\"#E5ECF6\",\"gridcolor\":\"white\",\"linecolor\":\"white\",\"showbackground\":true,\"ticks\":\"\",\"zerolinecolor\":\"white\",\"gridwidth\":2},\"yaxis\":{\"backgroundcolor\":\"#E5ECF6\",\"gridcolor\":\"white\",\"linecolor\":\"white\",\"showbackground\":true,\"ticks\":\"\",\"zerolinecolor\":\"white\",\"gridwidth\":2},\"zaxis\":{\"backgroundcolor\":\"#E5ECF6\",\"gridcolor\":\"white\",\"linecolor\":\"white\",\"showbackground\":true,\"ticks\":\"\",\"zerolinecolor\":\"white\",\"gridwidth\":2}},\"shapedefaults\":{\"line\":{\"color\":\"#2a3f5f\"}},\"annotationdefaults\":{\"arrowcolor\":\"#2a3f5f\",\"arrowhead\":0,\"arrowwidth\":1},\"geo\":{\"bgcolor\":\"white\",\"landcolor\":\"#E5ECF6\",\"subunitcolor\":\"white\",\"showland\":true,\"showlakes\":true,\"lakecolor\":\"white\"},\"title\":{\"x\":0.05},\"mapbox\":{\"style\":\"light\"}}},\"xaxis\":{\"anchor\":\"y\",\"domain\":[0.0,1.0],\"title\":{\"text\":\"date_mise_en_service\"}},\"yaxis\":{\"anchor\":\"x\",\"domain\":[0.0,1.0],\"title\":{\"text\":\"count\"}},\"legend\":{\"tracegroupgap\":0},\"margin\":{\"t\":60}},                        {\"responsive\": true}                    ).then(function(){\n",
       "                            \n",
       "var gd = document.getElementById('69fe9a42-4055-45a4-aef5-f6809b68ab36');\n",
       "var x = new MutationObserver(function (mutations, observer) {{\n",
       "        var display = window.getComputedStyle(gd).display;\n",
       "        if (!display || display === 'none') {{\n",
       "            console.log([gd, 'removed!']);\n",
       "            Plotly.purge(gd);\n",
       "            observer.disconnect();\n",
       "        }}\n",
       "}});\n",
       "\n",
       "// Listen for the removal of the full notebook cells\n",
       "var notebookContainer = gd.closest('#notebook-container');\n",
       "if (notebookContainer) {{\n",
       "    x.observe(notebookContainer, {childList: true});\n",
       "}}\n",
       "\n",
       "// Listen for the clearing of the current output cell\n",
       "var outputEl = gd.closest('.output');\n",
       "if (outputEl) {{\n",
       "    x.observe(outputEl, {childList: true});\n",
       "}}\n",
       "\n",
       "                        })                };                });            </script>        </div>"
      ]
     },
     "metadata": {},
     "output_type": "display_data"
    }
   ],
   "source": [
    "fig = px.line(table_evolution, x='date_mise_en_service', y=\"count\")\n",
    "fig.show()"
   ]
  },
  {
   "cell_type": "markdown",
   "id": "3079e7da-f559-4505-a0bb-cf8e8f0c2685",
   "metadata": {},
   "source": [
    "# 2) MAP VISUALISATION"
   ]
  },
  {
   "cell_type": "code",
   "execution_count": 107,
   "id": "ff063f34-11ff-4dbc-abe7-50fac52db1ff",
   "metadata": {
    "tags": []
   },
   "outputs": [
    {
     "name": "stdout",
     "output_type": "stream",
     "text": [
      "Dash app running on http://127.0.0.1:8050/\n"
     ]
    }
   ],
   "source": [
    "\n",
    "df = table\n",
    "Show_pdc_per_department(df)"
   ]
  }
 ],
 "metadata": {
  "kernelspec": {
   "display_name": "Python 3 (ipykernel)",
   "language": "python",
   "name": "python3"
  },
  "language_info": {
   "codemirror_mode": {
    "name": "ipython",
    "version": 3
   },
   "file_extension": ".py",
   "mimetype": "text/x-python",
   "name": "python",
   "nbconvert_exporter": "python",
   "pygments_lexer": "ipython3",
   "version": "3.11.5"
  }
 },
 "nbformat": 4,
 "nbformat_minor": 5
}
