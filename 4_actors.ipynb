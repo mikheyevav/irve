{
 "cells": [
  {
   "cell_type": "code",
   "execution_count": 3,
   "id": "cd653fd4-682c-4078-9990-62f656db10ec",
   "metadata": {},
   "outputs": [],
   "source": [
    "import irve\n",
    "import importlib\n",
    "importlib.reload(irve)\n",
    "from irve import *"
   ]
  },
  {
   "cell_type": "code",
   "execution_count": 4,
   "id": "ef6befad-7127-4f36-b4a9-15d104e33fba",
   "metadata": {},
   "outputs": [],
   "source": [
    "pio.renderers.default = \"iframe\""
   ]
  },
  {
   "cell_type": "code",
   "execution_count": 5,
   "id": "08f84a26-10d1-48f6-be4f-c18cc041da2e",
   "metadata": {},
   "outputs": [
    {
     "data": {
      "text/html": [
       "<div>\n",
       "<style scoped>\n",
       "    .dataframe tbody tr th:only-of-type {\n",
       "        vertical-align: middle;\n",
       "    }\n",
       "\n",
       "    .dataframe tbody tr th {\n",
       "        vertical-align: top;\n",
       "    }\n",
       "\n",
       "    .dataframe thead th {\n",
       "        text-align: right;\n",
       "    }\n",
       "</style>\n",
       "<table border=\"1\" class=\"dataframe\">\n",
       "  <thead>\n",
       "    <tr style=\"text-align: right;\">\n",
       "      <th></th>\n",
       "      <th>nom_amenageur</th>\n",
       "      <th>nom_operateur</th>\n",
       "      <th>nom_enseigne</th>\n",
       "    </tr>\n",
       "  </thead>\n",
       "  <tbody>\n",
       "    <tr>\n",
       "      <th>0</th>\n",
       "      <td>Hotel saint Alban</td>\n",
       "      <td>ELECTROMAPS</td>\n",
       "      <td>Hotel saint alban</td>\n",
       "    </tr>\n",
       "    <tr>\n",
       "      <th>1</th>\n",
       "      <td>Hôtel Restaurant Campanile Nogent-sur-Marne</td>\n",
       "      <td>ELECTROMAPS</td>\n",
       "      <td>Hôtel Restaurant Campanile Nogent-sur-Marne</td>\n",
       "    </tr>\n",
       "    <tr>\n",
       "      <th>2</th>\n",
       "      <td>Résidence Les Calanques</td>\n",
       "      <td>ELECTROMAPS</td>\n",
       "      <td>Résidence les calanques</td>\n",
       "    </tr>\n",
       "    <tr>\n",
       "      <th>3</th>\n",
       "      <td>1PACTE</td>\n",
       "      <td>ELECTROMAPS</td>\n",
       "      <td>1PACTE</td>\n",
       "    </tr>\n",
       "    <tr>\n",
       "      <th>4</th>\n",
       "      <td>111442</td>\n",
       "      <td>Electromaps</td>\n",
       "      <td>SAS La Tuiliere</td>\n",
       "    </tr>\n",
       "    <tr>\n",
       "      <th>...</th>\n",
       "      <td>...</td>\n",
       "      <td>...</td>\n",
       "      <td>...</td>\n",
       "    </tr>\n",
       "    <tr>\n",
       "      <th>69345</th>\n",
       "      <td>MAGITEL</td>\n",
       "      <td>GENE ELEC 35</td>\n",
       "      <td>Borne de charge 2X22 KW WITTY PARK</td>\n",
       "    </tr>\n",
       "    <tr>\n",
       "      <th>69379</th>\n",
       "      <td>PHARMACIE DE HUNDLING</td>\n",
       "      <td>PHARMACIE DE HUNDLING</td>\n",
       "      <td>PHARMACIE DE HUNDLING</td>\n",
       "    </tr>\n",
       "    <tr>\n",
       "      <th>69391</th>\n",
       "      <td>SDC CENTRE MEDICAL ARTZAMENDI</td>\n",
       "      <td>SDC CENTRE MEDICAL ARTZAMENDI</td>\n",
       "      <td>centre médical Artzamendi</td>\n",
       "    </tr>\n",
       "    <tr>\n",
       "      <th>69399</th>\n",
       "      <td>SPIE CITYNETWORKS</td>\n",
       "      <td>SPIE CITYNETWORKS</td>\n",
       "      <td>DOMAINE GUEGUEN</td>\n",
       "    </tr>\n",
       "    <tr>\n",
       "      <th>69335</th>\n",
       "      <td>NaN</td>\n",
       "      <td>NaN</td>\n",
       "      <td>Centre Médical de la Burlière</td>\n",
       "    </tr>\n",
       "  </tbody>\n",
       "</table>\n",
       "<p>67044 rows × 3 columns</p>\n",
       "</div>"
      ],
      "text/plain": [
       "                                     nom_amenageur  \\\n",
       "0                                Hotel saint Alban   \n",
       "1      Hôtel Restaurant Campanile Nogent-sur-Marne   \n",
       "2                          Résidence Les Calanques   \n",
       "3                                           1PACTE   \n",
       "4                                           111442   \n",
       "...                                            ...   \n",
       "69345                                      MAGITEL   \n",
       "69379                        PHARMACIE DE HUNDLING   \n",
       "69391                SDC CENTRE MEDICAL ARTZAMENDI   \n",
       "69399                            SPIE CITYNETWORKS   \n",
       "69335                                          NaN   \n",
       "\n",
       "                       nom_operateur  \\\n",
       "0                        ELECTROMAPS   \n",
       "1                        ELECTROMAPS   \n",
       "2                        ELECTROMAPS   \n",
       "3                        ELECTROMAPS   \n",
       "4                        Electromaps   \n",
       "...                              ...   \n",
       "69345                   GENE ELEC 35   \n",
       "69379          PHARMACIE DE HUNDLING   \n",
       "69391  SDC CENTRE MEDICAL ARTZAMENDI   \n",
       "69399              SPIE CITYNETWORKS   \n",
       "69335                            NaN   \n",
       "\n",
       "                                      nom_enseigne  \n",
       "0                                Hotel saint alban  \n",
       "1      Hôtel Restaurant Campanile Nogent-sur-Marne  \n",
       "2                          Résidence les calanques  \n",
       "3                                           1PACTE  \n",
       "4                                  SAS La Tuiliere  \n",
       "...                                            ...  \n",
       "69345           Borne de charge 2X22 KW WITTY PARK  \n",
       "69379                        PHARMACIE DE HUNDLING  \n",
       "69391                    centre médical Artzamendi  \n",
       "69399                              DOMAINE GUEGUEN  \n",
       "69335                Centre Médical de la Burlière  \n",
       "\n",
       "[67044 rows x 3 columns]"
      ]
     },
     "execution_count": 5,
     "metadata": {},
     "output_type": "execute_result"
    }
   ],
   "source": [
    "irve.df[[\"nom_amenageur\",\"nom_operateur\",\"nom_enseigne\"]]"
   ]
  },
  {
   "cell_type": "code",
   "execution_count": 61,
   "id": "9a56ae11-5178-48a8-a8b0-63e3108c73c3",
   "metadata": {},
   "outputs": [],
   "source": [
    "#thresh = 50\n",
    "thresh = 200\n",
    "\n",
    "small_amenageurs = irve.df.groupby(\"nom_amenageur\")[\"id_pdc_itinerance\"].count()\n",
    "small_amenageurs = small_amenageurs[small_amenageurs<thresh].index\n",
    "\n",
    "small_operators = irve.df.groupby(\"nom_operateur\")[\"id_pdc_itinerance\"].count()\n",
    "small_operators = small_operators[small_operators<thresh].index\n",
    "\n",
    "small_enseignes = irve.df.groupby(\"nom_enseigne\")[\"id_pdc_itinerance\"].count()\n",
    "small_enseignes = small_enseignes[small_enseignes<thresh].index"
   ]
  },
  {
   "cell_type": "code",
   "execution_count": 62,
   "id": "f5ef04d3-ca28-4a95-b713-b3fa0716c20f",
   "metadata": {},
   "outputs": [],
   "source": [
    "irve_filtered = irve.df[\n",
    "  (~irve.df[\"nom_amenageur\"].isin(small_amenageurs)) & \\\n",
    "  (~irve.df[\"nom_operateur\"].isin(small_operators)) & \\\n",
    "  (~irve.df[\"nom_enseigne\"].isin(small_enseignes))    \n",
    "][[\"nom_amenageur\",\"nom_operateur\",\"nom_enseigne\"]]"
   ]
  },
  {
   "cell_type": "code",
   "execution_count": 63,
   "id": "1159e15f-efbd-406a-8119-f8ddbaade326",
   "metadata": {},
   "outputs": [],
   "source": [
    "fig = px.parallel_categories(irve_filtered, height= 1100, width=800, dimensions=[\"nom_amenageur\",\"nom_operateur\", \"nom_enseigne\"])\n",
    "\n",
    "#fig = px.parallel_categories(irve_filtered\n",
    "#                             , height= 5100\n",
    "#                             , width=1200\n",
    "#                             , dimensions=[\"nom_amenageur\",\"nom_operateur\", \"nom_enseigne\"]\n",
    "#                            )\n"
   ]
  },
  {
   "cell_type": "code",
   "execution_count": 59,
   "id": "8c603d36-0c02-4e55-baf5-3ee335e2ce07",
   "metadata": {},
   "outputs": [],
   "source": [
    "fig.write_image(\"img/4_par1.svg\")"
   ]
  },
  {
   "cell_type": "code",
   "execution_count": null,
   "id": "1963ff09-086a-49bb-ad16-fd8f891da656",
   "metadata": {},
   "outputs": [],
   "source": [
    "\n",
    "Izivia for others\n",
    "Bouygues for others\n",
    "Spie for others\n",
    "\n",
    "Freshmile operates for amenageurs\n",
    "    \n",
    "Driveco for driveco\n",
    "powerdot for powerdot\n",
    "total energies marketing for saemes\n",
    "WAAT for WAAT\n"
   ]
  },
  {
   "cell_type": "code",
   "execution_count": 66,
   "id": "20a6a880-458b-459d-84e5-f71d8ded2716",
   "metadata": {},
   "outputs": [],
   "source": [
    "thresh = 20\n",
    "\n",
    "top_amen = irve.df.groupby(\"nom_amenageur\")[\"id_pdc_itinerance\"].count().sort_values().tail(thresh).index\n",
    "\n",
    "top_operat = irve.df.groupby(\"nom_operateur\")[\"id_pdc_itinerance\"].count().sort_values().tail(thresh).index\n",
    "\n",
    "top_enseignes = irve.df.groupby(\"nom_enseigne\")[\"id_pdc_itinerance\"].count().sort_values().tail(thresh).index"
   ]
  },
  {
   "cell_type": "code",
   "execution_count": 67,
   "id": "7ab97b9e-d00e-4814-8abb-abb6158267bb",
   "metadata": {},
   "outputs": [
    {
     "data": {
      "text/html": [
       "<iframe\n",
       "    scrolling=\"no\"\n",
       "    width=\"100%\"\n",
       "    height=\"545px\"\n",
       "    src=\"iframe_figures/figure_67.html\"\n",
       "    frameborder=\"0\"\n",
       "    allowfullscreen\n",
       "></iframe>\n"
      ]
     },
     "metadata": {},
     "output_type": "display_data"
    }
   ],
   "source": [
    "px.histogram(irve.df[irve.df[\"nom_amenageur\"].isin(top_amen)], y=\"nom_amenageur\"\n",
    "            ,color_discrete_sequence=px.colors.qualitative.T10[::-1])\\\n",
    "  .update_yaxes(categoryorder=\"total ascending\")"
   ]
  },
  {
   "cell_type": "code",
   "execution_count": 68,
   "id": "90cdbbeb-f882-4780-92ca-1f435f5cb027",
   "metadata": {},
   "outputs": [
    {
     "data": {
      "text/html": [
       "<iframe\n",
       "    scrolling=\"no\"\n",
       "    width=\"100%\"\n",
       "    height=\"545px\"\n",
       "    src=\"iframe_figures/figure_68.html\"\n",
       "    frameborder=\"0\"\n",
       "    allowfullscreen\n",
       "></iframe>\n"
      ]
     },
     "metadata": {},
     "output_type": "display_data"
    }
   ],
   "source": [
    "px.histogram(irve.df[irve.df[\"nom_operateur\"].isin(top_operat)], y=\"nom_operateur\"\n",
    "            ,color_discrete_sequence=px.colors.qualitative.T10[::-1])\\\n",
    "  .update_yaxes(categoryorder=\"total ascending\")"
   ]
  },
  {
   "cell_type": "code",
   "execution_count": 69,
   "id": "12a04aa0-94bd-48b7-adca-c2537ec2208c",
   "metadata": {},
   "outputs": [
    {
     "data": {
      "text/html": [
       "<iframe\n",
       "    scrolling=\"no\"\n",
       "    width=\"100%\"\n",
       "    height=\"545px\"\n",
       "    src=\"iframe_figures/figure_69.html\"\n",
       "    frameborder=\"0\"\n",
       "    allowfullscreen\n",
       "></iframe>\n"
      ]
     },
     "metadata": {},
     "output_type": "display_data"
    }
   ],
   "source": [
    "px.histogram(irve.df[irve.df[\"nom_enseigne\"].isin(top_enseignes)], y=\"nom_enseigne\"\n",
    "            ,color_discrete_sequence=px.colors.qualitative.T10[::-1])\\\n",
    "  .update_yaxes(categoryorder=\"total ascending\")"
   ]
  },
  {
   "cell_type": "code",
   "execution_count": null,
   "id": "34e93ff5-ad0b-462c-aea5-f033ccc3f166",
   "metadata": {},
   "outputs": [],
   "source": []
  }
 ],
 "metadata": {
  "kernelspec": {
   "display_name": "Python 3 (ipykernel)",
   "language": "python",
   "name": "python3"
  },
  "language_info": {
   "codemirror_mode": {
    "name": "ipython",
    "version": 3
   },
   "file_extension": ".py",
   "mimetype": "text/x-python",
   "name": "python",
   "nbconvert_exporter": "python",
   "pygments_lexer": "ipython3",
   "version": "3.11.6"
  }
 },
 "nbformat": 4,
 "nbformat_minor": 5
}
