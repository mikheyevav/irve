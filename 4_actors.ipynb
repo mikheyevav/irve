{
 "cells": [
  {
   "cell_type": "code",
   "execution_count": 1,
   "id": "cd653fd4-682c-4078-9990-62f656db10ec",
   "metadata": {},
   "outputs": [
    {
     "name": "stderr",
     "output_type": "stream",
     "text": [
      "/Users/alex/Documents/projects/_interne/irve/irve.py:3: UserWarning: \n",
      "The dash_core_components package is deprecated. Please replace\n",
      "`import dash_core_components as dcc` with `from dash import dcc`\n",
      "  import dash_core_components as dcc\n",
      "/Users/alex/Documents/projects/_interne/irve/irve.py:4: UserWarning: \n",
      "The dash_html_components package is deprecated. Please replace\n",
      "`import dash_html_components as html` with `from dash import html`\n",
      "  import dash_html_components as html\n"
     ]
    }
   ],
   "source": [
    "import irve\n",
    "import importlib\n",
    "importlib.reload(irve)\n",
    "from irve import *"
   ]
  },
  {
   "cell_type": "code",
   "execution_count": 2,
   "id": "ef6befad-7127-4f36-b4a9-15d104e33fba",
   "metadata": {},
   "outputs": [],
   "source": [
    "pio.renderers.default = \"iframe\""
   ]
  },
  {
   "cell_type": "code",
   "execution_count": 19,
   "id": "9a93017c-c2ef-4de3-b19c-087995a000b4",
   "metadata": {},
   "outputs": [],
   "source": [
    "labels = {\n",
    "    \"nom_amenageur\": \"Nom amenageur\"\n",
    "    ,\"nom_operateur\": \"Nom opérateur\"\n",
    "    ,\"nom_enseigne\": \"Nom enseigne\"\n",
    "}"
   ]
  },
  {
   "cell_type": "code",
   "execution_count": 4,
   "id": "9a56ae11-5178-48a8-a8b0-63e3108c73c3",
   "metadata": {},
   "outputs": [],
   "source": [
    "#thresh = 50\n",
    "thresh = 200\n",
    "\n",
    "small_amenageurs = irve.df.groupby(\"nom_amenageur\")[\"id_pdc_itinerance\"].count()\n",
    "small_amenageurs = small_amenageurs[small_amenageurs<thresh].index\n",
    "\n",
    "small_operators = irve.df.groupby(\"nom_operateur\")[\"id_pdc_itinerance\"].count()\n",
    "small_operators = small_operators[small_operators<thresh].index\n",
    "\n",
    "small_enseignes = irve.df.groupby(\"nom_enseigne\")[\"id_pdc_itinerance\"].count()\n",
    "small_enseignes = small_enseignes[small_enseignes<thresh].index"
   ]
  },
  {
   "cell_type": "code",
   "execution_count": 5,
   "id": "f5ef04d3-ca28-4a95-b713-b3fa0716c20f",
   "metadata": {},
   "outputs": [],
   "source": [
    "irve_filtered = irve.df[\n",
    "  (~irve.df[\"nom_amenageur\"].isin(small_amenageurs)) & \\\n",
    "  (~irve.df[\"nom_operateur\"].isin(small_operators)) & \\\n",
    "  (~irve.df[\"nom_enseigne\"].isin(small_enseignes))    \n",
    "][[\"nom_amenageur\",\"nom_operateur\",\"nom_enseigne\"]]"
   ]
  },
  {
   "cell_type": "code",
   "execution_count": 6,
   "id": "1159e15f-efbd-406a-8119-f8ddbaade326",
   "metadata": {},
   "outputs": [],
   "source": [
    "fig = px.parallel_categories(irve_filtered, height= 1100, width=800, dimensions=[\"nom_amenageur\",\"nom_operateur\", \"nom_enseigne\"])\n",
    "\n",
    "#fig = px.parallel_categories(irve_filtered\n",
    "#                             , height= 5100\n",
    "#                             , width=1200\n",
    "#                             , dimensions=[\"nom_amenageur\",\"nom_operateur\", \"nom_enseigne\"]\n",
    "#                            )\n"
   ]
  },
  {
   "cell_type": "code",
   "execution_count": 7,
   "id": "8c603d36-0c02-4e55-baf5-3ee335e2ce07",
   "metadata": {},
   "outputs": [],
   "source": [
    "fig.write_image(\"img/4_par1.svg\")"
   ]
  },
  {
   "cell_type": "code",
   "execution_count": 8,
   "id": "1963ff09-086a-49bb-ad16-fd8f891da656",
   "metadata": {},
   "outputs": [
    {
     "ename": "SyntaxError",
     "evalue": "invalid syntax (440914628.py, line 1)",
     "output_type": "error",
     "traceback": [
      "\u001b[0;36m  Cell \u001b[0;32mIn[8], line 1\u001b[0;36m\u001b[0m\n\u001b[0;31m    Izivia for others\u001b[0m\n\u001b[0m           ^\u001b[0m\n\u001b[0;31mSyntaxError\u001b[0m\u001b[0;31m:\u001b[0m invalid syntax\n"
     ]
    }
   ],
   "source": [
    "\n",
    "Izivia for others\n",
    "Bouygues for others\n",
    "Spie for others\n",
    "\n",
    "Freshmile operates for amenageurs\n",
    "    \n",
    "Driveco for driveco\n",
    "powerdot for powerdot\n",
    "total energies marketing for saemes\n",
    "WAAT for WAAT\n"
   ]
  },
  {
   "cell_type": "code",
   "execution_count": null,
   "id": "ac160576-97ce-4cc4-897f-385e1936bed4",
   "metadata": {},
   "outputs": [],
   "source": []
  },
  {
   "cell_type": "markdown",
   "id": "8afb4d02-544f-4b81-81c1-411fbb2b6fca",
   "metadata": {},
   "source": [
    "## Tendances et whales"
   ]
  },
  {
   "cell_type": "code",
   "execution_count": 26,
   "id": "0098a777-0ad3-4191-bfe2-b4cf145788cb",
   "metadata": {},
   "outputs": [],
   "source": [
    "df_this_year = irve.df[irve.df[\"date_mise_en_service\"].dt.year==pd.to_datetime(\"now\").year].copy()\n",
    "df_this_year[\"scope\"]=\"mis en service cette année\"\n",
    "df_total = irve.df.copy()\n",
    "df_total[\"scope\"] = \"total\"\n",
    "df_total = pd.concat([df_total, df_this_year])"
   ]
  },
  {
   "cell_type": "code",
   "execution_count": 27,
   "id": "20a6a880-458b-459d-84e5-f71d8ded2716",
   "metadata": {},
   "outputs": [],
   "source": [
    "thresh = 20\n",
    "\n",
    "top_amen = irve.df.groupby(\"nom_amenageur\")[\"id_pdc_itinerance\"].count().sort_values().tail(thresh).index\n",
    "\n",
    "top_operat = irve.df.groupby(\"nom_operateur\")[\"id_pdc_itinerance\"].count().sort_values().tail(thresh).index\n",
    "\n",
    "top_enseignes = irve.df.groupby(\"nom_enseigne\")[\"id_pdc_itinerance\"].count().sort_values().tail(thresh).index"
   ]
  },
  {
   "cell_type": "markdown",
   "id": "6271181d-532b-41e5-8e7b-b65f4078ff0d",
   "metadata": {},
   "source": [
    "### Aménageurs"
   ]
  },
  {
   "cell_type": "code",
   "execution_count": 28,
   "id": "7ab97b9e-d00e-4814-8abb-abb6158267bb",
   "metadata": {},
   "outputs": [
    {
     "data": {
      "text/html": [
       "<iframe\n",
       "    scrolling=\"no\"\n",
       "    width=\"100%\"\n",
       "    height=\"545px\"\n",
       "    src=\"iframe_figures/figure_28.html\"\n",
       "    frameborder=\"0\"\n",
       "    allowfullscreen\n",
       "></iframe>\n"
      ]
     },
     "metadata": {},
     "output_type": "display_data"
    }
   ],
   "source": [
    "fig = px.histogram(df_total[df_total[\"nom_amenageur\"].isin(top_amen)]\n",
    "            ,y=\"nom_amenageur\"\n",
    "            ,color=\"scope\"\n",
    "            ,barmode=\"group\"\n",
    "            ,labels = labels\n",
    "            ,title=\"Aménageurs\"\n",
    "            ,color_discrete_sequence=px.colors.qualitative.T10[::-1])\\\n",
    "  .update_yaxes(categoryorder=\"total ascending\")\n",
    "\n",
    "fig.update_layout(\n",
    "    font_family=\"Raleway\",\n",
    "    xaxis_title = \"Nombre de points de charge\"\n",
    ")\n",
    "\n",
    "fig.write_image(\"img/4_amenageurs.svg\")\n",
    "fig"
   ]
  },
  {
   "cell_type": "markdown",
   "id": "b0aa2aa9-5257-4ee6-b910-ca2f4e2cdbf6",
   "metadata": {},
   "source": [
    "## Opérateurs"
   ]
  },
  {
   "cell_type": "code",
   "execution_count": 29,
   "id": "90cdbbeb-f882-4780-92ca-1f435f5cb027",
   "metadata": {},
   "outputs": [
    {
     "data": {
      "text/html": [
       "<iframe\n",
       "    scrolling=\"no\"\n",
       "    width=\"100%\"\n",
       "    height=\"545px\"\n",
       "    src=\"iframe_figures/figure_29.html\"\n",
       "    frameborder=\"0\"\n",
       "    allowfullscreen\n",
       "></iframe>\n"
      ]
     },
     "metadata": {},
     "output_type": "display_data"
    }
   ],
   "source": [
    "fig = px.histogram(df_total[df_total[\"nom_operateur\"].isin(top_operat)]\n",
    "            ,y=\"nom_operateur\"\n",
    "            ,color=\"scope\"\n",
    "            ,barmode=\"group\"\n",
    "            ,labels = labels\n",
    "            ,title=\"Opérateurs\"\n",
    "            ,color_discrete_sequence=px.colors.qualitative.T10[::-1])\\\n",
    "  .update_yaxes(categoryorder=\"total ascending\")\n",
    "\n",
    "fig.update_layout(\n",
    "    font_family=\"Raleway\",\n",
    "    xaxis_title = \"Nombre de points de charge\"\n",
    ")\n",
    "\n",
    "fig.write_image(\"img/4_operateurs.svg\")\n",
    "fig"
   ]
  },
  {
   "cell_type": "markdown",
   "id": "faea0e73-62fd-418c-bda8-0e99e818534e",
   "metadata": {},
   "source": [
    "## Enseigne"
   ]
  },
  {
   "cell_type": "code",
   "execution_count": 30,
   "id": "12a04aa0-94bd-48b7-adca-c2537ec2208c",
   "metadata": {},
   "outputs": [
    {
     "data": {
      "text/html": [
       "<iframe\n",
       "    scrolling=\"no\"\n",
       "    width=\"100%\"\n",
       "    height=\"545px\"\n",
       "    src=\"iframe_figures/figure_30.html\"\n",
       "    frameborder=\"0\"\n",
       "    allowfullscreen\n",
       "></iframe>\n"
      ]
     },
     "metadata": {},
     "output_type": "display_data"
    }
   ],
   "source": [
    "fig = px.histogram(df_total[df_total[\"nom_enseigne\"].isin(top_enseignes)]\n",
    "            ,y=\"nom_enseigne\"\n",
    "            ,color=\"scope\"\n",
    "            ,barmode=\"group\"\n",
    "            ,title=\"Enseigne\"\n",
    "            ,labels = labels\n",
    "            ,color_discrete_sequence=px.colors.qualitative.T10[::-1])\\\n",
    "  .update_yaxes(categoryorder=\"total ascending\")\n",
    "\n",
    "fig.update_layout(\n",
    "    font_family=\"Raleway\",\n",
    "    xaxis_title = \"Nombre de points de charge\"\n",
    ")\n",
    "\n",
    "fig.write_image(\"img/4_enseigne.svg\")\n",
    "fig\n"
   ]
  },
  {
   "cell_type": "code",
   "execution_count": null,
   "id": "70ca803e-3d33-407f-8fc1-62da991521f0",
   "metadata": {},
   "outputs": [],
   "source": []
  }
 ],
 "metadata": {
  "kernelspec": {
   "display_name": "Python 3 (ipykernel)",
   "language": "python",
   "name": "python3"
  },
  "language_info": {
   "codemirror_mode": {
    "name": "ipython",
    "version": 3
   },
   "file_extension": ".py",
   "mimetype": "text/x-python",
   "name": "python",
   "nbconvert_exporter": "python",
   "pygments_lexer": "ipython3",
   "version": "3.11.6"
  }
 },
 "nbformat": 4,
 "nbformat_minor": 5
}
